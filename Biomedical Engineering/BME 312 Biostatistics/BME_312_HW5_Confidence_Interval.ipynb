{
  "nbformat": 4,
  "nbformat_minor": 0,
  "metadata": {
    "extensions": {
      "jupyter_dashboards": {
        "activeView": "grid_default",
        "version": 1,
        "views": {
          "grid_default": {
            "cellMargin": 10,
            "defaultCellHeight": 20,
            "maxColumns": 12,
            "name": "grid",
            "type": "grid"
          },
          "report_default": {
            "name": "report",
            "type": "report"
          }
        }
      }
    },
    "kernelspec": {
      "display_name": "R",
      "language": "R",
      "name": "ir"
    },
    "language_info": {
      "codemirror_mode": "r",
      "file_extension": ".r",
      "mimetype": "text/x-r-source",
      "name": "R",
      "pygments_lexer": "r",
      "version": "3.4.4"
    },
    "colab": {
      "name": "BME 312 HW5.ipynb",
      "provenance": [],
      "collapsed_sections": [
        "WURa6A3Lv8kR",
        "mRhobhEYv8ke",
        "CI5khJn3v8lM",
        "qoqWdr11v8lS",
        "_3VjECEgv8lX",
        "gTVoT2u2v8mL",
        "0lWKF8Unv8mg",
        "QMPuwUaJv8mp",
        "kvvuvHMsv8mr",
        "o-kXbFqKv8mx"
      ],
      "include_colab_link": true
    }
  },
  "cells": [
    {
      "cell_type": "markdown",
      "metadata": {
        "id": "view-in-github",
        "colab_type": "text"
      },
      "source": [
        "<a href=\"https://colab.research.google.com/github/JoonJ14/hello-world/blob/main/BME_312_HW5.ipynb\" target=\"_parent\"><img src=\"https://colab.research.google.com/assets/colab-badge.svg\" alt=\"Open In Colab\"/></a>"
      ]
    },
    {
      "cell_type": "markdown",
      "metadata": {
        "extensions": {
          "jupyter_dashboards": {
            "version": 1,
            "views": {
              "grid_default": {},
              "report_default": {}
            }
          }
        },
        "id": "6Scbcy8mv8jW"
      },
      "source": [
        "# Homework 5"
      ]
    },
    {
      "cell_type": "markdown",
      "metadata": {
        "extensions": {
          "jupyter_dashboards": {
            "version": 1,
            "views": {
              "grid_default": {},
              "report_default": {}
            }
          }
        },
        "id": "IgDvcT_Iv8jb"
      },
      "source": [
        "#### Note: to clear the environment in R, do:\n",
        "`rm(list=ls(all=TRUE))`"
      ]
    },
    {
      "cell_type": "markdown",
      "metadata": {
        "extensions": {
          "jupyter_dashboards": {
            "version": 1,
            "views": {
              "grid_default": {},
              "report_default": {}
            }
          }
        },
        "id": "fmlzq3sav8je"
      },
      "source": [
        "## 1. Consider a fair die with 6 sides whose sample space is $\\left\\{1, 2, 3, 4, 5, 6\\right\\}$.\n",
        "### a. What is the population mean and variance?\n",
        "### b. Show all possible samples of size $n=2$ from this population that corresponds to rolling the die twice.\n",
        "### c. For each sample of size $n=2$ from (b), use R to calculate the sample mean.\n",
        "### d. Use R to plot both the population distribution of one role and the the sampling distribution distribution of the mean of the two roles."
      ]
    },
    {
      "cell_type": "code",
      "metadata": {
        "id": "vsxHavoqQhH1",
        "colab": {
          "base_uri": "https://localhost:8080/",
          "height": 1000
        },
        "outputId": "8947f00b-9b66-4d6b-cc81-0ca9ed613b4c"
      },
      "source": [
        "s<-c(1:6)\n",
        "ssum<-sum(s)\n",
        "smean<-ssum/(length(s))\n",
        "sv<-(sum((s-smean)^2))/(length(s))\n",
        "print (smean)\n",
        "print (sv)\n",
        "\n",
        "df<-data.frame(x = rep(1:6, each=6), y = rep(1:6, times=6))\n",
        "print (df)\n",
        "mean<-c()\n",
        "for (i in 1:36){\n",
        "mean[i]<-((df[i,1]+df[i,2])/2)\n",
        "  }\n",
        "print (mean)\n",
        "\n",
        "hist(mean, breaks=c(seq(0,6, by=0.5)))\n"
      ],
      "execution_count": null,
      "outputs": [
        {
          "output_type": "stream",
          "text": [
            "[1] 3.5\n",
            "[1] 2.916667\n",
            "   x y\n",
            "1  1 1\n",
            "2  1 2\n",
            "3  1 3\n",
            "4  1 4\n",
            "5  1 5\n",
            "6  1 6\n",
            "7  2 1\n",
            "8  2 2\n",
            "9  2 3\n",
            "10 2 4\n",
            "11 2 5\n",
            "12 2 6\n",
            "13 3 1\n",
            "14 3 2\n",
            "15 3 3\n",
            "16 3 4\n",
            "17 3 5\n",
            "18 3 6\n",
            "19 4 1\n",
            "20 4 2\n",
            "21 4 3\n",
            "22 4 4\n",
            "23 4 5\n",
            "24 4 6\n",
            "25 5 1\n",
            "26 5 2\n",
            "27 5 3\n",
            "28 5 4\n",
            "29 5 5\n",
            "30 5 6\n",
            "31 6 1\n",
            "32 6 2\n",
            "33 6 3\n",
            "34 6 4\n",
            "35 6 5\n",
            "36 6 6\n",
            " [1] 1.0 1.5 2.0 2.5 3.0 3.5 1.5 2.0 2.5 3.0 3.5 4.0 2.0 2.5 3.0 3.5 4.0 4.5 2.5\n",
            "[20] 3.0 3.5 4.0 4.5 5.0 3.0 3.5 4.0 4.5 5.0 5.5 3.5 4.0 4.5 5.0 5.5 6.0\n"
          ],
          "name": "stdout"
        },
        {
          "output_type": "display_data",
          "data": {
            "image/png": "[encoded data removed]",
            "text/plain": [
              "Plot with title “Histogram of mean”"
            ]
          },
          "metadata": {
            "tags": []
          }
        }
      ]
    },
    {
      "cell_type": "markdown",
      "metadata": {
        "id": "-BT4R3fvvQnS"
      },
      "source": [
        "## 2. A dermatologist investigating a certain type of skin cancer induced the disease in $n=16$ rats and then treated them with a new experimental drug. For each rat, the number of hours until remission of the cancer was recorded. The rats had a mean remission time of 400 hours and a standard deviation of 32 hours. \n",
        "### Calculate 95% confidence intervals for $\\mu$ and $\\sigma$.\n"
      ]
    },
    {
      "cell_type": "code",
      "metadata": {
        "id": "WdbLUKmgipDP",
        "colab": {
          "base_uri": "https://localhost:8080/",
          "height": 34
        },
        "outputId": "529df259-f2f7-44b5-ce11-b50c4dba03b6"
      },
      "source": [
        "n<-16\n",
        "df<-n-1\n",
        "mean<-400\n",
        "sd<-32\n",
        "a<-1-(95/100)\n",
        "p<-1-(a/2) \n",
        "CI<-c((mean-((qt(p,df))*(sd/sqrt(n)))),(mean+((qt(p,df))*(sd/sqrt(n)))))\n",
        "print(CI)\n",
        "\n",
        "        "
      ],
      "execution_count": null,
      "outputs": [
        {
          "output_type": "stream",
          "text": [
            "[1] 382.9484 417.0516\n"
          ],
          "name": "stdout"
        }
      ]
    },
    {
      "cell_type": "code",
      "metadata": {
        "id": "xpB0q2sonNyo",
        "colab": {
          "base_uri": "https://localhost:8080/",
          "height": 51
        },
        "outputId": "79b0dbaf-29ec-470b-bd81-ec9916b6463e"
      },
      "source": [
        "n<-16\n",
        "df<-n-1\n",
        "mean<-400\n",
        "sd<-32\n",
        "ci<-95\n",
        "\n",
        "a<-1-(ci/100)\n",
        "p<-1-(a/2)\n",
        "p2<-a/2\n",
        "CIv<-c((n-1)*(sd^2)/qchisq(p,df),(n-1)*(sd^2)/qchisq(p2,df))\n",
        "print(CIv)\n",
        "print(sqrt(CIv))"
      ],
      "execution_count": null,
      "outputs": [
        {
          "output_type": "stream",
          "text": [
            "[1]  558.7813 2452.8365\n",
            "[1] 23.63856 49.52612\n"
          ],
          "name": "stdout"
        }
      ]
    },
    {
      "cell_type": "markdown",
      "metadata": {
        "id": "UKx7hrBMXVkg"
      },
      "source": [
        "a. 95percent confidence interval for u\n",
        "\n",
        "need to use t distribution\n",
        "\n",
        "CI(100(1-a)) = Mean x +- t * s/n^1/2\n",
        "\n",
        "here : a=1-95/100=0.05 df=n-1 and n=16\n",
        "\n",
        "CI 95 = 400+- t15,0.975 * 32/16^1/2\n",
        "\n",
        "=383,417\n",
        "\n",
        "t=qt(a,df)"
      ]
    },
    {
      "cell_type": "markdown",
      "metadata": {
        "id": "gfDqrymewm5Y"
      },
      "source": [
        "## 3. Let $X$ be normally distributed with $\\mu = 20$ and $\\sigma^2 = 40$. What is the probability that the sample mean will be between 17 and 23 for:\n",
        "### a. $n=8$\n",
        "### b. $n=16$\n",
        "### c. $n=32$"
      ]
    },
    {
      "cell_type": "code",
      "metadata": {
        "id": "EII0IgZsrSuM",
        "colab": {
          "base_uri": "https://localhost:8080/",
          "height": 34
        },
        "outputId": "a46abc23-0b4d-4011-93e1-4606624717db"
      },
      "source": [
        "n=8\n",
        "bl<-17\n",
        "bh<-23\n",
        "mean=20\n",
        "var=40\n",
        "zl<-((bl-u)/(sqrt(var/n)))\n",
        "zh<-((bh-u)/(sqrt(var/n)))\n",
        "\n",
        "a<-pnorm(zh,mean=0,sd=1,lower.tail=TRUE)\n",
        "b<-pnorm(zl,mean=0,sd=1,lower.tail=TRUE)\n",
        "print(a-b)"
      ],
      "execution_count": null,
      "outputs": [
        {
          "output_type": "stream",
          "text": [
            "[1] 0.8202875\n"
          ],
          "name": "stdout"
        }
      ]
    },
    {
      "cell_type": "code",
      "metadata": {
        "id": "wUn1bI4HUXYS",
        "colab": {
          "base_uri": "https://localhost:8080/",
          "height": 34
        },
        "outputId": "058310f4-9176-4723-928f-d81f53685537"
      },
      "source": [
        "n=16\n",
        "bl<-17\n",
        "bh<-23\n",
        "mean=20\n",
        "var=40\n",
        "zl<-((bl-u)/(sqrt(var/n)))\n",
        "zh<-((bh-u)/(sqrt(var/n)))\n",
        "\n",
        "a<-pnorm(zh,mean=0,sd=1,lower.tail=TRUE)\n",
        "b<-pnorm(zl,mean=0,sd=1,lower.tail=TRUE)\n",
        "print(a-b)"
      ],
      "execution_count": null,
      "outputs": [
        {
          "output_type": "stream",
          "text": [
            "[1] 0.9422204\n"
          ],
          "name": "stdout"
        }
      ]
    },
    {
      "cell_type": "code",
      "metadata": {
        "id": "LIdD6ggxtuZI",
        "colab": {
          "base_uri": "https://localhost:8080/",
          "height": 34
        },
        "outputId": "96816d27-18ab-4a97-b659-4cf824cf593a"
      },
      "source": [
        "n=32\n",
        "bl<-17\n",
        "bh<-23\n",
        "mean=20\n",
        "var=40\n",
        "zl<-((bl-u)/(sqrt(var/n)))\n",
        "zh<-((bh-u)/(sqrt(var/n)))\n",
        "\n",
        "a<-pnorm(zh,mean=0,sd=1,lower.tail=TRUE)\n",
        "b<-pnorm(zl,mean=0,sd=1,lower.tail=TRUE)\n",
        "print(a-b)"
      ],
      "execution_count": null,
      "outputs": [
        {
          "output_type": "stream",
          "text": [
            "[1] 0.9927096\n"
          ],
          "name": "stdout"
        }
      ]
    },
    {
      "cell_type": "markdown",
      "metadata": {
        "id": "p7xI1h2qxgV4"
      },
      "source": [
        "## 4. The unicorn myth may come from a giant rhinoceros, Elasmotherium sibiricum, that lived in Southern Russia, Ukraine, and Moldova during the Early Pleistocene. These animals were $6m$ long and over $2m$ high with single large horns in their foreheads. The horns were claimed to be very long $(\\mu = 2.0m)$ and uniform in size $(\\sigma^2 = 0.09m^2)$. From fossil remains, $n=32$ horns were recovered and measured and the summary statistics were: $\\overline{x} = 1.8m$, $s^2 = 0.25m^2$, and $s=0.5m$.\n",
        "### a. Find the 95% confidence interval for the horn mean using the fossil data. \n",
        "### b. Find the 95% confidence interval for the horn variance using the fossil data.\n",
        "### c. Do the data and confidence intervals support the claims of size and uniformity? \n"
      ]
    },
    {
      "cell_type": "code",
      "metadata": {
        "id": "NnsyinLEuHOL",
        "colab": {
          "base_uri": "https://localhost:8080/",
          "height": 34
        },
        "outputId": "b002fa88-8b22-4e11-cb2c-62e8e9910666"
      },
      "source": [
        "n<-32\n",
        "df<-n-1\n",
        "mean<-1.8\n",
        "var<-0.25\n",
        "sd<-sqrt(var)\n",
        "a<-1-(95/100)\n",
        "p<-1-(a/2) \n",
        "CI<-c((mean-((qt(p,df))*(sd/sqrt(n)))),(mean+((qt(p,df))*(sd/sqrt(n)))))\n",
        "print(CI)"
      ],
      "execution_count": null,
      "outputs": [
        {
          "output_type": "stream",
          "text": [
            "[1] 1.619731 1.980269\n"
          ],
          "name": "stdout"
        }
      ]
    },
    {
      "cell_type": "code",
      "metadata": {
        "id": "3BOZ--z4un7u",
        "colab": {
          "base_uri": "https://localhost:8080/",
          "height": 34
        },
        "outputId": "4f932c60-1ca8-46fc-f524-613bce587610"
      },
      "source": [
        "n<-32\n",
        "df<-n-1\n",
        "mean<-1.8\n",
        "var<-0.25\n",
        "sd<-sqrt(var)\n",
        "ci<-95\n",
        "\n",
        "a<-1-(ci/100)\n",
        "p<-1-(a/2)\n",
        "p2<-a/2\n",
        "CIv<-c((n-1)*(sd^2)/qchisq(p,df),(n-1)*(sd^2)/qchisq(p2,df))\n",
        "print(CIv)\n",
        "\n"
      ],
      "execution_count": null,
      "outputs": [
        {
          "output_type": "stream",
          "text": [
            "[1] 0.1606821 0.4418790\n"
          ],
          "name": "stdout"
        }
      ]
    },
    {
      "cell_type": "markdown",
      "metadata": {
        "id": "61GiGj2UyYyA"
      },
      "source": [
        "c. the claims are pretty close to the range but not quite. \n",
        "claimed mean could be included in the range for \n",
        "99percent confidnece interval but \n",
        "not 95percent confidence interval. \n",
        "claimed variance is too low. "
      ]
    },
    {
      "cell_type": "markdown",
      "metadata": {
        "id": "-aTFjtb-ylCp"
      },
      "source": [
        "## 5. Dioxin, a human carcinogen, can be produced by burning common trash. Curiously, trash from homes that recycle produces more dioxins per kilogram (of trash burned) than homes that don't recycle, possibly due to a higher proportion of chlorine and metals in the recyclers' trash. Below are the dioxin levels in picograms/kg of trash from 15 families that are avid recyclers.\n",
        "> Dioxin (pg/kg) |  |  |  |  |  | \n",
        "> :---: | :---: | :---: | :---: | :---: | :---:\n",
        "> | 235 | 242 | 195 | 281 | 290\n",
        "> | 255 | 270 | 255 | 172 | 214\n",
        "> | 259 | 256 | 155 | 212 | 207\n",
        "### a. Calculate the mean and standard deviation for these data.\n",
        "### b. Calculate the 95% confidence intervals for the mean and variance of these data.\n",
        "### c. If a well-run municipal incinerator produces 200 picograms/kg of trash burned, does the recyclers’ trash produce significantly more dioxin per kilogram?"
      ]
    },
    {
      "cell_type": "code",
      "metadata": {
        "id": "bR3p6yGHz0rB",
        "colab": {
          "base_uri": "https://localhost:8080/",
          "height": 102
        },
        "outputId": "651babdc-1bec-4541-d241-57c1f8502474"
      },
      "source": [
        "s<-c(235,242,195,281,290,255,270,255,172,214,259,256,155,212,207)\n",
        "smean<-(sum(s))/(length(s))\n",
        "sv<-(sum((s-smean)^2))/(length(s)-1)\n",
        "print (smean)\n",
        "print (sqrt(sv))\n",
        "\n",
        "\n",
        "n<-15\n",
        "df<-n-1\n",
        "sd<-sqrt(sv)\n",
        "a<-1-(95/100)\n",
        "p<-1-(a/2) \n",
        "CI<-c((smean-((qt(p,df))*(sd/sqrt(n)))),(smean+((qt(p,df))*(sd/sqrt(n)))))\n",
        "print(CI)\n",
        "\n",
        "a<-1-(ci/100)\n",
        "p<-1-(a/2)\n",
        "p2<-a/2\n",
        "CIv<-c((n-1)*(sd^2)/qchisq(p,df),(n-1)*(sd^2)/qchisq(p2,df))\n",
        "print(CIv)\n",
        "print(sqrt(CIv))\n",
        "\n"
      ],
      "execution_count": null,
      "outputs": [
        {
          "output_type": "stream",
          "text": [
            "[1] 233.2\n",
            "[1] 39.55683\n",
            "[1] 211.2942 255.1058\n",
            "[1]  838.7168 3891.8930\n",
            "[1] 28.96061 62.38504\n"
          ],
          "name": "stdout"
        }
      ]
    },
    {
      "cell_type": "markdown",
      "metadata": {
        "id": "3DH3Ngxd3mCs"
      },
      "source": [
        "yes the recyclers'trash produced significantly more dioxin per kilogram"
      ]
    },
    {
      "cell_type": "markdown",
      "metadata": {
        "id": "MGjB-TUw1K6C"
      },
      "source": [
        "## 6. 50 adult black ducks from a large flock were trapped and weighed. Their mean weight was $\\overline{x}=1500g$ and the variance of their weights was $s^2=8100g^2$. \n",
        "### Find the 99% confidence intervals for the mean, variance, and standard deviation of the flock."
      ]
    },
    {
      "cell_type": "code",
      "metadata": {
        "id": "IQ5oQjJm4IAD",
        "colab": {
          "base_uri": "https://localhost:8080/",
          "height": 68
        },
        "outputId": "024a686c-d833-4932-def6-f32fce36b2d5"
      },
      "source": [
        "n<-50\n",
        "smean<-1500\n",
        "sv<-8100\n",
        "sd<-sqrt(sv)\n",
        "ci<-99\n",
        "\n",
        "df<-n-1\n",
        "a<-1-(ci/100)\n",
        "p<-1-(a/2) \n",
        "CI<-c((smean-((qt(p,df))*(sd/sqrt(n)))),(smean+((qt(p,df))*(sd/sqrt(n)))))\n",
        "print(CI)\n",
        "\n",
        "a<-1-(ci/100)\n",
        "p<-1-(a/2)\n",
        "p2<-a/2\n",
        "CIv<-c((n-1)*(sd^2)/qchisq(p,df),(n-1)*(sd^2)/qchisq(p2,df))\n",
        "print(CIv)\n",
        "print(sqrt(CIv))\n",
        "\n"
      ],
      "execution_count": null,
      "outputs": [
        {
          "output_type": "stream",
          "text": [
            "[1] 1465.89 1534.11\n",
            "[1]  5073.455 14565.486\n",
            "[1]  71.22819 120.68755\n"
          ],
          "name": "stdout"
        }
      ]
    },
    {
      "cell_type": "markdown",
      "metadata": {
        "id": "wC8NKR4Y18bP"
      },
      "source": [
        "## 7. The weights of 20 healthy male volunteers (aged 21–30 years) were measured and the mean and standard deviation recorded as $89.3 ± 9.4 kg$. \n",
        "### Calculate the 90%, 95% and 99% confidence intervals of the population standard deviation."
      ]
    },
    {
      "cell_type": "code",
      "metadata": {
        "id": "6qw-ipzj4e5O",
        "colab": {
          "base_uri": "https://localhost:8080/",
          "height": 68
        },
        "outputId": "14d9ac3e-d73c-45d7-c04e-e90e966a1c54"
      },
      "source": [
        "n<-20\n",
        "smean<-89.3\n",
        "sv<-9.4\n",
        "sd<-sqrt(sv)\n",
        "ci<-90\n",
        "df<-n-1\n",
        "\n",
        "a<-1-(ci/100)\n",
        "p<-1-(a/2)\n",
        "p2<-a/2\n",
        "CIv<-c((n-1)*(sd^2)/qchisq(p,df),(n-1)*(sd^2)/qchisq(p2,df))\n",
        "print(sqrt(CIv))\n",
        "\n",
        "ci<-95\n",
        "a<-1-(ci/100)\n",
        "p<-1-(a/2)\n",
        "p2<-a/2\n",
        "CIv<-c((n-1)*(sd^2)/qchisq(p,df),(n-1)*(sd^2)/qchisq(p2,df))\n",
        "print(sqrt(CIv))\n",
        "\n",
        "ci<-99\n",
        "a<-1-(ci/100)\n",
        "p<-1-(a/2)\n",
        "p2<-a/2\n",
        "CIv<-c((n-1)*(sd^2)/qchisq(p,df),(n-1)*(sd^2)/qchisq(p2,df))\n",
        "print(sqrt(CIv))"
      ],
      "execution_count": null,
      "outputs": [
        {
          "output_type": "stream",
          "text": [
            "[1] 2.434130 4.201599\n",
            "[1] 2.331619 4.478028\n",
            "[1] 2.151528 5.108420\n"
          ],
          "name": "stdout"
        }
      ]
    },
    {
      "cell_type": "markdown",
      "metadata": {
        "id": "_txboFHn2Hi1"
      },
      "source": [
        "## 8. Out of 2500 cochlear implants manufactured in the month of September, 200 are tested for hermetic seals. The results showed that 35 implants failed the tests. \n",
        "### Calculate the 95% confidence limits for the proportion of defective implants in the batch (population). \n"
      ]
    },
    {
      "cell_type": "code",
      "metadata": {
        "id": "q2qy-tL89GSa",
        "colab": {
          "base_uri": "https://localhost:8080/",
          "height": 34
        },
        "outputId": "d9db4c91-c329-4efe-dbfd-7a873dd4e783"
      },
      "source": [
        "ci<-95\n",
        "a<-1-(ci/100)\n",
        "n<-200\n",
        "f<-35\n",
        "P<-1-(a/2)\n",
        "p<-f/n\n",
        "q<-1-p\n",
        "#npq=28.875>5 we can use normal approximation\n",
        "CI<-c((p-((qnorm(P))*sqrt((p*q)/n))), (p+(qnorm(P))*sqrt((p*q)/n)))\n",
        "print(CI)"
      ],
      "execution_count": null,
      "outputs": [
        {
          "output_type": "stream",
          "text": [
            "[1] 0.1223402 0.2276598\n"
          ],
          "name": "stdout"
        }
      ]
    },
    {
      "cell_type": "markdown",
      "metadata": {
        "id": "SLjCvKL7J3vy"
      },
      "source": [
        "## 9. Use R to plot a standard normal distribution from $x=-5$ to $x=5$ as well as the Student's $t$-distribution with $df = (5, 10, 15, 20, 25, 30)$. Use black for the normal distribution and different colors for each $t$-distribution."
      ]
    },
    {
      "cell_type": "code",
      "metadata": {
        "id": "mqP1v07d_bEp",
        "colab": {
          "base_uri": "https://localhost:8080/",
          "height": 857
        },
        "outputId": "2d3d96b8-fd8f-4f18-d138-005f62689d37"
      },
      "source": [
        "x <- seq(-5, 5, length=100)\n",
        "y <- dnorm(x)\n",
        "\n",
        "degf <- c(5, 10, 15, 20, 25, 30)\n",
        "colors <- c(\"black\",\"red\", \"blue\",\"orange\",\"darkgreen\", \"gold\",\"purple\")\n",
        "labels <- c(\"normal\", \"df=5\", \"df=10\", \"df=15\", \"df=20\",\"df=25\",\"df=30\")\n",
        "\n",
        "plot(x, y, type=\"l\", lty=1, xlab=\"x value\",\n",
        "  ylab=\"Density\", main=\"Comparison of t Distributions\")\n",
        "\n",
        "for (i in 1:6){\n",
        "  lines(x, dt(x,degf[i]), lwd=2, col=colors[i])\n",
        "}\n",
        "\n",
        "legend(\"topright\", inset=.05, title=\"Distributions\",\n",
        "  labels, lwd=2, lty=c(1, 1, 1, 1, 1), col=colors)\n"
      ],
      "execution_count": null,
      "outputs": [
        {
          "output_type": "display_data",
          "data": {
            "image/png": "[encoded data removed]",
            "text/plain": [
              "Plot with title “Comparison of t Distributions”"
            ]
          },
          "metadata": {
            "tags": []
          }
        }
      ]
    }
  ]
}
