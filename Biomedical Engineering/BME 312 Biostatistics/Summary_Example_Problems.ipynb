{
  "nbformat": 4,
  "nbformat_minor": 0,
  "metadata": {
    "extensions": {
      "jupyter_dashboards": {
        "activeView": "grid_default",
        "version": 1,
        "views": {
          "grid_default": {
            "cellMargin": 10,
            "defaultCellHeight": 20,
            "maxColumns": 12,
            "name": "grid",
            "type": "grid"
          },
          "report_default": {
            "name": "report",
            "type": "report"
          }
        }
      }
    },
    "kernelspec": {
      "display_name": "R",
      "language": "R",
      "name": "ir"
    },
    "language_info": {
      "codemirror_mode": "r",
      "file_extension": ".r",
      "mimetype": "text/x-r-source",
      "name": "R",
      "pygments_lexer": "r",
      "version": "3.4.4"
    },
    "colab": {
      "name": "Example Problems - One-sample hypothesis testing.ipynb",
      "provenance": [],
      "collapsed_sections": [],
      "include_colab_link": true
    }
  },
  "cells": [
    {
      "cell_type": "markdown",
      "metadata": {
        "id": "view-in-github",
        "colab_type": "text"
      },
      "source": [
        "<a href=\"https://colab.research.google.com/github/JoonJ14/hello-world/blob/main/Example_Problems_One_sample_hypothesis_testing.ipynb\" target=\"_parent\"><img src=\"https://colab.research.google.com/assets/colab-badge.svg\" alt=\"Open In Colab\"/></a>"
      ]
    },
    {
      "cell_type": "markdown",
      "metadata": {
        "extensions": {
          "jupyter_dashboards": {
            "version": 1,
            "views": {
              "grid_default": {},
              "report_default": {}
            }
          }
        },
        "id": "6Scbcy8mv8jW"
      },
      "source": [
        "# **One-sample hypothesis testing examples**"
      ]
    },
    {
      "cell_type": "markdown",
      "metadata": {
        "extensions": {
          "jupyter_dashboards": {
            "version": 1,
            "views": {
              "grid_default": {},
              "report_default": {}
            }
          }
        },
        "id": "IgDvcT_Iv8jb"
      },
      "source": [
        "#### Note: to clear the environment in R, do: `rm(list=ls(all=TRUE))`"
      ]
    },
    {
      "cell_type": "markdown",
      "metadata": {
        "id": "H018YAlJ894J"
      },
      "source": [
        "## **1. One-sided tests.**\n",
        "\n",
        "## **We are examining the brithweights of children born in hospitals in low-SES areas of Miami-Dade County and find that the mean weight of $n = 100$ births is $\\overline{x} \\pm s = 115  \\pm 24 oz$. We know that the mean birthweight of all children born in the U.S. is $\\mu_0 = 120 oz$.**\n",
        "\n",
        "### **a. Specify the null and alternative hypotheses regarding birthweights in low-SES areas.**\n",
        "$H_0: \\mu_1 = \\mu_0$ and $H_1: \\mu_1 < \\mu_0$, where $\\mu_0 = 120 oz$ (the mean birthweight of all children born in the U.S.), and $\\mu_1$ represents the true mean birthweight of children born in hospitals in low-SES areas.\n",
        "\n",
        "### **b. Can we reject $H_0$ at a significance level of $\\alpha = 0.05$?** \n",
        "First, we determine what type of statistic we're going to use. In this case, our sample size is 100, we're interested in comparing means, and we don't know the population-level standard deviation ($\\sigma$), so we'll use a $t$-statistic and corresponding $t$-test:\n",
        "\n",
        "$t = \\frac{\\sqrt{n}(\\overline{x} - \\mu_0)}{s} = \\frac{\\sqrt{100}(115 - 120)}{24} = -2.08$\n",
        "\n",
        "Then, we compare that to a critical $t$-value determined by our desired significance level ($\\alpha$), the degrees of freedom ($df = n - 1$) and the nature of $H_1$:\n",
        "\n",
        "$t_{n-1, \\alpha} = t_{99, 0.05} = -1.66$\n",
        "\n",
        "Is $t < t_{99, 0.05}$? Yes. \n",
        "\n",
        "$\\therefore H_0$ can be rejected.\n",
        "\n",
        "### **b. Can we reject $H_0$ at a significance level of $\\alpha = 0.01$?** \n",
        "$t_{n-1, \\alpha} = t_{99, 0.01} = -2.36$\n",
        "\n",
        "Is $t < t_{99, 0.01}$? No. \n",
        "\n",
        "$\\therefore H_0$ **_cannot_** be rejected.\n",
        "\n",
        "### **d. Determine the p-value.**\n",
        "$p = P(t_{n-1} \\leq t) = 0.02 < 0.05$\n",
        "\n",
        "Note: This confirms the distinction between our ability (or lack thereof) to reject $H_0$ at the specified signifance levels in (b) and (c). That is, $0.01 \\leq p < 0.05$."
      ]
    },
    {
      "cell_type": "code",
      "metadata": {
        "id": "LGBkHYAFcz1R",
        "colab": {
          "base_uri": "https://localhost:8080/",
          "height": 909
        },
        "outputId": "b4769359-7f2d-4386-8a82-c19cb8bc4028"
      },
      "source": [
        "n <- 100\n",
        "mu_0 <- 120\n",
        "x_bar <- 115\n",
        "s <- 24\n",
        "t <- sqrt(n)*(x_bar-mu_0)/s\n",
        "\n",
        "alpha <- 0.05\n",
        "t_critical <- qt(alpha, df=n-1)\n",
        "print(t < t_critical)\n",
        "\n",
        "alpha <- 0.01\n",
        "t_critical <- qt(alpha, df=n-1)\n",
        "print(t < t_critical)\n",
        "\n",
        "p <- pt(t, df=n-1)\n",
        "print(p)\n",
        "\n",
        "x <- seq(-4, 4, 0.01)\n",
        "y <- dt(x, df=n-1)\n",
        "plot(x, y, type='l', xlab='Value', ylab='Frequency')\n",
        "x_area <- c(x[x<=t], rev(x[x<=t]))\n",
        "y_area <- c(y[x<=t], rep(0, times=length(y[x<=t])))\n",
        "polygon(x_area, y_area, col='red', border=NA)\n",
        "lines(rep(qt(0.05, df=n-1), times=2), c(0, dt(qt(0.05, df=n-1), df=n-1)), lty=2)\n",
        "lines(x, y, type='l', xlab='Value', ylab='Frequency')\n",
        "legend(-4, 0.4, legend=c(expression('t'[99]), 'P(t <= -2.08)', expression('t'['99,0.05'])), \n",
        "       col=c('black', 'red'), lty=c(1, 1, 2))"
      ],
      "execution_count": null,
      "outputs": [
        {
          "output_type": "stream",
          "text": [
            "[1] TRUE\n",
            "[1] FALSE\n",
            "[1] 0.01989864\n"
          ],
          "name": "stdout"
        },
        {
          "output_type": "display_data",
          "data": {
            "image/png": "[encoded data removed]",
            "text/plain": [
              "plot without title"
            ]
          },
          "metadata": {
            "tags": []
          }
        }
      ]
    },
    {
      "cell_type": "markdown",
      "metadata": {
        "id": "iBtiqVEjDLjK"
      },
      "source": [
        "## **2. One-sided tests.** \n",
        "\n",
        "## **Scientific vs. statistical significance. Suppose that the mean birthweight ($\\overline{x}$) in low-SES areas was  119 oz rather than 115 oz and that our sample size ($n$) was 10,000 instead of 100.**\n",
        "\n",
        "### **a. Specify the null and alternative hypotheses.**\n",
        "Doesn't change:\n",
        "\n",
        "$H_0: \\mu = \\mu_0$\n",
        "\n",
        "$H_1: \\mu < \\mu_0$\n",
        "\n",
        "### **b. What's the $p$-value?**\n",
        "\n",
        "$t = \\frac{\\sqrt{n}(\\overline{x} - \\mu_0)}{s} = \\frac{\\sqrt{10000}(119 - 120)}{24} = -4.17$\n",
        "\n",
        "$p = P(t_{n-1} \\leq t) = 0.000016 \\ll 0.05$\n",
        "\n",
        "So, the difference is \"highly significant\" but not necessarily important  given the small effect size of 1 oz.\n"
      ]
    },
    {
      "cell_type": "code",
      "metadata": {
        "id": "kJPbhTh-E62j",
        "colab": {
          "base_uri": "https://localhost:8080/",
          "height": 69
        },
        "outputId": "1b817eaf-691f-42f2-f258-667c5413b894"
      },
      "source": [
        "n <- 10000\n",
        "mu_0 <- 120\n",
        "x_bar <- 119\n",
        "s <- 24\n",
        "\n",
        "t <- sqrt(n)*(x_bar-mu_0)/s\n",
        "print(t)\n",
        "\n",
        "p <- pt(t, df=n-1)\n",
        "print(p)\n",
        "\n",
        "p_normal_approx <- pnorm(t)\n",
        "print(p_normal_approx)"
      ],
      "execution_count": null,
      "outputs": [
        {
          "output_type": "stream",
          "text": [
            "[1] -4.166667\n",
            "[1] 1.558431e-05\n",
            "[1] 1.54543e-05\n"
          ],
          "name": "stdout"
        }
      ]
    },
    {
      "cell_type": "markdown",
      "metadata": {
        "id": "oGH89rVfF2XO"
      },
      "source": [
        "## **3. One-sided tests.**\n",
        "\n",
        "## **Suppose that the mean cholesterol level of 10 children whose fathers died from heart disease is $\\overline{x} \\pm s = 200 \\pm 50 mg/dL$.** \n",
        "\n",
        "### **Test the hypothesis that the mean cholesterol level is higher in this group that in the general population (assuming $\\mu_0 = 175 mg/dL$).**\n",
        "First, we specify the hypotheses:\n",
        "\n",
        "$H_0: \\mu_1 = \\mu_0$ and $H_1: \\mu_1 > \\mu_0$\n",
        "\n",
        "$t = \\frac{\\sqrt{n}(\\overline{x} - \\mu_0)}{s} = \\frac{\\sqrt{10}(200 - 175)}{50} = 1.58$\n",
        "\n",
        "Our critical value in this case is (assuming $\\alpha = 0.05$):\n",
        "\n",
        "$t_{n-1, 1-\\alpha} = t_{9, 0.95} = 1.83$\n",
        "\n",
        "Is $t > t_{9, 0.95}$? No.\n",
        "\n",
        "$\\therefore H_0$ **_cannot_** be rejected.\n",
        "\n",
        "Using the p-value method:\n",
        "\n",
        "$p = P(t_{n-1} \\gt t) = 0.074 > 0.05$"
      ]
    },
    {
      "cell_type": "code",
      "metadata": {
        "id": "osNlmzW6F8mI",
        "colab": {
          "base_uri": "https://localhost:8080/",
          "height": 892
        },
        "outputId": "76aea283-79de-4e37-e527-b2100d44629e"
      },
      "source": [
        "n <- 10\n",
        "mu_0 <- 175\n",
        "x_bar <- 200\n",
        "s <- 50\n",
        "t <- sqrt(n)*(x_bar-mu_0)/s\n",
        "\n",
        "alpha <- 0.05\n",
        "t_critical <- qt(1-alpha, df=n-1)\n",
        "print(t > t_critical)\n",
        "\n",
        "p <- pt(t, df=n-1, lower.tail=F) # or p <- 1 - pt(t, df=n-1)\n",
        "print(p)\n",
        "\n",
        "x <- seq(-4, 4, 0.01)\n",
        "y <- dt(x, df=n-1)\n",
        "plot(x, y, type='l', xlab='Value', ylab='Frequency')\n",
        "x_area <- c(x[x>=t], rev(x[x>=t]))\n",
        "y_area <- c(y[x>=t], rep(0, times=length(y[x>=t])))\n",
        "polygon(x_area, y_area, col='red', border=NA)\n",
        "lines(rep(t_critical, times=2), c(0, dt(t_critical, df=n-1)), lty=2)\n",
        "lines(x, y, type='l', xlab='Value', ylab='Frequency')\n",
        "legend(-4, 0.4, legend=c(expression('t'[9]), 'P(t >= 1.58)', expression('t'['9,0.95'])), \n",
        "       col=c('black', 'red'), lty=c(1, 1, 2))"
      ],
      "execution_count": null,
      "outputs": [
        {
          "output_type": "stream",
          "text": [
            "[1] FALSE\n",
            "[1] 0.07415235\n"
          ],
          "name": "stdout"
        },
        {
          "output_type": "display_data",
          "data": {
            "image/png": "[encoded data removed]",
            "text/plain": [
              "plot without title"
            ]
          },
          "metadata": {
            "tags": []
          }
        }
      ]
    },
    {
      "cell_type": "markdown",
      "metadata": {
        "id": "OvRETJ3rNir-"
      },
      "source": [
        "## **4. Two-sided tests.**\n",
        "\n",
        "## **Suppose we want to compare cholesterol levels between recent immigrants from Asia and the general U.S. population ($\\mu_0 = 190 mg/dL$). Blood tests are performed on 100 recent immigrants from Asia, and the mean level was $181.52 mg/dL$ with a standard deviation of $40 mg/dL$.** \n",
        "\n",
        "### **a. Does this differ from the general U.S. population?**\n",
        "Here, because we don't have any _a-priori_ information about whether cholesterol levels in recent immigrants from Asia would be higher or lower than the general population, our hypotheses are:\n",
        "\n",
        "$H_0: \\mu = \\mu_0$\n",
        "\n",
        "$H_1: \\mu \\ne \\mu_0$\n",
        "\n",
        "The $t$-value doesn't change:\n",
        "\n",
        "$t = \\frac{\\sqrt{n}(\\overline{x} - \\mu_0)}{s} = \\frac{\\sqrt{100}(181.52-190)}{40} = -2.12$\n",
        "\n",
        "However, because we have a two-sided alternative, we require a two-sided test with two critical values:\n",
        "$c = (c_1, c_2) = (t_{n-1,\\frac{\\alpha}{2}}, t_{n-1,1-\\frac{\\alpha}{2}}) = (t_{n-1,\\frac{\\alpha}{2}}, -t_{n-1,\\frac{\\alpha}{2}}) = (-1.98, 1.98)$ \n",
        "\n",
        "$\\therefore H_0$ can be rejected if $t < -1.98$ or $t > 1.98$ (that is, if $|t| > t_{n-1,1-\\frac{\\alpha}{2}} = 1.98$) and **_cannot_** be rejected if $-1.98  \\leq t \\leq 1.98$ ($|t| \\leq t_{n-1,1-\\frac{\\alpha}{2}} = 1.98$).\n",
        "\n",
        "Is $|t| > 1.98$? Yes.\n",
        "\n",
        "$\\therefore H_0$ can be rejected at the $\\alpha = 0.05$ level, and we can conclude that cholesterol levels of recent immigrants from Asia are lower than those of the general U.S. population.\n",
        "\n",
        "### **b. What's the $p$-value?**\n",
        "Because $t = -2.12 \\leq 0$: $p = 2 \\times P(t_{n-1} < t) = 0.037 < 0.05$\n",
        "\n",
        "Were $t > 0$: $p = 2 \\times [1 - P(t_{n-1} < t)]$\n"
      ]
    },
    {
      "cell_type": "code",
      "metadata": {
        "id": "iHIlKTuzNA16",
        "colab": {
          "base_uri": "https://localhost:8080/",
          "height": 892
        },
        "outputId": "d12319f1-a23d-4ab5-fbfd-8040de81db44"
      },
      "source": [
        "n <- 100\n",
        "mu_0 <- 190\n",
        "x_bar <- 181.52\n",
        "s <- 40\n",
        "t <- sqrt(n)*(x_bar-mu_0)/s\n",
        "\n",
        "alpha <- 0.05\n",
        "c1 <- qt(alpha/2, n-1)\n",
        "c2 <- -qt(alpha/2, n-1)\n",
        "print(c(c1, c2))\n",
        "\n",
        "p = 2*pt(t, df=n-1)\n",
        "print(p)\n",
        "\n",
        "x <- seq(-4, 4, 0.01)\n",
        "y <- dt(x, df=n-1)\n",
        "plot(x, y, type='l', xlab='Value', ylab='Frequency')\n",
        "x_area <- c(x[x<=t], rev(x[x<=t]))\n",
        "y_area <- c(y[x<=t], rep(0, times=length(y[x<=t])))\n",
        "polygon(x_area, y_area, col='red', border=NA)\n",
        "x_area <- c(x[x>=-t], rev(x[x>=-t]))\n",
        "y_area <- c(y[x>=-t], rep(0, times=length(y[x>=-t])))\n",
        "polygon(x_area, y_area, col='red', border=NA)\n",
        "lines(rep(c1, times=2), c(0, dt(c1, df=n-1)), lty=2)\n",
        "lines(rep(c2, times=2), c(0, dt(c2, df=n-1)), lty=2)\n",
        "lines(x, y, type='l', xlab='Value', ylab='Frequency')\n",
        "legend(-4, 0.4, legend=c(expression('t'[9]), 'P(|t| >= 2.12)', expression('t'['9, {0.05, 0.95}'])), \n",
        "       col=c('black', 'red'), lty=c(1, 1, 2))"
      ],
      "execution_count": null,
      "outputs": [
        {
          "output_type": "stream",
          "text": [
            "[1] -1.984217  1.984217\n",
            "[1] 0.03650607\n"
          ],
          "name": "stdout"
        },
        {
          "output_type": "display_data",
          "data": {
            "image/png": "[encoded data removed]",
            "text/plain": [
              "plot without title"
            ]
          },
          "metadata": {
            "tags": []
          }
        }
      ]
    },
    {
      "cell_type": "markdown",
      "metadata": {
        "id": "pWqJjDcliIed"
      },
      "source": [
        "## **5. Normal approximation to the $t$-test.**\n",
        "\n",
        "## **Using the same cholesterol data as in (4), but now $n = 200$, use a $z$-test to examine whether cholesterol levels differ between recent immigrants from Asia and the general U.S. population.** \n",
        "\n",
        "First, let's see what the t-test gives us in this case:\n",
        "\n",
        "$t = \\frac{\\sqrt{n}(\\overline{x} - \\mu_0)}{s} = \\frac{\\sqrt{200}(181.52-190)}{40} = -3.00$\n",
        "\n",
        "$c = (c_1, c_2) = (t_{n-1,\\frac{\\alpha}{2}}, t_{n-1,1-\\frac{\\alpha}{2}}) = (t_{n-1,\\frac{\\alpha}{2}}, -t_{n-1,\\frac{\\alpha}{2}}) = (-1.97, 1.97)$ \n",
        "\n",
        "However, because $n \\geq 200$, we can also use a $z$-statistic:\n",
        "\n",
        "$z = \\frac{\\sqrt{n}(\\overline{x} - \\mu_0)}{\\sigma} = \\frac{\\sqrt{200}(181.52-190)}{40} = -3.00$\n",
        "\n",
        "Note that in this case our $t$-value is the same as our $z$-value because we are still estimating $\\sigma$ via the sample standard deviation, $s = 40 mg/dL$. If $\\alpha=0.05$, then the critical values are:\n",
        "\n",
        "$c = (c_1, c_2) = (z_{\\frac{\\alpha}{2}}, z_{1-\\frac{\\alpha}{2}}) = (z_{\\frac{\\alpha}{2}}, -z_{\\frac{\\alpha}{2}}) = (-1.96, 1.96)$\n",
        "\n",
        "Because $-1.96 \\nleq z \\nleq 1.96$, $H_0$ can be rejected at the $\\alpha = 0.05$ level.\n",
        "\n",
        "Because $z \\leq 0$: $p = 2 \\times \\Phi(z) = 0.0027 < 0.05$\n",
        "\n",
        "Were $z > 0$: $p = 2 \\times [1 - \\Phi(z)]$\n"
      ]
    },
    {
      "cell_type": "code",
      "metadata": {
        "id": "SHcLoC7QQf7V",
        "colab": {
          "base_uri": "https://localhost:8080/",
          "height": 86
        },
        "outputId": "ab659052-2948-4454-f50e-d6b464e3ac8e"
      },
      "source": [
        "n <- 200\n",
        "mu_0 <- 190\n",
        "x_bar <- 181.52\n",
        "s <- 40\n",
        "alpha <- 0.05\n",
        "\n",
        "# using t-test\n",
        "t <- sqrt(n)*(x_bar-mu_0)/s\n",
        "c1 <- qt(alpha/2, n-1)\n",
        "c2 <- -qt(alpha/2, n-1)\n",
        "print(c(c1, c2))\n",
        "p = 2*pt(t, df=n-1)\n",
        "print(p)\n",
        "\n",
        "# using z-test\n",
        "sigma <- 40\n",
        "z <- sqrt(n)*(x_bar-mu_0)/sigma\n",
        "c1 <- qnorm(alpha/2)\n",
        "c2 <- qnorm(1 - alpha/2)\n",
        "print(c(c1, c2))\n",
        "p = 2*pnorm(z)\n",
        "print(p)"
      ],
      "execution_count": null,
      "outputs": [
        {
          "output_type": "stream",
          "text": [
            "[1] -1.971957  1.971957\n",
            "[1] 0.003062722\n",
            "[1] -1.959964  1.959964\n",
            "[1] 0.002716393\n"
          ],
          "name": "stdout"
        }
      ]
    },
    {
      "cell_type": "markdown",
      "metadata": {
        "id": "vtBNh1zQrVqJ"
      },
      "source": [
        "## **6. Relationship between hypothesis testing and confidence intervals.** \n",
        "\n",
        "## **Consider the same cholesterol data where $\\overline{x} = 181.52 mg/dL$, $s = 40 mg/dL$, and $n=100$.** \n",
        "\n",
        "### **a. Compute the two-sided 95% confidence interval.**\n",
        "Recall from slide 30 of Lecture 6 that the two-sided 95% confidence interval for $\\mu = (c_1, c_2)$ is given by:\n",
        "\n",
        "$\\overline{x} \\pm \\frac{s}{\\sqrt{n}} t_{n-1,1-\\frac{\\alpha}{2}}$, where $\\alpha = 1 - \\frac{95}{100} = 0.05$\n",
        "\n",
        "$\\therefore \\overline{x} \\pm \\frac{s}{\\sqrt{n}} t_{n-1,1-\\frac{\\alpha}{2}} = 181.52 \\pm \\frac{40}{\\sqrt{100}} t_{99,0.975} = 181.52 \\pm 4 \\times 1.98 = 181.52 \\pm 7.94 = (173.58, 189.46)$\n",
        "\n",
        "### **b. What does this tell us about our ability to reject $H_0$?**\n",
        "Because $\\mu_0 = 190 mg/dL$ is not contained within the 95% confidence interval, $H_0$ can be rejected at the $\\alpha = 0.05$ level.\n",
        "\n",
        "### **c. Suppose that the sample mean was 185 mg/dL. Compute the 95% confidence interval and state whether we can reject $H_0$ with these new data.**\n",
        "\n",
        "$\\overline{x} \\pm \\frac{s}{\\sqrt{n}} t_{n-1,1-\\frac{\\alpha}{2}} = 185 \\pm \\frac{40}{\\sqrt{100}} t_{99,0.975} = 185 \\pm 4 \\times 1.98 = 185 \\pm 7.94 = (177.06, 192.94)$\n",
        "\n",
        "Since $\\mu_0$ is contained within the 95% confidence interval, $H_0$ **_cannot_** be rejected at the $\\alpha = 0.05$ level.\n"
      ]
    },
    {
      "cell_type": "code",
      "metadata": {
        "id": "aG3yA3kMqvGz",
        "colab": {
          "base_uri": "https://localhost:8080/",
          "height": 52
        },
        "outputId": "887377b5-382d-4aaf-d6d0-d40ee82eac22"
      },
      "source": [
        "n <- 100\n",
        "mu_0 <- 190\n",
        "x_bar <- 181.52\n",
        "s <- 40\n",
        "alpha <- 0.05\n",
        "\n",
        "CI_95 <- c(x_bar - s*qt(0.975, df=99)/sqrt(n), x_bar + s*qt(0.975, df=99)/sqrt(n))\n",
        "print(CI_95)\n",
        "\n",
        "x_bar <- 185\n",
        "CI_95 <- c(x_bar - s*qt(0.975, df=99)/sqrt(n), x_bar + s*qt(0.975, df=99)/sqrt(n))\n",
        "print(CI_95)"
      ],
      "execution_count": null,
      "outputs": [
        {
          "output_type": "stream",
          "text": [
            "[1] 173.5831 189.4569\n",
            "[1] 177.0631 192.9369\n"
          ],
          "name": "stdout"
        }
      ]
    },
    {
      "cell_type": "markdown",
      "metadata": {
        "id": "CbisM7Rn2s5B"
      },
      "source": [
        "## **7. Power.**\n",
        "\n",
        "## **Compute the power of the test for the birthweight data from (1). Assume that the true standard deviation $\\sigma = 24 oz$.**\n",
        "\n",
        "In (1), we specified the following hypotheses:\n",
        "\n",
        "$H_0: \\mu_1 = \\mu_0$ and $H_1: \\mu_1 < \\mu_0$, where $\\mu_0 = 120 oz$\n",
        "\n",
        "$\\overline{x} = 115 oz$, $n = 100$, and $\\alpha = 0.05$.\n",
        "\n",
        "Recall the definition of power of a test:\n",
        "\n",
        "$Power = \\Phi(z_{\\alpha} + \\frac{\\sqrt{n}|\\mu_0 - \\mu_1|}{\\sigma})$ *See the derivation at the end of this document.\n",
        "\n",
        "$\\therefore Power = \\Phi(z_{0.05} + \\frac{\\sqrt{100}|120 - 115|}{24})$\n",
        "\n",
        "$ = \\Phi(-1.645 + \\frac{10 \\times 5}{24})$ \n",
        "\n",
        "$ = \\Phi(0.438)$\n",
        "\n",
        "$ = 0.67$\n",
        "\n",
        "This means there is a 67% chance of detecting a significant difference at the 0.05 level with a sample size of 100.\n",
        "\n"
      ]
    },
    {
      "cell_type": "code",
      "metadata": {
        "id": "gV2vtC0yAkC5",
        "colab": {
          "base_uri": "https://localhost:8080/",
          "height": 410
        },
        "outputId": "243a00c6-4a96-43c3-c611-a5624b393081"
      },
      "source": [
        "mu_0 <- 120\n",
        "mu_1 <- 115\n",
        "sigma <- 24\n",
        "n <- 100\n",
        "alpha <- 0.05\n",
        "library('asbio')\n",
        "power.z.test(sigma=sigma, n=n, alpha=alpha, effect=abs(mu_0-mu_1), test='one.tail')\n",
        "\n",
        "#Note, we can also the built-in R function for t-test power:\n",
        "power.t.test(n, delta=abs(mu_0-mu_1), sd=sigma, sig.level=alpha, type='one.sample', alternative='one.sided')"
      ],
      "execution_count": null,
      "outputs": [
        {
          "output_type": "display_data",
          "data": {
            "text/plain": [
              "$sigma\n",
              "[1] 24\n",
              "\n",
              "$n\n",
              "[1] 100\n",
              "\n",
              "$power\n",
              "[1] 0.6694807\n",
              "\n",
              "$alpha\n",
              "[1] 0.05\n",
              "\n",
              "$effect\n",
              "[1] 5\n",
              "\n",
              "$test\n",
              "[1] \"one.tail\"\n"
            ],
            "text/latex": "\\begin{description}\n\\item[\\$sigma] 24\n\\item[\\$n] 100\n\\item[\\$power] 0.669480711019955\n\\item[\\$alpha] 0.05\n\\item[\\$effect] 5\n\\item[\\$test] 'one.tail'\n\\end{description}\n",
            "text/markdown": "$sigma\n:   24\n$n\n:   100\n$power\n:   0.669480711019955\n$alpha\n:   0.05\n$effect\n:   5\n$test\n:   'one.tail'\n\n\n",
            "text/html": [
              "<dl>\n",
              "\t<dt>$sigma</dt>\n",
              "\t\t<dd>24</dd>\n",
              "\t<dt>$n</dt>\n",
              "\t\t<dd>100</dd>\n",
              "\t<dt>$power</dt>\n",
              "\t\t<dd>0.669480711019955</dd>\n",
              "\t<dt>$alpha</dt>\n",
              "\t\t<dd>0.05</dd>\n",
              "\t<dt>$effect</dt>\n",
              "\t\t<dd>5</dd>\n",
              "\t<dt>$test</dt>\n",
              "\t\t<dd>'one.tail'</dd>\n",
              "</dl>\n"
            ]
          },
          "metadata": {
            "tags": []
          }
        },
        {
          "output_type": "display_data",
          "data": {
            "text/plain": [
              "\n",
              "     One-sample t test power calculation \n",
              "\n",
              "              n = 100\n",
              "          delta = 5\n",
              "             sd = 24\n",
              "      sig.level = 0.05\n",
              "          power = 0.6642936\n",
              "    alternative = one.sided\n"
            ]
          },
          "metadata": {
            "tags": []
          }
        }
      ]
    },
    {
      "cell_type": "markdown",
      "metadata": {
        "id": "Hx-jnLEYIYKJ"
      },
      "source": [
        "## **8. Power.**\n",
        "\n",
        "## **Using the data from (3), calculate the power of the test performed.**\n",
        "\n",
        "In (3), we specified  the following hypotheses:\n",
        "\n",
        "$H_0: \\mu_1 = \\mu_0$ and $H_1: \\mu_1 > \\mu_0$\n",
        "\n",
        "Recall: $\\mu_0 = 175 mg/dL$, $\\mu_1 = 190 mg/dL$, $\\sigma = 50 mg/dL$, $\\alpha = 0.05$, and $n = 10$.\n",
        "\n",
        "From slide 22 of Lecture 7:\n",
        "\n",
        "$Power = \\Phi(z_{\\alpha} + \\frac{\\sqrt{n}|\\mu_0-\\mu_1|}{\\sigma})$\n",
        "\n",
        "$ = \\Phi(z_{0.05} + \\frac{\\sqrt{10}|175-190|}{50})$\n",
        "\n",
        "$ = \\Phi(-1.645 + 0.949)$\n",
        "\n",
        "$ = \\Phi(-0.696)$\n",
        "\n",
        "$ = 0.24$\n",
        "\n",
        "This means we have only a 24% chance of detecting a significant difference when there is one. The sample size should be increased."
      ]
    },
    {
      "cell_type": "code",
      "metadata": {
        "id": "bQjJwhFNX9hQ",
        "colab": {
          "base_uri": "https://localhost:8080/",
          "height": 410
        },
        "outputId": "0c53d127-87d3-41d9-f688-7139f789cacc"
      },
      "source": [
        "mu_0 <- 175\n",
        "mu_1 <- 190\n",
        "sigma <- 50\n",
        "n <- 10\n",
        "alpha <- 0.05\n",
        "library('asbio')\n",
        "power.z.test(sigma=sigma, n=n, alpha=alpha, effect=abs(mu_0-mu_1), test='one.tail')\n",
        "\n",
        "#Note, we can also the built-in R function for t-test power:\n",
        "power.t.test(n, delta=abs(mu_0-mu_1), sd=sigma, sig.level=alpha, type='one.sample', alternative='one.sided')"
      ],
      "execution_count": null,
      "outputs": [
        {
          "output_type": "display_data",
          "data": {
            "text/plain": [
              "$sigma\n",
              "[1] 50\n",
              "\n",
              "$n\n",
              "[1] 10\n",
              "\n",
              "$power\n",
              "[1] 0.2431611\n",
              "\n",
              "$alpha\n",
              "[1] 0.05\n",
              "\n",
              "$effect\n",
              "[1] 15\n",
              "\n",
              "$test\n",
              "[1] \"one.tail\"\n"
            ],
            "text/latex": "\\begin{description}\n\\item[\\$sigma] 50\n\\item[\\$n] 10\n\\item[\\$power] 0.243161083463836\n\\item[\\$alpha] 0.05\n\\item[\\$effect] 15\n\\item[\\$test] 'one.tail'\n\\end{description}\n",
            "text/markdown": "$sigma\n:   50\n$n\n:   10\n$power\n:   0.243161083463836\n$alpha\n:   0.05\n$effect\n:   15\n$test\n:   'one.tail'\n\n\n",
            "text/html": [
              "<dl>\n",
              "\t<dt>$sigma</dt>\n",
              "\t\t<dd>50</dd>\n",
              "\t<dt>$n</dt>\n",
              "\t\t<dd>10</dd>\n",
              "\t<dt>$power</dt>\n",
              "\t\t<dd>0.243161083463836</dd>\n",
              "\t<dt>$alpha</dt>\n",
              "\t\t<dd>0.05</dd>\n",
              "\t<dt>$effect</dt>\n",
              "\t\t<dd>15</dd>\n",
              "\t<dt>$test</dt>\n",
              "\t\t<dd>'one.tail'</dd>\n",
              "</dl>\n"
            ]
          },
          "metadata": {
            "tags": []
          }
        },
        {
          "output_type": "display_data",
          "data": {
            "text/plain": [
              "\n",
              "     One-sample t test power calculation \n",
              "\n",
              "              n = 10\n",
              "          delta = 15\n",
              "             sd = 50\n",
              "      sig.level = 0.05\n",
              "          power = 0.2216581\n",
              "    alternative = one.sided\n"
            ]
          },
          "metadata": {
            "tags": []
          }
        }
      ]
    },
    {
      "cell_type": "markdown",
      "metadata": {
        "id": "TQvzOqunS--9"
      },
      "source": [
        "## **9. Power.**\n",
        "\n",
        "## **A new drug is to be tested for treatment of patients with unstable angina (chest pain). The effect that this drug will have on heart rate is unknown. If the change in heart rate after 48 hours is known to have a standard deviation of 10 beats/minute and 20 patients are studied, what power would such a study have of detecting a significant difference ($\\alpha = 0.05$) in heart rate if the true mean change in heartrate is 5 beats/minute in either direction?**\n",
        "\n",
        "This is a two-sided hypothesis. That is, we have:\n",
        "\n",
        "$H_0: \\mu_1 = \\mu_0$ and $H_0: \\mu_1 \\ne \\mu_0$\n",
        "\n",
        "The power calculation for this two-sided alternative is givenon slide 21 of Lecture 7:\n",
        "\n",
        "$Power = \\Phi(-z_{1-\\frac{\\alpha}{2}} + \\frac{\\sqrt{n}|\\mu_0-\\mu_1|}{\\sigma})$, where $|\\mu_0-\\mu_1| = 5$\n",
        "\n",
        "$ = \\Phi(-z_{0.975} + \\frac{\\sqrt{20} \\times 5}{10})$\n",
        "\n",
        "$ = \\Phi(-1.96= + 2.236)$\n",
        "\n",
        "$ = \\Phi(0.276)$\n",
        "\n",
        "$ = 0.61$\n",
        "\n",
        "This means we'd have a 61% chance of detecting a significant difference when there is one."
      ]
    },
    {
      "cell_type": "code",
      "metadata": {
        "id": "20kx8SF8FUgm",
        "colab": {
          "base_uri": "https://localhost:8080/",
          "height": 410
        },
        "outputId": "69728479-0ffe-40a0-cb18-cb63ce1cecec"
      },
      "source": [
        "effect <- 5\n",
        "sigma <- 10\n",
        "n <- 20\n",
        "alpha <- 0.05\n",
        "library('asbio')\n",
        "power.z.test(sigma=sigma, n=n, alpha=alpha, effect=effect, test='two.tail')\n",
        "\n",
        "#Note, we can also the built-in R function for t-test power:\n",
        "power.t.test(n, delta=effect, sd=sigma, sig.level=alpha, type='one.sample', alternative='two.sided')"
      ],
      "execution_count": null,
      "outputs": [
        {
          "output_type": "display_data",
          "data": {
            "text/plain": [
              "$sigma\n",
              "[1] 10\n",
              "\n",
              "$n\n",
              "[1] 20\n",
              "\n",
              "$power\n",
              "[1] 0.6087659\n",
              "\n",
              "$alpha\n",
              "[1] 0.05\n",
              "\n",
              "$effect\n",
              "[1] 5\n",
              "\n",
              "$test\n",
              "[1] \"two.tail\"\n"
            ],
            "text/latex": "\\begin{description}\n\\item[\\$sigma] 10\n\\item[\\$n] 20\n\\item[\\$power] 0.608765903048896\n\\item[\\$alpha] 0.05\n\\item[\\$effect] 5\n\\item[\\$test] 'two.tail'\n\\end{description}\n",
            "text/markdown": "$sigma\n:   10\n$n\n:   20\n$power\n:   0.608765903048896\n$alpha\n:   0.05\n$effect\n:   5\n$test\n:   'two.tail'\n\n\n",
            "text/html": [
              "<dl>\n",
              "\t<dt>$sigma</dt>\n",
              "\t\t<dd>10</dd>\n",
              "\t<dt>$n</dt>\n",
              "\t\t<dd>20</dd>\n",
              "\t<dt>$power</dt>\n",
              "\t\t<dd>0.608765903048896</dd>\n",
              "\t<dt>$alpha</dt>\n",
              "\t\t<dd>0.05</dd>\n",
              "\t<dt>$effect</dt>\n",
              "\t\t<dd>5</dd>\n",
              "\t<dt>$test</dt>\n",
              "\t\t<dd>'two.tail'</dd>\n",
              "</dl>\n"
            ]
          },
          "metadata": {
            "tags": []
          }
        },
        {
          "output_type": "display_data",
          "data": {
            "text/plain": [
              "\n",
              "     One-sample t test power calculation \n",
              "\n",
              "              n = 20\n",
              "          delta = 5\n",
              "             sd = 10\n",
              "      sig.level = 0.05\n",
              "          power = 0.5644829\n",
              "    alternative = two.sided\n"
            ]
          },
          "metadata": {
            "tags": []
          }
        }
      ]
    },
    {
      "cell_type": "markdown",
      "metadata": {
        "id": "oT7JayS7X3Ra"
      },
      "source": [
        "## **10. Sample-size calculation.**\n",
        "\n",
        "## **Considering the birthweight data from (1), compute the appropriate sample size for a desired power of $1 - \\beta = 0.8$ and desired $\\alpha = 0.05$. Assume $\\sigma = 24$.**\n",
        "\n",
        "From (1), we have $\\mu_0 = 120 oz$ and $\\mu_1 = 115 oz$. From slide 25 of Lecture 7:\n",
        "\n",
        "$n = \\frac{\\sigma^2(z_{1-\\beta} + z_{1-\\alpha})^2}{(\\mu_0 - \\mu_1)^2}$\n",
        "\n",
        "$ = \\frac{24^2(z_{0.8} + z_{0.95})^2}{(120 - 115)^2}$\n",
        "\n",
        "$ = \\frac{576(0.84 + 1.64)^2}{25}$\n",
        "\n",
        "$ = \\frac{576(2.49)^2}{25}$\n",
        "\n",
        "$ = 142.45$\n",
        "\n",
        "$\\therefore n = 143$"
      ]
    },
    {
      "cell_type": "markdown",
      "metadata": {
        "id": "qljGhew_MlDw"
      },
      "source": [
        "## **Derivation of power for one-sided tests.**\n",
        "\n",
        "$Power = 1 - \\beta = 1 - P$(type $II$ error)$\n",
        "\n",
        "$ = P($reject $H_0 | H_0$ false$)$\n",
        "\n",
        "$ = P(z < z_{\\alpha}|_{\\mu=\\mu_1})$\n",
        "\n",
        "$ = P(\\frac{\\overline{x}-\\mu_0}{\\frac{\\sigma}{\\sqrt{n}}} < z_{\\alpha}|_{\\mu=\\mu_1})$\n",
        "\n",
        "$ = P(\\overline{x} < \\mu_0 + \\frac{\\sigma}{\\sqrt{n}}z_{\\alpha}|_{\\mu=\\mu_1})$\n",
        "\n",
        "We know that under $H_1$, $\\overline{x} \\sim \\mathcal{N}(\\mu_1, \\frac{\\sigma^2}{n})$\n",
        "\n",
        "$\\therefore$ For $H_1: \\mu_1 < \\mu_0$:\n",
        "\n",
        "$P(\\overline{x} < \\mu_0 + \\frac{\\sigma}{\\sqrt{n}}z_{\\alpha}|_{\\mu=\\mu_1})$\n",
        "\n",
        "$ = P(z < \\frac{\\mu_0 + \\frac{\\sigma}{\\sqrt{n}}z_{\\alpha} - \\mu_1}{\\frac{\\sigma}{\\sqrt{n}}})$\n",
        "\n",
        "$ = P(z < z_{\\alpha} + \\frac{\\mu_0 - \\mu_1}{\\frac{\\sigma}{\\sqrt{n}}})$\n",
        "\n",
        "$ = P(z < z_{\\alpha} + \\frac{\\sqrt{n}(\\mu_0 - \\mu_1)}{\\sigma})$\n",
        "\n",
        "$ = \\Phi(z_{\\alpha} + \\frac{\\sqrt{n}(\\mu_0 - \\mu_1)}{\\sigma})$\n",
        "\n",
        "A similar derivation for $H_1: \\mu_1 > \\mu_0$ yields:\n",
        "\n",
        "$Power = \\Phi(z_{\\alpha} + \\frac{\\sqrt{n}(\\mu_1 - \\mu_0)}{\\sigma})$\n",
        "\n",
        "$\\therefore$ In general: $Power = \\Phi(z_{\\alpha} + \\frac{\\sqrt{n}|\\mu_0 - \\mu_1|}{\\sigma})$"
      ]
    }
  ]
}
