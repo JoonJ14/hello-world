{
  "nbformat": 4,
  "nbformat_minor": 0,
  "metadata": {
    "extensions": {
      "jupyter_dashboards": {
        "activeView": "grid_default",
        "version": 1,
        "views": {
          "grid_default": {
            "cellMargin": 10,
            "defaultCellHeight": 20,
            "maxColumns": 12,
            "name": "grid",
            "type": "grid"
          },
          "report_default": {
            "name": "report",
            "type": "report"
          }
        }
      }
    },
    "kernelspec": {
      "display_name": "R",
      "language": "R",
      "name": "ir"
    },
    "language_info": {
      "codemirror_mode": "r",
      "file_extension": ".r",
      "mimetype": "text/x-r-source",
      "name": "R",
      "pygments_lexer": "r",
      "version": "3.4.4"
    },
    "colab": {
      "name": "BME 312 HW7.ipynb",
      "provenance": [],
      "collapsed_sections": [
        "WURa6A3Lv8kR",
        "mRhobhEYv8ke",
        "CI5khJn3v8lM",
        "qoqWdr11v8lS",
        "_3VjECEgv8lX",
        "gTVoT2u2v8mL",
        "0lWKF8Unv8mg",
        "QMPuwUaJv8mp",
        "kvvuvHMsv8mr",
        "o-kXbFqKv8mx"
      ],
      "include_colab_link": true
    }
  },
  "cells": [
    {
      "cell_type": "markdown",
      "metadata": {
        "id": "view-in-github",
        "colab_type": "text"
      },
      "source": [
        "<a href=\"https://colab.research.google.com/github/JoonJ14/hello-world/blob/main/BME_312_HW7.ipynb\" target=\"_parent\"><img src=\"https://colab.research.google.com/assets/colab-badge.svg\" alt=\"Open In Colab\"/></a>"
      ]
    },
    {
      "cell_type": "markdown",
      "metadata": {
        "extensions": {
          "jupyter_dashboards": {
            "version": 1,
            "views": {
              "grid_default": {},
              "report_default": {}
            }
          }
        },
        "id": "6Scbcy8mv8jW"
      },
      "source": [
        "# **Homework 7: Two-sample Hypothesis Testing**"
      ]
    },
    {
      "cell_type": "markdown",
      "metadata": {
        "extensions": {
          "jupyter_dashboards": {
            "version": 1,
            "views": {
              "grid_default": {},
              "report_default": {}
            }
          }
        },
        "id": "IgDvcT_Iv8jb"
      },
      "source": [
        "#### Note: to clear the environment in R, do:\n",
        "`rm(list=ls(all=TRUE))`"
      ]
    },
    {
      "cell_type": "markdown",
      "metadata": {
        "id": "XesyhJkqpurA"
      },
      "source": [
        "## **1. A potential side effect of using oral contraceptives is an increase in blood pressure. Given below are the systolic blood pressures of 10 women measured before beginning and after having taken an oral contraceptive for a 6-month period.**\n",
        "\n",
        "> Woman | Before | After |\n",
        "> :---: | :---:  | :---: | \n",
        ">   1   |  113   |  118  |\n",
        ">   2   |  117   |  123  |\n",
        ">   3   |  111   |  114  |\n",
        ">   4   |  107   |  115  |\n",
        ">   5   |  115   |  122  |\n",
        ">   6   |  134   |  140  |\n",
        ">   7   |  121   |  120  |\n",
        ">   8   |  108   |  105  |\n",
        ">   9   |  106   |  111  |\n",
        ">   10  |  125   |  129  |\n",
        "\n",
        "### **Assuming systolic blood pressure is normally distributed, do these data suggest that using an oral contraceptive significantly increases systolic pressure?**\n",
        "\n"
      ]
    },
    {
      "cell_type": "code",
      "metadata": {
        "id": "M0ZMlVw65A8k",
        "colab": {
          "base_uri": "https://localhost:8080/",
          "height": 88
        },
        "outputId": "e307fa15-4a8d-4d03-f700-c81bb11c972b"
      },
      "source": [
        "before <- c(113,117,111,107,115,134,121,108,106,125)\n",
        "after <- c(118,123,114,115,122,140,120,105,111,129)\n",
        "d <- after-before\n",
        "md <- mean(d)\n",
        "sd <- sd(d)\n",
        "n <- length(before)\n",
        "t <- md/(sd/sqrt(n))\n",
        "a<-0.05\n",
        "tcl<-qt((a/2),df=n-1)\n",
        "tch<-qt(1-(a/2),df=n-1)\n",
        "print(c(tcl,tch))\n",
        "print (t)\n",
        "print('t does not fall within the range so we reject the null hypothesis, suggesting that oral contraceptive significantly increases systolic pressure')"
      ],
      "execution_count": null,
      "outputs": [
        {
          "output_type": "stream",
          "text": [
            "[1] -2.262157  2.262157\n",
            "[1] 3.618136\n",
            "[1] \"t does not fall within the range so we reject the null hypothesis, suggesting that oral contraceptive significantly increases systolic pressure\"\n"
          ],
          "name": "stdout"
        }
      ]
    },
    {
      "cell_type": "markdown",
      "metadata": {
        "id": "vctFYrPyq2tA"
      },
      "source": [
        "## **2. Suppose that you mistakenly believed that the data sets from (1) were independent samples taken from two different populations: (i) women not taking contraceptives and (ii) women taking contraceptives.**\n",
        "\n",
        "### **a. Which test would now be appropriate for examining whether there's a significant difference between the two populations?**\n",
        "\n",
        "### **b. Carry this test out and determine whether you would have found that women taking contraceptives have a significantly higher systolic pressure.**\n",
        "\n",
        "### **c. Explain the cause of any differences in your results when compared to the previous problem.**\n"
      ]
    },
    {
      "cell_type": "markdown",
      "metadata": {
        "id": "OkJctPIT7dn-"
      },
      "source": [
        "a. since we are assuming that the data sets are cross sectional, not longitudial, we need to do independent sample t-test\n",
        "\n"
      ]
    },
    {
      "cell_type": "code",
      "metadata": {
        "id": "Lulcy4NDBQD9",
        "colab": {
          "base_uri": "https://localhost:8080/",
          "height": 88
        },
        "outputId": "f02e975d-bb23-4f79-d02c-f70cfacafbf3"
      },
      "source": [
        "before <- c(113,117,111,107,115,134,121,108,106,125)\n",
        "after <- c(118,123,114,115,122,140,120,105,111,129)\n",
        "n1<-length(before)\n",
        "n2<-length(after)\n",
        "m1 <- mean(before)\n",
        "m2 <- mean(after)\n",
        "sd1<-sd(before)\n",
        "sd2<-sd(after)\n",
        "var1<-(sd1)^2\n",
        "var2<-(sd2)^2\n",
        "df1<-n1-1\n",
        "df2<-n2-1\n",
        "f<-var1/var2\n",
        "a<-0.05\n",
        "fcrit1<-qf(a/2,df1=df1,df2=df2)\n",
        "fcrit2<-qf(1-(a/2),df1=df1,df2=df2)\n",
        "print(c(fcrit1,fcrit2))\n",
        "print(f)\n",
        "print('f falls within critical range so we can conclude two groups have equal variance and now we perform two sample t-test with equal variance')\n",
        "\n"
      ],
      "execution_count": null,
      "outputs": [
        {
          "output_type": "stream",
          "text": [
            "[1] 0.2483859 4.0259942\n",
            "[1] 0.8217799\n",
            "[1] \"f falls within critical range so we can conclude two groups have equal variance and now we perform two sample t-test with equal variance\"\n"
          ],
          "name": "stdout"
        }
      ]
    },
    {
      "cell_type": "code",
      "metadata": {
        "id": "2lf07EVfHkhU",
        "colab": {
          "base_uri": "https://localhost:8080/",
          "height": 105
        },
        "outputId": "1731993f-5032-410c-c7f3-bf7b1c0aaf74"
      },
      "source": [
        "before <- c(113,117,111,107,115,134,121,108,106,125)\n",
        "after <- c(118,123,114,115,122,140,120,105,111,129)\n",
        "n1<-length(before)\n",
        "n2<-length(after)\n",
        "m1 <- mean(before)\n",
        "m2 <- mean(after)\n",
        "sd1<-sd(before)\n",
        "sd2<-sd(after)\n",
        "var1<-(sd1)^2\n",
        "var2<-(sd2)^2\n",
        "df1<-n1-1\n",
        "df2<-n2-1\n",
        "a<-0.05\n",
        "\n",
        "s<-sqrt(((df1*sd1)+(df2*sd2))/(df1+df2))\n",
        "\n",
        "t<- ((m1-m2)/(s*(sqrt((1/n1)+(1/n2)))))\n",
        "tl<-qt(a/2,df1+df2)\n",
        "th<-qt(1-(a/2),df1+df2)\n",
        "print(c(tl,th))\n",
        "print(t)\n",
        "print('the t value does not fall under the interval so we reject H0 and we can conclude women takng contraceptives have a significantly higher systolic pressure')\n"
      ],
      "execution_count": null,
      "outputs": [
        {
          "output_type": "stream",
          "text": [
            "[1] 3.056231\n",
            "[1] -2.100922  2.100922\n",
            "[1] -2.92657\n",
            "[1] \"the t value does not fall under the interval so we reject H0 and we can conclude women takng contraceptives have a significantly higher systolic pressure\"\n"
          ],
          "name": "stdout"
        }
      ]
    },
    {
      "cell_type": "markdown",
      "metadata": {
        "id": "n-kH7UFR5xf2"
      },
      "source": [
        "## **3. A biochemist studying the activity of the enzyme triose phosphate isomerase (TPI) in a species of Drosophila wants to know if the mean activity of this enzyme is the same at $pH = 5$ and $pH = 8$.**\n",
        "\n",
        "> Enzyme activity ($\\frac{\\mu M}{min}$) | | | | | |\n",
        "> :---: | :---:  | :---: | :---: | :---:  | :---: \n",
        "> $\\textbf{pH = 5}$ | 11.1 | 10.0 | 13.3 | 10.5 | 11.3\n",
        "> $\\textbf{pH = 8}$ | 12.0 | 15.3 | 15.1 | 15.0 | 13.2\n",
        "\n",
        "### **a. Given the above data and assuming enzyme activities are normally distributed, determine if the mean activities of TPI are significantly different at these two pH levels.**\n",
        "\n",
        "### **b. Give the 95% confidence interval for $\\mu_5 - \\mu_8$.**"
      ]
    },
    {
      "cell_type": "code",
      "metadata": {
        "id": "V46W1B85M_AF",
        "colab": {
          "base_uri": "https://localhost:8080/",
          "height": 156
        },
        "outputId": "5c5e34e9-4c86-4583-b9aa-18ecb3e8557b"
      },
      "source": [
        "ph5<-c(11.1,10.0,13.3,10.5,11.3)\n",
        "ph8<-c(12.0,15.3,15.1,15.0,13.2)\n",
        "n1<-length(ph5)\n",
        "n2<-length(ph8)\n",
        "m1 <- mean(ph5)\n",
        "m2 <- mean(ph8)\n",
        "sd1<-sd(ph5)\n",
        "sd2<-sd(ph8)\n",
        "var1<-(sd1)^2\n",
        "var2<-(sd2)^2\n",
        "df1<-n1-1\n",
        "df2<-n2-1\n",
        "f<-var1/var2\n",
        "a<-0.05\n",
        "fcrit1<-qf(a/2,df1=df1,df2=df2)\n",
        "fcrit2<-qf(1-(a/2),df1=df1,df2=df2)\n",
        "print(c(fcrit1,fcrit2))\n",
        "print(f)\n",
        "print('f falls within the range so we can assume they have same variance')\n",
        "\n",
        "s<-sqrt(((df1*sd1)+(df2*sd2))/(df1+df2))\n",
        "\n",
        "t<- ((m1-m2)/(s*(sqrt((1/n1)+(1/n2)))))\n",
        "tl<-qt(a/2,df1+df2)\n",
        "th<-qt(1-(a/2),df1+df2)\n",
        "print(c(tl,th))\n",
        "print(t)\n",
        "print('t does not fall within the range so we reject the H0, concluding that mean activities of TPI are significantly different at these two pH levels')\n",
        "\n",
        "cil<-(m1-m2+tl*(s*(sqrt((1/n1)+(1/n2)))))\n",
        "cih<-(m1-m2+th*(s*(sqrt((1/n1)+(1/n2)))))\n",
        "print(c(cil,cih))"
      ],
      "execution_count": null,
      "outputs": [
        {
          "output_type": "stream",
          "text": [
            "[1] 0.1041175 9.6045299\n",
            "[1] 0.7501181\n",
            "[1] \"f falls within the range so we can assume they have same variance\"\n",
            "[1] -2.306004  2.306004\n",
            "[1] -3.908234\n",
            "[1] \"t does not fall within the range so we reject the H0, concluding that mean activities of TPI are significantly different at these two pH levels\"\n",
            "[1] -4.579308 -1.180692\n"
          ],
          "name": "stdout"
        }
      ]
    },
    {
      "cell_type": "markdown",
      "metadata": {
        "id": "I7Ct1gH7V04h"
      },
      "source": [
        "## **4. A reproductive physiologist studying the effect of photoperiod on reproductive readiness in Japanese quail measured the cloacal gland widths of male quail exposed for 2 weeks to different day lengths:**\n",
        "\n",
        "> |   | Long days | Short days \n",
        "> | :---: | :---: | :---: \n",
        "> | **Gland width (mm)** | $\\overline{x}_1$ = 12 | $\\overline{x}_2$ = 8.5 \n",
        "> | **Standard deviation (mm)** | $s_1$ = 2.5 | $s_2$ = 2.0\n",
        "> | **Sample size** | $n_1$ = 16 | $n_2$ = 16\n",
        "\n",
        "### **Long days consisted of 16 hours of light and 8 hours of dark. Short days had 8 hours of daylight and 16 hours of dark. Assuming cloacal gland widths are normally distributed, are the glands significantly wider during long days?**"
      ]
    },
    {
      "cell_type": "code",
      "metadata": {
        "id": "6qt8SUeZShIh",
        "colab": {
          "base_uri": "https://localhost:8080/",
          "height": 139
        },
        "outputId": "8d475e56-0f23-433d-b536-c6782031683a"
      },
      "source": [
        "n1<-16\n",
        "n2<-16\n",
        "m1 <- 12\n",
        "m2 <- 8.5\n",
        "sd1<-2.5\n",
        "sd2<-2.0\n",
        "var1<-(sd1)^2\n",
        "var2<-(sd2)^2\n",
        "df1<-n1-1\n",
        "df2<-n2-1\n",
        "f<-var1/var2\n",
        "a<-0.05\n",
        "fcrit1<-qf(a/2,df1=df1,df2=df2)\n",
        "fcrit2<-qf(1-(a/2),df1=df1,df2=df2)\n",
        "print(c(fcrit1,fcrit2))\n",
        "print(f)\n",
        "print('f falls within the range so we can assume they have same variance')\n",
        "\n",
        "s<-sqrt(((df1*sd1)+(df2*sd2))/(df1+df2))\n",
        "\n",
        "t<- ((m1-m2)/(s*(sqrt((1/n1)+(1/n2)))))\n",
        "tl<-qt(a/2,df1+df2)\n",
        "th<-qt(1-(a/2),df1+df2)\n",
        "print(c(tl,th))\n",
        "print(t)\n",
        "print('t does not fall within the range so we reject the H0, concluding that glands are significantly wider during long days')\n",
        "\n"
      ],
      "execution_count": null,
      "outputs": [
        {
          "output_type": "stream",
          "text": [
            "[1] 0.3493947 2.8620925\n",
            "[1] 1.5625\n",
            "[1] \"f falls within the range so we can assume they have same variance\"\n",
            "[1] -2.042272  2.042272\n",
            "[1] 6.599663\n",
            "[1] \"t does not fall within the range so we reject the H0, concluding that glands are significantly wider during long days\"\n"
          ],
          "name": "stdout"
        }
      ]
    },
    {
      "cell_type": "markdown",
      "metadata": {
        "id": "rur-8_LGYGNI"
      },
      "source": [
        "## **5. Copper sulfate is routinely used to control algae blooms in ponds and lakes. An ichthyologist believes that copper sulfate reduces the number of mucus cells certain species of fish. To test her belief, she recorded the number of mucus cells per square micron in the gill filaments of untreated fish and in fish exposed for 24 hours to copper sulfate at 1 mg/l:**\n",
        "\n",
        "$Untreated: (16, 17, 12, 18, 11, 18, 12, 15, 16, 14, 16)$\n",
        "\n",
        "$Exposed: (10, 10, 10, 10, 10, 10, 10, 10, 10, 10, 10, 10, 10, 10)$\n",
        "\n",
        "### **a. Assuming normality for these data, does the ichthyologist have support for her contention?**\n",
        "\n",
        "### **b. Develop a 99% confidence interval for $\\mu_{untreated} - \\mu_{exposed}$ and explain in words what this calculation represents.**"
      ]
    },
    {
      "cell_type": "markdown",
      "metadata": {
        "id": "jHRv7Xb43J3Y"
      },
      "source": [
        "(does exposed group have sd of 0..?) \n",
        "(would I use Behrens-Fisher approach using Z or estimate it using t..?)"
      ]
    },
    {
      "cell_type": "code",
      "metadata": {
        "id": "b6vxjaSHTaRh",
        "colab": {
          "base_uri": "https://localhost:8080/",
          "height": 164
        },
        "outputId": "d92d17ff-05d7-415b-a760-f2592b5fc38d"
      },
      "source": [
        "ut<-c(16,17,12,18,11,18,12,15,16,14,16)\n",
        "ex<-c(10,10,10,10,10,10,10,10,10,10,10,10,10,10)\n",
        "n1<-length(ut)\n",
        "n2<-length(ex)\n",
        "m1 <- mean(ut)\n",
        "m2 <- mean(ex)\n",
        "sd1<-sd(ut)\n",
        "sd2<-sd(ex)\n",
        "var1<-(sd1)^2\n",
        "var2<-(sd2)^2\n",
        "df1<-n1-1\n",
        "df2<-n2-1\n",
        "f<-var1/var2\n",
        "a<-0.01\n",
        "fcrit1<-qf(a/2,df1=df1,df2=df2)\n",
        "fcrit2<-qf(1-(a/2),df1=df1,df2=df2)\n",
        "print(c(fcrit1,fcrit2))\n",
        "print(f)\n",
        "print('f does not fall within the range so we can not assume they have same variance')\n",
        "\n",
        "\n",
        "t<-(m1-m2)/(sqrt((((sd1)^2)/n1)+(((sd2)^2)/n2 )))\n",
        "print(t)\n",
        "\n",
        "cil<-(m1-m2+tl*(s*(sqrt((1/n1)+(1/n2)))))\n",
        "cih<-(m1-m2+th*(s*(sqrt((1/n1)+(1/n2)))))\n",
        "print(c(cil,cih))"
      ],
      "execution_count": null,
      "outputs": [
        {
          "output_type": "stream",
          "text": [
            "[1] 0.1789339 4.8199402\n",
            "[1] Inf\n",
            "[1] \"f does not fall within the range so we can not assume they have same variance\"\n",
            "[1] 6.770032\n"
          ],
          "name": "stdout"
        },
        {
          "output_type": "error",
          "ename": "ERROR",
          "evalue": "ignored",
          "traceback": [
            "Error in eval(expr, envir, enclos): object 'tl' not found\nTraceback:\n"
          ]
        }
      ]
    }
  ]
}
