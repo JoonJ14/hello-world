{
  "nbformat": 4,
  "nbformat_minor": 0,
  "metadata": {
    "extensions": {
      "jupyter_dashboards": {
        "activeView": "grid_default",
        "version": 1,
        "views": {
          "grid_default": {
            "cellMargin": 10,
            "defaultCellHeight": 20,
            "maxColumns": 12,
            "name": "grid",
            "type": "grid"
          },
          "report_default": {
            "name": "report",
            "type": "report"
          }
        }
      }
    },
    "kernelspec": {
      "display_name": "R",
      "language": "R",
      "name": "ir"
    },
    "language_info": {
      "codemirror_mode": "r",
      "file_extension": ".r",
      "mimetype": "text/x-r-source",
      "name": "R",
      "pygments_lexer": "r",
      "version": "3.4.4"
    },
    "colab": {
      "name": "BME 312 HW9.ipynb",
      "provenance": [],
      "collapsed_sections": [
        "WURa6A3Lv8kR",
        "mRhobhEYv8ke",
        "CI5khJn3v8lM",
        "qoqWdr11v8lS",
        "_3VjECEgv8lX",
        "gTVoT2u2v8mL",
        "0lWKF8Unv8mg",
        "QMPuwUaJv8mp",
        "kvvuvHMsv8mr",
        "o-kXbFqKv8mx"
      ],
      "include_colab_link": true
    }
  },
  "cells": [
    {
      "cell_type": "markdown",
      "metadata": {
        "id": "view-in-github",
        "colab_type": "text"
      },
      "source": [
        "<a href=\"https://colab.research.google.com/github/JoonJ14/hello-world/blob/main/BME_312_HW9.ipynb\" target=\"_parent\"><img src=\"https://colab.research.google.com/assets/colab-badge.svg\" alt=\"Open In Colab\"/></a>"
      ]
    },
    {
      "cell_type": "markdown",
      "metadata": {
        "extensions": {
          "jupyter_dashboards": {
            "version": 1,
            "views": {
              "grid_default": {},
              "report_default": {}
            }
          }
        },
        "id": "6Scbcy8mv8jW"
      },
      "source": [
        "# **Homework 9: Regression/Correlation**"
      ]
    },
    {
      "cell_type": "markdown",
      "metadata": {
        "extensions": {
          "jupyter_dashboards": {
            "version": 1,
            "views": {
              "grid_default": {},
              "report_default": {}
            }
          }
        },
        "id": "IgDvcT_Iv8jb"
      },
      "source": [
        "#### Note: to clear the environment in R, do:\n",
        "`rm(list=ls(all=TRUE))`"
      ]
    },
    {
      "cell_type": "markdown",
      "metadata": {
        "id": "o6hX74PwaUhg"
      },
      "source": [
        "## **1. Outline the conditions required for linear regression analysis and contrast them with the conditions for linear correlation analysis.**\n"
      ]
    },
    {
      "cell_type": "markdown",
      "metadata": {
        "id": "zcVbJUdgaUeG"
      },
      "source": [
        "## **2. A student undertakes a project to determine the effect of carbon dioxide on respiration rate using the following methodology. A volunteer inhaled air from a bag containing a predetermined amount of carbon dioxide (with partial pressure measured in torr) and the number of breaths per minute was recorded:**\n",
        "\n",
        "> |  |  |  |  |  |  |  |  |  |  |  |  |\n",
        "> :---:    | :---: | :---: | :---: | :---:  | :---:  | :---:  | :---:  | :---:  | :---:  | :---:  | :---:  |\n",
        "> **Partial pressure CO<sub>2</sub> <br> (torr)** | 30 |32 | 34  | 36 | 38 | 40 | 42 | 44 | 46 | 48 | 50 |\n",
        "> **Respiration rate <br> (breaths/min)** | 8.1 | 8.0 | 9.9 | 11.2 | 11.0 | 13.2 | 14.6 | 16.6| 16.7| 18.3 | 18.2 |\n",
        "\n",
        "### **a. Construct a scatterplot of these data using R. Does there appear to be a linear relationship between the partial pressure of CO2 and respiration rate?**\n",
        "\n",
        "### **b. Compute the linear regression equation so that Y may be predicted from X. Calculate b to 3 decimal places.**\n",
        "\n",
        "### **c. Test the significance of this regression equation.**"
      ]
    },
    {
      "cell_type": "markdown",
      "metadata": {
        "id": "7g33lK0Ae5IX"
      },
      "source": [
        "## **3. A plant physiologist grew 13 individually potted soybean seedlings in a greenhouse. The table gives measurements of the total leaf area and total plant dry weight for each plant after 16 days of growth. Calculate the correlation coefficient for these data. Test its significance via a t-test. Interpret the result.**\n",
        "\n",
        "> Plant # | 1 | 2 | 3 | 4 | 5 | 6 | 7 | 8 | 9 | 10 | 11 | 12 | 13 |\n",
        "> :---:    | :---: | :---: | :---: | :---:  | :---:  | :---:  | :---:  | :---:  | :---:  | :---:  | :---:  | :---: | :---: \n",
        "> **Leaf area (cm<sup>2</sup>)** | 411 | 550 | 471 | 393 | 427 | 431 | 492 | 371 | 470 | 419 | 407 | 489 | 439\n",
        "> **Dry weight (g)** | 2.00 | 2.46 | 2.11 | 1.89 | 2.05 | 2.30 | 2.46 | 2.06 | 2.25 | 2.07 | 2.17 | 2.32 | 2.12 "
      ]
    },
    {
      "cell_type": "markdown",
      "metadata": {
        "id": "rur-8_LGYGNI"
      },
      "source": [
        "## **4. You are on a quest to find a new drug to help students stay awake during BME 312. You have developed StatEnergy, which can be added to a liquid beverage of their choice. Ten brave students in the class try various dosages of StatEnergy and report how many minutes they stay awake during BME 312:** \n",
        "\n",
        "> |  |  |  |  |  |  |  |  |  |  |  |\n",
        "> :---:    | :---: | :---: | :---: | :---:  | :---:  | :---:  | :---:  | :---:  | :---:  | :---:  |\n",
        "> **StatEnergy (mL)** | 0.19 | 0.66 | 0.96 | 0.91 | 0.51 | 0.78 | 0.35 | 0.82 | 0.08 | 0.22 |\n",
        "> **Minutes awake** | 11 | 52 | 62 | 63 | 55 | 37 | 12 | 77 | 1 | 31 |\n",
        "\n",
        "### **a. Is there evidence that StatEnergy is effective?**\n",
        "\n",
        "### **b. How many minutes will students stay awake if a student had 0.38 mL of StatEnergy?**\n",
        "\n",
        "### **c. How much StatEnergy will the student need to consume to stay awake for at least first 45 minutes of the class?**"
      ]
    },
    {
      "cell_type": "markdown",
      "metadata": {
        "id": "TwvddUeJkVcl"
      },
      "source": [
        "## **5. One of the most common screening tests for epithelial ovarian cancer involves the use of biomarkers. Biomarkers have been applied in the management of epithelial ovarian cancer in several different ways, including predicting primary disease at an early stage, distinguishing malignant from benign pelvic masses, monitoring responses to treatment, and estimating prognosis. A number of proteins present in either blood or urine have been identified as specific markers for epithelial ovarian cancer. Let’s say that you collected data from patients on two of these biomarkers (A and B):** \n",
        "\n",
        "> |  |  |  |  |  |  |  |  |  |  |  |\n",
        "> :---:    | :---: | :---: | :---: | :---:  | :---:  | :---:  | :---:  | :---:  | :---:  | :---:  |\n",
        "> **Biomarker A** | 0.08 | 0.19 | 0.22 | 0.35 | 0.51 | 0.66 | 0.78 | 0.82 | 0.91 | 0.96 |\n",
        "> **Biomarker B** | 2.02 | 2.16 | 2.39 | 2.47 | 2.17 | 2.67 | 2.90 | 2.41 | 2.13 | 3.66 |\n",
        "\n",
        "### **Examine the correlation among the preoperative serum levels of the two biomarkers presumed to be useful for early detection of epithelial ovarian cancer.**"
      ]
    },
    {
      "cell_type": "code",
      "metadata": {
        "id": "l63blj-An1jm"
      },
      "source": [
        ""
      ],
      "execution_count": null,
      "outputs": []
    }
  ]
}