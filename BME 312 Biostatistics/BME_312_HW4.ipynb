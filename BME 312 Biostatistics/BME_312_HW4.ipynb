{
  "nbformat": 4,
  "nbformat_minor": 0,
  "metadata": {
    "extensions": {
      "jupyter_dashboards": {
        "activeView": "grid_default",
        "version": 1,
        "views": {
          "grid_default": {
            "cellMargin": 10,
            "defaultCellHeight": 20,
            "maxColumns": 12,
            "name": "grid",
            "type": "grid"
          },
          "report_default": {
            "name": "report",
            "type": "report"
          }
        }
      }
    },
    "kernelspec": {
      "display_name": "R",
      "language": "R",
      "name": "ir"
    },
    "language_info": {
      "codemirror_mode": "r",
      "file_extension": ".r",
      "mimetype": "text/x-r-source",
      "name": "R",
      "pygments_lexer": "r",
      "version": "3.4.4"
    },
    "colab": {
      "name": "BME 312 HW4.ipynb",
      "provenance": [],
      "collapsed_sections": [],
      "include_colab_link": true
    }
  },
  "cells": [
    {
      "cell_type": "markdown",
      "metadata": {
        "id": "view-in-github",
        "colab_type": "text"
      },
      "source": [
        "<a href=\"https://colab.research.google.com/github/JoonJ14/hello-world/blob/main/BME_312_HW4.ipynb\" target=\"_parent\"><img src=\"https://colab.research.google.com/assets/colab-badge.svg\" alt=\"Open In Colab\"/></a>"
      ]
    },
    {
      "cell_type": "markdown",
      "metadata": {
        "extensions": {
          "jupyter_dashboards": {
            "version": 1,
            "views": {
              "grid_default": {},
              "report_default": {}
            }
          }
        },
        "id": "6Scbcy8mv8jW"
      },
      "source": [
        "# Homework 4"
      ]
    },
    {
      "cell_type": "markdown",
      "metadata": {
        "id": "PeIcvPAUIcWR"
      },
      "source": [
        "## 1. Compute the following using tables or R functions for the standard normal distribution, i.e.: $\\mathcal{N}(0,1)$:\n",
        "### a. $P(X \\leq 0) = A(0) = \\Phi(0) = $\n",
        "### b. $P(X \\geq 0) = B(0) = 1 - \\Phi(0) = $\n",
        "### c $P(-\\sigma \\leq X \\leq \\sigma) = D(\\sigma) = $\n",
        "### d. $P(-1.96 \\leq X \\leq 1.96) = D(1.96) = $\n",
        "### e. $P(-2\\sigma \\leq X \\leq 2\\sigma) = D(2\\sigma) = $\n",
        "### f. $P(-2.576 \\leq X \\leq 2.576) = D(2.576) = $\n",
        "### g. $\\Phi(1) = A(1) = $\n",
        "### h. $C(\\sigma) = $\n",
        "### i. $z_{0.5}$\n",
        "### j. $z_{0.975}$\n",
        "### k. $z_{0.025}$"
      ]
    },
    {
      "cell_type": "markdown",
      "metadata": {
        "id": "HP3t2ipVaLNz"
      },
      "source": [
        "a. 0.5\n",
        "\n",
        "b. 0.5\n",
        "\n",
        "c. 0.68\n",
        "\n",
        "d. 0.95\n",
        "\n",
        "e. 0.95\n",
        "\n",
        "f. 0.99\n",
        "\n",
        "g. 0.84\n",
        "\n",
        "h. 0.34\n",
        "\n",
        "i. 0\n",
        "\n",
        "j. 1.96\n",
        "\n",
        "k. -1.96\n",
        "\n",
        "used table"
      ]
    },
    {
      "cell_type": "markdown",
      "metadata": {
        "id": "5r0HwwM8rGsI"
      },
      "source": [
        "## 2. The American Kennel Club has very precise breed standards for pure bred dogs. For instance, Golden Retriever males should be 23 to 24 inches in height at the withers. Dogs that deviate more than 1 inch from this range are disqualified as show dogs. Assume that height at the withers in Goldens is normally distributed with a mean of 23.5 in and a standard deviation of 1 in. Determine the following:\n",
        "### a. What percentage of the dogs meet the breed standard?\n",
        "### b. What percentage of the dogs would be disqualified, that is, are outside the 22 to 25 in range?\n",
        "### c. What percentage would be disqualified for being too tall?\n",
        "### d. What is the probability that a randomly chosen dog is taller than 26 in?\n",
        "### e. A beautiful Golden female named Sydney is 23 in at the withers. The breed standard for females is 21.5 to 22.5 in. If for females the mean is 22 in and standard deviation is 0.75 in, what percentile is Sydney’s height?"
      ]
    },
    {
      "cell_type": "markdown",
      "metadata": {
        "id": "JS4iI3xDhI96"
      },
      "source": [
        "a. 38.3%\n",
        "\n",
        "b. 61.7%\n",
        "\n",
        "c. 30.85%\n",
        "\n",
        "d. 6.68%\n",
        "\n",
        "e. 90.82th percentile\n",
        "\n",
        "used table "
      ]
    },
    {
      "cell_type": "markdown",
      "metadata": {
        "id": "3i6ALVTYtH6L"
      },
      "source": [
        "## 3. In a certain population of a herring, the lengths of individual fish follow a normal distribution. The mean length is $54 \\hspace{0.1cm} mm$ and standard deviation is $4.5 \\hspace{0.1cm} mm^2$. \n",
        "### a. What percentage of the fish are less than 60 mm long?\n",
        "### b. What percentage of the fish are more than 51 mm long?\n",
        "### c. What percentage are between 51 to 60 mm long?\n",
        "### d. What percentage are between 58 to 60 mm long?\n",
        "### e. What length of fish falls under 70th percentile?\n",
        "### f. What length of fish falls under 20th percentile?\n"
      ]
    },
    {
      "cell_type": "code",
      "metadata": {
        "id": "Fw4ahvVpsYCS",
        "colab": {
          "base_uri": "https://localhost:8080/",
          "height": 119
        },
        "outputId": "b13f40e4-7b33-41a4-ee13-4654f0869b8a"
      },
      "source": [
        "a<-pnorm(60,mean=54,sd=4.5,lower.tail=TRUE)\n",
        "b<-pnorm(51,mean=54,sd=4.5,lower.tail=FALSE)\n",
        "c<-a-b\n",
        "d1<-pnorm(58,mean=54,sd=4.5,lower.tail=TRUE)\n",
        "d<-a-d1\n",
        "e<-qnorm(0.7,mean=54,sd=4.5,lower.tail=TRUE)\n",
        "f<-qnorm(0.2,mean=54,sd=4.5,lower.tail=TRUE)\n",
        "\n",
        "print(a)\n",
        "print(b)\n",
        "print(c)\n",
        "print(d)\n",
        "print(e)\n",
        "print(f)\n"
      ],
      "execution_count": null,
      "outputs": [
        {
          "output_type": "stream",
          "text": [
            "[1] 0.9087888\n",
            "[1] 0.7475075\n",
            "[1] 0.1612813\n",
            "[1] 0.09582018\n",
            "[1] 56.3598\n",
            "[1] 50.2127\n"
          ],
          "name": "stdout"
        }
      ]
    },
    {
      "cell_type": "markdown",
      "metadata": {
        "id": "pIa8hBThuDyh"
      },
      "source": [
        "## 4. If the capacities of the cranial cavity of a certain population of humans are approximately normally distributed with a mean of 1400 cc and a standard deviation of 125 cc, find the probability that a person randomly picked from this population will have a cranial cavity capacity:\n",
        "### a. greater than 1450 cc\n",
        "### b. less than 1350 cc\n",
        "### c. between 1300 cc and 1500 cc"
      ]
    },
    {
      "cell_type": "code",
      "metadata": {
        "id": "0M2Cjmbgybpw",
        "colab": {
          "base_uri": "https://localhost:8080/",
          "height": 68
        },
        "outputId": "d5abfe61-98e1-4d11-b5d1-22634c385dd2"
      },
      "source": [
        "a<-pnorm(1450,mean=1400,sd=125,lower.tail=FALSE)\n",
        "b<-pnorm(1350,mean=1400,sd=125,lower.tail=TRUE)\n",
        "c1<-pnorm(1500,mean=1400,sd=125,lower.tail=TRUE)\n",
        "c2<-pnorm(1300,mean=1400,sd=125,lower.tail=TRUE)\n",
        "c<-c1-c2\n",
        "\n",
        "print(a)\n",
        "print(b)\n",
        "print(c)"
      ],
      "execution_count": null,
      "outputs": [
        {
          "output_type": "stream",
          "text": [
            "[1] 0.3445783\n",
            "[1] 0.3445783\n",
            "[1] 0.5762892\n"
          ],
          "name": "stdout"
        }
      ]
    },
    {
      "cell_type": "markdown",
      "metadata": {
        "id": "_I4u8VShvHwJ"
      },
      "source": [
        "## 5. Babies with high birth weights are at risk for developmental difficulties. In the United States the average full term single birth baby has a weight of 3.4 kg with a standard deviation of 0.6 kg.\n",
        "### a. Babies below 2.5 kg in weight are considered to be high risk/low birth weight deliveries. Assuming birth weights are normally distributed, what percentage of births would be in this category?\n",
        "### b. Babies above 4.6 kg in weight are considered to be high risk/high birth weight deliveries. What percentage of births would fall in this category?\n",
        "### c. Suppose a new study claims that only the middle 80% of the birth weights should be considered normal. What would be the new cutout points for low and high weight risk deliveries?"
      ]
    },
    {
      "cell_type": "code",
      "metadata": {
        "id": "Y15Zk-fo1K29",
        "colab": {
          "base_uri": "https://localhost:8080/",
          "height": 119
        },
        "outputId": "c6480cb3-2377-4616-ebaa-e2d804c3e3b6"
      },
      "source": [
        "a<-pnorm(2.5,mean=3.4,sd=0.6,lower.tail=TRUE)\n",
        "b<-pnorm(4.6,mean=3.4,sd=0.6,lower.tail=FALSE)\n",
        "c1<-qnorm(0.9,mean=3.4,sd=0.6,lower.tail=TRUE)\n",
        "c2<-qnorm(0.1,mean=3.4,sd=0.6,lower.tail=TRUE)\n",
        "print(a)\n",
        "print(b)\n",
        "print(\"Cutout for high weight risk\")\n",
        "print(c1)\n",
        "print(\"Cutout for low weight risk\")\n",
        "print(c2)"
      ],
      "execution_count": null,
      "outputs": [
        {
          "output_type": "stream",
          "text": [
            "[1] 0.0668072\n",
            "[1] 0.02275013\n",
            "[1] \"Cutout for high weight risk\"\n",
            "[1] 4.168931\n",
            "[1] \"Cutout for low weight risk\"\n",
            "[1] 2.631069\n"
          ],
          "name": "stdout"
        }
      ]
    },
    {
      "cell_type": "markdown",
      "metadata": {
        "id": "-pe6pbKCsZlU"
      },
      "source": [
        "## 6. Suppose we want to determine the probability that out of 100 white blood cells, 50-75 will be neutrophils. If 50-75 is the range for normal subjects, what portion of people will fall under the normal range assuming:\n",
        "### a. $P(neutrophil)=0.65$\n",
        "### b. $P(neutrophil)=0.05$\n"
      ]
    },
    {
      "cell_type": "code",
      "metadata": {
        "id": "Z2pEHyR-yA5q",
        "colab": {
          "base_uri": "https://localhost:8080/",
          "height": 51
        },
        "outputId": "fa302546-ea3a-4a6c-e3e0-906f866fb9ef"
      },
      "source": [
        "a<-100\n",
        "b<-c(50:75)\n",
        "p1<-0.65\n",
        "p2<-0.05\n",
        "\n",
        "A<-(factorial(a))/((factorial(b))*(factorial(a-b)))*((p1)^b)*((1-p1)^(100-b))\n",
        "print(sum(A))\n",
        "\n",
        "B<-(factorial(a))/((factorial(b))*(factorial(a-b)))*((p2)^b)*((1-p2)^(100-b))\n",
        "print(sum(B))\n"
      ],
      "execution_count": null,
      "outputs": [
        {
          "output_type": "stream",
          "text": [
            "[1] 0.9871352\n",
            "[1] 7.269307e-38\n"
          ],
          "name": "stdout"
        }
      ]
    }
  ]
}
