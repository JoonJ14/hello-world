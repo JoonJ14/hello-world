{
  "nbformat": 4,
  "nbformat_minor": 0,
  "metadata": {
    "extensions": {
      "jupyter_dashboards": {
        "activeView": "grid_default",
        "version": 1,
        "views": {
          "grid_default": {
            "cellMargin": 10,
            "defaultCellHeight": 20,
            "maxColumns": 12,
            "name": "grid",
            "type": "grid"
          },
          "report_default": {
            "name": "report",
            "type": "report"
          }
        }
      }
    },
    "kernelspec": {
      "display_name": "R",
      "language": "R",
      "name": "ir"
    },
    "language_info": {
      "codemirror_mode": "r",
      "file_extension": ".r",
      "mimetype": "text/x-r-source",
      "name": "R",
      "pygments_lexer": "r",
      "version": "3.4.4"
    },
    "colab": {
      "name": "BME 312 HW8.ipynb",
      "provenance": [],
      "collapsed_sections": [
        "WURa6A3Lv8kR",
        "mRhobhEYv8ke",
        "CI5khJn3v8lM",
        "qoqWdr11v8lS",
        "_3VjECEgv8lX",
        "gTVoT2u2v8mL",
        "0lWKF8Unv8mg",
        "QMPuwUaJv8mp",
        "kvvuvHMsv8mr",
        "o-kXbFqKv8mx"
      ],
      "include_colab_link": true
    }
  },
  "cells": [
    {
      "cell_type": "markdown",
      "metadata": {
        "id": "view-in-github",
        "colab_type": "text"
      },
      "source": [
        "<a href=\"https://colab.research.google.com/github/JoonJ14/hello-world/blob/main/BME_312_HW8.ipynb\" target=\"_parent\"><img src=\"https://colab.research.google.com/assets/colab-badge.svg\" alt=\"Open In Colab\"/></a>"
      ]
    },
    {
      "cell_type": "markdown",
      "metadata": {
        "extensions": {
          "jupyter_dashboards": {
            "version": 1,
            "views": {
              "grid_default": {},
              "report_default": {}
            }
          }
        },
        "id": "6Scbcy8mv8jW"
      },
      "source": [
        "# **Homework 8: Nonparametric Methods**"
      ]
    },
    {
      "cell_type": "markdown",
      "metadata": {
        "extensions": {
          "jupyter_dashboards": {
            "version": 1,
            "views": {
              "grid_default": {},
              "report_default": {}
            }
          }
        },
        "id": "IgDvcT_Iv8jb"
      },
      "source": [
        "#### Note: to clear the environment in R, do:\n",
        "`rm(list=ls(all=TRUE))`"
      ]
    },
    {
      "cell_type": "markdown",
      "metadata": {
        "id": "XesyhJkqpurA"
      },
      "source": [
        "## **1. The wall skink, Cryptoblepharus virgatus, is a common insectivore in the Brisbane area. They can be seen sunning themselves on vertical surfaces such as the brick walls of buildings. They can also be heard scurrying into the leaf litter as one walks along a path. Suppose we suspect that their median length (including tail) is 7 cm. Test the hypothesis H0: M = 7 cm versus H1: M ≠ 7 cm at the 0.05 level. The data consist of a random sample of 66 skinks that were captured and measured: 41 have length greater than 7 cm, 23 are shorter than 7 cm, and 2 have length equal to 7 cm.**"
      ]
    },
    {
      "cell_type": "code",
      "metadata": {
        "id": "ag-8HRIzebVQ",
        "colab": {
          "base_uri": "https://localhost:8080/",
          "height": 85
        },
        "outputId": "057e5161-49c7-4839-83c7-0b90eedae879"
      },
      "source": [
        "n<-66\n",
        "C<-41\n",
        "a<-0.05\n",
        "z<-qnorm(1-(a/2))\n",
        "c1<-(n/2)+1/2+(z*(sqrt(n/4)))\n",
        "c2<-(n/2)-1/2-(z*(sqrt(n/4)))\n",
        "print (c(c1,c2))\n",
        "print(C>c1)\n",
        "print(C<c2)\n",
        "print('we fail to reject null hypothesis')"
      ],
      "execution_count": null,
      "outputs": [
        {
          "output_type": "stream",
          "text": [
            "[1] 41.46141 24.53859\n",
            "[1] FALSE\n",
            "[1] FALSE\n",
            "[1] \"we fail to reject null hypothesis\"\n"
          ],
          "name": "stdout"
        }
      ]
    },
    {
      "cell_type": "markdown",
      "metadata": {
        "id": "vctFYrPyq2tA"
      },
      "source": [
        "## **2. A popular, or at least frequently shown, television commercial claims that eating oatmeal everyday will lower your total cholesterol level significantly in just 12 weeks. You and eleven classmates decide to test this claim by eating oatmeal everyday for breakfast for an entire semester. Below are the total cholesterol values (mmol/L) for you and your friends at the beginning and at the end of the semester.**\n",
        "\n",
        "> Subject | Start | End |\n",
        "> :---: | :---:  | :---: | \n",
        ">   1   |  190   |  188  |\n",
        ">   2   |  210   |  212  |\n",
        ">   3   |  185   |  180  |\n",
        ">   4   |  175   |  172  |\n",
        ">   5   |  193   |  196  |\n",
        ">   6   |  187   |  180  |\n",
        ">   7   |  280   |  200  |\n",
        ">   8   |  170   |  166  |\n",
        ">   9   |  165   |  159  |\n",
        ">   10  |  232   |  225  |\n",
        ">   11  |  194   |  206  |\n",
        ">   12  |  183   |  170  |\n",
        "\n",
        "### **a. Do the data support the claim that oatmeal has cholesterol lowering properties? Analyze both parametrically and nonparametrically.**\n",
        "\n",
        "### **b. Suppose subject number 7’s end value was really 266 instead of 200. Would the analysis on the corrected data indicate the same trend?**\n",
        "\n",
        "### **c. Suppose subject number 7 had the genetic condition hypercholesterolemia giving him extremely high cholesterol levels and he couldn’t be considered a normal or random subject. How is the analysis affected if he is removed from the study?**\n"
      ]
    },
    {
      "cell_type": "code",
      "metadata": {
        "id": "l16Zr_dYf2UT",
        "colab": {
          "base_uri": "https://localhost:8080/",
          "height": 105
        },
        "outputId": "65121ec5-f49b-4d2c-abcf-549c6f4d7634"
      },
      "source": [
        "print ('A')\n",
        "start<-c(190,210,185,175,193,187,280,170,165,232,194,183)\n",
        "end<-c(188,212,180,172,196,180,200,166,159,225,206,170)\n",
        "d <- end-start\n",
        "md <- mean(d)\n",
        "sd <- sd(d)\n",
        "n <- length(start)\n",
        "t <- md/(sd/sqrt(n))\n",
        "a<-0.05\n",
        "tcl<-qt((a/2),df=n-1)\n",
        "tch<-qt(1-(a/2),df=n-1)\n",
        "print(c(tcl,tch))\n",
        "print (t)\n",
        "print ('t falls within the range so we fail to reject the null hypothesis and data does not support the claim that oatmeal has cholesterol lowering properties')\n"
      ],
      "execution_count": null,
      "outputs": [
        {
          "output_type": "stream",
          "text": [
            "[1] \"A\"\n",
            "[1] -2.200985  2.200985\n",
            "[1] -1.370452\n",
            "[1] \"t falls within the range so we fail to reject the null hypothesis and data does not support the claim that oatmeal has cholesterol lowering properties\"\n"
          ],
          "name": "stdout"
        }
      ]
    },
    {
      "cell_type": "code",
      "metadata": {
        "id": "VGVhnN6SiBNi",
        "colab": {
          "base_uri": "https://localhost:8080/",
          "height": 136
        },
        "outputId": "36e08c8e-1917-4974-9910-b73ad648efc9"
      },
      "source": [
        "print ('B')\n",
        "start<-c(190,210,185,175,193,187,280,170,165,232,194,183)\n",
        "end<-c(188,212,180,172,196,180,200,166,159,225,206,170)\n",
        "d <- end-start\n",
        "print (d)\n",
        "neg<-c(-2,-5,-3,-7,-80,-4,-6,-7,-13)\n",
        "pos<-c(2,3,12)\n",
        "n1<-length(neg)\n",
        "n2<-length(pos)\n",
        "\n",
        "n<-length(start)\n",
        "C<-n2\n",
        "a<-0.05\n",
        "z<-qnorm(1-(a/2))\n",
        "c1<-(n/2)+1/2+(z*(sqrt(n/4)))\n",
        "c2<-(n/2)-1/2-(z*(sqrt(n/4)))\n",
        "print (c(c1,c2))\n",
        "print (C)\n",
        "print(C>c1)\n",
        "print(C<c2)\n",
        "print('we fail to reject the null hypothesis and data does not support the claim that oatmeal has cholesterol lowering properties')\n"
      ],
      "execution_count": null,
      "outputs": [
        {
          "output_type": "stream",
          "text": [
            "[1] \"B\"\n",
            " [1]  -2   2  -5  -3   3  -7 -80  -4  -6  -7  12 -13\n",
            "[1] 9.894757 2.105243\n",
            "[1] 3\n",
            "[1] FALSE\n",
            "[1] FALSE\n",
            "[1] \"we fail to reject the null hypothesis and data does not support the claim that oatmeal has cholesterol lowering properties\"\n"
          ],
          "name": "stdout"
        }
      ]
    },
    {
      "cell_type": "code",
      "metadata": {
        "id": "o86uX7OCkvYU",
        "colab": {
          "base_uri": "https://localhost:8080/",
          "height": 207
        },
        "outputId": "bd23ef1e-0bd0-46e4-facc-9cdfbd6ba033"
      },
      "source": [
        "print ('C')\n",
        "start<-c(190,210,185,175,193,187,170,165,232,194,183)\n",
        "end<-c(188,212,180,172,196,180,166,159,225,206,170)\n",
        "d <- end-start\n",
        "md <- mean(d)\n",
        "sd <- sd(d)\n",
        "n <- length(start)\n",
        "t <- md/(sd/sqrt(n))\n",
        "a<-0.05\n",
        "tcl<-qt((a/2),df=n-1)\n",
        "tch<-qt(1-(a/2),df=n-1)\n",
        "print(c(tcl,tch))\n",
        "print (t)\n",
        "print ('t falls within the range so we fail to reject the null hypothesis and data does not support the claim that oatmeal has cholesterol lowering properties')\n",
        "\n",
        "\n",
        "\n",
        "d <- end-start\n",
        "print (d)\n",
        "neg<-c(-2,-5,-3,-7,-4,-6,-7,-13)\n",
        "pos<-c(2,3,12)\n",
        "n1<-length(neg)\n",
        "n2<-length(pos)\n",
        "\n",
        "n<-length(start)\n",
        "C<-n2\n",
        "a<-0.05\n",
        "z<-qnorm(1-(a/2))\n",
        "c1<-(n/2)+1/2+(z*(sqrt(n/4)))\n",
        "c2<-(n/2)-1/2-(z*(sqrt(n/4)))\n",
        "print (c(c1,c2))\n",
        "print (C)\n",
        "print(C>c1)\n",
        "print(C<c2)\n",
        "print('we fail to reject the null hypothesis and data does not support the claim that oatmeal has cholesterol lowering properties')\n",
        "\n"
      ],
      "execution_count": null,
      "outputs": [
        {
          "output_type": "stream",
          "text": [
            "[1] \"C\"\n",
            "[1] -2.228139  2.228139\n",
            "[1] -1.375915\n",
            "[1] \"t falls within the range so we fail to reject the null hypothesis and data does not support the claim that oatmeal has cholesterol lowering properties\"\n",
            " [1]  -2   2  -5  -3   3  -7  -4  -6  -7  12 -13\n",
            "[1] 9.250233 1.749767\n",
            "[1] 3\n",
            "[1] FALSE\n",
            "[1] FALSE\n",
            "[1] \"we fail to reject the null hypothesis and data does not support the claim that oatmeal has cholesterol lowering properties\"\n"
          ],
          "name": "stdout"
        }
      ]
    },
    {
      "cell_type": "markdown",
      "metadata": {
        "id": "n-kH7UFR5xf2"
      },
      "source": [
        "## **3. Neuropathic pain is characterized by ongoing, intense pain despite seemingly minor tissue damage. Physicians now know that neuropathic pain derives from nerve damage that doesn't heal properly. An experimental treatment involving chemical agents that spur nerve growth during fetal development such as glial-derived neurotrophic factor (GDNF) and artemin have shown promise in reducing neuropathic pain in lab animals. Rats were treated with morphine or GDNF administered in random order with several days recovery period between treatments. After each treatment, they were evaluated for sensitivity using a subjective scale to measure sensitivity (8 = most sensitive to 1 = least sensitive):**\n",
        "\n",
        "> Rat # | 1 | 2 | 3 | 4 | 5 | 6 | 7 | 8 | 9 | 10 | 11 | 12 |\n",
        "> :---:    | :---: | :---: | :---: | :---:  | :---:  | :---:  | :---:  | :---:  | :---:  | :---:  | :---:  | :---: \n",
        "> **Morphine** |   4   |   8   |   3   |   2   |   5   |   7   |   7   |   8   |   7   |   3   |   1   |   3   |\n",
        "> **GDNF**     |   5   |   7   |   2   |   3   |   2   |   5   |   6   |   5   |   4   |   4   |   1   |   2   | \n",
        "\n",
        "### **Use a sign test for paired data to determine if there are significant differences between the two treatments.**"
      ]
    },
    {
      "cell_type": "code",
      "metadata": {
        "id": "p-JofbsNmPtj",
        "colab": {
          "base_uri": "https://localhost:8080/",
          "height": 119
        },
        "outputId": "c8dfa138-efa7-45c5-edb8-e0853505b84c"
      },
      "source": [
        "morphine<-c(4,8,3,2,5,7,7,8,7,3,1,3)\n",
        "GDNF<-c(5,7,2,3,2,5,6,5,4,4,1,2)\n",
        "d <- GDNF-morphine\n",
        "print (d)\n",
        "neg<-c(-1,-1,-3,-2,-1,-3,-3,-1)\n",
        "pos<-c(1,1,1)\n",
        "n1<-length(neg)\n",
        "n2<-length(pos)\n",
        "\n",
        "n<-length(morphine)\n",
        "C<-n2\n",
        "a<-0.05\n",
        "z<-qnorm(1-(a/2))\n",
        "c1<-(n/2)+1/2+(z*(sqrt(n/4)))\n",
        "c2<-(n/2)-1/2-(z*(sqrt(n/4)))\n",
        "print (c(c1,c2))\n",
        "print (C)\n",
        "print(C>c1)\n",
        "print(C<c2)\n",
        "print('we fail to reject the null so there are no significant differences between the two treatments')"
      ],
      "execution_count": null,
      "outputs": [
        {
          "output_type": "stream",
          "text": [
            " [1]  1 -1 -1  1 -3 -2 -1 -3 -3  1  0 -1\n",
            "[1] 9.894757 2.105243\n",
            "[1] 3\n",
            "[1] FALSE\n",
            "[1] FALSE\n",
            "[1] \"we fail to reject the null so there are no significant differences between the two treatments\"\n"
          ],
          "name": "stdout"
        }
      ]
    },
    {
      "cell_type": "markdown",
      "metadata": {
        "id": "I7Ct1gH7V04h"
      },
      "source": [
        "\n",
        "## **4. A study was designed to test whether cigarette smoking is associated with reduced serum-testosterone levels in men. Two random samples of 25-30-year-old nonsmokers and heavy smokers were selected. Each man's serum-testosterone level was measured in g/dl:**\n",
        "\n",
        "Nonsmokers: $(0.44, 0.44, 0.43, 0.56, 0.85, 0.68, 0.96, 0.72, 0.92, 0.87)$\n",
        "\n",
        "Heavy smokers: $(0.45, 0.25, 0.40, 0.27, 0.34, 0.62, 0.47, 0.30, 0.35, 0.54)$\n",
        "\n",
        "### **Use the Wilcoxon rank-sum test to analyze these data.**"
      ]
    },
    {
      "cell_type": "code",
      "metadata": {
        "id": "Y6s1lXUhpPjP",
        "colab": {
          "base_uri": "https://localhost:8080/",
          "height": 153
        },
        "outputId": "ff25469c-1580-4ce4-f0f1-c522d87bd152"
      },
      "source": [
        "nonsmokers<-c(0.44,0.44,0.43,0.56,0.85,0.68,0.96,0.72,0.92,0.87)\n",
        "heavysmokers<-c(0.45,0.25,0.40,0.27,0.34,0.62,0.47,0.30,0.35,0.54) \n",
        "wilcox.test(nonsmokers, heavysmokers, paired=F, alternative= c(\"two.sided\", \"less\", \"greater\"))\n"
      ],
      "execution_count": null,
      "outputs": [
        {
          "output_type": "stream",
          "text": [
            "Warning message in wilcox.test.default(nonsmokers, heavysmokers, paired = F, alternative = c(\"two.sided\", :\n",
            "“cannot compute exact p-value with ties”"
          ],
          "name": "stderr"
        },
        {
          "output_type": "display_data",
          "data": {
            "text/plain": [
              "\n",
              "\tWilcoxon rank sum test with continuity correction\n",
              "\n",
              "data:  nonsmokers and heavysmokers\n",
              "W = 87, p-value = 0.005777\n",
              "alternative hypothesis: true location shift is not equal to 0\n"
            ]
          },
          "metadata": {
            "tags": []
          }
        }
      ]
    },
    {
      "cell_type": "code",
      "metadata": {
        "id": "H8dr75_VpiFm",
        "colab": {
          "base_uri": "https://localhost:8080/",
          "height": 170
        },
        "outputId": "d11b73e7-3d93-4382-faa3-1c77711527b3"
      },
      "source": [
        "nonsmokers<-c(0.44,0.44,0.43,0.56,0.85,0.68,0.96,0.72,0.92,0.87)\n",
        "heavysmokers<-c(0.45,0.25,0.40,0.27,0.34,0.62,0.47,0.30,0.35,0.54) \n",
        "n1<-length(nonsmokers)\n",
        "n2<-length(heavysmokers)\n",
        "all<-c(0.44,0.44,0.43,0.56,0.85,0.68,0.96,0.72,0.92,0.87,0.45,0.25,0.40,0.27,0.34,0.62,0.47,0.30,0.35,0.54) \n",
        "R<-rank(all)\n",
        "print (R)\n",
        "rns<-R[1:10]\n",
        "print (rns)\n",
        "rhs<-R[11:20]\n",
        "\n",
        "R1<-sum(rns)\n",
        "v<-n1*(n1+n2+1)/2\n",
        "print(c(R1,v))\n",
        "\n",
        "t<- (abs(R1-v)-(1/2))/(sqrt( ((n1*n2)/12)*(n1+n2+1)))  \n",
        "print(t)\n",
        "a=0.05\n",
        "z<-qnorm(1-(a/2))\n",
        "print(z)\n",
        "print(t>z)\n",
        "print('t>z so we reject the null hypothesis')\n",
        "p<-2*(1-(pnorm(t)))\n",
        "print(p)"
      ],
      "execution_count": null,
      "outputs": [
        {
          "output_type": "stream",
          "text": [
            " [1]  8.5  8.5  7.0 13.0 17.0 15.0 20.0 16.0 19.0 18.0 10.0  1.0  6.0  2.0  4.0\n",
            "[16] 14.0 11.0  3.0  5.0 12.0\n",
            " [1]  8.5  8.5  7.0 13.0 17.0 15.0 20.0 16.0 19.0 18.0\n",
            "[1] 142 105\n",
            "[1] 2.759141\n",
            "[1] 1.959964\n",
            "[1] TRUE\n",
            "[1] \"t>z so we reject the null hypothesis\"\n",
            "[1] 0.005795359\n"
          ],
          "name": "stdout"
        }
      ]
    }
  ]
}