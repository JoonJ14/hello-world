{
  "nbformat": 4,
  "nbformat_minor": 0,
  "metadata": {
    "extensions": {
      "jupyter_dashboards": {
        "activeView": "grid_default",
        "version": 1,
        "views": {
          "grid_default": {
            "cellMargin": 10,
            "defaultCellHeight": 20,
            "maxColumns": 12,
            "name": "grid",
            "type": "grid"
          },
          "report_default": {
            "name": "report",
            "type": "report"
          }
        }
      }
    },
    "kernelspec": {
      "display_name": "R",
      "language": "R",
      "name": "ir"
    },
    "language_info": {
      "codemirror_mode": "r",
      "file_extension": ".r",
      "mimetype": "text/x-r-source",
      "name": "R",
      "pygments_lexer": "r",
      "version": "3.4.4"
    },
    "colab": {
      "name": "BME 312 HW2.ipynb",
      "provenance": [],
      "collapsed_sections": [],
      "include_colab_link": true
    }
  },
  "cells": [
    {
      "cell_type": "markdown",
      "metadata": {
        "id": "view-in-github",
        "colab_type": "text"
      },
      "source": [
        "<a href=\"https://colab.research.google.com/github/JoonJ14/hello-world/blob/main/BME_312_HW2.ipynb\" target=\"_parent\"><img src=\"https://colab.research.google.com/assets/colab-badge.svg\" alt=\"Open In Colab\"/></a>"
      ]
    },
    {
      "cell_type": "markdown",
      "metadata": {
        "extensions": {
          "jupyter_dashboards": {
            "version": 1,
            "views": {
              "grid_default": {},
              "report_default": {}
            }
          }
        },
        "id": "6Scbcy8mv8jW"
      },
      "source": [
        "# Homework 2"
      ]
    },
    {
      "cell_type": "markdown",
      "metadata": {
        "id": "PeIcvPAUIcWR"
      },
      "source": [
        "## 1. Are these valid probabilities? Why or why not?\n",
        "#### a. $-0.5$\n",
        "#### b. $0.5$\n",
        "#### c. $1.0$\n"
      ]
    },
    {
      "cell_type": "markdown",
      "metadata": {
        "id": "DV_IZ0-HKv5N"
      },
      "source": [
        "a. is not a valid probability because probability ranges between 0 and 1 "
      ]
    },
    {
      "cell_type": "markdown",
      "metadata": {
        "id": "1lhM2ixtJFPK"
      },
      "source": [
        "## 2. In probability the concepts of independent events and mutually exclusive events are often confused. Clearly define each type of event, explain the difference between them, and give a good example for each."
      ]
    },
    {
      "cell_type": "markdown",
      "metadata": {
        "id": "JWQSIGgbMmv2"
      },
      "source": [
        "independent event means that one event does not have any effect on the other event's probability. \n",
        "Mutually exclusive event means the two events can not happen at the same time. "
      ]
    },
    {
      "cell_type": "markdown",
      "metadata": {
        "id": "H4qUPt2grB8Z"
      },
      "source": [
        "## 3. What is relative risk and how do you interpret it?"
      ]
    },
    {
      "cell_type": "markdown",
      "metadata": {
        "id": "Zlz3NdeUPWOq"
      },
      "source": [
        "relative risk is measure of certain event happening in one group compared to the other group"
      ]
    },
    {
      "cell_type": "markdown",
      "metadata": {
        "extensions": {
          "jupyter_dashboards": {
            "version": 1,
            "views": {
              "grid_default": {},
              "report_default": {}
            }
          }
        },
        "id": "fmlzq3sav8je"
      },
      "source": [
        "## 4. After an exam, a doctor decides that a patient has either plague, seasonal flu, or a common cold. \n",
        "### If the probability is $0.5$ that the patient has a common cold, $0.3$ that the patient has the flu, and $0.2$ that the patient has plague.  What is the probability that the patient has either a cold or the flu? Assume that one can't have more than one of the illnesses at a given time.\n"
      ]
    },
    {
      "cell_type": "markdown",
      "metadata": {
        "id": "1JiLCJIcR9Qr"
      },
      "source": [
        "0.5(probability for cold)+0.3(probability for flu) = 0.8\n",
        "probability of having either cold or flu = 0.8"
      ]
    },
    {
      "cell_type": "markdown",
      "metadata": {
        "id": "HACzlhjJInao"
      },
      "source": [
        "## 5. If 3 ibises are randomly selected from a population of 3 males and 5 females:\n",
        "#### a. What is the probability that all will be males?\n",
        "#### b. What is the probability that there will be at least one of each sex? \n",
        "Hint: Consider all possible scenarios that could result in at least one male and one female.\n",
        "#### c. Show that the probability over all k possibilities of males and females sums to $1$, i.e. that\n",
        "$\\sum_{}^{k}P(X=k) = 1$.\n"
      ]
    },
    {
      "cell_type": "markdown",
      "metadata": {
        "id": "PX_cyZm7S7R4"
      },
      "source": [
        ""
      ]
    },
    {
      "cell_type": "markdown",
      "metadata": {
        "id": "LT8-PiamSeG2"
      },
      "source": [
        "number of outcomes that it will be all male = 3*2*1\n",
        "number of all possible outcomes = 8*7*6\n",
        "(3*2*1)/(8*7*6)=0.01785714"
      ]
    },
    {
      "cell_type": "code",
      "metadata": {
        "id": "sRKkFHfxRiuI",
        "colab": {
          "base_uri": "https://localhost:8080/",
          "height": 34
        },
        "outputId": "799b4be2-248f-4611-b85d-625648bc8ec3"
      },
      "source": [
        "all<-8*7*6\n",
        "allmale<-3*2*1\n",
        "allfemale<-5*4*3\n",
        "prob<-all-allmale-allfemale\n",
        "B<-prob/all\n",
        "print (B)\n",
        "\n"
      ],
      "execution_count": null,
      "outputs": [
        {
          "output_type": "stream",
          "text": [
            "[1] 0.8035714\n"
          ],
          "name": "stdout"
        }
      ]
    },
    {
      "cell_type": "code",
      "metadata": {
        "id": "m7pKplm129s9"
      },
      "source": [
        ""
      ],
      "execution_count": null,
      "outputs": []
    },
    {
      "cell_type": "markdown",
      "metadata": {
        "id": "F8vgXZwQWyzC"
      },
      "source": [
        "There are 8 possible ways of outcome.\n",
        "\n",
        "MMM           all male\n",
        "MMF MFM FMM   one female\n",
        "FFM FMF MFF   one male\n",
        "FFF           all female\n",
        "\n",
        "probability of them happening \n",
        "\n",
        "(3/8)*(2/7)*(1/6)=0.01785714\n",
        "\n",
        "(3/8)*(2/7)*(5/6)*3=0.2678571\n",
        "\n",
        "(5/8)*(4/7)*(3/6)*3=0.5357143\n",
        "\n",
        "(5/8)*(4/7)*(3/6)=0.1785714\n",
        "\n",
        "\n",
        "0.01785714+0.2678571+0.5357143+0.1785714=0.9999999"
      ]
    },
    {
      "cell_type": "code",
      "metadata": {
        "id": "qk0j6TAkaQRU"
      },
      "source": [
        ""
      ],
      "execution_count": null,
      "outputs": []
    },
    {
      "cell_type": "markdown",
      "metadata": {
        "id": "LAhopQ9ZJPTQ"
      },
      "source": [
        "## 6. Suppose that of all individuals buying a computer that 40% include a word processing program, 30% a spreadsheet program, and 20%  both programs. \n",
        "### Given that an individual purchased a spreadsheet program, what is the probability that they also purchased a word processing program?\n"
      ]
    },
    {
      "cell_type": "markdown",
      "metadata": {
        "id": "U7muASUQLjpe"
      },
      "source": [
        "Pr(B|A)=Pr(B ∩ A)/Pr(A)=0.2/0.3"
      ]
    },
    {
      "cell_type": "markdown",
      "metadata": {
        "id": "df7cQGznKaXN"
      },
      "source": [
        "## 7. Sociologists studying the refugees from Hurricane Katrina over the age of 60 in the New Orleans Superdome found the following:\n",
        "- $70\\%$ had annual incomes of 8,000 dollars or less.\n",
        "- $35\\%$ had diabetes and/or asthma.\n",
        "- $30\\%$ had annual incomes of 8,000 dollars or less and at least one of either diabetes or asthma.\n",
        "\n",
        "#### a. What percentage of the elderly refugees were low income or chronically ill?\n",
        "#### b. Are low income and diabetes/asthma independent?\n",
        "#### c. What is the probability that a low income refugee has a chronic illness?\n",
        "#### d. What is the probability that a refugee earning more than 8,000 dollars annually is chronically ill?\n"
      ]
    },
    {
      "cell_type": "markdown",
      "metadata": {
        "id": "P5QKyyayULcG"
      },
      "source": [
        "a. A U B = A + B  ∩ A^ = 70 + (35-30) = 75 percent of refugees were low income or chronically ill\n",
        "\n",
        "b. No, logically speaking, low income could cause non efficient nutrient intake, not being able to afford hospitals or medicins. Pr(A  ∩  B) = 0.3 does not equal  0.7*0.35=0.245. To add on, after calculating C and D, relative risk also does not equal 1 \n",
        "\n",
        "c. 0.3/0.7\n",
        "\n",
        "d. (0.35-0.3)/(1-0.7) = 0.05/0.3"
      ]
    },
    {
      "cell_type": "markdown",
      "metadata": {
        "id": "1CnCXqXoKrA0"
      },
      "source": [
        "## 8. The level of prostate-specific antigen (PSA) in blood is frequently used as a screening test for prostate cancer. A study reported the following data regarding relationship between positive PSA ($ \\geq 4.1 ng/dL$) and prostate cancer:\n",
        "\n",
        ">PSA Result | Prostate Cancer | Frequency\n",
        "> :---: | :---: | ---:\n",
        ">  +  |  +  |  92\n",
        ">  +  |  -  |  27\n",
        ">  -  |  +  |  46\n",
        ">  -  |  -  |  72\n",
        "\n",
        "#### a. What is the sensitivity of the test?\n",
        "#### b. What is the specificity of the test?\n",
        "#### c. What is the PV+ of the test?\n",
        "#### c. What is the PV- of the test?\n"
      ]
    },
    {
      "cell_type": "markdown",
      "metadata": {
        "id": "FpoY29om5z66"
      },
      "source": [
        ""
      ]
    },
    {
      "cell_type": "markdown",
      "metadata": {
        "id": "tVVVWGOEa92v"
      },
      "source": [
        "a. 92/(92+46)= 0.667\n",
        "\n",
        "b. 72/(72+27)= 0.727"
      ]
    },
    {
      "cell_type": "code",
      "metadata": {
        "id": "L1jKVCJWccqn"
      },
      "source": [
        "pv+<-"
      ],
      "execution_count": null,
      "outputs": []
    },
    {
      "cell_type": "markdown",
      "metadata": {
        "id": "Gf_QZ2jSLlvz"
      },
      "source": [
        "## 9. Consider a family with a mother, father, and two children. Let: \n",
        "\n",
        "$A1$={mother has influenza}, $A2$={father has influenza}, $A3$={first child has influenza}, $A4$={second child has influenza}\n",
        "\n",
        "$B$={at least one child has influenza}, $C$={at least one parent has influenza}. $D$={at least one person in family has inluenza}.\n",
        "\n",
        "#### a. What does $A1 \\cup A2$ mean?\n",
        "#### b. What does $A1 \\cap A2$ mean?\n",
        "#### c. Are there any two events in $A$ that are mutually exclusive?\n",
        "#### d. What does $A3 \\cup B$ mean?\n",
        "#### e. What does $A3 \\cap B$ mean?\n",
        "#### f. Express $C$ in terms of $A1$, $A2$, $A3$, and $A4$.\n",
        "#### g. Express $D$ in terms of $B$ and $C$.\n",
        "#### h. What does $\\overline{A1}$ mean?\n",
        "#### i. What does $\\overline{A2}$ mean?\n",
        "#### j. Represent $\\overline{C}$ in terms of $A1$, $A2$, $A3$, and $A4$.\n",
        "#### k. Represent $\\overline{D}$ in terms of $B$ and $C$.\n",
        "#### l. Suppose influenza epidemic strikes city. In 10% of families, mother has influenza whereas in 10% od families the father has influenza, and in 2% of families both parents have influenza. Are $A1$ and $A2$ independent?\n",
        "#### m. What is the conditional probability that father has influenza, given that mother has influenza, that is: $P(A2|A1)$?\n",
        "#### n. What is the conditional probability that father has influenza, given that mother does not have influenza, that is: $P(A2|\\overline{A1})$?\n"
      ]
    },
    {
      "cell_type": "markdown",
      "metadata": {
        "id": "g7Q2OuSjUmfP"
      },
      "source": [
        "a. mom or dad has infuenza\n",
        "\n",
        "b. mom and dad both have influenza\n",
        "\n",
        "c. all of the A can happen at the same time so there are no events that are mutually exlusive.\n",
        "\n",
        "d. at least one child has influenza (B totally contains all A3)\n",
        "\n",
        "e. only first child has influenza\n",
        "\n",
        "f. A1 U A2\n",
        "\n",
        "g. B U C\n",
        "\n",
        "h. mom does not have influenza\n",
        "\n",
        "i. dad does not have influenza\n",
        "\n",
        "j. \n",
        "\n",
        "k. B U C\n",
        "\n",
        "i. 0.1*0.1=0.01=1% does not equal 2% \n",
        "   Since mother and father spends time a lot together and     influenza can be contagious through various ways such as air, food they share, water, etc, it is hard to consider two of them completely independer event of each other. \n",
        "\n",
        "m.\n",
        "\n",
        "n."
      ]
    },
    {
      "cell_type": "code",
      "metadata": {
        "id": "akC5Ib8LVsz7"
      },
      "source": [
        ""
      ],
      "execution_count": null,
      "outputs": []
    },
    {
      "cell_type": "markdown",
      "metadata": {
        "id": "UpNxTfARUknP"
      },
      "source": [
        ""
      ]
    },
    {
      "cell_type": "markdown",
      "metadata": {
        "id": "mXtXUerS4K6k"
      },
      "source": [
        "## 10. An extensive clinical evaluation of a common mini-mental status (MMS) test was performed, whereby participants were interviewed by psychiatrists and nurses and a definitive diagnosis of dementia was made:\n",
        "\n",
        ">MMS | Nondemented | Demented\n",
        "> :--- | :---: | :---:\n",
        "> 0-5    |  0   |  2\n",
        "> 6-10   |  0   |  1\n",
        "> 11-15  |  3   |  4\n",
        "> 16-20  |  9   |  5\n",
        "> 21-25  |  16  |  3\n",
        "> 26-30  |  18  |  1\n",
        ">  **Total**  |  **46** |  **16**\n",
        "\n",
        "#### a. What are the sensitivities and specificities if cutoffs of 5, 10, 15, 20, 25, and 30 are used to identify people with dementia, i.e. that a classification of dementia is given when their $MMS \\leq X_i$, where $X = (5, 10, …, 30)$. \n",
        "\n",
        "#### b. Using R, plot the ROC curve for the MMS.\n",
        "\n",
        "#### c. Are there any points on this curve where both sensitivity and specificity are $\\geq 0.7$? "
      ]
    },
    {
      "cell_type": "markdown",
      "metadata": {
        "id": "hhhPhpj1IiE-"
      },
      "source": [
        "## 11. For each Venn diagram given below, describe the shaded area using set notation.\n",
        "\n",
        "![Venn Diagrams](https://www.cimt.org.uk/projects/mepres/book7/bk7i1/s4q4vds.gif)"
      ]
    },
    {
      "cell_type": "markdown",
      "metadata": {
        "id": "kYgJTertB8TS"
      },
      "source": [
        "P U Q\n",
        "\n",
        "Q^\n",
        "\n",
        "Q OR (P U Q)+(P^ U Q)\n",
        "\n",
        "P ∩ Q\n",
        "\n",
        "P^ ∩ Q\n",
        "\n",
        "P^ ∩ Q^"
      ]
    }
  ]
}