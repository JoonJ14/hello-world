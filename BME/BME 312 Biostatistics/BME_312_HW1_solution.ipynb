{
  "nbformat": 4,
  "nbformat_minor": 0,
  "metadata": {
    "extensions": {
      "jupyter_dashboards": {
        "activeView": "grid_default",
        "version": 1,
        "views": {
          "grid_default": {
            "cellMargin": 10,
            "defaultCellHeight": 20,
            "maxColumns": 12,
            "name": "grid",
            "type": "grid"
          },
          "report_default": {
            "name": "report",
            "type": "report"
          }
        }
      }
    },
    "kernelspec": {
      "display_name": "R",
      "language": "R",
      "name": "ir"
    },
    "language_info": {
      "codemirror_mode": "r",
      "file_extension": ".r",
      "mimetype": "text/x-r-source",
      "name": "R",
      "pygments_lexer": "r",
      "version": "3.4.4"
    },
    "colab": {
      "name": "BME 312 HW1 solution.ipynb",
      "provenance": [],
      "collapsed_sections": [
        "WURa6A3Lv8kR",
        "mRhobhEYv8ke",
        "CI5khJn3v8lM",
        "qoqWdr11v8lS",
        "_3VjECEgv8lX",
        "gTVoT2u2v8mL",
        "0lWKF8Unv8mg",
        "QMPuwUaJv8mp",
        "kvvuvHMsv8mr",
        "o-kXbFqKv8mx"
      ],
      "include_colab_link": true
    }
  },
  "cells": [
    {
      "cell_type": "markdown",
      "metadata": {
        "id": "view-in-github",
        "colab_type": "text"
      },
      "source": [
        "<a href=\"https://colab.research.google.com/github/JoonJ14/hello-world/blob/main/BME_312_HW1_solution.ipynb\" target=\"_parent\"><img src=\"https://colab.research.google.com/assets/colab-badge.svg\" alt=\"Open In Colab\"/></a>"
      ]
    },
    {
      "cell_type": "markdown",
      "metadata": {
        "extensions": {
          "jupyter_dashboards": {
            "version": 1,
            "views": {
              "grid_default": {},
              "report_default": {}
            }
          }
        },
        "id": "6Scbcy8mv8jW"
      },
      "source": [
        "# Homework 1 Solutions"
      ]
    },
    {
      "cell_type": "markdown",
      "metadata": {
        "extensions": {
          "jupyter_dashboards": {
            "version": 1,
            "views": {
              "grid_default": {},
              "report_default": {}
            }
          }
        },
        "id": "IgDvcT_Iv8jb"
      },
      "source": [
        "#### Note: to clear the environment in R, do:\n",
        "`rm(list=ls(all=TRUE))`"
      ]
    },
    {
      "cell_type": "markdown",
      "metadata": {
        "extensions": {
          "jupyter_dashboards": {
            "version": 1,
            "views": {
              "grid_default": {},
              "report_default": {}
            }
          }
        },
        "id": "fmlzq3sav8je"
      },
      "source": [
        "## 1. Create the following vectors in R:\n",
        "#### a. $(1, 2, 3, …, 19, 20)$\n",
        "#### b. $(20, 19, …, 2, 1)$\n",
        "#### c. $(1, 2, 3, …, 19, 20, 19, 18, …, 2, 1)$\n",
        "#### d. $a+b$\n",
        "\n",
        "### Hint, for (e) and (f): `?rep`.\n",
        "\n",
        "#### e. $(4, 6, 3, 4, 6, 3, …, 4, 6, 3)$, where there are 10 occurrences of 4.\n",
        "#### f. $(4, 4, …, 4, 6, 6, …, 6, 3, 3, …, 3)$, where there are 10 occurrences of 4, 20 of 6, and 30 of 3."
      ]
    },
    {
      "cell_type": "code",
      "metadata": {
        "extensions": {
          "jupyter_dashboards": {
            "version": 1,
            "views": {
              "grid_default": {},
              "report_default": {}
            }
          }
        },
        "id": "IRuFk6qcv8jg",
        "colab": {
          "base_uri": "https://localhost:8080/",
          "height": 58
        },
        "outputId": "1098986c-301f-4228-d661-2b63e977e5e7"
      },
      "source": [
        "# a\n",
        "avec <- c(1:20)\n",
        "t(avec) # t is the transpose function, which we use here for display purposes (i.e., show a row vector instead of a column vector so we don't have to scroll as much)"
      ],
      "execution_count": null,
      "outputs": [
        {
          "output_type": "display_data",
          "data": {
            "text/plain": [
              "     [,1] [,2] [,3] [,4] [,5] [,6] [,7] [,8] [,9] [,10] [,11] [,12] [,13] [,14]\n",
              "[1,] 1    2    3    4    5    6    7    8    9    10    11    12    13    14   \n",
              "     [,15] [,16] [,17] [,18] [,19] [,20]\n",
              "[1,] 15    16    17    18    19    20   "
            ],
            "text/latex": "A matrix: 1 × 20 of type int\n\\begin{tabular}{llllllllllllllllllll}\n\t 1 & 2 & 3 & 4 & 5 & 6 & 7 & 8 & 9 & 10 & 11 & 12 & 13 & 14 & 15 & 16 & 17 & 18 & 19 & 20\\\\\n\\end{tabular}\n",
            "text/markdown": "\nA matrix: 1 × 20 of type int\n\n| 1 | 2 | 3 | 4 | 5 | 6 | 7 | 8 | 9 | 10 | 11 | 12 | 13 | 14 | 15 | 16 | 17 | 18 | 19 | 20 |\n\n",
            "text/html": [
              "<table>\n",
              "<caption>A matrix: 1 × 20 of type int</caption>\n",
              "<tbody>\n",
              "\t<tr><td>1</td><td>2</td><td>3</td><td>4</td><td>5</td><td>6</td><td>7</td><td>8</td><td>9</td><td>10</td><td>11</td><td>12</td><td>13</td><td>14</td><td>15</td><td>16</td><td>17</td><td>18</td><td>19</td><td>20</td></tr>\n",
              "</tbody>\n",
              "</table>\n"
            ]
          },
          "metadata": {
            "tags": []
          }
        }
      ]
    },
    {
      "cell_type": "code",
      "metadata": {
        "extensions": {
          "jupyter_dashboards": {
            "version": 1,
            "views": {
              "grid_default": {},
              "report_default": {}
            }
          }
        },
        "id": "VJyQVHvbv8jr",
        "colab": {
          "base_uri": "https://localhost:8080/",
          "height": 58
        },
        "outputId": "3408cb71-c5be-4cd3-f331-2583fc114821"
      },
      "source": [
        " # b\n",
        "bvec <- c(20:1)\n",
        "t(bvec)"
      ],
      "execution_count": null,
      "outputs": [
        {
          "output_type": "display_data",
          "data": {
            "text/plain": [
              "     [,1] [,2] [,3] [,4] [,5] [,6] [,7] [,8] [,9] [,10] [,11] [,12] [,13] [,14]\n",
              "[1,] 20   19   18   17   16   15   14   13   12   11    10    9     8     7    \n",
              "     [,15] [,16] [,17] [,18] [,19] [,20]\n",
              "[1,] 6     5     4     3     2     1    "
            ],
            "text/latex": "A matrix: 1 × 20 of type int\n\\begin{tabular}{llllllllllllllllllll}\n\t 20 & 19 & 18 & 17 & 16 & 15 & 14 & 13 & 12 & 11 & 10 & 9 & 8 & 7 & 6 & 5 & 4 & 3 & 2 & 1\\\\\n\\end{tabular}\n",
            "text/markdown": "\nA matrix: 1 × 20 of type int\n\n| 20 | 19 | 18 | 17 | 16 | 15 | 14 | 13 | 12 | 11 | 10 | 9 | 8 | 7 | 6 | 5 | 4 | 3 | 2 | 1 |\n\n",
            "text/html": [
              "<table>\n",
              "<caption>A matrix: 1 × 20 of type int</caption>\n",
              "<tbody>\n",
              "\t<tr><td>20</td><td>19</td><td>18</td><td>17</td><td>16</td><td>15</td><td>14</td><td>13</td><td>12</td><td>11</td><td>10</td><td>9</td><td>8</td><td>7</td><td>6</td><td>5</td><td>4</td><td>3</td><td>2</td><td>1</td></tr>\n",
              "</tbody>\n",
              "</table>\n"
            ]
          },
          "metadata": {
            "tags": []
          }
        }
      ]
    },
    {
      "cell_type": "code",
      "metadata": {
        "extensions": {
          "jupyter_dashboards": {
            "version": 1,
            "views": {
              "grid_default": {},
              "report_default": {}
            }
          }
        },
        "id": "IC7MTFdVv8jz",
        "colab": {
          "base_uri": "https://localhost:8080/",
          "height": 58
        },
        "outputId": "1034d7f9-43ab-48eb-bd69-57d1d36e3168"
      },
      "source": [
        "# c\n",
        "cvec <- c(1:20, 19:1) # or c(1:19, 20:1) or c(avec, bvec[2:20]) or c(avec[1:19], bvec)\n",
        "t(cvec)"
      ],
      "execution_count": null,
      "outputs": [
        {
          "output_type": "display_data",
          "data": {
            "text/plain": [
              "     [,1] [,2] [,3] [,4] [,5] [,6] [,7] [,8] [,9] [,10] [,11] [,12] [,13] [,14]\n",
              "[1,] 1    2    3    4    5    6    7    8    9    10    ⋯     10    9     8    \n",
              "     [,15] [,16] [,17] [,18] [,19] [,20] [,21]\n",
              "[1,] 7     6     5     4     3     2     1    "
            ],
            "text/latex": "A matrix: 1 × 39 of type int\n\\begin{tabular}{lllllllllllllllllllllllllllllllllllllll}\n\t 1 & 2 & 3 & 4 & 5 & 6 & 7 & 8 & 9 & 10 & 11 & 12 & 13 & 14 & 15 & 16 & 17 & 18 & 19 & 20 & 19 & 18 & 17 & 16 & 15 & 14 & 13 & 12 & 11 & 10 & 9 & 8 & 7 & 6 & 5 & 4 & 3 & 2 & 1\\\\\n\\end{tabular}\n",
            "text/markdown": "\nA matrix: 1 × 39 of type int\n\n| 1 | 2 | 3 | 4 | 5 | 6 | 7 | 8 | 9 | 10 | ⋯ | 10 | 9 | 8 | 7 | 6 | 5 | 4 | 3 | 2 | 1 |\n\n",
            "text/html": [
              "<table>\n",
              "<caption>A matrix: 1 × 39 of type int</caption>\n",
              "<tbody>\n",
              "\t<tr><td>1</td><td>2</td><td>3</td><td>4</td><td>5</td><td>6</td><td>7</td><td>8</td><td>9</td><td>10</td><td>⋯</td><td>10</td><td>9</td><td>8</td><td>7</td><td>6</td><td>5</td><td>4</td><td>3</td><td>2</td><td>1</td></tr>\n",
              "</tbody>\n",
              "</table>\n"
            ]
          },
          "metadata": {
            "tags": []
          }
        }
      ]
    },
    {
      "cell_type": "code",
      "metadata": {
        "extensions": {
          "jupyter_dashboards": {
            "version": 1,
            "views": {
              "grid_default": {},
              "report_default": {}
            }
          }
        },
        "id": "Qw5a2H10v8j5",
        "colab": {
          "base_uri": "https://localhost:8080/",
          "height": 58
        },
        "outputId": "5ab262f2-aed5-42c0-db17-335d2bc341e6"
      },
      "source": [
        "# d\n",
        "tempsum <- avec + bvec\n",
        "t(tempsum)"
      ],
      "execution_count": null,
      "outputs": [
        {
          "output_type": "display_data",
          "data": {
            "text/plain": [
              "     [,1] [,2] [,3] [,4] [,5] [,6] [,7] [,8] [,9] [,10] [,11] [,12] [,13] [,14]\n",
              "[1,] 21   21   21   21   21   21   21   21   21   21    21    21    21    21   \n",
              "     [,15] [,16] [,17] [,18] [,19] [,20]\n",
              "[1,] 21    21    21    21    21    21   "
            ],
            "text/latex": "A matrix: 1 × 20 of type int\n\\begin{tabular}{llllllllllllllllllll}\n\t 21 & 21 & 21 & 21 & 21 & 21 & 21 & 21 & 21 & 21 & 21 & 21 & 21 & 21 & 21 & 21 & 21 & 21 & 21 & 21\\\\\n\\end{tabular}\n",
            "text/markdown": "\nA matrix: 1 × 20 of type int\n\n| 21 | 21 | 21 | 21 | 21 | 21 | 21 | 21 | 21 | 21 | 21 | 21 | 21 | 21 | 21 | 21 | 21 | 21 | 21 | 21 |\n\n",
            "text/html": [
              "<table>\n",
              "<caption>A matrix: 1 × 20 of type int</caption>\n",
              "<tbody>\n",
              "\t<tr><td>21</td><td>21</td><td>21</td><td>21</td><td>21</td><td>21</td><td>21</td><td>21</td><td>21</td><td>21</td><td>21</td><td>21</td><td>21</td><td>21</td><td>21</td><td>21</td><td>21</td><td>21</td><td>21</td><td>21</td></tr>\n",
              "</tbody>\n",
              "</table>\n"
            ]
          },
          "metadata": {
            "tags": []
          }
        }
      ]
    },
    {
      "cell_type": "code",
      "metadata": {
        "extensions": {
          "jupyter_dashboards": {
            "version": 1,
            "views": {
              "grid_default": {},
              "report_default": {}
            }
          }
        },
        "id": "_diCkFee0Qvs",
        "colab": {
          "base_uri": "https://localhost:8080/",
          "height": 116
        },
        "outputId": "c8ad857c-d136-47b4-cff7-8c25304302cf"
      },
      "source": [
        "# e\n",
        "evec <- rep(c(4, 6, 3), times=10)\n",
        "t(evec)\n",
        "\n",
        "# if we want to cut off the last two elements:\n",
        "n <- length(evec) - 2\n",
        "n\n",
        "evec <- evec[1:n]\n",
        "t(evec)"
      ],
      "execution_count": null,
      "outputs": [
        {
          "output_type": "display_data",
          "data": {
            "text/plain": [
              "     [,1] [,2] [,3] [,4] [,5] [,6] [,7] [,8] [,9] [,10] [,11] [,12] [,13] [,14]\n",
              "[1,] 4    6    3    4    6    3    4    6    3    4     ⋯     3     4     6    \n",
              "     [,15] [,16] [,17] [,18] [,19] [,20] [,21]\n",
              "[1,] 3     4     6     3     4     6     3    "
            ],
            "text/latex": "A matrix: 1 × 30 of type dbl\n\\begin{tabular}{llllllllllllllllllllllllllllll}\n\t 4 & 6 & 3 & 4 & 6 & 3 & 4 & 6 & 3 & 4 & 6 & 3 & 4 & 6 & 3 & 4 & 6 & 3 & 4 & 6 & 3 & 4 & 6 & 3 & 4 & 6 & 3 & 4 & 6 & 3\\\\\n\\end{tabular}\n",
            "text/markdown": "\nA matrix: 1 × 30 of type dbl\n\n| 4 | 6 | 3 | 4 | 6 | 3 | 4 | 6 | 3 | 4 | ⋯ | 3 | 4 | 6 | 3 | 4 | 6 | 3 | 4 | 6 | 3 |\n\n",
            "text/html": [
              "<table>\n",
              "<caption>A matrix: 1 × 30 of type dbl</caption>\n",
              "<tbody>\n",
              "\t<tr><td>4</td><td>6</td><td>3</td><td>4</td><td>6</td><td>3</td><td>4</td><td>6</td><td>3</td><td>4</td><td>⋯</td><td>3</td><td>4</td><td>6</td><td>3</td><td>4</td><td>6</td><td>3</td><td>4</td><td>6</td><td>3</td></tr>\n",
              "</tbody>\n",
              "</table>\n"
            ]
          },
          "metadata": {
            "tags": []
          }
        },
        {
          "output_type": "display_data",
          "data": {
            "text/plain": [
              "[1] 28"
            ],
            "text/latex": "28",
            "text/markdown": "28",
            "text/html": [
              "28"
            ]
          },
          "metadata": {
            "tags": []
          }
        },
        {
          "output_type": "display_data",
          "data": {
            "text/plain": [
              "     [,1] [,2] [,3] [,4] [,5] [,6] [,7] [,8] [,9] [,10] [,11] [,12] [,13] [,14]\n",
              "[1,] 4    6    3    4    6    3    4    6    3    4     ⋯     4     6     3    \n",
              "     [,15] [,16] [,17] [,18] [,19] [,20] [,21]\n",
              "[1,] 4     6     3     4     6     3     4    "
            ],
            "text/latex": "A matrix: 1 × 28 of type dbl\n\\begin{tabular}{llllllllllllllllllllllllllll}\n\t 4 & 6 & 3 & 4 & 6 & 3 & 4 & 6 & 3 & 4 & 6 & 3 & 4 & 6 & 3 & 4 & 6 & 3 & 4 & 6 & 3 & 4 & 6 & 3 & 4 & 6 & 3 & 4\\\\\n\\end{tabular}\n",
            "text/markdown": "\nA matrix: 1 × 28 of type dbl\n\n| 4 | 6 | 3 | 4 | 6 | 3 | 4 | 6 | 3 | 4 | ⋯ | 4 | 6 | 3 | 4 | 6 | 3 | 4 | 6 | 3 | 4 |\n\n",
            "text/html": [
              "<table>\n",
              "<caption>A matrix: 1 × 28 of type dbl</caption>\n",
              "<tbody>\n",
              "\t<tr><td>4</td><td>6</td><td>3</td><td>4</td><td>6</td><td>3</td><td>4</td><td>6</td><td>3</td><td>4</td><td>⋯</td><td>4</td><td>6</td><td>3</td><td>4</td><td>6</td><td>3</td><td>4</td><td>6</td><td>3</td><td>4</td></tr>\n",
              "</tbody>\n",
              "</table>\n"
            ]
          },
          "metadata": {
            "tags": []
          }
        }
      ]
    },
    {
      "cell_type": "code",
      "metadata": {
        "extensions": {
          "jupyter_dashboards": {
            "version": 1,
            "views": {
              "grid_default": {},
              "report_default": {}
            }
          }
        },
        "id": "vARuma7-0QvO",
        "colab": {
          "base_uri": "https://localhost:8080/",
          "height": 259
        },
        "outputId": "9973af40-7846-4a6f-ef95-9e17e53448e9"
      },
      "source": [
        "# f\n",
        "fvec <- rep(c(4, 6, 3), times=c(10, 20, 30))\n",
        "t(fvec) # for display purposes, use t() function (transpose) to a row vector\n",
        "c(sum(fvec==4), sum(fvec==6), sum(fvec==3)) # check # of repetitions\n",
        "\n",
        "# another way, thanks to Larissa\n",
        "fvec <- c(rep(4, times=10), rep(6, times=20), rep(3, times=30))\n",
        "t(fvec)\n",
        "c(sum(fvec==4), sum(fvec==6), sum(fvec==3))\n"
      ],
      "execution_count": null,
      "outputs": [
        {
          "output_type": "display_data",
          "data": {
            "text/plain": [
              "     [,1] [,2] [,3] [,4] [,5] [,6] [,7] [,8] [,9] [,10] [,11] [,12] [,13] [,14]\n",
              "[1,] 4    4    4    4    4    4    4    4    4    4     ⋯     3     3     3    \n",
              "     [,15] [,16] [,17] [,18] [,19] [,20] [,21]\n",
              "[1,] 3     3     3     3     3     3     3    "
            ],
            "text/latex": "A matrix: 1 × 60 of type dbl\n\\begin{tabular}{llllllllllllllllllllllllllllllllllllllllllllllllllllllllllll}\n\t 4 & 4 & 4 & 4 & 4 & 4 & 4 & 4 & 4 & 4 & 6 & 6 & 6 & 6 & 6 & 6 & 6 & 6 & 6 & 6 & 6 & 6 & 6 & 6 & 6 & 6 & 6 & 6 & 6 & 6 & 3 & 3 & 3 & 3 & 3 & 3 & 3 & 3 & 3 & 3 & 3 & 3 & 3 & 3 & 3 & 3 & 3 & 3 & 3 & 3 & 3 & 3 & 3 & 3 & 3 & 3 & 3 & 3 & 3 & 3\\\\\n\\end{tabular}\n",
            "text/markdown": "\nA matrix: 1 × 60 of type dbl\n\n| 4 | 4 | 4 | 4 | 4 | 4 | 4 | 4 | 4 | 4 | ⋯ | 3 | 3 | 3 | 3 | 3 | 3 | 3 | 3 | 3 | 3 |\n\n",
            "text/html": [
              "<table>\n",
              "<caption>A matrix: 1 × 60 of type dbl</caption>\n",
              "<tbody>\n",
              "\t<tr><td>4</td><td>4</td><td>4</td><td>4</td><td>4</td><td>4</td><td>4</td><td>4</td><td>4</td><td>4</td><td>⋯</td><td>3</td><td>3</td><td>3</td><td>3</td><td>3</td><td>3</td><td>3</td><td>3</td><td>3</td><td>3</td></tr>\n",
              "</tbody>\n",
              "</table>\n"
            ]
          },
          "metadata": {
            "tags": []
          }
        },
        {
          "output_type": "display_data",
          "data": {
            "text/plain": [
              "[1] 10 20 30"
            ],
            "text/latex": "\\begin{enumerate*}\n\\item 10\n\\item 20\n\\item 30\n\\end{enumerate*}\n",
            "text/markdown": "1. 10\n2. 20\n3. 30\n\n\n",
            "text/html": [
              "<ol class=list-inline>\n",
              "\t<li>10</li>\n",
              "\t<li>20</li>\n",
              "\t<li>30</li>\n",
              "</ol>\n"
            ]
          },
          "metadata": {
            "tags": []
          }
        },
        {
          "output_type": "display_data",
          "data": {
            "text/plain": [
              "     [,1] [,2] [,3] [,4] [,5] [,6] [,7] [,8] [,9] [,10] [,11] [,12] [,13] [,14]\n",
              "[1,] 4    4    4    4    4    4    4    4    4    4     ⋯     3     3     3    \n",
              "     [,15] [,16] [,17] [,18] [,19] [,20] [,21]\n",
              "[1,] 3     3     3     3     3     3     3    "
            ],
            "text/latex": "A matrix: 1 × 60 of type dbl\n\\begin{tabular}{llllllllllllllllllllllllllllllllllllllllllllllllllllllllllll}\n\t 4 & 4 & 4 & 4 & 4 & 4 & 4 & 4 & 4 & 4 & 6 & 6 & 6 & 6 & 6 & 6 & 6 & 6 & 6 & 6 & 6 & 6 & 6 & 6 & 6 & 6 & 6 & 6 & 6 & 6 & 3 & 3 & 3 & 3 & 3 & 3 & 3 & 3 & 3 & 3 & 3 & 3 & 3 & 3 & 3 & 3 & 3 & 3 & 3 & 3 & 3 & 3 & 3 & 3 & 3 & 3 & 3 & 3 & 3 & 3\\\\\n\\end{tabular}\n",
            "text/markdown": "\nA matrix: 1 × 60 of type dbl\n\n| 4 | 4 | 4 | 4 | 4 | 4 | 4 | 4 | 4 | 4 | ⋯ | 3 | 3 | 3 | 3 | 3 | 3 | 3 | 3 | 3 | 3 |\n\n",
            "text/html": [
              "<table>\n",
              "<caption>A matrix: 1 × 60 of type dbl</caption>\n",
              "<tbody>\n",
              "\t<tr><td>4</td><td>4</td><td>4</td><td>4</td><td>4</td><td>4</td><td>4</td><td>4</td><td>4</td><td>4</td><td>⋯</td><td>3</td><td>3</td><td>3</td><td>3</td><td>3</td><td>3</td><td>3</td><td>3</td><td>3</td><td>3</td></tr>\n",
              "</tbody>\n",
              "</table>\n"
            ]
          },
          "metadata": {
            "tags": []
          }
        },
        {
          "output_type": "display_data",
          "data": {
            "text/plain": [
              "[1] 10 20 30"
            ],
            "text/latex": "\\begin{enumerate*}\n\\item 10\n\\item 20\n\\item 30\n\\end{enumerate*}\n",
            "text/markdown": "1. 10\n2. 20\n3. 30\n\n\n",
            "text/html": [
              "<ol class=list-inline>\n",
              "\t<li>10</li>\n",
              "\t<li>20</li>\n",
              "\t<li>30</li>\n",
              "</ol>\n"
            ]
          },
          "metadata": {
            "tags": []
          }
        }
      ]
    },
    {
      "cell_type": "markdown",
      "metadata": {
        "extensions": {
          "jupyter_dashboards": {
            "version": 1,
            "views": {
              "grid_default": {},
              "report_default": {}
            }
          }
        },
        "id": "WURa6A3Lv8kR"
      },
      "source": [
        "## 2. Calculate the following using R:\n",
        "#### a. $\\sum_{i=10}^{100}i^3 + 4i^2$\n",
        "#### b. $\\sum_{i=1}^{25}(\\frac{2^i}{i} + \\frac{3^i}{i^2})$"
      ]
    },
    {
      "cell_type": "code",
      "metadata": {
        "extensions": {
          "jupyter_dashboards": {
            "version": 1,
            "views": {
              "grid_default": {},
              "report_default": {}
            }
          }
        },
        "id": "2miswK33v8kT",
        "colab": {
          "base_uri": "https://localhost:8080/",
          "height": 34
        },
        "outputId": "e2fb7c76-070d-4f30-9fd2-f2f1d3959875"
      },
      "source": [
        "# a\n",
        "idx <- 10:100\n",
        "asum <- sum(idx^3 + 4*idx^2)\n",
        "asum"
      ],
      "execution_count": null,
      "outputs": [
        {
          "output_type": "display_data",
          "data": {
            "text/plain": [
              "[1] 26852735"
            ],
            "text/latex": "26852735",
            "text/markdown": "26852735",
            "text/html": [
              "26852735"
            ]
          },
          "metadata": {
            "tags": []
          }
        }
      ]
    },
    {
      "cell_type": "code",
      "metadata": {
        "extensions": {
          "jupyter_dashboards": {
            "version": 1,
            "views": {
              "grid_default": {},
              "report_default": {}
            }
          }
        },
        "id": "bqvfAatKv8kZ",
        "colab": {
          "base_uri": "https://localhost:8080/",
          "height": 34
        },
        "outputId": "bec77f17-fd3b-4abe-80dd-a6cf7aa58eb0"
      },
      "source": [
        "# b\n",
        "idx <- 1:25\n",
        "bsum <- sum((2^idx)/idx + (3^idx)/(idx^2))\n",
        "bsum"
      ],
      "execution_count": null,
      "outputs": [
        {
          "output_type": "display_data",
          "data": {
            "text/plain": [
              "[1] 2129170437"
            ],
            "text/latex": "2129170436.81438",
            "text/markdown": "2129170436.81438",
            "text/html": [
              "2129170436.81438"
            ]
          },
          "metadata": {
            "tags": []
          }
        }
      ]
    },
    {
      "cell_type": "markdown",
      "metadata": {
        "extensions": {
          "jupyter_dashboards": {
            "version": 1,
            "views": {
              "grid_default": {},
              "report_default": {}
            }
          }
        },
        "id": "mRhobhEYv8ke"
      },
      "source": [
        "## 3. Create two vectors - $X$ and $Y$ - of 250 random integers that are chosen _with_ replacement from the integers $(0, 1,  …, 999)$:\n",
        "\n",
        "`set.seed(50)`<br>\n",
        "`X <- sample(0:999, 250, replace=T)`<br>\n",
        "`Y <- sample(0:999, 250, replace=T)`\n",
        "    \n",
        "### Now find various functions in R and answer the following questions:\n",
        "#### a. Pick out the values in $Y$ which are > 600.\n",
        "#### b. What are the index positions in $Y$ of the values which are > 600? Hint: `?which`\n",
        "#### c. What are the values in $X$ which correspond to the values in $Y$ that are > 600?\n",
        "#### d. How many values in $Y$ are within 200 of the maximum value of the terms in $Y$?\n",
        "#### e. How many numbers in $X$ are divisible by 2? (Note that the modulo operator is denoted `%%`.)\n",
        "#### f. Sort the numbers in the vector $X$ in the order of increasing values in $Y$.\n",
        "#### g. Pick out the elements in $Y$ at index positions $(1, 4, 7, 10, 13, …)$"
      ]
    },
    {
      "cell_type": "code",
      "metadata": {
        "extensions": {
          "jupyter_dashboards": {
            "version": 1,
            "views": {
              "grid_default": {},
              "report_default": {}
            }
          }
        },
        "id": "VYFPQBETv8kg",
        "cellView": "both",
        "colab": {
          "base_uri": "https://localhost:8080/",
          "height": 52
        },
        "outputId": "c85b4a46-4b42-429f-9b19-7ff47bf55667"
      },
      "source": [
        "#@title\n",
        "set.seed(50) # For information about what this does, see http://rfunction.com/archives/62\n",
        "xvec <- sample(0:999, 250, replace=T)\n",
        "yvec <- sample(0:999, 250, replace=T)\n",
        "length(xvec)\n",
        "length(yvec)"
      ],
      "execution_count": null,
      "outputs": [
        {
          "output_type": "display_data",
          "data": {
            "text/plain": [
              "[1] 250"
            ],
            "text/latex": "250",
            "text/markdown": "250",
            "text/html": [
              "250"
            ]
          },
          "metadata": {
            "tags": []
          }
        },
        {
          "output_type": "display_data",
          "data": {
            "text/plain": [
              "[1] 250"
            ],
            "text/latex": "250",
            "text/markdown": "250",
            "text/html": [
              "250"
            ]
          },
          "metadata": {
            "tags": []
          }
        }
      ]
    },
    {
      "cell_type": "code",
      "metadata": {
        "extensions": {
          "jupyter_dashboards": {
            "version": 1,
            "views": {
              "grid_default": {},
              "report_default": {}
            }
          }
        },
        "id": "x-sS2bWOv8km",
        "cellView": "both",
        "colab": {
          "base_uri": "https://localhost:8080/",
          "height": 116
        },
        "outputId": "8bce7b20-9439-42a2-bc87-9d96c4f72872"
      },
      "source": [
        "#@title\n",
        "# a\n",
        "avec <- yvec[yvec > 600]\n",
        "t(avec)\n",
        "t(avec > 600) # is each value of avec greater than 600?\n",
        "all(avec > 600) # are ALL the values of avec greater than 600?"
      ],
      "execution_count": null,
      "outputs": [
        {
          "output_type": "display_data",
          "data": {
            "text/plain": [
              "     [,1] [,2] [,3] [,4] [,5] [,6] [,7] [,8] [,9] [,10] [,11] [,12] [,13] [,14]\n",
              "[1,] 702  901  617  726  915  723  941  906  782  681   ⋯     764   666   667  \n",
              "     [,15] [,16] [,17] [,18] [,19] [,20] [,21]\n",
              "[1,] 790   654   959   868   963   698   686  "
            ],
            "text/latex": "A matrix: 1 × 91 of type int\n\\begin{tabular}{lllllllllllllllllllllllllllllllllllllllllllllllllllllllllllllllllllllllllllllllllllllllllll}\n\t 702 & 901 & 617 & 726 & 915 & 723 & 941 & 906 & 782 & 681 & 721 & 929 & 827 & 653 & 839 & 800 & 869 & 692 & 840 & 845 & 769 & 866 & 696 & 685 & 788 & 642 & 902 & 797 & 601 & 656 & 842 & 970 & 680 & 792 & 662 & 868 & 875 & 795 & 880 & 700 & 665 & 699 & 979 & 796 & 772 & 836 & 974 & 990 & 954 & 846 & 943 & 658 & 655 & 628 & 623 & 629 & 989 & 738 & 992 & 758 & 870 & 910 & 933 & 641 & 872 & 904 & 647 & 988 & 753 & 624 & 996 & 621 & 714 & 965 & 920 & 755 & 783 & 856 & 927 & 759 & 700 & 764 & 666 & 667 & 790 & 654 & 959 & 868 & 963 & 698 & 686\\\\\n\\end{tabular}\n",
            "text/markdown": "\nA matrix: 1 × 91 of type int\n\n| 702 | 901 | 617 | 726 | 915 | 723 | 941 | 906 | 782 | 681 | ⋯ | 764 | 666 | 667 | 790 | 654 | 959 | 868 | 963 | 698 | 686 |\n\n",
            "text/html": [
              "<table>\n",
              "<caption>A matrix: 1 × 91 of type int</caption>\n",
              "<tbody>\n",
              "\t<tr><td>702</td><td>901</td><td>617</td><td>726</td><td>915</td><td>723</td><td>941</td><td>906</td><td>782</td><td>681</td><td>⋯</td><td>764</td><td>666</td><td>667</td><td>790</td><td>654</td><td>959</td><td>868</td><td>963</td><td>698</td><td>686</td></tr>\n",
              "</tbody>\n",
              "</table>\n"
            ]
          },
          "metadata": {
            "tags": []
          }
        },
        {
          "output_type": "display_data",
          "data": {
            "text/plain": [
              "     [,1] [,2] [,3] [,4] [,5] [,6] [,7] [,8] [,9] [,10] [,11] [,12] [,13] [,14]\n",
              "[1,] TRUE TRUE TRUE TRUE TRUE TRUE TRUE TRUE TRUE TRUE  ⋯     TRUE  TRUE  TRUE \n",
              "     [,15] [,16] [,17] [,18] [,19] [,20] [,21]\n",
              "[1,] TRUE  TRUE  TRUE  TRUE  TRUE  TRUE  TRUE "
            ],
            "text/latex": "A matrix: 1 × 91 of type lgl\n\\begin{tabular}{lllllllllllllllllllllllllllllllllllllllllllllllllllllllllllllllllllllllllllllllllllllllllll}\n\t TRUE & TRUE & TRUE & TRUE & TRUE & TRUE & TRUE & TRUE & TRUE & TRUE & TRUE & TRUE & TRUE & TRUE & TRUE & TRUE & TRUE & TRUE & TRUE & TRUE & TRUE & TRUE & TRUE & TRUE & TRUE & TRUE & TRUE & TRUE & TRUE & TRUE & TRUE & TRUE & TRUE & TRUE & TRUE & TRUE & TRUE & TRUE & TRUE & TRUE & TRUE & TRUE & TRUE & TRUE & TRUE & TRUE & TRUE & TRUE & TRUE & TRUE & TRUE & TRUE & TRUE & TRUE & TRUE & TRUE & TRUE & TRUE & TRUE & TRUE & TRUE & TRUE & TRUE & TRUE & TRUE & TRUE & TRUE & TRUE & TRUE & TRUE & TRUE & TRUE & TRUE & TRUE & TRUE & TRUE & TRUE & TRUE & TRUE & TRUE & TRUE & TRUE & TRUE & TRUE & TRUE & TRUE & TRUE & TRUE & TRUE & TRUE & TRUE\\\\\n\\end{tabular}\n",
            "text/markdown": "\nA matrix: 1 × 91 of type lgl\n\n| TRUE | TRUE | TRUE | TRUE | TRUE | TRUE | TRUE | TRUE | TRUE | TRUE | ⋯ | TRUE | TRUE | TRUE | TRUE | TRUE | TRUE | TRUE | TRUE | TRUE | TRUE |\n\n",
            "text/html": [
              "<table>\n",
              "<caption>A matrix: 1 × 91 of type lgl</caption>\n",
              "<tbody>\n",
              "\t<tr><td>TRUE</td><td>TRUE</td><td>TRUE</td><td>TRUE</td><td>TRUE</td><td>TRUE</td><td>TRUE</td><td>TRUE</td><td>TRUE</td><td>TRUE</td><td>⋯</td><td>TRUE</td><td>TRUE</td><td>TRUE</td><td>TRUE</td><td>TRUE</td><td>TRUE</td><td>TRUE</td><td>TRUE</td><td>TRUE</td><td>TRUE</td></tr>\n",
              "</tbody>\n",
              "</table>\n"
            ]
          },
          "metadata": {
            "tags": []
          }
        },
        {
          "output_type": "display_data",
          "data": {
            "text/plain": [
              "[1] TRUE"
            ],
            "text/latex": "TRUE",
            "text/markdown": "TRUE",
            "text/html": [
              "TRUE"
            ]
          },
          "metadata": {
            "tags": []
          }
        }
      ]
    },
    {
      "cell_type": "code",
      "metadata": {
        "extensions": {
          "jupyter_dashboards": {
            "version": 1,
            "views": {
              "grid_default": {},
              "report_default": {}
            }
          }
        },
        "id": "hMHeUSinv8kr",
        "cellView": "both",
        "colab": {
          "base_uri": "https://localhost:8080/",
          "height": 75
        },
        "outputId": "db2b17ee-2730-4934-c92d-8418406ed706"
      },
      "source": [
        "#@title\n",
        "# b\n",
        "bvec <- which(yvec > 600) # or (1:length(yvec))[yvec > 600]\n",
        "t(bvec)\n",
        "length(bvec) # how many instances are there of values in yvec > 600"
      ],
      "execution_count": null,
      "outputs": [
        {
          "output_type": "display_data",
          "data": {
            "text/plain": [
              "     [,1] [,2] [,3] [,4] [,5] [,6] [,7] [,8] [,9] [,10] [,11] [,12] [,13] [,14]\n",
              "[1,] 3    9    10   18   20   22   25   26   27   29    ⋯     230   233   235  \n",
              "     [,15] [,16] [,17] [,18] [,19] [,20] [,21]\n",
              "[1,] 238   239   240   243   246   248   249  "
            ],
            "text/latex": "A matrix: 1 × 91 of type int\n\\begin{tabular}{lllllllllllllllllllllllllllllllllllllllllllllllllllllllllllllllllllllllllllllllllllllllllll}\n\t 3 & 9 & 10 & 18 & 20 & 22 & 25 & 26 & 27 & 29 & 37 & 41 & 42 & 43 & 45 & 48 & 49 & 51 & 65 & 67 & 71 & 74 & 79 & 81 & 84 & 85 & 88 & 95 & 98 & 99 & 103 & 106 & 108 & 109 & 110 & 113 & 114 & 119 & 120 & 129 & 130 & 131 & 138 & 139 & 143 & 147 & 148 & 152 & 154 & 159 & 161 & 166 & 167 & 168 & 172 & 173 & 174 & 176 & 177 & 183 & 187 & 188 & 189 & 190 & 191 & 194 & 196 & 197 & 201 & 202 & 204 & 206 & 207 & 211 & 212 & 219 & 223 & 224 & 225 & 227 & 229 & 230 & 233 & 235 & 238 & 239 & 240 & 243 & 246 & 248 & 249\\\\\n\\end{tabular}\n",
            "text/markdown": "\nA matrix: 1 × 91 of type int\n\n| 3 | 9 | 10 | 18 | 20 | 22 | 25 | 26 | 27 | 29 | ⋯ | 230 | 233 | 235 | 238 | 239 | 240 | 243 | 246 | 248 | 249 |\n\n",
            "text/html": [
              "<table>\n",
              "<caption>A matrix: 1 × 91 of type int</caption>\n",
              "<tbody>\n",
              "\t<tr><td>3</td><td>9</td><td>10</td><td>18</td><td>20</td><td>22</td><td>25</td><td>26</td><td>27</td><td>29</td><td>⋯</td><td>230</td><td>233</td><td>235</td><td>238</td><td>239</td><td>240</td><td>243</td><td>246</td><td>248</td><td>249</td></tr>\n",
              "</tbody>\n",
              "</table>\n"
            ]
          },
          "metadata": {
            "tags": []
          }
        },
        {
          "output_type": "display_data",
          "data": {
            "text/plain": [
              "[1] 91"
            ],
            "text/latex": "91",
            "text/markdown": "91",
            "text/html": [
              "91"
            ]
          },
          "metadata": {
            "tags": []
          }
        }
      ]
    },
    {
      "cell_type": "code",
      "metadata": {
        "extensions": {
          "jupyter_dashboards": {
            "version": 1,
            "views": {
              "grid_default": {},
              "report_default": {}
            }
          }
        },
        "id": "ofN0MeSYv8k2",
        "cellView": "both",
        "colab": {
          "base_uri": "https://localhost:8080/",
          "height": 139
        },
        "outputId": "d7b7c8fd-5897-4901-a4b5-c927fe281dbb"
      },
      "source": [
        "#@title\n",
        "# c\n",
        "#I realized that there are two ways that this question could be interpreted\n",
        "\n",
        "# First the simple way, which involves using the yvec > 600 logical index vector for xvec:\n",
        "cvec <- xvec[yvec > 600]\n",
        "\n",
        "# Second, the more complicated way, which involves finding the shared values between xvec and yvec:\n",
        "cvec <- intersect(xvec, yvec[yvec > 600]) # intersect finds common values between two vectors\n",
        "t(cvec)\n",
        "\n",
        "# To confirm the result of intersect, we can write our code to do the job:\n",
        "xvec600 <- xvec[xvec > 600]\n",
        "yvec600 <- yvec[yvec > 600]\n",
        "cvec <- c() # initialize output cvec\n",
        "for (x in xvec600){\n",
        "    if(x %in% yvec600) {\n",
        "        cvec <- c(cvec, x)\n",
        "    }\n",
        "}\n",
        "t(cvec)\n",
        "\n",
        "# You'll notice that the two cvec vectors aren't quite identical. That's because intersect omits duplicate values,\n",
        "# which exist because we created the original vectors WITH replacement. To get rid of the duplicates, we can do:\n",
        "cvec <- unique(cvec)\n",
        "t(cvec)"
      ],
      "execution_count": null,
      "outputs": [
        {
          "output_type": "display_data",
          "data": {
            "text/plain": [
              "     [,1] [,2] [,3] [,4] [,5] [,6] [,7] [,8] [,9] [,10] [,11] [,12] [,13] [,14]\n",
              "[1,] 764  795  624  988  996  656  755  915  868  662   ⋯     692   963   839  \n",
              "     [,15] [,16] [,17] [,18] [,19] [,20] [,21]\n",
              "[1,] 601   827   840   680   954   927   800  "
            ],
            "text/latex": "A matrix: 1 × 24 of type int\n\\begin{tabular}{llllllllllllllllllllllll}\n\t 764 & 795 & 624 & 988 & 996 & 656 & 755 & 915 & 868 & 662 & 979 & 665 & 769 & 667 & 692 & 963 & 839 & 601 & 827 & 840 & 680 & 954 & 927 & 800\\\\\n\\end{tabular}\n",
            "text/markdown": "\nA matrix: 1 × 24 of type int\n\n| 764 | 795 | 624 | 988 | 996 | 656 | 755 | 915 | 868 | 662 | ⋯ | 692 | 963 | 839 | 601 | 827 | 840 | 680 | 954 | 927 | 800 |\n\n",
            "text/html": [
              "<table>\n",
              "<caption>A matrix: 1 × 24 of type int</caption>\n",
              "<tbody>\n",
              "\t<tr><td>764</td><td>795</td><td>624</td><td>988</td><td>996</td><td>656</td><td>755</td><td>915</td><td>868</td><td>662</td><td>⋯</td><td>692</td><td>963</td><td>839</td><td>601</td><td>827</td><td>840</td><td>680</td><td>954</td><td>927</td><td>800</td></tr>\n",
              "</tbody>\n",
              "</table>\n"
            ]
          },
          "metadata": {
            "tags": []
          }
        },
        {
          "output_type": "display_data",
          "data": {
            "text/plain": [
              "     [,1] [,2] [,3] [,4] [,5] [,6] [,7] [,8] [,9] [,10] [,11] [,12] [,13] [,14]\n",
              "[1,] 764  795  624  988  996  656  755  915  755  868   ⋯     996   839   601  \n",
              "     [,15] [,16] [,17] [,18] [,19] [,20] [,21]\n",
              "[1,] 827   840   680   954   927   800   795  "
            ],
            "text/latex": "A matrix: 1 × 29 of type int\n\\begin{tabular}{lllllllllllllllllllllllllllll}\n\t 764 & 795 & 624 & 988 & 996 & 656 & 755 & 915 & 755 & 868 & 662 & 979 & 665 & 988 & 769 & 667 & 692 & 963 & 665 & 996 & 839 & 601 & 827 & 840 & 680 & 954 & 927 & 800 & 795\\\\\n\\end{tabular}\n",
            "text/markdown": "\nA matrix: 1 × 29 of type int\n\n| 764 | 795 | 624 | 988 | 996 | 656 | 755 | 915 | 755 | 868 | ⋯ | 996 | 839 | 601 | 827 | 840 | 680 | 954 | 927 | 800 | 795 |\n\n",
            "text/html": [
              "<table>\n",
              "<caption>A matrix: 1 × 29 of type int</caption>\n",
              "<tbody>\n",
              "\t<tr><td>764</td><td>795</td><td>624</td><td>988</td><td>996</td><td>656</td><td>755</td><td>915</td><td>755</td><td>868</td><td>⋯</td><td>996</td><td>839</td><td>601</td><td>827</td><td>840</td><td>680</td><td>954</td><td>927</td><td>800</td><td>795</td></tr>\n",
              "</tbody>\n",
              "</table>\n"
            ]
          },
          "metadata": {
            "tags": []
          }
        },
        {
          "output_type": "display_data",
          "data": {
            "text/plain": [
              "     [,1] [,2] [,3] [,4] [,5] [,6] [,7] [,8] [,9] [,10] [,11] [,12] [,13] [,14]\n",
              "[1,] 764  795  624  988  996  656  755  915  868  662   ⋯     692   963   839  \n",
              "     [,15] [,16] [,17] [,18] [,19] [,20] [,21]\n",
              "[1,] 601   827   840   680   954   927   800  "
            ],
            "text/latex": "A matrix: 1 × 24 of type int\n\\begin{tabular}{llllllllllllllllllllllll}\n\t 764 & 795 & 624 & 988 & 996 & 656 & 755 & 915 & 868 & 662 & 979 & 665 & 769 & 667 & 692 & 963 & 839 & 601 & 827 & 840 & 680 & 954 & 927 & 800\\\\\n\\end{tabular}\n",
            "text/markdown": "\nA matrix: 1 × 24 of type int\n\n| 764 | 795 | 624 | 988 | 996 | 656 | 755 | 915 | 868 | 662 | ⋯ | 692 | 963 | 839 | 601 | 827 | 840 | 680 | 954 | 927 | 800 |\n\n",
            "text/html": [
              "<table>\n",
              "<caption>A matrix: 1 × 24 of type int</caption>\n",
              "<tbody>\n",
              "\t<tr><td>764</td><td>795</td><td>624</td><td>988</td><td>996</td><td>656</td><td>755</td><td>915</td><td>868</td><td>662</td><td>⋯</td><td>692</td><td>963</td><td>839</td><td>601</td><td>827</td><td>840</td><td>680</td><td>954</td><td>927</td><td>800</td></tr>\n",
              "</tbody>\n",
              "</table>\n"
            ]
          },
          "metadata": {
            "tags": []
          }
        }
      ]
    },
    {
      "cell_type": "code",
      "metadata": {
        "extensions": {
          "jupyter_dashboards": {
            "version": 1,
            "views": {
              "grid_default": {},
              "report_default": {}
            }
          }
        },
        "id": "8mfslIOdv8k7",
        "cellView": "both",
        "colab": {
          "base_uri": "https://localhost:8080/",
          "height": 52
        },
        "outputId": "f5d9e0fc-2c75-4bb2-f345-5b7a47c2ab5c"
      },
      "source": [
        "#@title\n",
        "# d\n",
        "dvec <- yvec[yvec > max(yvec)-200]\n",
        "all(dvec > max(yvec)-200) # are ALL values of dvec within 200 of the max value of yvec?\n",
        "length(dvec) # how many are there?"
      ],
      "execution_count": null,
      "outputs": [
        {
          "output_type": "display_data",
          "data": {
            "text/plain": [
              "[1] TRUE"
            ],
            "text/latex": "TRUE",
            "text/markdown": "TRUE",
            "text/html": [
              "TRUE"
            ]
          },
          "metadata": {
            "tags": []
          }
        },
        {
          "output_type": "display_data",
          "data": {
            "text/plain": [
              "[1] 42"
            ],
            "text/latex": "42",
            "text/markdown": "42",
            "text/html": [
              "42"
            ]
          },
          "metadata": {
            "tags": []
          }
        }
      ]
    },
    {
      "cell_type": "code",
      "metadata": {
        "extensions": {
          "jupyter_dashboards": {
            "version": 1,
            "views": {
              "grid_default": {},
              "report_default": {}
            }
          }
        },
        "id": "ZF9oropNv8lA",
        "cellView": "both",
        "colab": {
          "base_uri": "https://localhost:8080/",
          "height": 75
        },
        "outputId": "bfa76f27-21a1-4c39-c805-815af6d34953"
      },
      "source": [
        "#@title\n",
        "# e\n",
        "t(xvec %% 2) # %% = modulo\n",
        "sum(xvec%%2 == 0)"
      ],
      "execution_count": null,
      "outputs": [
        {
          "output_type": "display_data",
          "data": {
            "text/plain": [
              "     [,1] [,2] [,3] [,4] [,5] [,6] [,7] [,8] [,9] [,10] [,11] [,12] [,13] [,14]\n",
              "[1,] 1    0    1    0    0    1    1    0    0    1     ⋯     0     1     1    \n",
              "     [,15] [,16] [,17] [,18] [,19] [,20] [,21]\n",
              "[1,] 1     1     0     0     1     1     1    "
            ],
            "text/latex": "A matrix: 1 × 250 of type dbl\n\\begin{tabular}{llllllllllllllllllllllllllllllllllllllllllllllllllllllllllllllllllllllllllllllllllllllllllllllllllllllllllllllllllllllllllllllllllllllllllllllllllllllllllllllllllllllllllllllllllllllllllllllllllllllllllllllllllllllllllllllllllllllllllllllllllllllllll}\n\t 1 & 0 & 1 & 0 & 0 & 1 & 1 & 0 & 0 & 1 & 1 & 1 & 0 & 0 & 0 & 0 & 1 & 1 & 0 & 1 & 0 & 1 & 0 & 1 & 0 & 0 & 1 & 1 & 0 & 1 & 1 & 0 & 1 & 0 & 1 & 0 & 0 & 1 & 0 & 0 & 0 & 0 & 1 & 1 & 0 & 1 & 0 & 1 & 1 & 0 & 1 & 0 & 1 & 1 & 1 & 0 & 1 & 1 & 1 & 1 & 0 & 1 & 1 & 1 & 0 & 0 & 1 & 1 & 1 & 0 & 1 & 0 & 1 & 0 & 0 & 1 & 1 & 1 & 0 & 0 & 1 & 1 & 0 & 1 & 1 & 1 & 1 & 0 & 1 & 0 & 1 & 0 & 0 & 1 & 0 & 1 & 1 & 1 & 1 & 1 & 0 & 0 & 1 & 0 & 1 & 1 & 1 & 0 & 1 & 0 & 1 & 1 & 1 & 0 & 1 & 1 & 1 & 0 & 0 & 0 & 0 & 0 & 1 & 1 & 0 & 1 & 0 & 0 & 1 & 1 & 1 & 0 & 1 & 0 & 1 & 0 & 1 & 1 & 0 & 0 & 0 & 0 & 1 & 0 & 1 & 1 & 1 & 1 & 0 & 0 & 0 & 1 & 0 & 1 & 1 & 1 & 0 & 1 & 0 & 1 & 0 & 1 & 1 & 1 & 0 & 1 & 1 & 0 & 1 & 1 & 1 & 1 & 0 & 1 & 0 & 0 & 0 & 1 & 0 & 0 & 1 & 0 & 0 & 0 & 0 & 1 & 0 & 1 & 0 & 0 & 1 & 0 & 1 & 0 & 0 & 0 & 0 & 0 & 0 & 1 & 1 & 1 & 0 & 0 & 0 & 1 & 1 & 0 & 0 & 0 & 1 & 1 & 1 & 0 & 0 & 0 & 1 & 1 & 1 & 1 & 0 & 1 & 0 & 1 & 1 & 0 & 0 & 0 & 1 & 1 & 1 & 0 & 1 & 1 & 1 & 0 & 0 & 0 & 0 & 0 & 0 & 1 & 1 & 1 & 1 & 0 & 0 & 1 & 1 & 1\\\\\n\\end{tabular}\n",
            "text/markdown": "\nA matrix: 1 × 250 of type dbl\n\n| 1 | 0 | 1 | 0 | 0 | 1 | 1 | 0 | 0 | 1 | ⋯ | 0 | 1 | 1 | 1 | 1 | 0 | 0 | 1 | 1 | 1 |\n\n",
            "text/html": [
              "<table>\n",
              "<caption>A matrix: 1 × 250 of type dbl</caption>\n",
              "<tbody>\n",
              "\t<tr><td>1</td><td>0</td><td>1</td><td>0</td><td>0</td><td>1</td><td>1</td><td>0</td><td>0</td><td>1</td><td>⋯</td><td>0</td><td>1</td><td>1</td><td>1</td><td>1</td><td>0</td><td>0</td><td>1</td><td>1</td><td>1</td></tr>\n",
              "</tbody>\n",
              "</table>\n"
            ]
          },
          "metadata": {
            "tags": []
          }
        },
        {
          "output_type": "display_data",
          "data": {
            "text/plain": [
              "[1] 117"
            ],
            "text/latex": "117",
            "text/markdown": "117",
            "text/html": [
              "117"
            ]
          },
          "metadata": {
            "tags": []
          }
        }
      ]
    },
    {
      "cell_type": "code",
      "metadata": {
        "extensions": {
          "jupyter_dashboards": {
            "version": 1,
            "views": {
              "grid_default": {},
              "report_default": {}
            }
          }
        },
        "id": "KKC3ehENv8lD",
        "cellView": "both",
        "colab": {
          "base_uri": "https://localhost:8080/",
          "height": 98
        },
        "outputId": "f8f93844-9abe-4a3c-df9c-9f6fae410dbe"
      },
      "source": [
        "#@title\n",
        "# f\n",
        "idxs <- order(yvec) # order gets the indices of yvec sorted in ascending order\n",
        "t(yvec[idxs]) # to confirm\n",
        "t(xvec[idxs]) # now sort xvec with the same index vector"
      ],
      "execution_count": null,
      "outputs": [
        {
          "output_type": "display_data",
          "data": {
            "text/plain": [
              "     [,1] [,2] [,3] [,4] [,5] [,6] [,7] [,8] [,9] [,10] [,11] [,12] [,13] [,14]\n",
              "[1,] 0    0    1    2    4    8    19   21   39   39    ⋯     963   965   970  \n",
              "     [,15] [,16] [,17] [,18] [,19] [,20] [,21]\n",
              "[1,] 974   979   988   989   990   992   996  "
            ],
            "text/latex": "A matrix: 1 × 250 of type int\n\\begin{tabular}{llllllllllllllllllllllllllllllllllllllllllllllllllllllllllllllllllllllllllllllllllllllllllllllllllllllllllllllllllllllllllllllllllllllllllllllllllllllllllllllllllllllllllllllllllllllllllllllllllllllllllllllllllllllllllllllllllllllllllllllllllllllllll}\n\t 0 & 0 & 1 & 2 & 4 & 8 & 19 & 21 & 39 & 39 & 47 & 48 & 50 & 50 & 56 & 64 & 66 & 71 & 72 & 74 & 79 & 83 & 85 & 86 & 88 & 91 & 92 & 95 & 111 & 114 & 116 & 121 & 130 & 131 & 134 & 134 & 140 & 158 & 159 & 161 & 162 & 170 & 171 & 171 & 171 & 172 & 174 & 179 & 180 & 181 & 188 & 189 & 196 & 197 & 200 & 208 & 210 & 214 & 216 & 216 & 223 & 225 & 225 & 232 & 236 & 236 & 237 & 237 & 242 & 243 & 243 & 253 & 253 & 258 & 258 & 259 & 261 & 262 & 263 & 269 & 273 & 279 & 284 & 289 & 291 & 301 & 301 & 306 & 313 & 320 & 326 & 328 & 333 & 334 & 359 & 360 & 366 & 369 & 379 & 381 & 384 & 386 & 392 & 397 & 401 & 402 & 402 & 403 & 412 & 417 & 417 & 424 & 425 & 426 & 432 & 436 & 441 & 444 & 446 & 452 & 453 & 456 & 456 & 460 & 467 & 473 & 476 & 483 & 486 & 496 & 501 & 505 & 508 & 508 & 509 & 510 & 512 & 514 & 519 & 519 & 528 & 530 & 537 & 542 & 545 & 549 & 550 & 555 & 556 & 559 & 560 & 566 & 578 & 579 & 582 & 593 & 594 & 594 & 600 & 601 & 617 & 621 & 623 & 624 & 628 & 629 & 641 & 642 & 647 & 653 & 654 & 655 & 656 & 658 & 662 & 665 & 666 & 667 & 680 & 681 & 685 & 686 & 692 & 696 & 698 & 699 & 700 & 700 & 702 & 714 & 721 & 723 & 726 & 738 & 753 & 755 & 758 & 759 & 764 & 769 & 772 & 782 & 783 & 788 & 790 & 792 & 795 & 796 & 797 & 800 & 827 & 836 & 839 & 840 & 842 & 845 & 846 & 856 & 866 & 868 & 868 & 869 & 870 & 872 & 875 & 880 & 901 & 902 & 904 & 906 & 910 & 915 & 920 & 927 & 929 & 933 & 941 & 943 & 954 & 959 & 963 & 965 & 970 & 974 & 979 & 988 & 989 & 990 & 992 & 996\\\\\n\\end{tabular}\n",
            "text/markdown": "\nA matrix: 1 × 250 of type int\n\n| 0 | 0 | 1 | 2 | 4 | 8 | 19 | 21 | 39 | 39 | ⋯ | 963 | 965 | 970 | 974 | 979 | 988 | 989 | 990 | 992 | 996 |\n\n",
            "text/html": [
              "<table>\n",
              "<caption>A matrix: 1 × 250 of type int</caption>\n",
              "<tbody>\n",
              "\t<tr><td>0</td><td>0</td><td>1</td><td>2</td><td>4</td><td>8</td><td>19</td><td>21</td><td>39</td><td>39</td><td>⋯</td><td>963</td><td>965</td><td>970</td><td>974</td><td>979</td><td>988</td><td>989</td><td>990</td><td>992</td><td>996</td></tr>\n",
              "</tbody>\n",
              "</table>\n"
            ]
          },
          "metadata": {
            "tags": []
          }
        },
        {
          "output_type": "display_data",
          "data": {
            "text/plain": [
              "     [,1] [,2] [,3] [,4] [,5] [,6] [,7] [,8] [,9] [,10] [,11] [,12] [,13] [,14]\n",
              "[1,] 271  725  957  151  374  10   919  996  325  120   ⋯     398   757   345  \n",
              "     [,15] [,16] [,17] [,18] [,19] [,20] [,21]\n",
              "[1,] 895   667   762   387   561   258   390  "
            ],
            "text/latex": "A matrix: 1 × 250 of type int\n\\begin{tabular}{llllllllllllllllllllllllllllllllllllllllllllllllllllllllllllllllllllllllllllllllllllllllllllllllllllllllllllllllllllllllllllllllllllllllllllllllllllllllllllllllllllllllllllllllllllllllllllllllllllllllllllllllllllllllllllllllllllllllllllllllllllllllll}\n\t 271 & 725 & 957 & 151 & 374 & 10 & 919 & 996 & 325 & 120 & 216 & 978 & 997 & 409 & 474 & 261 & 607 & 979 & 814 & 271 & 905 & 362 & 692 & 746 & 777 & 793 & 130 & 94 & 257 & 840 & 892 & 435 & 68 & 703 & 862 & 23 & 949 & 853 & 250 & 986 & 813 & 669 & 996 & 441 & 504 & 975 & 49 & 46 & 98 & 239 & 274 & 358 & 598 & 799 & 159 & 885 & 94 & 150 & 114 & 611 & 650 & 339 & 988 & 778 & 881 & 344 & 764 & 189 & 247 & 391 & 180 & 43 & 541 & 487 & 635 & 868 & 180 & 865 & 215 & 830 & 465 & 521 & 253 & 609 & 78 & 440 & 618 & 799 & 259 & 835 & 960 & 921 & 420 & 581 & 927 & 711 & 752 & 257 & 346 & 102 & 966 & 272 & 665 & 640 & 563 & 104 & 887 & 510 & 276 & 958 & 160 & 855 & 662 & 795 & 40 & 450 & 648 & 656 & 12 & 234 & 915 & 362 & 765 & 800 & 678 & 786 & 769 & 485 & 251 & 598 & 926 & 805 & 161 & 449 & 310 & 924 & 369 & 777 & 17 & 765 & 59 & 795 & 367 & 499 & 498 & 778 & 274 & 450 & 651 & 722 & 954 & 55 & 470 & 526 & 469 & 749 & 477 & 31 & 962 & 811 & 903 & 113 & 201 & 873 & 212 & 324 & 218 & 125 & 78 & 593 & 680 & 961 & 385 & 963 & 646 & 705 & 317 & 523 & 610 & 568 & 755 & 139 & 935 & 810 & 211 & 319 & 161 & 983 & 819 & 839 & 926 & 481 & 761 & 770 & 227 & 601 & 232 & 566 & 3 & 335 & 605 & 473 & 814 & 233 & 402 & 221 & 206 & 286 & 440 & 455 & 852 & 87 & 86 & 398 & 591 & 755 & 576 & 827 & 500 & 261 & 687 & 773 & 438 & 665 & 640 & 388 & 706 & 332 & 708 & 988 & 25 & 439 & 397 & 79 & 518 & 376 & 624 & 778 & 777 & 512 & 398 & 757 & 345 & 895 & 667 & 762 & 387 & 561 & 258 & 390\\\\\n\\end{tabular}\n",
            "text/markdown": "\nA matrix: 1 × 250 of type int\n\n| 271 | 725 | 957 | 151 | 374 | 10 | 919 | 996 | 325 | 120 | ⋯ | 398 | 757 | 345 | 895 | 667 | 762 | 387 | 561 | 258 | 390 |\n\n",
            "text/html": [
              "<table>\n",
              "<caption>A matrix: 1 × 250 of type int</caption>\n",
              "<tbody>\n",
              "\t<tr><td>271</td><td>725</td><td>957</td><td>151</td><td>374</td><td>10</td><td>919</td><td>996</td><td>325</td><td>120</td><td>⋯</td><td>398</td><td>757</td><td>345</td><td>895</td><td>667</td><td>762</td><td>387</td><td>561</td><td>258</td><td>390</td></tr>\n",
              "</tbody>\n",
              "</table>\n"
            ]
          },
          "metadata": {
            "tags": []
          }
        }
      ]
    },
    {
      "cell_type": "code",
      "metadata": {
        "extensions": {
          "jupyter_dashboards": {
            "version": 1,
            "views": {
              "grid_default": {},
              "report_default": {}
            }
          }
        },
        "id": "Ld1QnUSqv8lJ",
        "cellView": "both",
        "colab": {
          "base_uri": "https://localhost:8080/",
          "height": 75
        },
        "outputId": "d52c3b8e-c574-43b4-9b95-8f81d906cf5b"
      },
      "source": [
        "#@title\n",
        "# g\n",
        "idxs <- seq(1, length(yvec), by=3) # similar to linspace in MATLAB\n",
        "gvec1 <- yvec[idxs]\n",
        "\n",
        "# or, very R-like:\n",
        "idxs <- c(T, F, F)\n",
        "gvec2 <- yvec[idxs] # R will repeat the index vector, idxs, over the length of yvec\n",
        "\n",
        "# confirm that the two outputs are the same\n",
        "all(gvec1 == gvec2)\n",
        "\n",
        "# print one\n",
        "t(gvec1)"
      ],
      "execution_count": null,
      "outputs": [
        {
          "output_type": "display_data",
          "data": {
            "text/plain": [
              "[1] TRUE"
            ],
            "text/latex": "TRUE",
            "text/markdown": "TRUE",
            "text/html": [
              "TRUE"
            ]
          },
          "metadata": {
            "tags": []
          }
        },
        {
          "output_type": "display_data",
          "data": {
            "text/plain": [
              "     [,1] [,2] [,3] [,4] [,5] [,6] [,7] [,8] [,9] [,10] [,11] [,12] [,13] [,14]\n",
              "[1,] 537  95   162  617  161  56   269  723  941  88    ⋯     783   214   700  \n",
              "     [,15] [,16] [,17] [,18] [,19] [,20] [,21]\n",
              "[1,] 179   667   790   560   64    460   426  "
            ],
            "text/latex": "A matrix: 1 × 84 of type int\n\\begin{tabular}{llllllllllllllllllllllllllllllllllllllllllllllllllllllllllllllllllllllllllllllllllll}\n\t 537 & 95 & 162 & 617 & 161 & 56 & 269 & 723 & 941 & 88 & 200 & 47 & 721 & 159 & 653 & 39 & 869 & 261 & 91 & 528 & 397 & 273 & 845 & 559 & 453 & 263 & 696 & 566 & 642 & 902 & 253 & 158 & 71 & 519 & 842 & 970 & 792 & 284 & 262 & 92 & 171 & 424 & 436 & 665 & 216 & 550 & 796 & 291 & 134 & 974 & 196 & 954 & 473 & 66 & 556 & 658 & 514 & 623 & 86 & 208 & 0 & 386 & 870 & 641 & 242 & 647 & 496 & 624 & 116 & 48 & 965 & 189 & 360 & 328 & 783 & 214 & 700 & 179 & 667 & 790 & 560 & 64 & 460 & 426\\\\\n\\end{tabular}\n",
            "text/markdown": "\nA matrix: 1 × 84 of type int\n\n| 537 | 95 | 162 | 617 | 161 | 56 | 269 | 723 | 941 | 88 | ⋯ | 783 | 214 | 700 | 179 | 667 | 790 | 560 | 64 | 460 | 426 |\n\n",
            "text/html": [
              "<table>\n",
              "<caption>A matrix: 1 × 84 of type int</caption>\n",
              "<tbody>\n",
              "\t<tr><td>537</td><td>95</td><td>162</td><td>617</td><td>161</td><td>56</td><td>269</td><td>723</td><td>941</td><td>88</td><td>⋯</td><td>783</td><td>214</td><td>700</td><td>179</td><td>667</td><td>790</td><td>560</td><td>64</td><td>460</td><td>426</td></tr>\n",
              "</tbody>\n",
              "</table>\n"
            ]
          },
          "metadata": {
            "tags": []
          }
        }
      ]
    },
    {
      "cell_type": "markdown",
      "metadata": {
        "extensions": {
          "jupyter_dashboards": {
            "version": 1,
            "views": {
              "grid_default": {},
              "report_default": {}
            }
          }
        },
        "id": "CI5khJn3v8lM"
      },
      "source": [
        "## 4. Create the following 15x3 matrix:\n",
        "$B =\n",
        " \\begin{pmatrix}\n",
        "  10 & -10 & 10 \\\\\n",
        "  10 & -10 & 10 \\\\\n",
        "  \\vdots  & \\vdots  & \\vdots  \\\\\n",
        "  10 & -10 & 10\n",
        " \\end{pmatrix}$\n",
        "### Then, calculate the 3x3 matrix $B^{T}B$. Hint: `?crossprod`"
      ]
    },
    {
      "cell_type": "code",
      "metadata": {
        "extensions": {
          "jupyter_dashboards": {
            "version": 1,
            "views": {
              "grid_default": {},
              "report_default": {}
            }
          }
        },
        "id": "wPV7ZF2gv8lO",
        "colab": {
          "base_uri": "https://localhost:8080/",
          "height": 302
        },
        "outputId": "a4124e11-53ba-4dc2-e3d4-f53c5a8b210f"
      },
      "source": [
        "B <- matrix(c(10, -10, 10), nrow=15, ncol=3, byrow=T)\n",
        "t(B) # for display purposes, let's show B_transpose rather than B, which is a 3x15 matrix\n",
        "\n",
        "vec <- t(B) %*% B # t is the transpose function, and %*% is the matrix multiplication operator\n",
        "vec\n",
        "\n",
        "# or\n",
        "\n",
        "vec <- crossprod(B) # this is usually slightly faster than the %*% operator\n",
        "vec"
      ],
      "execution_count": null,
      "outputs": [
        {
          "output_type": "display_data",
          "data": {
            "text/plain": [
              "     [,1] [,2] [,3] [,4] [,5] [,6] [,7] [,8] [,9] [,10] [,11] [,12] [,13] [,14]\n",
              "[1,]  10   10   10   10   10   10   10   10   10   10    10    10    10    10  \n",
              "[2,] -10  -10  -10  -10  -10  -10  -10  -10  -10  -10   -10   -10   -10   -10  \n",
              "[3,]  10   10   10   10   10   10   10   10   10   10    10    10    10    10  \n",
              "     [,15]\n",
              "[1,]  10  \n",
              "[2,] -10  \n",
              "[3,]  10  "
            ],
            "text/latex": "A matrix: 3 × 15 of type dbl\n\\begin{tabular}{lllllllllllllll}\n\t  10 &  10 &  10 &  10 &  10 &  10 &  10 &  10 &  10 &  10 &  10 &  10 &  10 &  10 &  10\\\\\n\t -10 & -10 & -10 & -10 & -10 & -10 & -10 & -10 & -10 & -10 & -10 & -10 & -10 & -10 & -10\\\\\n\t  10 &  10 &  10 &  10 &  10 &  10 &  10 &  10 &  10 &  10 &  10 &  10 &  10 &  10 &  10\\\\\n\\end{tabular}\n",
            "text/markdown": "\nA matrix: 3 × 15 of type dbl\n\n|  10 |  10 |  10 |  10 |  10 |  10 |  10 |  10 |  10 |  10 |  10 |  10 |  10 |  10 |  10 |\n| -10 | -10 | -10 | -10 | -10 | -10 | -10 | -10 | -10 | -10 | -10 | -10 | -10 | -10 | -10 |\n|  10 |  10 |  10 |  10 |  10 |  10 |  10 |  10 |  10 |  10 |  10 |  10 |  10 |  10 |  10 |\n\n",
            "text/html": [
              "<table>\n",
              "<caption>A matrix: 3 × 15 of type dbl</caption>\n",
              "<tbody>\n",
              "\t<tr><td> 10</td><td> 10</td><td> 10</td><td> 10</td><td> 10</td><td> 10</td><td> 10</td><td> 10</td><td> 10</td><td> 10</td><td> 10</td><td> 10</td><td> 10</td><td> 10</td><td> 10</td></tr>\n",
              "\t<tr><td>-10</td><td>-10</td><td>-10</td><td>-10</td><td>-10</td><td>-10</td><td>-10</td><td>-10</td><td>-10</td><td>-10</td><td>-10</td><td>-10</td><td>-10</td><td>-10</td><td>-10</td></tr>\n",
              "\t<tr><td> 10</td><td> 10</td><td> 10</td><td> 10</td><td> 10</td><td> 10</td><td> 10</td><td> 10</td><td> 10</td><td> 10</td><td> 10</td><td> 10</td><td> 10</td><td> 10</td><td> 10</td></tr>\n",
              "</tbody>\n",
              "</table>\n"
            ]
          },
          "metadata": {
            "tags": []
          }
        },
        {
          "output_type": "display_data",
          "data": {
            "text/plain": [
              "     [,1]  [,2]  [,3] \n",
              "[1,]  1500 -1500  1500\n",
              "[2,] -1500  1500 -1500\n",
              "[3,]  1500 -1500  1500"
            ],
            "text/latex": "A matrix: 3 × 3 of type dbl\n\\begin{tabular}{lll}\n\t  1500 & -1500 &  1500\\\\\n\t -1500 &  1500 & -1500\\\\\n\t  1500 & -1500 &  1500\\\\\n\\end{tabular}\n",
            "text/markdown": "\nA matrix: 3 × 3 of type dbl\n\n|  1500 | -1500 |  1500 |\n| -1500 |  1500 | -1500 |\n|  1500 | -1500 |  1500 |\n\n",
            "text/html": [
              "<table>\n",
              "<caption>A matrix: 3 × 3 of type dbl</caption>\n",
              "<tbody>\n",
              "\t<tr><td> 1500</td><td>-1500</td><td> 1500</td></tr>\n",
              "\t<tr><td>-1500</td><td> 1500</td><td>-1500</td></tr>\n",
              "\t<tr><td> 1500</td><td>-1500</td><td> 1500</td></tr>\n",
              "</tbody>\n",
              "</table>\n"
            ]
          },
          "metadata": {
            "tags": []
          }
        },
        {
          "output_type": "display_data",
          "data": {
            "text/plain": [
              "     [,1]  [,2]  [,3] \n",
              "[1,]  1500 -1500  1500\n",
              "[2,] -1500  1500 -1500\n",
              "[3,]  1500 -1500  1500"
            ],
            "text/latex": "A matrix: 3 × 3 of type dbl\n\\begin{tabular}{lll}\n\t  1500 & -1500 &  1500\\\\\n\t -1500 &  1500 & -1500\\\\\n\t  1500 & -1500 &  1500\\\\\n\\end{tabular}\n",
            "text/markdown": "\nA matrix: 3 × 3 of type dbl\n\n|  1500 | -1500 |  1500 |\n| -1500 |  1500 | -1500 |\n|  1500 | -1500 |  1500 |\n\n",
            "text/html": [
              "<table>\n",
              "<caption>A matrix: 3 × 3 of type dbl</caption>\n",
              "<tbody>\n",
              "\t<tr><td> 1500</td><td>-1500</td><td> 1500</td></tr>\n",
              "\t<tr><td>-1500</td><td> 1500</td><td>-1500</td></tr>\n",
              "\t<tr><td> 1500</td><td>-1500</td><td> 1500</td></tr>\n",
              "</tbody>\n",
              "</table>\n"
            ]
          },
          "metadata": {
            "tags": []
          }
        }
      ]
    },
    {
      "cell_type": "markdown",
      "metadata": {
        "extensions": {
          "jupyter_dashboards": {
            "version": 1,
            "views": {
              "grid_default": {},
              "report_default": {}
            }
          }
        },
        "id": "qoqWdr11v8lS"
      },
      "source": [
        "## 5. Look at the help file for `outer`. Then,  create the following patterned matrix:\n",
        "$B =\n",
        " \\begin{pmatrix}\n",
        "  0 & 1 & 2 & 3 & 4 \\\\\n",
        "  1 & 2 & 3 & 4 & 5 \\\\\n",
        "  2 & 3 & 4 & 5 & 6  \\\\\n",
        "  3 & 4 & 5 & 6 & 7 \\\\\n",
        "  4 & 5 & 6 & 7 & 8\n",
        " \\end{pmatrix}$"
      ]
    },
    {
      "cell_type": "code",
      "metadata": {
        "extensions": {
          "jupyter_dashboards": {
            "version": 1,
            "views": {
              "grid_default": {},
              "report_default": {}
            }
          }
        },
        "id": "3wCd0XvOv8lT",
        "colab": {
          "base_uri": "https://localhost:8080/",
          "height": 178
        },
        "outputId": "cc131901-2df8-4c1f-c25f-db3092c91ea9"
      },
      "source": [
        "outer(0:4, 0:4, FUN=\"+\")"
      ],
      "execution_count": null,
      "outputs": [
        {
          "output_type": "display_data",
          "data": {
            "text/plain": [
              "     [,1] [,2] [,3] [,4] [,5]\n",
              "[1,] 0    1    2    3    4   \n",
              "[2,] 1    2    3    4    5   \n",
              "[3,] 2    3    4    5    6   \n",
              "[4,] 3    4    5    6    7   \n",
              "[5,] 4    5    6    7    8   "
            ],
            "text/latex": "A matrix: 5 × 5 of type int\n\\begin{tabular}{lllll}\n\t 0 & 1 & 2 & 3 & 4\\\\\n\t 1 & 2 & 3 & 4 & 5\\\\\n\t 2 & 3 & 4 & 5 & 6\\\\\n\t 3 & 4 & 5 & 6 & 7\\\\\n\t 4 & 5 & 6 & 7 & 8\\\\\n\\end{tabular}\n",
            "text/markdown": "\nA matrix: 5 × 5 of type int\n\n| 0 | 1 | 2 | 3 | 4 |\n| 1 | 2 | 3 | 4 | 5 |\n| 2 | 3 | 4 | 5 | 6 |\n| 3 | 4 | 5 | 6 | 7 |\n| 4 | 5 | 6 | 7 | 8 |\n\n",
            "text/html": [
              "<table>\n",
              "<caption>A matrix: 5 × 5 of type int</caption>\n",
              "<tbody>\n",
              "\t<tr><td>0</td><td>1</td><td>2</td><td>3</td><td>4</td></tr>\n",
              "\t<tr><td>1</td><td>2</td><td>3</td><td>4</td><td>5</td></tr>\n",
              "\t<tr><td>2</td><td>3</td><td>4</td><td>5</td><td>6</td></tr>\n",
              "\t<tr><td>3</td><td>4</td><td>5</td><td>6</td><td>7</td></tr>\n",
              "\t<tr><td>4</td><td>5</td><td>6</td><td>7</td><td>8</td></tr>\n",
              "</tbody>\n",
              "</table>\n"
            ]
          },
          "metadata": {
            "tags": []
          }
        }
      ]
    },
    {
      "cell_type": "markdown",
      "metadata": {
        "extensions": {
          "jupyter_dashboards": {
            "version": 1,
            "views": {
              "grid_default": {},
              "report_default": {}
            }
          }
        },
        "id": "_3VjECEgv8lX"
      },
      "source": [
        "## 6. Write two functions - `Fn1` and `Fn2` - such that if $X$ is the vector $(x_{1}, x_{2}, …, x_{n})$, then `Fn1` returns $(x_{1}^2, x_{2}^2, …, x_{n}^2)$ and `Fn2` returns $(x_{1}, \\frac{x_{2}^2}{2}, …, \\frac{x_{n}^n}{n})$"
      ]
    },
    {
      "cell_type": "code",
      "metadata": {
        "extensions": {
          "jupyter_dashboards": {
            "version": 1,
            "views": {
              "grid_default": {},
              "report_default": {}
            }
          }
        },
        "id": "Y0Ow6Ctpv8lY",
        "colab": {
          "base_uri": "https://localhost:8080/",
          "height": 163
        },
        "outputId": "a0255655-827f-4b14-85bd-85ffce39c6b2"
      },
      "source": [
        "Fn1 <- function(xvec){\n",
        "    vec <- xvec^(1:length(xvec))\n",
        "    return(vec)\n",
        "    # note, this only works b/c by default, R does element-wise math on vectors    \n",
        "} \n",
        "\n",
        "Fn2 <- function(xvec){\n",
        "    n <- length(xvec)\n",
        "    vec <- (xvec^(1:n))/(1:length(xvec))\n",
        "    return(vec)\n",
        "} \n",
        "\n",
        "xvec <- c(1, 2, 3)\n",
        "Fn1(xvec)\n",
        "Fn2(xvec)"
      ],
      "execution_count": null,
      "outputs": [
        {
          "output_type": "display_data",
          "data": {
            "text/plain": [
              "[1]  1  4 27"
            ],
            "text/latex": "\\begin{enumerate*}\n\\item 1\n\\item 4\n\\item 27\n\\end{enumerate*}\n",
            "text/markdown": "1. 1\n2. 4\n3. 27\n\n\n",
            "text/html": [
              "<ol class=list-inline>\n",
              "\t<li>1</li>\n",
              "\t<li>4</li>\n",
              "\t<li>27</li>\n",
              "</ol>\n"
            ]
          },
          "metadata": {
            "tags": []
          }
        },
        {
          "output_type": "display_data",
          "data": {
            "text/plain": [
              "[1] 1 2 9"
            ],
            "text/latex": "\\begin{enumerate*}\n\\item 1\n\\item 2\n\\item 9\n\\end{enumerate*}\n",
            "text/markdown": "1. 1\n2. 2\n3. 9\n\n\n",
            "text/html": [
              "<ol class=list-inline>\n",
              "\t<li>1</li>\n",
              "\t<li>2</li>\n",
              "\t<li>9</li>\n",
              "</ol>\n"
            ]
          },
          "metadata": {
            "tags": []
          }
        }
      ]
    },
    {
      "cell_type": "markdown",
      "metadata": {
        "extensions": {
          "jupyter_dashboards": {
            "version": 1,
            "views": {
              "grid_default": {},
              "report_default": {}
            }
          }
        },
        "id": "iUHmnCWev8lc"
      },
      "source": [
        "## 7. Let $X = \\begin{pmatrix} 9, 8, 13, 6, 9 \\end{pmatrix}$. Evaluate the following:\n",
        "#### a. $\\sum_{}^{}X_i$\n",
        "#### b. $\\sum_{i=2}^{4}X_i$\n",
        "#### c. $\\sum_{}^{}(X_i - \\overline{X})$\n",
        "#### d. $\\sum_{}^{}(X_i - \\overline{X})^2$\n",
        "#### e. $\\sum_{}^{}X_i^2$\n",
        "#### f. $(\\sum_{}^{}X_i)^2$\n",
        "#### g. $\\sum_{}^{}X_i^2 - \\frac{(\\sum_{}^{}X_i)^2}{n}$\n",
        "#### h. $\\sum_{}^{}X_i - 9$\n",
        "#### i. $\\sum_{i=1}^{3}(X_i + 2)$\n",
        "#### j. $\\sum_{i=1}^{n}5$\n",
        "#### k. $\\sum_{}^{}2X_i$\n",
        "#### l. $2\\sum_{}^{}X_i$"
      ]
    },
    {
      "cell_type": "code",
      "metadata": {
        "extensions": {
          "jupyter_dashboards": {
            "version": 1,
            "views": {
              "grid_default": {},
              "report_default": {}
            }
          }
        },
        "id": "V2hjiZANv8ld"
      },
      "source": [
        "X <- c(9, 8, 13, 6, 9)"
      ],
      "execution_count": null,
      "outputs": []
    },
    {
      "cell_type": "code",
      "metadata": {
        "extensions": {
          "jupyter_dashboards": {
            "version": 1,
            "views": {
              "grid_default": {},
              "report_default": {}
            }
          }
        },
        "id": "92ZO_7ykv8li",
        "colab": {
          "base_uri": "https://localhost:8080/",
          "height": 34
        },
        "outputId": "9016eb0a-ba3f-4152-a5e9-f99dfec66df7"
      },
      "source": [
        "# a\n",
        "a_ans <- sum(X)\n",
        "a_ans"
      ],
      "execution_count": null,
      "outputs": [
        {
          "output_type": "display_data",
          "data": {
            "text/plain": [
              "[1] 45"
            ],
            "text/latex": "45",
            "text/markdown": "45",
            "text/html": [
              "45"
            ]
          },
          "metadata": {
            "tags": []
          }
        }
      ]
    },
    {
      "cell_type": "code",
      "metadata": {
        "extensions": {
          "jupyter_dashboards": {
            "version": 1,
            "views": {
              "grid_default": {},
              "report_default": {}
            }
          }
        },
        "id": "FZVpAbMxv8lm",
        "colab": {
          "base_uri": "https://localhost:8080/",
          "height": 34
        },
        "outputId": "5a28eb91-5e5d-4ac3-8ac7-5113532ad38e"
      },
      "source": [
        "# b\n",
        "b_ans <- sum(X[2:4])\n",
        "b_ans"
      ],
      "execution_count": null,
      "outputs": [
        {
          "output_type": "display_data",
          "data": {
            "text/plain": [
              "[1] 27"
            ],
            "text/latex": "27",
            "text/markdown": "27",
            "text/html": [
              "27"
            ]
          },
          "metadata": {
            "tags": []
          }
        }
      ]
    },
    {
      "cell_type": "code",
      "metadata": {
        "extensions": {
          "jupyter_dashboards": {
            "version": 1,
            "views": {
              "grid_default": {},
              "report_default": {}
            }
          }
        },
        "id": "3DRTevt-v8lr",
        "colab": {
          "base_uri": "https://localhost:8080/",
          "height": 52
        },
        "outputId": "bc619d07-f79d-4ba6-85eb-1d1246d0d7a4"
      },
      "source": [
        "# c\n",
        "# Wrong answer.\n",
        "c_ans <- sum(X) - mean(X)\n",
        "c_ans\n",
        "\n",
        "# Right answer. Note: this is the basis for the first, failed measure of spread that we defined in lecture 2.\n",
        "X_dev <- X - mean(X)\n",
        "c_ans <- sum(X_dev) \n",
        "c_ans"
      ],
      "execution_count": null,
      "outputs": [
        {
          "output_type": "display_data",
          "data": {
            "text/plain": [
              "[1] 36"
            ],
            "text/latex": "36",
            "text/markdown": "36",
            "text/html": [
              "36"
            ]
          },
          "metadata": {
            "tags": []
          }
        },
        {
          "output_type": "display_data",
          "data": {
            "text/plain": [
              "[1] 0"
            ],
            "text/latex": "0",
            "text/markdown": "0",
            "text/html": [
              "0"
            ]
          },
          "metadata": {
            "tags": []
          }
        }
      ]
    },
    {
      "cell_type": "code",
      "metadata": {
        "extensions": {
          "jupyter_dashboards": {
            "version": 1,
            "views": {
              "grid_default": {},
              "report_default": {}
            }
          }
        },
        "id": "V6KuhThKv8lw",
        "colab": {
          "base_uri": "https://localhost:8080/",
          "height": 34
        },
        "outputId": "8e2256ac-e8d4-44d0-f1a1-75d35c137d10"
      },
      "source": [
        "# d\n",
        "d_ans <- sum(X_dev^2)\n",
        "d_ans"
      ],
      "execution_count": null,
      "outputs": [
        {
          "output_type": "display_data",
          "data": {
            "text/plain": [
              "[1] 26"
            ],
            "text/latex": "26",
            "text/markdown": "26",
            "text/html": [
              "26"
            ]
          },
          "metadata": {
            "tags": []
          }
        }
      ]
    },
    {
      "cell_type": "code",
      "metadata": {
        "extensions": {
          "jupyter_dashboards": {
            "version": 1,
            "views": {
              "grid_default": {},
              "report_default": {}
            }
          }
        },
        "id": "ZYNpUxQYv8lz",
        "colab": {
          "base_uri": "https://localhost:8080/",
          "height": 34
        },
        "outputId": "5226441f-f6e2-443b-f869-6e7c6bbbb9f7"
      },
      "source": [
        "# e\n",
        "e_ans <- sum(X^2)\n",
        "e_ans"
      ],
      "execution_count": null,
      "outputs": [
        {
          "output_type": "display_data",
          "data": {
            "text/plain": [
              "[1] 431"
            ],
            "text/latex": "431",
            "text/markdown": "431",
            "text/html": [
              "431"
            ]
          },
          "metadata": {
            "tags": []
          }
        }
      ]
    },
    {
      "cell_type": "code",
      "metadata": {
        "extensions": {
          "jupyter_dashboards": {
            "version": 1,
            "views": {
              "grid_default": {},
              "report_default": {}
            }
          }
        },
        "id": "o8Qo-Ccov8l2",
        "colab": {
          "base_uri": "https://localhost:8080/",
          "height": 34
        },
        "outputId": "b9b7a175-d229-466d-b9e8-d7f1f880287d"
      },
      "source": [
        "# f\n",
        "f_ans <- sum(X)^2\n",
        "f_ans"
      ],
      "execution_count": null,
      "outputs": [
        {
          "output_type": "display_data",
          "data": {
            "text/plain": [
              "[1] 2025"
            ],
            "text/latex": "2025",
            "text/markdown": "2025",
            "text/html": [
              "2025"
            ]
          },
          "metadata": {
            "tags": []
          }
        }
      ]
    },
    {
      "cell_type": "code",
      "metadata": {
        "extensions": {
          "jupyter_dashboards": {
            "version": 1,
            "views": {
              "grid_default": {},
              "report_default": {}
            }
          }
        },
        "id": "QnzQvSx_v8l7",
        "colab": {
          "base_uri": "https://localhost:8080/",
          "height": 34
        },
        "outputId": "eacaa456-8d4d-42dc-aab1-e8290e3ab224"
      },
      "source": [
        "# g\n",
        "n <- length(X)\n",
        "g_ans <- sum(X^2) - (sum(X)^2)/n\n",
        "g_ans"
      ],
      "execution_count": null,
      "outputs": [
        {
          "output_type": "display_data",
          "data": {
            "text/plain": [
              "[1] 26"
            ],
            "text/latex": "26",
            "text/markdown": "26",
            "text/html": [
              "26"
            ]
          },
          "metadata": {
            "tags": []
          }
        }
      ]
    },
    {
      "cell_type": "code",
      "metadata": {
        "extensions": {
          "jupyter_dashboards": {
            "version": 1,
            "views": {
              "grid_default": {},
              "report_default": {}
            }
          }
        },
        "id": "zwMZGQ1xv8l9",
        "colab": {
          "base_uri": "https://localhost:8080/",
          "height": 34
        },
        "outputId": "f6a3de57-5898-4579-ece4-5b57729c5526"
      },
      "source": [
        "# h\n",
        "h_ans <- sum(X) - 9\n",
        "h_ans"
      ],
      "execution_count": null,
      "outputs": [
        {
          "output_type": "display_data",
          "data": {
            "text/plain": [
              "[1] 36"
            ],
            "text/latex": "36",
            "text/markdown": "36",
            "text/html": [
              "36"
            ]
          },
          "metadata": {
            "tags": []
          }
        }
      ]
    },
    {
      "cell_type": "code",
      "metadata": {
        "extensions": {
          "jupyter_dashboards": {
            "version": 1,
            "views": {
              "grid_default": {},
              "report_default": {}
            }
          }
        },
        "id": "3fk9Xcoav8l_",
        "colab": {
          "base_uri": "https://localhost:8080/",
          "height": 34
        },
        "outputId": "efa7be4a-c7df-4621-d0a4-7e018de1cdee"
      },
      "source": [
        "# i\n",
        "i_ans <- sum(X[1:3]+2)\n",
        "i_ans"
      ],
      "execution_count": null,
      "outputs": [
        {
          "output_type": "display_data",
          "data": {
            "text/plain": [
              "[1] 36"
            ],
            "text/latex": "36",
            "text/markdown": "36",
            "text/html": [
              "36"
            ]
          },
          "metadata": {
            "tags": []
          }
        }
      ]
    },
    {
      "cell_type": "code",
      "metadata": {
        "extensions": {
          "jupyter_dashboards": {
            "version": 1,
            "views": {
              "grid_default": {},
              "report_default": {}
            }
          }
        },
        "id": "zxoQcMxqv8mC",
        "colab": {
          "base_uri": "https://localhost:8080/",
          "height": 34
        },
        "outputId": "4a44f09d-3d00-4ad8-f294-389c800b834a"
      },
      "source": [
        "# j\n",
        "j_ans <- sum(5)\n",
        "j_ans"
      ],
      "execution_count": null,
      "outputs": [
        {
          "output_type": "display_data",
          "data": {
            "text/plain": [
              "[1] 5"
            ],
            "text/latex": "5",
            "text/markdown": "5",
            "text/html": [
              "5"
            ]
          },
          "metadata": {
            "tags": []
          }
        }
      ]
    },
    {
      "cell_type": "code",
      "metadata": {
        "extensions": {
          "jupyter_dashboards": {
            "version": 1,
            "views": {
              "grid_default": {},
              "report_default": {}
            }
          }
        },
        "id": "B8HkCqZkv8mF",
        "colab": {
          "base_uri": "https://localhost:8080/",
          "height": 34
        },
        "outputId": "84e7b118-f33c-4dca-8770-0a41d0ef0519"
      },
      "source": [
        "# k\n",
        "k_ans <- sum(2*X)\n",
        "k_ans"
      ],
      "execution_count": null,
      "outputs": [
        {
          "output_type": "display_data",
          "data": {
            "text/plain": [
              "[1] 90"
            ],
            "text/latex": "90",
            "text/markdown": "90",
            "text/html": [
              "90"
            ]
          },
          "metadata": {
            "tags": []
          }
        }
      ]
    },
    {
      "cell_type": "code",
      "metadata": {
        "extensions": {
          "jupyter_dashboards": {
            "version": 1,
            "views": {
              "grid_default": {},
              "report_default": {}
            }
          }
        },
        "id": "g-FpksO3v8mI",
        "colab": {
          "base_uri": "https://localhost:8080/",
          "height": 34
        },
        "outputId": "8166d64a-ca06-41f5-ddea-4e5aa30c1a8a"
      },
      "source": [
        "# l\n",
        "l_ans <- 2*sum(X)\n",
        "l_ans"
      ],
      "execution_count": null,
      "outputs": [
        {
          "output_type": "display_data",
          "data": {
            "text/plain": [
              "[1] 90"
            ],
            "text/latex": "90",
            "text/markdown": "90",
            "text/html": [
              "90"
            ]
          },
          "metadata": {
            "tags": []
          }
        }
      ]
    },
    {
      "cell_type": "markdown",
      "metadata": {
        "extensions": {
          "jupyter_dashboards": {
            "version": 1,
            "views": {
              "grid_default": {},
              "report_default": {}
            }
          }
        },
        "id": "gTVoT2u2v8mL"
      },
      "source": [
        "## 8. The following data are the carapace (shell) lengths in centimeters of a sample of adult female green turtles, Chelonia mydas, measured while nesting at Heron Island in Australia's Great Barrier Reef: \n",
        "$(110, 105, 117, 113, 95, 115, 98, 97, 63, 120)$\n",
        "### Calculate the following descriptive statistics for this sample: \n",
        "#### a. median\n",
        "#### b. sample mean\n",
        "#### c. corrected sum of squares\n",
        "#### d. sample variance\n",
        "#### e. standard deviation\n",
        "#### f. range\n"
      ]
    },
    {
      "cell_type": "code",
      "metadata": {
        "extensions": {
          "jupyter_dashboards": {
            "version": 1,
            "views": {
              "grid_default": {},
              "report_default": {}
            }
          }
        },
        "id": "x-1-qPXPv8mL"
      },
      "source": [
        "X <- c(110, 105, 117, 113, 95, 115, 98, 97, 63, 120)"
      ],
      "execution_count": null,
      "outputs": []
    },
    {
      "cell_type": "code",
      "metadata": {
        "extensions": {
          "jupyter_dashboards": {
            "version": 1,
            "views": {
              "grid_default": {},
              "report_default": {}
            }
          }
        },
        "id": "ZT9CKoZov8mN",
        "colab": {
          "base_uri": "https://localhost:8080/",
          "height": 52
        },
        "outputId": "4eec6906-5df3-46f0-c81c-3840e993ef25"
      },
      "source": [
        "# a (median)\n",
        "# one way\n",
        "X_sorted <- sort(X)\n",
        "n <- length(X)\n",
        "if ((n %% 2) == 1){\n",
        "    medX <- X[n/2]\n",
        "} else if ((n %% 2) == 0) {\n",
        "    vec <- c(X_sorted[n/2], X_sorted[n/2+1])\n",
        "    medX <- mean(vec)\n",
        "}\n",
        "medX\n",
        "\n",
        "# simplest way\n",
        "medX <- median(X)\n",
        "medX"
      ],
      "execution_count": null,
      "outputs": [
        {
          "output_type": "display_data",
          "data": {
            "text/plain": [
              "[1] 107.5"
            ],
            "text/latex": "107.5",
            "text/markdown": "107.5",
            "text/html": [
              "107.5"
            ]
          },
          "metadata": {
            "tags": []
          }
        },
        {
          "output_type": "display_data",
          "data": {
            "text/plain": [
              "[1] 107.5"
            ],
            "text/latex": "107.5",
            "text/markdown": "107.5",
            "text/html": [
              "107.5"
            ]
          },
          "metadata": {
            "tags": []
          }
        }
      ]
    },
    {
      "cell_type": "code",
      "metadata": {
        "extensions": {
          "jupyter_dashboards": {
            "version": 1,
            "views": {
              "grid_default": {},
              "report_default": {}
            }
          }
        },
        "id": "brOkR7pGv8mQ",
        "colab": {
          "base_uri": "https://localhost:8080/",
          "height": 52
        },
        "outputId": "62082000-6f3f-4213-91a6-484c75c50ac2"
      },
      "source": [
        "# b (mean)\n",
        "# one way\n",
        "n <- length(X)\n",
        "meanX <- sum(X) / n\n",
        "meanX\n",
        "\n",
        "# simple way\n",
        "meanX <- mean(X)\n",
        "meanX"
      ],
      "execution_count": null,
      "outputs": [
        {
          "output_type": "display_data",
          "data": {
            "text/plain": [
              "[1] 103.3"
            ],
            "text/latex": "103.3",
            "text/markdown": "103.3",
            "text/html": [
              "103.3"
            ]
          },
          "metadata": {
            "tags": []
          }
        },
        {
          "output_type": "display_data",
          "data": {
            "text/plain": [
              "[1] 103.3"
            ],
            "text/latex": "103.3",
            "text/markdown": "103.3",
            "text/html": [
              "103.3"
            ]
          },
          "metadata": {
            "tags": []
          }
        }
      ]
    },
    {
      "cell_type": "code",
      "metadata": {
        "extensions": {
          "jupyter_dashboards": {
            "version": 1,
            "views": {
              "grid_default": {},
              "report_default": {}
            }
          }
        },
        "id": "UksUk8qiv8mS",
        "colab": {
          "base_uri": "https://localhost:8080/",
          "height": 34
        },
        "outputId": "ac50277e-5e34-427d-e1ba-79de1035f6d2"
      },
      "source": [
        "#c (corrected sum of squares)\n",
        "cssX <- sum((X-mean(X))^2)\n",
        "cssX"
      ],
      "execution_count": null,
      "outputs": [
        {
          "output_type": "display_data",
          "data": {
            "text/plain": [
              "[1] 2506.1"
            ],
            "text/latex": "2506.1",
            "text/markdown": "2506.1",
            "text/html": [
              "2506.1"
            ]
          },
          "metadata": {
            "tags": []
          }
        }
      ]
    },
    {
      "cell_type": "code",
      "metadata": {
        "extensions": {
          "jupyter_dashboards": {
            "version": 1,
            "views": {
              "grid_default": {},
              "report_default": {}
            }
          }
        },
        "id": "eH3Dur_hv8mV",
        "colab": {
          "base_uri": "https://localhost:8080/",
          "height": 52
        },
        "outputId": "a770c2eb-a866-4ddf-e1a6-bece75244892"
      },
      "source": [
        "# d (variance)\n",
        "# one way\n",
        "n <- length(X)\n",
        "varX <- sum((X-mean(X))^2) / (n-1)\n",
        "varX\n",
        "\n",
        "# simple way\n",
        "varX <- var(X)\n",
        "varX"
      ],
      "execution_count": null,
      "outputs": [
        {
          "output_type": "display_data",
          "data": {
            "text/plain": [
              "[1] 278.4556"
            ],
            "text/latex": "278.455555555556",
            "text/markdown": "278.455555555556",
            "text/html": [
              "278.455555555556"
            ]
          },
          "metadata": {
            "tags": []
          }
        },
        {
          "output_type": "display_data",
          "data": {
            "text/plain": [
              "[1] 278.4556"
            ],
            "text/latex": "278.455555555556",
            "text/markdown": "278.455555555556",
            "text/html": [
              "278.455555555556"
            ]
          },
          "metadata": {
            "tags": []
          }
        }
      ]
    },
    {
      "cell_type": "code",
      "metadata": {
        "extensions": {
          "jupyter_dashboards": {
            "version": 1,
            "views": {
              "grid_default": {},
              "report_default": {}
            }
          }
        },
        "id": "dDz7Xa8Uv8mX",
        "colab": {
          "base_uri": "https://localhost:8080/",
          "height": 52
        },
        "outputId": "a1933f1a-bcfd-4898-cc4a-ec997b7a7c3b"
      },
      "source": [
        "# e (standard deviation)\n",
        "# one way\n",
        "sdX <- sqrt(varX)\n",
        "sdX\n",
        "\n",
        "# simple way\n",
        "sdX <- sd(X)\n",
        "sdX"
      ],
      "execution_count": null,
      "outputs": [
        {
          "output_type": "display_data",
          "data": {
            "text/plain": [
              "[1] 16.68699"
            ],
            "text/latex": "16.6869876117757",
            "text/markdown": "16.6869876117757",
            "text/html": [
              "16.6869876117757"
            ]
          },
          "metadata": {
            "tags": []
          }
        },
        {
          "output_type": "display_data",
          "data": {
            "text/plain": [
              "[1] 16.68699"
            ],
            "text/latex": "16.6869876117757",
            "text/markdown": "16.6869876117757",
            "text/html": [
              "16.6869876117757"
            ]
          },
          "metadata": {
            "tags": []
          }
        }
      ]
    },
    {
      "cell_type": "code",
      "metadata": {
        "extensions": {
          "jupyter_dashboards": {
            "version": 1,
            "views": {
              "grid_default": {},
              "report_default": {}
            }
          }
        },
        "id": "fIqvHTs7v8mb",
        "colab": {
          "base_uri": "https://localhost:8080/",
          "height": 52
        },
        "outputId": "c11f1e45-6436-4825-a75b-a49fe410cd2e"
      },
      "source": [
        "# f (range)\n",
        "rngX <- max(X) - min(X) \n",
        "rngX\n",
        "\n",
        "# or\n",
        "\n",
        "rngX <- diff(range(X))\n",
        "rngX"
      ],
      "execution_count": null,
      "outputs": [
        {
          "output_type": "display_data",
          "data": {
            "text/plain": [
              "[1] 57"
            ],
            "text/latex": "57",
            "text/markdown": "57",
            "text/html": [
              "57"
            ]
          },
          "metadata": {
            "tags": []
          }
        },
        {
          "output_type": "display_data",
          "data": {
            "text/plain": [
              "[1] 57"
            ],
            "text/latex": "57",
            "text/markdown": "57",
            "text/html": [
              "57"
            ]
          },
          "metadata": {
            "tags": []
          }
        }
      ]
    },
    {
      "cell_type": "markdown",
      "metadata": {
        "extensions": {
          "jupyter_dashboards": {
            "version": 1,
            "views": {
              "grid_default": {},
              "report_default": {}
            }
          }
        },
        "id": "0lWKF8Unv8mg"
      },
      "source": [
        "## 9. The red-tailed tropical bird, Phaethon rubricauda, is an extremely rare sea bird that nests on several islands of the Queensland coast of Australia. As part of a conservation effort to manage these endangered birds, every nesting pair was measured and weighed. Below are the body weights of these birds (in kg).\n",
        ">Female | Male\n",
        "> :---: | :---:\n",
        "> 2.45 | 2.86\n",
        "> 2.57 | 2.65\n",
        "> 2.81 | 2.75\n",
        "> 2.37 | 2.60\n",
        "> 2.01 | 2.30\n",
        "> 2.50 | 2.49\n",
        "> 2.32 | 2.84\n",
        "\n",
        "#### a. Determine the mean, variance, and standard deviation for the female weights.\n",
        "#### b. Determine the mean, variance, and standard deviation for the male weights.\n",
        "#### c. Is this a sample or population? Comment on the differences or similarities between the two data sets."
      ]
    },
    {
      "cell_type": "code",
      "metadata": {
        "extensions": {
          "jupyter_dashboards": {
            "version": 1,
            "views": {
              "grid_default": {},
              "report_default": {}
            }
          }
        },
        "id": "aExSI3Lav8mh",
        "colab": {
          "base_uri": "https://localhost:8080/",
          "height": 121
        },
        "outputId": "8ca30662-508f-469a-fb8a-b037982b8d0e"
      },
      "source": [
        "# a and b\n",
        "# simple way\n",
        "f <- c(2.45, 2.57, 2.81, 2.37, 2.01, 2.50, 2.32)\n",
        "mean(f)\n",
        "var(f)\n",
        "sd(f)\n",
        "\n",
        "m <- c(2.86, 2.65, 2.75, 2.60, 2.30, 2.49, 2.84)\n",
        "mean(m)\n",
        "var(m)\n",
        "sd(m)"
      ],
      "execution_count": null,
      "outputs": [
        {
          "output_type": "display_data",
          "data": {
            "text/plain": [
              "[1] 2.432857"
            ],
            "text/latex": "2.43285714285714",
            "text/markdown": "2.43285714285714",
            "text/html": [
              "2.43285714285714"
            ]
          },
          "metadata": {
            "tags": []
          }
        },
        {
          "output_type": "display_data",
          "data": {
            "text/plain": [
              "[1] 0.06022381"
            ],
            "text/latex": "0.0602238095238096",
            "text/markdown": "0.0602238095238096",
            "text/html": [
              "0.0602238095238096"
            ]
          },
          "metadata": {
            "tags": []
          }
        },
        {
          "output_type": "display_data",
          "data": {
            "text/plain": [
              "[1] 0.2454054"
            ],
            "text/latex": "0.245405398318394",
            "text/markdown": "0.245405398318394",
            "text/html": [
              "0.245405398318394"
            ]
          },
          "metadata": {
            "tags": []
          }
        },
        {
          "output_type": "display_data",
          "data": {
            "text/plain": [
              "[1] 2.641429"
            ],
            "text/latex": "2.64142857142857",
            "text/markdown": "2.64142857142857",
            "text/html": [
              "2.64142857142857"
            ]
          },
          "metadata": {
            "tags": []
          }
        },
        {
          "output_type": "display_data",
          "data": {
            "text/plain": [
              "[1] 0.04004762"
            ],
            "text/latex": "0.040047619047619",
            "text/markdown": "0.040047619047619",
            "text/html": [
              "0.040047619047619"
            ]
          },
          "metadata": {
            "tags": []
          }
        },
        {
          "output_type": "display_data",
          "data": {
            "text/plain": [
              "[1] 0.200119"
            ],
            "text/latex": "0.200119012209283",
            "text/markdown": "0.200119012209283",
            "text/html": [
              "0.200119012209283"
            ]
          },
          "metadata": {
            "tags": []
          }
        }
      ]
    },
    {
      "cell_type": "code",
      "metadata": {
        "extensions": {
          "jupyter_dashboards": {
            "version": 1,
            "views": {
              "grid_default": {},
              "report_default": {}
            }
          }
        },
        "id": "_6yuxWQwv8ml",
        "colab": {
          "base_uri": "https://localhost:8080/",
          "height": 298
        },
        "outputId": "0d6d831a-26a8-4284-9a14-afca53797dd6"
      },
      "source": [
        "# a and b, using data frames\n",
        "df <- data.frame(c(2.45, 2.57, 2.81, 2.37, 2.01, 2.50, 2.32), c(2.86, 2.65, 2.75, 2.60, 2.30, 2.49, 2.84))\n",
        "names(df) <- c(\"Female\", \"Male\")\n",
        "\n",
        "# note that the following line is equivalent to the above two lines:\n",
        "df <- data.frame(Female=c(2.45, 2.57, 2.81, 2.37, 2.01, 2.50, 2.32), Male=c(2.86, 2.65, 2.75, 2.60, 2.30, 2.49, 2.84))\n",
        "\n",
        "df\n",
        "\n",
        "means <- c(mean(df$Female), mean(df$Male))\n",
        "print(paste('Mean: ', toString(means))) # paste concatenates two strings\n",
        "\n",
        "vars <- c(var(df$Female), var(df$Male))\n",
        "print(paste('Variance: ', toString(vars)))\n",
        "\n",
        "sds <- c(sd(df$Female), sd(df$Male))\n",
        "print(paste('SD: ', toString(sds)))"
      ],
      "execution_count": null,
      "outputs": [
        {
          "output_type": "display_data",
          "data": {
            "text/plain": [
              "  Female Male\n",
              "1 2.45   2.86\n",
              "2 2.57   2.65\n",
              "3 2.81   2.75\n",
              "4 2.37   2.60\n",
              "5 2.01   2.30\n",
              "6 2.50   2.49\n",
              "7 2.32   2.84"
            ],
            "text/latex": "A data.frame: 7 × 2\n\\begin{tabular}{r|ll}\n Female & Male\\\\\n <dbl> & <dbl>\\\\\n\\hline\n\t 2.45 & 2.86\\\\\n\t 2.57 & 2.65\\\\\n\t 2.81 & 2.75\\\\\n\t 2.37 & 2.60\\\\\n\t 2.01 & 2.30\\\\\n\t 2.50 & 2.49\\\\\n\t 2.32 & 2.84\\\\\n\\end{tabular}\n",
            "text/markdown": "\nA data.frame: 7 × 2\n\n| Female &lt;dbl&gt; | Male &lt;dbl&gt; |\n|---|---|\n| 2.45 | 2.86 |\n| 2.57 | 2.65 |\n| 2.81 | 2.75 |\n| 2.37 | 2.60 |\n| 2.01 | 2.30 |\n| 2.50 | 2.49 |\n| 2.32 | 2.84 |\n\n",
            "text/html": [
              "<table>\n",
              "<caption>A data.frame: 7 × 2</caption>\n",
              "<thead>\n",
              "\t<tr><th scope=col>Female</th><th scope=col>Male</th></tr>\n",
              "\t<tr><th scope=col>&lt;dbl&gt;</th><th scope=col>&lt;dbl&gt;</th></tr>\n",
              "</thead>\n",
              "<tbody>\n",
              "\t<tr><td>2.45</td><td>2.86</td></tr>\n",
              "\t<tr><td>2.57</td><td>2.65</td></tr>\n",
              "\t<tr><td>2.81</td><td>2.75</td></tr>\n",
              "\t<tr><td>2.37</td><td>2.60</td></tr>\n",
              "\t<tr><td>2.01</td><td>2.30</td></tr>\n",
              "\t<tr><td>2.50</td><td>2.49</td></tr>\n",
              "\t<tr><td>2.32</td><td>2.84</td></tr>\n",
              "</tbody>\n",
              "</table>\n"
            ]
          },
          "metadata": {
            "tags": []
          }
        },
        {
          "output_type": "stream",
          "text": [
            "[1] \"Mean:  2.43285714285714, 2.64142857142857\"\n",
            "[1] \"Variance:  0.0602238095238096, 0.040047619047619\"\n",
            "[1] \"SD:  0.245405398318394, 0.200119012209283\"\n"
          ],
          "name": "stdout"
        }
      ]
    },
    {
      "cell_type": "code",
      "metadata": {
        "extensions": {
          "jupyter_dashboards": {
            "version": 1,
            "views": {
              "grid_default": {},
              "report_default": {}
            }
          }
        },
        "id": "xXkk_T_Hv8mn"
      },
      "source": [
        "# c\n",
        "# This is a population because EVERY nesting pair was measured. \n",
        "# Females, on average, are about 0.2 kg lighter than males but are more variable."
      ],
      "execution_count": null,
      "outputs": []
    },
    {
      "cell_type": "markdown",
      "metadata": {
        "extensions": {
          "jupyter_dashboards": {
            "version": 1,
            "views": {
              "grid_default": {},
              "report_default": {}
            }
          }
        },
        "id": "QMPuwUaJv8mp"
      },
      "source": [
        "## 10. Descriptive statistics for an extensive study of human morphometrics has been completed in the United States. \n",
        "### The measurements on height have to be converted from inches to centimeters for publication in a British journal. The mean in the study was 68 inches and the standard deviation was 10 inches. What should the reported mean and variance be?"
      ]
    },
    {
      "cell_type": "code",
      "metadata": {
        "extensions": {
          "jupyter_dashboards": {
            "version": 1,
            "views": {
              "grid_default": {},
              "report_default": {}
            }
          }
        },
        "id": "XHIFQfQbv8mp",
        "colab": {
          "base_uri": "https://localhost:8080/",
          "height": 52
        },
        "outputId": "a4ad2998-c340-43a5-af48-7be462e47825"
      },
      "source": [
        "m_inch <- 68\n",
        "sd_inch <- 10\n",
        "\n",
        "# mean in cm\n",
        "m_cm <- m_inch * 2.54 # 2.54 cm/inch\n",
        "m_cm\n",
        "\n",
        "# sd in cm\n",
        "sd_cm <- sd_inch * 2.54\n",
        "sd_cm"
      ],
      "execution_count": null,
      "outputs": [
        {
          "output_type": "display_data",
          "data": {
            "text/plain": [
              "[1] 172.72"
            ],
            "text/latex": "172.72",
            "text/markdown": "172.72",
            "text/html": [
              "172.72"
            ]
          },
          "metadata": {
            "tags": []
          }
        },
        {
          "output_type": "display_data",
          "data": {
            "text/plain": [
              "[1] 25.4"
            ],
            "text/latex": "25.4",
            "text/markdown": "25.4",
            "text/html": [
              "25.4"
            ]
          },
          "metadata": {
            "tags": []
          }
        }
      ]
    },
    {
      "cell_type": "markdown",
      "metadata": {
        "extensions": {
          "jupyter_dashboards": {
            "version": 1,
            "views": {
              "grid_default": {},
              "report_default": {}
            }
          }
        },
        "id": "kvvuvHMsv8mr"
      },
      "source": [
        "## 11. The list below provides snowfall data for 63 consecutive years in Buffalo, NY (in inches per year): \n",
        "$(25.0, 38.8, 39.9, 40.1, 46.7, 49.1, 49.6, 51.1, 51.6, 53.5, 54.7, 55.5, 55.9, 58.8, 60.3, 63.6, 65.4, 66.1, 69.3, 70.9, 71.4, 71.5, 71.8, 72.9, 74.4, 76.2, 77.8, 78.1, 78.4, 79.0, 79.3, 79.7, 80.7, 82.4, 82.4, 83.0, 83.6, 83.6, 84.8, 85.5, 87.4, 88.7, 89.6, 89.8, 89.9, 90.9, 97.0, 98.3, 101.4, 102.4, 103.9, 104.5, 105.2, 110.0, 110.5, 110.5, 113.7, 114.5, 115.6, 120.5, 120.7, 124.7, 126.4)$`\n",
        "### The data have been rearranged in order of increasing annual snowfall. Using R, create two histograms for these data, one with 20\" bins and one with 10\" bins. Do the two histograms give different impressions of the dataset? "
      ]
    },
    {
      "cell_type": "code",
      "metadata": {
        "extensions": {
          "jupyter_dashboards": {
            "version": 1,
            "views": {
              "grid_default": {},
              "report_default": {}
            }
          }
        },
        "scrolled": true,
        "id": "Ms7zOycCv8ms",
        "colab": {
          "base_uri": "https://localhost:8080/",
          "height": 857
        },
        "outputId": "e3f6fb80-16d1-4cd5-d7f7-a506cd9d7fe8"
      },
      "source": [
        "vec <- c(25.0, 38.8, 39.9, 40.1, 46.7, 49.1, 49.6, 51.1, 51.6, 53.5, 54.7, 55.5, 55.9, 58.8, 60.3, 63.6, 65.4, 66.1, 69.3, 70.9, 71.4, 71.5, 71.8, 72.9, 74.4, 76.2, 77.8, 78.1, 78.4, 79.0, 79.3, 79.7, 80.7, 82.4, 82.4, 83.0, 83.6, 83.6, 84.8, 85.5, 87.4, 88.7, 89.6, 89.8, 89.9, 90.9, 97.0, 98.3, 101.4, 102.4, 103.9, 104.5, 105.2, 110.0, 110.5, 110.5, 113.7, 114.5, 115.6, 120.5, 120.7, 124.7, 126.4)\n",
        "\n",
        "par(mfrow=c(1,2)) # to sub-divide the plot\n",
        "hist(vec, breaks=seq(20, 140, 20), main=\"20-inch bins\")\n",
        "hist(vec, breaks=seq(20, 140, 10), main=\"10-inch bins\")\n",
        "\n",
        "# The histogram with more closely spaced bins gives a more detailed depiction of the distribution, \n",
        "# showing that it may not be unimodal."
      ],
      "execution_count": null,
      "outputs": [
        {
          "output_type": "display_data",
          "data": {
            "image/png": "[encoded data removed]",
            "text/plain": [
              "Plot with title “10-inch bins”"
            ]
          },
          "metadata": {
            "tags": []
          }
        }
      ]
    },
    {
      "cell_type": "markdown",
      "metadata": {
        "extensions": {
          "jupyter_dashboards": {
            "version": 1,
            "views": {
              "grid_default": {},
              "report_default": {}
            }
          }
        },
        "id": "o-kXbFqKv8mx"
      },
      "source": [
        "## 12. A study of two species generates the following weights (kg) for mature males:\n",
        ">O. virginianus ||||||| O. hemionus ||\n",
        "> --- | --- | --- | --- | --- | --- | --- | --- | ---\n",
        "> 90 | 77 ||||||  99 |  84\n",
        "> 71 | 90 ||||||  80 | 104\n",
        "> 83 | 83 |||||| 120 | 104\n",
        "> 85 | 84 ||||||  91 | 101\n",
        "> 86 | 91 |||||| 106 | 109\n",
        "> 92 | 70 ||||||  95 |  80\n",
        "> 75 | 71 |||||| 100 |  91\n",
        "> 76 | 75 |||||| 109 |  73\n",
        "> 83 | 89 |||||| 101 |  98\n",
        "> 85 | 92 ||||||  93 | 102\n",
        "### Calculate appropriate descriptive statistics for each sample. Also calculate five-number summaries (median, first and third quartiles, and the two extremes) and draw box plots (in R) for each sample. Describe any observations: what are the significant differences between the two samples?"
      ]
    },
    {
      "cell_type": "code",
      "metadata": {
        "extensions": {
          "jupyter_dashboards": {
            "version": 1,
            "views": {
              "grid_default": {},
              "report_default": {}
            }
          }
        },
        "id": "wWleKVWQv8mx",
        "colab": {
          "base_uri": "https://localhost:8080/",
          "height": 732
        },
        "outputId": "281a7260-49f5-4418-f46f-dd70f137823b"
      },
      "source": [
        "# As in problem 9, we can use data frames:\n",
        "df <- data.frame(virg=c(90, 71, 83, 85, 86, 92, 75, 76, 83, 85, 77, 90, 83, 84, 91, 70, 71, 75, 89, 92), \n",
        "                 hemi=c(99, 80, 120, 91, 106, 95, 100, 109, 101, 93, 84, 104, 104, 101, 109, 80, 91, 73, 98, 102))\n",
        "head(df) # For larger datasets, instead of printing the entire data frame, we can use the head() function,\n",
        "         # which prints only the first 6 rows. Similarly, tail() prints only the last 6 rows.\n",
        "\n",
        "print(paste('Virg mean ± sd: ', toString(mean(df$virg)), ' ± ', toString(sd(df$virg)))) # paste concatenates strings\n",
        "print(paste('Hemi mean ± sd: ', toString(mean(df$hemi)), ' ± ', toString(sd(df$hemi)))) \n",
        "\n",
        "# For the five number summaries, we can use either the quantile() or fivenum() functions\n",
        "vec <- quantile(df$virg, probs=c(0.0, 0.25, 0.5, 0.75, 1.0))\n",
        "print(\"Virg quantiles: \")\n",
        "vec\n",
        "\n",
        "vec <- quantile(df$hemi, probs=c(0.0, 0.25, 0.5, 0.75, 1.0))\n",
        "print(\"Hemi quantiles: \")\n",
        "vec\n",
        "\n",
        "# using fivenum()\n",
        "vec <- fivenum(df$virg)\n",
        "print(paste('Virg quantiles: ', toString(vec)))\n",
        "\n",
        "vec <- fivenum(df$hemi)\n",
        "print(paste('Hemi quantiles: ', toString(vec)))"
      ],
      "execution_count": null,
      "outputs": [
        {
          "output_type": "display_data",
          "data": {
            "text/plain": [
              "  virg hemi\n",
              "1 90    99 \n",
              "2 71    80 \n",
              "3 83   120 \n",
              "4 85    91 \n",
              "5 86   106 \n",
              "6 92    95 "
            ],
            "text/latex": "A data.frame: 6 × 2\n\\begin{tabular}{r|ll}\n virg & hemi\\\\\n <dbl> & <dbl>\\\\\n\\hline\n\t 90 &  99\\\\\n\t 71 &  80\\\\\n\t 83 & 120\\\\\n\t 85 &  91\\\\\n\t 86 & 106\\\\\n\t 92 &  95\\\\\n\\end{tabular}\n",
            "text/markdown": "\nA data.frame: 6 × 2\n\n| virg &lt;dbl&gt; | hemi &lt;dbl&gt; |\n|---|---|\n| 90 |  99 |\n| 71 |  80 |\n| 83 | 120 |\n| 85 |  91 |\n| 86 | 106 |\n| 92 |  95 |\n\n",
            "text/html": [
              "<table>\n",
              "<caption>A data.frame: 6 × 2</caption>\n",
              "<thead>\n",
              "\t<tr><th scope=col>virg</th><th scope=col>hemi</th></tr>\n",
              "\t<tr><th scope=col>&lt;dbl&gt;</th><th scope=col>&lt;dbl&gt;</th></tr>\n",
              "</thead>\n",
              "<tbody>\n",
              "\t<tr><td>90</td><td> 99</td></tr>\n",
              "\t<tr><td>71</td><td> 80</td></tr>\n",
              "\t<tr><td>83</td><td>120</td></tr>\n",
              "\t<tr><td>85</td><td> 91</td></tr>\n",
              "\t<tr><td>86</td><td>106</td></tr>\n",
              "\t<tr><td>92</td><td> 95</td></tr>\n",
              "</tbody>\n",
              "</table>\n"
            ]
          },
          "metadata": {
            "tags": []
          }
        },
        {
          "output_type": "stream",
          "text": [
            "[1] \"Virg mean ± sd:  82.4  ±  7.4012801168731\"\n",
            "[1] \"Hemi mean ± sd:  97  ±  11.4294172619328\"\n",
            "[1] \"Virg quantiles: \"\n"
          ],
          "name": "stdout"
        },
        {
          "output_type": "display_data",
          "data": {
            "text/plain": [
              "   0%   25%   50%   75%  100% \n",
              "70.00 75.75 83.50 89.25 92.00 "
            ],
            "text/latex": "\\begin{description*}\n\\item[0\\textbackslash{}\\%] 70\n\\item[25\\textbackslash{}\\%] 75.75\n\\item[50\\textbackslash{}\\%] 83.5\n\\item[75\\textbackslash{}\\%] 89.25\n\\item[100\\textbackslash{}\\%] 92\n\\end{description*}\n",
            "text/markdown": "0%\n:   7025%\n:   75.7550%\n:   83.575%\n:   89.25100%\n:   92\n\n",
            "text/html": [
              "<dl class=dl-horizontal>\n",
              "\t<dt>0%</dt>\n",
              "\t\t<dd>70</dd>\n",
              "\t<dt>25%</dt>\n",
              "\t\t<dd>75.75</dd>\n",
              "\t<dt>50%</dt>\n",
              "\t\t<dd>83.5</dd>\n",
              "\t<dt>75%</dt>\n",
              "\t\t<dd>89.25</dd>\n",
              "\t<dt>100%</dt>\n",
              "\t\t<dd>92</dd>\n",
              "</dl>\n"
            ]
          },
          "metadata": {
            "tags": []
          }
        },
        {
          "output_type": "stream",
          "text": [
            "[1] \"Hemi quantiles: \"\n"
          ],
          "name": "stdout"
        },
        {
          "output_type": "display_data",
          "data": {
            "text/plain": [
              "   0%   25%   50%   75%  100% \n",
              " 73.0  91.0  99.5 104.0 120.0 "
            ],
            "text/latex": "\\begin{description*}\n\\item[0\\textbackslash{}\\%] 73\n\\item[25\\textbackslash{}\\%] 91\n\\item[50\\textbackslash{}\\%] 99.5\n\\item[75\\textbackslash{}\\%] 104\n\\item[100\\textbackslash{}\\%] 120\n\\end{description*}\n",
            "text/markdown": "0%\n:   7325%\n:   9150%\n:   99.575%\n:   104100%\n:   120\n\n",
            "text/html": [
              "<dl class=dl-horizontal>\n",
              "\t<dt>0%</dt>\n",
              "\t\t<dd>73</dd>\n",
              "\t<dt>25%</dt>\n",
              "\t\t<dd>91</dd>\n",
              "\t<dt>50%</dt>\n",
              "\t\t<dd>99.5</dd>\n",
              "\t<dt>75%</dt>\n",
              "\t\t<dd>104</dd>\n",
              "\t<dt>100%</dt>\n",
              "\t\t<dd>120</dd>\n",
              "</dl>\n"
            ]
          },
          "metadata": {
            "tags": []
          }
        },
        {
          "output_type": "stream",
          "text": [
            "[1] \"Virg quantiles:  70, 75.5, 83.5, 89.5, 92\"\n",
            "[1] \"Hemi quantiles:  73, 91, 99.5, 104, 120\"\n"
          ],
          "name": "stdout"
        }
      ]
    },
    {
      "cell_type": "code",
      "metadata": {
        "extensions": {
          "jupyter_dashboards": {
            "version": 1,
            "views": {
              "grid_default": {},
              "report_default": {}
            }
          }
        },
        "scrolled": true,
        "id": "pJbOKow5v8m0",
        "colab": {
          "base_uri": "https://localhost:8080/",
          "height": 857
        },
        "outputId": "32201f0a-8adb-4031-de61-47e52e6504d2"
      },
      "source": [
        "boxplot(df$virg, df$hemi, names=c(\"O. Virginianus\", \"O. Hemionus\"), ylab=\"Weight in kg\")\n",
        "\n",
        "# In general, the O. virginianus have lower weights and are less variable than the O. hemionus. \n",
        "# The box plot also indicates more asymmetry in the latter.\")"
      ],
      "execution_count": null,
      "outputs": [
        {
          "output_type": "display_data",
          "data": {
            "image/png": "[encoded data removed]",
            "text/plain": [
              "plot without title"
            ]
          },
          "metadata": {
            "tags": []
          }
        }
      ]
    }
  ]
}
