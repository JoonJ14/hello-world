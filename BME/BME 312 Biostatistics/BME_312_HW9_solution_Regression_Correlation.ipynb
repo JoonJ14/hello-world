{
  "nbformat": 4,
  "nbformat_minor": 0,
  "metadata": {
    "extensions": {
      "jupyter_dashboards": {
        "activeView": "grid_default",
        "version": 1,
        "views": {
          "grid_default": {
            "cellMargin": 10,
            "defaultCellHeight": 20,
            "maxColumns": 12,
            "name": "grid",
            "type": "grid"
          },
          "report_default": {
            "name": "report",
            "type": "report"
          }
        }
      }
    },
    "kernelspec": {
      "display_name": "R",
      "language": "R",
      "name": "ir"
    },
    "language_info": {
      "codemirror_mode": "r",
      "file_extension": ".r",
      "mimetype": "text/x-r-source",
      "name": "R",
      "pygments_lexer": "r",
      "version": "3.4.4"
    },
    "colab": {
      "name": "BME 312 HW9 solution.ipynb",
      "provenance": [],
      "collapsed_sections": [
        "WURa6A3Lv8kR",
        "mRhobhEYv8ke",
        "CI5khJn3v8lM",
        "qoqWdr11v8lS",
        "_3VjECEgv8lX",
        "gTVoT2u2v8mL",
        "0lWKF8Unv8mg",
        "QMPuwUaJv8mp",
        "kvvuvHMsv8mr",
        "o-kXbFqKv8mx"
      ],
      "include_colab_link": true
    }
  },
  "cells": [
    {
      "cell_type": "markdown",
      "metadata": {
        "id": "view-in-github",
        "colab_type": "text"
      },
      "source": [
        "<a href=\"https://colab.research.google.com/github/JoonJ14/hello-world/blob/main/BME_312_HW9_solution.ipynb\" target=\"_parent\"><img src=\"https://colab.research.google.com/assets/colab-badge.svg\" alt=\"Open In Colab\"/></a>"
      ]
    },
    {
      "cell_type": "markdown",
      "metadata": {
        "extensions": {
          "jupyter_dashboards": {
            "version": 1,
            "views": {
              "grid_default": {},
              "report_default": {}
            }
          }
        },
        "id": "6Scbcy8mv8jW"
      },
      "source": [
        "# **Homework 9 Solutions: Regression/Correlation**"
      ]
    },
    {
      "cell_type": "markdown",
      "metadata": {
        "extensions": {
          "jupyter_dashboards": {
            "version": 1,
            "views": {
              "grid_default": {},
              "report_default": {}
            }
          }
        },
        "id": "IgDvcT_Iv8jb"
      },
      "source": [
        "#### Note: to clear the environment in R, do:\n",
        "`rm(list=ls(all=TRUE))`"
      ]
    },
    {
      "cell_type": "markdown",
      "metadata": {
        "id": "o6hX74PwaUhg"
      },
      "source": [
        "## **1. Outline the conditions required for linear regression analysis and contrast them with the conditions for linear correlation analysis.**\n",
        "\n",
        "Correlation is used to examine the relationship between two variables. Regression is used to predict the value of a dependent variable from that of an independent variable."
      ]
    },
    {
      "cell_type": "markdown",
      "metadata": {
        "id": "zcVbJUdgaUeG"
      },
      "source": [
        "## **2. A student undertakes a project to determine the effect of carbon dioxide on respiration rate using the following methodology. A volunteer inhaled air from a bag containing a predetermined amount of carbon dioxide (with partial pressure measured in torr) and the number of breaths per minute was recorded:**\n",
        "\n",
        "> |  |  |  |  |  |  |  |  |  |  |  |  |\n",
        "> :---:    | :---: | :---: | :---: | :---:  | :---:  | :---:  | :---:  | :---:  | :---:  | :---:  | :---:  |\n",
        "> **Partial pressure CO<sub>2</sub> <br> (torr)** | 30 |32 | 34  | 36 | 38 | 40 | 42 | 44 | 46 | 48 | 50 |\n",
        "> **Respiration rate <br> (breaths/min)** | 8.1 | 8.0 | 9.9 | 11.2 | 11.0 | 13.2 | 14.6 | 16.6| 16.7| 18.3 | 18.2 |\n",
        "\n",
        "### **a. Construct a scatterplot of these data using R. Does there appear to be a linear relationship between the partial pressure of CO2 and respiration rate?**\n",
        "Yes.\n",
        "\n",
        "### **b. Compute the linear regression equation so that Y may be predicted from X. Calculate b to 3 decimal places.**\n",
        "For the population, the regression equation is:\n",
        "\n",
        "$y = \\alpha + \\beta x$\n",
        "\n",
        "We estimate that relationship using:\n",
        "\n",
        "$\\hat{y} = a + bx$, where $a$ and $b$ are estimates for $\\alpha$ and $\\beta$, respectively.\n",
        "\n",
        "$b = L_{xy}/L_{xx} = \\frac{\\sum_{i=1}^{n}(x_i-\\overline{x})(y_i-\\overline{y})}{\\sum_{i=1}^{n}(x_i-\\overline{x})^2} = \\frac{253}{440} = 0.575$\n",
        "\n",
        "$a = \\overline{y} - b\\overline{x} = -9.745$\n",
        "\n",
        "### **c. Test the significance of this regression equation.**\n",
        "There are two approaches here. We'll first use the $t$-test for the regression slope with the following hypotheses:\n",
        "\n",
        "$H_0: \\beta = 0$ and $H_1: \\beta \\neq 0$\n",
        "\n",
        "For that, we need to compute the following test statistic:\n",
        "\n",
        "$t = \\frac{b}{\\sqrt{(s_{y \\cdot x}^2 / L_{xx})}}$, \n",
        "\n",
        "where $b = 0.575$, $L_{xx} = 440$, and $s_{y \\cdot x}^2 = Res MS = \\frac{Res SS}{n-2} = \\frac{\\sum_{i=1}^{n}(y_i-\\hat{y}_i)^2}{11-2} = \\frac{4.05}{9} = 0.45$.\n",
        "\n",
        "$\\therefore t = \\frac{b}{\\sqrt{(s_{y \\cdot x}^2 / L_{xx})}} = \\frac{0.575}{\\sqrt{(0.45 / 440)}} = 17.97$\n",
        "\n",
        "For a two-sided test (we're testing whether our slope is either significantly greater than 0 or significantly less than 0), our critical $t$-values are:\n",
        "\n",
        "$(t_{n-2, \\frac{\\alpha}{2}}, t_{n-2, 1-\\frac{\\alpha}{2}}) = (-2.26, 2.26)$\n",
        "\n",
        "Because $17.97$ is outside this range, we can reject $H_0$ and conclude that partial pressure significantly predicts respiration rate.\n",
        "\n",
        "Because $t > 0$, the $p$-value is given by:\n",
        "\n",
        "$p = 2 \\times P(t_{n-2} > 17.97) = 2.32 \\times 10^{-8}$\n",
        "\n",
        "Using the $F$-test approach:\n",
        "\n",
        "$F = \\frac{Reg_{MS}}{Res_{MS}}$, where\n",
        "\n",
        "$Reg_{MS} = \\frac{Reg_{SS}}{k} = \\frac{\\sum_{i=1}^{n}(\\hat{y}_{i}-\\overline{y})^2}{k}$ \n",
        "\n",
        "and \n",
        "\n",
        "$Res_{MS} = \\frac{Res_{SS}}{n-k-1} = \\frac{\\sum_{i=1}^{n}(y_{i}-\\hat{y}_{i})^2}{n-k-1}$\n",
        "\n",
        "For simple linear regression (only one independent variable), $k = 1$, leaving us with the following expressions for $Reg_{MS}$ and $Res_{MS}$:\n",
        "\n",
        "$Reg_{MS} = \\frac{\\sum_{i=1}^{n}(\\hat{y}_{i}-\\overline{y})^2}{1} = \\sum_{i=1}^{n}(\\hat{y}_{i}-\\overline{y})^2 = b \\times L_{xy} = 0.575 \\times 253 = 145.475$ \n",
        "\n",
        "and \n",
        "\n",
        "$Res_{MS} = \\frac{\\sum_{i=1}^{n}(y_{i}-\\hat{y}_{i})^2}{n-2} = \\frac{Total_{SS}-Reg_{SS}}{n-2} = \\frac{L_{yy}-{L_{xy}^2}/{L_{xx}}}{n-2} = \\frac{149.5273-{253^2}/{440}}{11-2} = 0.450$\n",
        "\n",
        "$\\therefore F = \\frac{Reg_{MS}}{Res_{MS}} = \\frac{145.475}{0.45} = 323.0965$\n",
        "\n",
        "Our critical $F$-value is given by $F_{1, n-2, 1-\\alpha} = F_{1, 9, 0.95} = 5.12$\n",
        "\n",
        "Because $323.10 > 5.12$, $H_0$ can be rejected.\n",
        "\n",
        "The $p$-value is given by: $p = P(F_{1, 9} > 323.10) = 2.32 \\times 10^{-8}$, which the same as for the $t$-test above."
      ]
    },
    {
      "cell_type": "code",
      "metadata": {
        "id": "sLiIvgfZZgs_",
        "colab": {
          "base_uri": "https://localhost:8080/",
          "height": 1000
        },
        "outputId": "3bd36b77-edce-4c7d-91a4-94c3bf19b191"
      },
      "source": [
        "# partial pressure\n",
        "pp <- c(30, 32, 34 , 36, 38, 40, 42, 44, 46, 48, 50)\n",
        "\n",
        "# respiration rate\n",
        "rr <- c(8.1, 8.0, 9.9, 11.2, 11.0, 13.2, 14.6, 16.6, 16.7, 18.3, 18.2)\n",
        "\n",
        "plot(pp, rr, xlab='Partial pressure', ylab='Respiration rate')\n",
        "\n",
        "Lxy <- sum((pp-mean(pp))*(rr-mean(rr)))\n",
        "Lxx <- sum((pp-mean(pp))^2)\n",
        "\n",
        "b <- Lxy/Lxx\n",
        "a <- mean(rr) - b*mean(pp)\n",
        "print(b)\n",
        "print(a)\n",
        "\n",
        "# add regression line to plot\n",
        "x <- pp\n",
        "y_hat <- a + b*x\n",
        "lines(x, y_hat, col='red')\n",
        "legend <- c('Data', expression(hat(y) * ' = -9.475 + 0.575x'))\n",
        "legend(30, 18, legend=legend, col=c('black', 'red'), lty=c(0, 1), pch=c(1, -1))\n",
        "\n",
        "# test the significance of the slope b\n",
        "ResSS <- sum((rr-y_hat)^2)\n",
        "n <- length(rr)\n",
        "s_xy <- sqrt(ResSS/(n-2))\n",
        "\n",
        "t <- b / sqrt((s_xy^2)/Lxx)\n",
        "\n",
        "alpha <- 0.05\n",
        "t_critical <- c(qt(alpha/2, df=n-2), qt(1-alpha/2, df=n-2))\n",
        "print(abs(t) > t_critical[2])\n",
        "\n",
        "p <- 2 * pt(t, df=n-2, lower.tail=F)\n",
        "print(p)\n",
        "\n",
        "# test whether the explained variance is due to chance\n",
        "Lyy <- sum((rr-mean(rr))^2)\n",
        "\n",
        "RegMS <- sum((y_hat-mean(rr))^2)\n",
        "ResMS <- (Lyy - (Lxy^2)/Lxx)/(n-2)\n",
        "\n",
        "F_val <- RegMS / ResMS\n",
        "\n",
        "F_critical <- qf(alpha, df1=1, df2=n-2, lower.tail=F)\n",
        "print(F_val > F_critical)\n",
        "\n",
        "p <- pf(F_val, df1=1, df2=n-2, lower.tail=F)\n",
        "print(p)\n",
        "\n",
        "# Note that the p-values are the same from both methods.\n",
        "\n",
        "r_squared <- sum((y_hat-mean(rr))^2) / Lyy\n",
        "print(r_squared)\n",
        "\n",
        "# Finally, note that we can get most of the above statistics via the following code:\n",
        "fit <- lm(rr ~ pp)\n",
        "summary(fit)"
      ],
      "execution_count": null,
      "outputs": [
        {
          "output_type": "stream",
          "text": [
            "[1] 0.575\n",
            "[1] -9.745455\n",
            "[1] TRUE\n",
            "[1] 2.323023e-08\n",
            "[1] TRUE\n",
            "[1] 2.323023e-08\n",
            "[1] 0.9728994\n"
          ],
          "name": "stdout"
        },
        {
          "output_type": "display_data",
          "data": {
            "text/plain": [
              "\n",
              "Call:\n",
              "lm(formula = rr ~ pp)\n",
              "\n",
              "Residuals:\n",
              "     Min       1Q   Median       3Q      Max \n",
              "-1.10455 -0.35455  0.09545  0.34545  1.04545 \n",
              "\n",
              "Coefficients:\n",
              "            Estimate Std. Error t value Pr(>|t|)    \n",
              "(Intercept) -9.74545    1.29546  -7.523 3.61e-05 ***\n",
              "pp           0.57500    0.03199  17.975 2.32e-08 ***\n",
              "---\n",
              "Signif. codes:  0 ‘***’ 0.001 ‘**’ 0.01 ‘*’ 0.05 ‘.’ 0.1 ‘ ’ 1\n",
              "\n",
              "Residual standard error: 0.671 on 9 degrees of freedom\n",
              "Multiple R-squared:  0.9729,\tAdjusted R-squared:  0.9699 \n",
              "F-statistic: 323.1 on 1 and 9 DF,  p-value: 2.323e-08\n"
            ]
          },
          "metadata": {
            "tags": []
          }
        },
        {
          "output_type": "display_data",
          "data": {
            "image/png": "[encoded data removed]",
            "text/plain": [
              "plot without title"
            ]
          },
          "metadata": {
            "tags": []
          }
        }
      ]
    },
    {
      "cell_type": "markdown",
      "metadata": {
        "id": "7g33lK0Ae5IX"
      },
      "source": [
        "## **3. A plant physiologist grew 13 individually potted soybean seedlings in a greenhouse. The table gives measurements of the total leaf area and total plant dry weight for each plant after 16 days of growth. Calculate the correlation coefficient for these data. Test its significance via a t-test. Interpret the result.**\n",
        "\n",
        "> Plant # | 1 | 2 | 3 | 4 | 5 | 6 | 7 | 8 | 9 | 10 | 11 | 12 | 13 |\n",
        "> :---:    | :---: | :---: | :---: | :---:  | :---:  | :---:  | :---:  | :---:  | :---:  | :---:  | :---:  | :---: | :---: \n",
        "> **Leaf area (cm<sup>2</sup>)** | 411 | 550 | 471 | 393 | 427 | 431 | 492 | 371 | 470 | 419 | 407 | 489 | 439\n",
        "> **Dry weight (g)** | 2.00 | 2.46 | 2.11 | 1.89 | 2.05 | 2.30 | 2.46 | 2.06 | 2.25 | 2.07 | 2.17 | 2.32 | 2.12 \n",
        "\n",
        "The correlation coefficient, $r$, is given by:\n",
        "\n",
        "$r = \\frac{L_{xy}}{\\sqrt{L_{xx}L_{yy}}} = \\frac{\\sum_{i=1}^n(x_i-\\overline{x})(y_i-\\overline{y})}{\\sqrt{\\sum_{i=1}^n(x_i-\\overline{x})^2\\sum_{i=1}^n(y_i-\\overline{y})^2}} = 0.815$, where we've let $x$ be leaf area and $y$ be leaf weight.\n",
        "\n",
        "The test-statistic for corrleation coefficient is given by:\n",
        "\n",
        "$t = \\frac{r\\sqrt{n-2}}{\\sqrt{1-r^2}} = 4.66$\n",
        "\n",
        "Our critical t-values are:\n",
        "\n",
        "$(t_{n-2, \\frac{\\alpha}{2}}, t_{n-2, 1-\\frac{\\alpha}{2}}) = (t_{11, 0.025}, t_{11, 0.975}) = (-2.2, 2.2)$\n",
        "\n",
        "and\n",
        "\n",
        "$p = 2 * P(t_{11} > 4.66) = 0.0007 < 0.05$\n",
        "\n",
        "$\\therefore H_0$ can be rejected, and we conclude that there is a significant relationship between leaf area and it's dry weight."
      ]
    },
    {
      "cell_type": "code",
      "metadata": {
        "id": "8DWBKBZgwhx0",
        "colab": {
          "base_uri": "https://localhost:8080/",
          "height": 1000
        },
        "outputId": "8653a922-b6ec-4fc4-bddc-26fdc3abfc62"
      },
      "source": [
        "area <- c(411, 550, 471, 393, 427, 431, 492, 371, 470, 419, 407, 489, 439)\n",
        "weight <- c(2.00, 2.46, 2.11, 1.89, 2.05, 2.30, 2.46, 2.06, 2.25, 2.07, 2.17, 2.32, 2.12)\n",
        "plot(area, weight, xlab='Leaf area', ylab='Weight')\n",
        "\n",
        "Lxy <- sum((area-mean(area))*(weight-mean(weight)))\n",
        "Lxx <- sum((area-mean(area))^2)\n",
        "Lyy <- sum((weight-mean(weight))^2)\n",
        "\n",
        "r <- Lxy / sqrt(Lxx*Lyy)\n",
        "print(r)\n",
        "\n",
        "n <- length(area)\n",
        "t <- r*sqrt(n-2) / sqrt(1-r^2)\n",
        "print(t)\n",
        "\n",
        "alpha <- 0.05\n",
        "t_critical <- c(qt(alpha/2, df=n-2), qt(1-alpha/2, df=n-2))\n",
        "print(t_critical)\n",
        "\n",
        "p <- 2 * pt(t, df=n-2, lower.tail=F)\n",
        "print(p)\n",
        "\n",
        "cor.test(area, weight)\n",
        "\n",
        "# running the simple linear regression\n",
        "fit <- lm(weight ~ area)\n",
        "summary(fit)\n",
        "x <- area\n",
        "a <- fit$coefficients[1]\n",
        "b <- fit$coefficients[2]\n",
        "y_hat <- a + b*x\n",
        "lines(x, y_hat, col='red')\n",
        "legend <- c('Data', expression(hat(y) * ' = 0.88 + 0.0029x'))\n",
        "legend(min(area), max(weight), legend=legend, col=c('black', 'red'), lty=c(0, 1), pch=c(1, -1))"
      ],
      "execution_count": null,
      "outputs": [
        {
          "output_type": "stream",
          "text": [
            "[1] 0.8147143\n",
            "[1] 4.659899\n",
            "[1] -2.200985  2.200985\n",
            "[1] 0.0006938291\n"
          ],
          "name": "stdout"
        },
        {
          "output_type": "display_data",
          "data": {
            "text/plain": [
              "\n",
              "\tPearson's product-moment correlation\n",
              "\n",
              "data:  area and weight\n",
              "t = 4.6599, df = 11, p-value = 0.0006938\n",
              "alternative hypothesis: true correlation is not equal to 0\n",
              "95 percent confidence interval:\n",
              " 0.4785463 0.9425797\n",
              "sample estimates:\n",
              "      cor \n",
              "0.8147143 \n"
            ]
          },
          "metadata": {
            "tags": []
          }
        },
        {
          "output_type": "display_data",
          "data": {
            "text/plain": [
              "\n",
              "Call:\n",
              "lm(formula = weight ~ area)\n",
              "\n",
              "Residuals:\n",
              "     Min       1Q   Median       3Q      Max \n",
              "-0.14292 -0.07479 -0.02299  0.09830  0.16356 \n",
              "\n",
              "Coefficients:\n",
              "             Estimate Std. Error t value Pr(>|t|)    \n",
              "(Intercept) 0.8812789  0.2789182    3.16 0.009085 ** \n",
              "area        0.0029122  0.0006249    4.66 0.000694 ***\n",
              "---\n",
              "Signif. codes:  0 ‘***’ 0.001 ‘**’ 0.01 ‘*’ 0.05 ‘.’ 0.1 ‘ ’ 1\n",
              "\n",
              "Residual standard error: 0.1054 on 11 degrees of freedom\n",
              "Multiple R-squared:  0.6638,\tAdjusted R-squared:  0.6332 \n",
              "F-statistic: 21.71 on 1 and 11 DF,  p-value: 0.0006938\n"
            ]
          },
          "metadata": {
            "tags": []
          }
        },
        {
          "output_type": "display_data",
          "data": {
            "image/png": "[encoded data removed]",
            "text/plain": [
              "plot without title"
            ]
          },
          "metadata": {
            "tags": []
          }
        }
      ]
    },
    {
      "cell_type": "markdown",
      "metadata": {
        "id": "rur-8_LGYGNI"
      },
      "source": [
        "## **4. You are on a quest to find a new drug to help students stay awake during BME 312. You have developed StatEnergy, which can be added to a liquid beverage of their choice. Ten brave students in the class try various dosages of StatEnergy and report how many minutes they stay awake during BME 312:** \n",
        "\n",
        "> |  |  |  |  |  |  |  |  |  |  |  |\n",
        "> :---: | :---: | :---: | :---: | :---: | :---: | :---: | :---: | :---: | :---: | :---: \n",
        "> **StatEnergy (mL)** | 0.19 | 0.66 | 0.96 | 0.91 | 0.51 | 0.78 | 0.35 | 0.82 | 0.08 | 0.22 \n",
        "> **Minutes awake** | 11 | 52 | 62 | 63 | 55 | 37 | 12 | 77 | 1 | 31 \n",
        "\n",
        "### **a. Is there evidence that StatEnergy is effective?**\n",
        "\n",
        "To examine this, we will compute the regression equation and test whether it's slope is significantly different from 0.\n",
        "\n",
        "$b = L_{xy}/L_{xx} = \\frac{\\sum_{i=1}^{n}(x_i-\\overline{x})(y_i-\\overline{y})}{\\sum_{i=1}^{n}(x_i-\\overline{x})^2} = \\frac{64.66}{0.937} = 69.04$\n",
        "\n",
        "$a = \\overline{y} - b\\overline{x} = 2.265$\n",
        "\n",
        "$\\hat{y} = 2.265 + 69.04x$\n",
        "\n",
        "Using the $t$-test for the regression slope with the following hypotheses:\n",
        "\n",
        "$H_0: \\beta = 0$ and $H_1: \\beta \\neq 0$, our test statistic is:\n",
        "\n",
        "$t = \\frac{b}{\\sqrt{(s_{y \\cdot x}^2 / L_{xx})}}$, \n",
        "\n",
        "where $b = 69.04$, $L_{xx} = 0.937$, and $s_{y \\cdot x}^2 = Res MS = \\frac{Res SS}{n-2} = \\frac{\\sum_{i=1}^{n}(y_i-\\hat{y}_i)^2}{10-2} = \\frac{1522.51}{8} = 190.31$.\n",
        "\n",
        "$\\therefore t = \\frac{b}{\\sqrt{(s_{y \\cdot x}^2 / L_{xx})}} = \\frac{69.04}{\\sqrt{(190.31 / 0.937)}} = 4.84$\n",
        "\n",
        "For a two-sided test (we're testing whether our slope is either significantly greater than 0 or significantly less than 0), our critical $t$-values are:\n",
        "\n",
        "$(t_{n-2, \\frac{\\alpha}{2}}, t_{n-2, 1-\\frac{\\alpha}{2}}) = (-2.26, 2.26)$\n",
        "\n",
        "Because $4.84$ is outside this range, we can reject $H_0$ and conclude that partial pressure significantly predicts respiration rate.\n",
        "\n",
        "Because $t > 0$, the $p$-value is given by:\n",
        "\n",
        "$p = 2 \\times P(t_{n-2} > 4.84) = 0.0013 < 0.05$\n",
        "\n",
        "### **b. How many minutes will students stay awake if a student had 0.38 mL of StatEnergy?**\n",
        "\n",
        "Our regression equation is:\n",
        "\n",
        "$\\hat{y} = 2.265 + 69.04x$, where $x$ is StatEnergy in mL and $\\hat{y}$ is minutes awake.\n",
        "\n",
        "For $x = 0.38$ mL, $\\hat{y} = 28.5$ min.\n",
        "\n",
        "### **c. How much StatEnergy will the student need to consume to stay awake for at least first 45 minutes of the class?**\n",
        "\n",
        "For $\\hat{y} = 45$ min, $x = 0.62$ mL. \n",
        "\n",
        "However, this is not strictly correct. In order to do this correctly, we'd have to compute the regression coefficients for mL as a function of minutes awake, as the minimization criteria is different (i.e. we're minimizing the sum-squared error along mL rather than minutes awake). If we do that using R, we get the following regression equation:\n",
        "\n",
        "$\\hat{y} = 0.1149 + 0.0108x$, where $x$ is now minutes awake and $\\hat{y}$ is now StatEnergy in mL.\n",
        "\n",
        "For $x = 45$ min, $\\hat{y} = 0.60$ mL."
      ]
    },
    {
      "cell_type": "code",
      "metadata": {
        "id": "D5-Q3lOj1p9W",
        "colab": {
          "base_uri": "https://localhost:8080/",
          "height": 1000
        },
        "outputId": "089b7a3a-2f6d-4f09-c4aa-f0a3457c58ff"
      },
      "source": [
        "# a\n",
        "\n",
        "# partial pressure\n",
        "mL <- c(0.19, 0.66, 0.96, 0.91, 0.51, 0.78, 0.35, 0.82, 0.08, 0.22)\n",
        "\n",
        "# respiration rate\n",
        "min <- c(11, 52, 62, 63, 55, 37, 12, 77, 1, 31)\n",
        "\n",
        "plot(mL, min, xlab='StatEnergy (mL)', ylab='Minutes awake')\n",
        "\n",
        "Lxy <- sum((mL-mean(mL))*(min-mean(min)))\n",
        "Lxx <- sum((mL-mean(mL))^2)\n",
        "\n",
        "b <- Lxy/Lxx\n",
        "a <- mean(min) - b*mean(mL)\n",
        "\n",
        "print(c(Lxy, Lxx, b, a))\n",
        "\n",
        "# add regression line to plot\n",
        "x <- mL # seq(0, 1, 0.01)\n",
        "y_hat <- a + b*x\n",
        "lines(x, y_hat, col='red')\n",
        "\n",
        "# test the significance of the slope b\n",
        "ResSS <- sum((min-y_hat)^2)\n",
        "print(ResSS)\n",
        "n <- length(min)\n",
        "s_xy <- sqrt(ResSS/(n-2))\n",
        "print(s_xy^2)\n",
        "\n",
        "t <- b / sqrt((s_xy^2)/Lxx)\n",
        "print(t)\n",
        "\n",
        "alpha <- 0.05\n",
        "t_critical <- c(qt(alpha/2, df=n-2), qt(1-alpha/2, df=n-2))\n",
        "print(t_critical)\n",
        "\n",
        "p <- 2 * pt(t, df=n-2, lower.tail=F)\n",
        "print(p)\n",
        "\n",
        "fit <- lm(min ~ mL)\n",
        "summary(fit)\n",
        "\n",
        "# b\n",
        "y <- a + b*0.38\n",
        "print(y)\n",
        "\n",
        "# c\n",
        "x <- (45 - a) / b\n",
        "print(x)\n",
        "\n",
        "# c, correct\n",
        "fit <- lm(mL ~ min)\n",
        "summary(fit)\n",
        "a <- fit$coefficients[1]\n",
        "b <- fit$coefficients[2]\n",
        "\n",
        "y <- a + b*45\n",
        "print(y)"
      ],
      "execution_count": null,
      "outputs": [
        {
          "output_type": "stream",
          "text": [
            "[1] 64.66200  0.93656 69.04203  2.26497\n",
            "[1] 1522.505\n",
            "[1] 190.3131\n",
            "[1] 4.843363\n",
            "[1] -2.306004  2.306004\n",
            "[1] 0.001282631\n"
          ],
          "name": "stdout"
        },
        {
          "output_type": "display_data",
          "data": {
            "text/plain": [
              "\n",
              "Call:\n",
              "lm(formula = min ~ mL)\n",
              "\n",
              "Residuals:\n",
              "    Min      1Q  Median      3Q     Max \n",
              "-19.118  -6.728  -3.238  11.201  18.121 \n",
              "\n",
              "Coefficients:\n",
              "            Estimate Std. Error t value Pr(>|t|)   \n",
              "(Intercept)    2.265      8.947   0.253  0.80654   \n",
              "mL            69.042     14.255   4.843  0.00128 **\n",
              "---\n",
              "Signif. codes:  0 ‘***’ 0.001 ‘**’ 0.01 ‘*’ 0.05 ‘.’ 0.1 ‘ ’ 1\n",
              "\n",
              "Residual standard error: 13.8 on 8 degrees of freedom\n",
              "Multiple R-squared:  0.7457,\tAdjusted R-squared:  0.7139 \n",
              "F-statistic: 23.46 on 1 and 8 DF,  p-value: 0.001283\n"
            ]
          },
          "metadata": {
            "tags": []
          }
        },
        {
          "output_type": "stream",
          "text": [
            "[1] 28.50094\n",
            "[1] 0.6189713\n"
          ],
          "name": "stdout"
        },
        {
          "output_type": "display_data",
          "data": {
            "text/plain": [
              "\n",
              "Call:\n",
              "lm(formula = mL ~ min)\n",
              "\n",
              "Residuals:\n",
              "     Min       1Q   Median       3Q      Max \n",
              "-0.22972 -0.10633 -0.03011  0.11237  0.26548 \n",
              "\n",
              "Coefficients:\n",
              "            Estimate Std. Error t value Pr(>|t|)   \n",
              "(Intercept)  0.11490    0.10475   1.097  0.30463   \n",
              "min          0.01080    0.00223   4.843  0.00128 **\n",
              "---\n",
              "Signif. codes:  0 ‘***’ 0.001 ‘**’ 0.01 ‘*’ 0.05 ‘.’ 0.1 ‘ ’ 1\n",
              "\n",
              "Residual standard error: 0.1725 on 8 degrees of freedom\n",
              "Multiple R-squared:  0.7457,\tAdjusted R-squared:  0.7139 \n",
              "F-statistic: 23.46 on 1 and 8 DF,  p-value: 0.001283\n"
            ]
          },
          "metadata": {
            "tags": []
          }
        },
        {
          "output_type": "stream",
          "text": [
            "(Intercept) \n",
            "  0.6009228 \n"
          ],
          "name": "stdout"
        },
        {
          "output_type": "display_data",
          "data": {
            "image/png": "[encoded data removed]",
            "text/plain": [
              "plot without title"
            ]
          },
          "metadata": {
            "tags": []
          }
        }
      ]
    },
    {
      "cell_type": "markdown",
      "metadata": {
        "id": "TwvddUeJkVcl"
      },
      "source": [
        "## **5. One of the most common screening tests for epithelial ovarian cancer involves the use of biomarkers. Biomarkers have been applied in the management of epithelial ovarian cancer in several different ways, including predicting primary disease at an early stage, distinguishing malignant from benign pelvic masses, monitoring responses to treatment, and estimating prognosis. A number of proteins present in either blood or urine have been identified as specific markers for epithelial ovarian cancer. Let’s say that you collected data from patients on two of these biomarkers (A and B):** \n",
        "\n",
        "> |  |  |  |  |  |  |  |  |  |  |  |\n",
        "> :---:    | :---: | :---: | :---: | :---:  | :---:  | :---:  | :---:  | :---:  | :---:  | :---:  |\n",
        "> **Biomarker A** | 0.08 | 0.19 | 0.22 | 0.35 | 0.51 | 0.66 | 0.78 | 0.82 | 0.91 | 0.96 |\n",
        "> **Biomarker B** | 2.02 | 2.16 | 2.39 | 2.47 | 2.17 | 2.67 | 2.90 | 2.41 | 2.13 | 3.66 |\n",
        "\n",
        "### **Examine the correlation among the preoperative serum levels of the two biomarkers presumed to be useful for early detection of epithelial ovarian cancer.**\n",
        "\n",
        "The correlation coefficient, $r$, is given by:\n",
        "\n",
        "$r = \\frac{L_{xy}}{\\sqrt{L_{xx}L_{yy}}} = \\frac{\\sum_{i=1}^n(x_i-\\overline{x})(y_i-\\overline{y})}{\\sqrt{\\sum_{i=1}^n(x_i-\\overline{x})^2\\sum_{i=1}^n(y_i-\\overline{y})^2}} = 0.587$, where we've let $x$ be Biomarker A and $y$ be Biomarker B.\n",
        "\n",
        "The test-statistic for corrleation coefficient is given by:\n",
        "\n",
        "$t = \\frac{r\\sqrt{n-2}}{\\sqrt{1-r^2}} = 2.05$\n",
        "\n",
        "Our critical t-values are:\n",
        "\n",
        "$(t_{n-2, \\frac{\\alpha}{2}}, t_{n-2, 1-\\frac{\\alpha}{2}}) = (t_{8, 0.025}, t_{8, 0.975}) = (-2.31, 2.31)$\n",
        "\n",
        "and\n",
        "\n",
        "$p = 2 * P(t_{8} > 2.05) = 0.0745 \\nless 0.05$\n",
        "\n",
        "$\\therefore H_0$ **_cannot_** be rejected."
      ]
    },
    {
      "cell_type": "code",
      "metadata": {
        "id": "l63blj-An1jm",
        "colab": {
          "base_uri": "https://localhost:8080/",
          "height": 1000
        },
        "outputId": "2ecf251f-fd68-4771-fdba-4c3e40612fb4"
      },
      "source": [
        "A <- c(0.08, 0.19, 0.22, 0.35, 0.51, 0.66, 0.78, 0.82, 0.91, 0.96)\n",
        "B <- c(2.02, 2.16, 2.39, 2.47, 2.17, 2.67, 2.90, 2.41, 2.13, 3.66)\n",
        "plot(A, B, xlab='Biomarker A', ylab='Biomarker B')\n",
        "\n",
        "Lxy <- sum((A-mean(A))*(B-mean(B)))\n",
        "Lxx <- sum((A-mean(A))^2)\n",
        "Lyy <- sum((B-mean(B))^2)\n",
        "\n",
        "r <- Lxy / sqrt(Lxx*Lyy)\n",
        "print(r)\n",
        "\n",
        "n <- length(A)\n",
        "t = r*sqrt(n-2) / sqrt(1-r^2)\n",
        "print(t)\n",
        "\n",
        "alpha <- 0.05\n",
        "t_critical <- c(qt(alpha/2, df=n-2), qt(1-alpha/2, df=n-2))\n",
        "print(t_critical)\n",
        "\n",
        "p <- 2 * pt(t, df=n-2, lower.tail=F)\n",
        "print(p)\n",
        "\n",
        "cor.test(A, B)"
      ],
      "execution_count": null,
      "outputs": [
        {
          "output_type": "stream",
          "text": [
            "[1] 0.5868658\n",
            "[1] 2.050067\n",
            "[1] -2.306004  2.306004\n",
            "[1] 0.0745004\n"
          ],
          "name": "stdout"
        },
        {
          "output_type": "display_data",
          "data": {
            "text/plain": [
              "\n",
              "\tPearson's product-moment correlation\n",
              "\n",
              "data:  A and B\n",
              "t = 2.0501, df = 8, p-value = 0.0745\n",
              "alternative hypothesis: true correlation is not equal to 0\n",
              "95 percent confidence interval:\n",
              " -0.06782067  0.88827064\n",
              "sample estimates:\n",
              "      cor \n",
              "0.5868658 \n"
            ]
          },
          "metadata": {
            "tags": []
          }
        },
        {
          "output_type": "display_data",
          "data": {
            "image/png": "[encoded data removed]",
            "text/plain": [
              "plot without title"
            ]
          },
          "metadata": {
            "tags": []
          }
        }
      ]
    },
    {
      "cell_type": "code",
      "metadata": {
        "id": "WS93fnCJE1Cn"
      },
      "source": [
        ""
      ],
      "execution_count": null,
      "outputs": []
    }
  ]
}
