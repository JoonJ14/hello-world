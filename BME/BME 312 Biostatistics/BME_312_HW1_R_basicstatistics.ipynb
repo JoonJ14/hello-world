{
  "nbformat": 4,
  "nbformat_minor": 0,
  "metadata": {
    "extensions": {
      "jupyter_dashboards": {
        "activeView": "grid_default",
        "version": 1,
        "views": {
          "grid_default": {
            "cellMargin": 10,
            "defaultCellHeight": 20,
            "maxColumns": 12,
            "name": "grid",
            "type": "grid"
          },
          "report_default": {
            "name": "report",
            "type": "report"
          }
        }
      }
    },
    "kernelspec": {
      "display_name": "R",
      "language": "R",
      "name": "ir"
    },
    "language_info": {
      "codemirror_mode": "r",
      "file_extension": ".r",
      "mimetype": "text/x-r-source",
      "name": "R",
      "pygments_lexer": "r",
      "version": "3.4.4"
    },
    "colab": {
      "name": "BME 312 HW1.ipynb",
      "provenance": [],
      "collapsed_sections": [],
      "include_colab_link": true
    }
  },
  "cells": [
    {
      "cell_type": "markdown",
      "metadata": {
        "id": "view-in-github",
        "colab_type": "text"
      },
      "source": [
        "<a href=\"https://colab.research.google.com/github/JoonJ14/hello-world/blob/main/BME_312_HW1.ipynb\" target=\"_parent\"><img src=\"https://colab.research.google.com/assets/colab-badge.svg\" alt=\"Open In Colab\"/></a>"
      ]
    },
    {
      "cell_type": "markdown",
      "metadata": {
        "extensions": {
          "jupyter_dashboards": {
            "version": 1,
            "views": {
              "grid_default": {},
              "report_default": {}
            }
          }
        },
        "id": "6Scbcy8mv8jW"
      },
      "source": [
        "# Homework 1"
      ]
    },
    {
      "cell_type": "markdown",
      "metadata": {
        "extensions": {
          "jupyter_dashboards": {
            "version": 1,
            "views": {
              "grid_default": {},
              "report_default": {}
            }
          }
        },
        "id": "IgDvcT_Iv8jb"
      },
      "source": [
        "#### Note: to clear the environment in R, do:\n",
        "`rm(list=ls(all=TRUE))`"
      ]
    },
    {
      "cell_type": "markdown",
      "metadata": {
        "extensions": {
          "jupyter_dashboards": {
            "version": 1,
            "views": {
              "grid_default": {},
              "report_default": {}
            }
          }
        },
        "id": "fmlzq3sav8je"
      },
      "source": [
        "## 1. Create the following vectors in R:\n",
        "#### a. $(1, 2, 3, …, 19, 20)$\n",
        "#### b. $(20, 19, …, 2, 1)$\n",
        "#### c. $(1, 2, 3, …, 19, 20, 19, 18, …, 2, 1)$\n",
        "#### d. $a+b$\n",
        "\n",
        "### Hint, for (e) and (f): `?rep`.\n",
        "\n",
        "#### e. $(4, 6, 3, 4, 6, 3, …, 4, 6, 3)$, where there are 10 occurrences of 4.\n",
        "#### f. $(4, 4, …, 4, 6, 6, …, 6, 3, 3, …, 3)$, where there are 10 occurrences of 4, 20 of 6, and 30 of 3."
      ]
    },
    {
      "cell_type": "code",
      "metadata": {
        "id": "m53LxRf1naVV",
        "colab": {
          "base_uri": "https://localhost:8080/",
          "height": 153
        },
        "outputId": "a690425f-ec8e-4a42-ce5b-64bc97d05e7e"
      },
      "source": [
        "a<-(1:20)\n",
        "print(a)\n",
        "\n",
        "b<-rev(a)\n",
        "print(b)\n",
        "\n",
        "c<-c(a,b[2:20])\n",
        "print(c)\n",
        "\n",
        "tempsum<-a+b\n",
        "print(tempsum)\n",
        "\n",
        "d<-c(4,6,3)\n",
        "e<-rep(d, times=10)\n",
        "print(e)\n",
        "\n",
        "f<-rep(d, c(10,20,30))\n",
        "print(f)\n"
      ],
      "execution_count": null,
      "outputs": [
        {
          "output_type": "stream",
          "text": [
            " [1]  1  2  3  4  5  6  7  8  9 10 11 12 13 14 15 16 17 18 19 20\n",
            " [1] 20 19 18 17 16 15 14 13 12 11 10  9  8  7  6  5  4  3  2  1\n",
            " [1]  1  2  3  4  5  6  7  8  9 10 11 12 13 14 15 16 17 18 19 20 19 18 17 16 15\n",
            "[26] 14 13 12 11 10  9  8  7  6  5  4  3  2  1\n",
            " [1] 21 21 21 21 21 21 21 21 21 21 21 21 21 21 21 21 21 21 21 21\n",
            " [1] 4 6 3 4 6 3 4 6 3 4 6 3 4 6 3 4 6 3 4 6 3 4 6 3 4 6 3 4 6 3\n",
            " [1] 4 4 4 4 4 4 4 4 4 4 6 6 6 6 6 6 6 6 6 6 6 6 6 6 6 6 6 6 6 6 3 3 3 3 3 3 3 3\n",
            "[39] 3 3 3 3 3 3 3 3 3 3 3 3 3 3 3 3 3 3 3 3 3 3\n"
          ],
          "name": "stdout"
        }
      ]
    },
    {
      "cell_type": "markdown",
      "metadata": {
        "extensions": {
          "jupyter_dashboards": {
            "version": 1,
            "views": {
              "grid_default": {},
              "report_default": {}
            }
          }
        },
        "id": "WURa6A3Lv8kR"
      },
      "source": [
        "## 2. Calculate the following using R:\n",
        "#### a. $\\sum_{i=10}^{100}i^3 + 4i^2$\n",
        "#### b. $\\sum_{i=1}^{25}(\\frac{2^i}{i} + \\frac{3^i}{i^2})$"
      ]
    },
    {
      "cell_type": "code",
      "metadata": {
        "id": "Ns9Gfl-rnYai",
        "colab": {
          "base_uri": "https://localhost:8080/",
          "height": 51
        },
        "outputId": "a3992ed0-1f70-4302-f34b-b40f7719ad75"
      },
      "source": [
        "a<-(10:100)\n",
        "b<-sum((a^3)+(4*(a^2)))\n",
        "print(b)\n",
        "\n",
        "c<-(1:25)\n",
        "d<-sum(((2^c)/c)+((3^c)/(c^2)))\n",
        "print(d)"
      ],
      "execution_count": null,
      "outputs": [
        {
          "output_type": "stream",
          "text": [
            "[1] 26852735\n",
            "[1] 2129170437\n"
          ],
          "name": "stdout"
        }
      ]
    },
    {
      "cell_type": "markdown",
      "metadata": {
        "extensions": {
          "jupyter_dashboards": {
            "version": 1,
            "views": {
              "grid_default": {},
              "report_default": {}
            }
          }
        },
        "id": "zTyo4kOih8xu"
      },
      "source": [
        "## 3. Create two vectors - $X$ and $Y$ - of 250 random integers that are chosen _with_ replacement from the integers $(0, 1,  …, 999)$:\n",
        "\n",
        "`set.seed(50)`<br>\n",
        "`X <- sample(0:999, 250, replace=T)`<br>\n",
        "`Y <- sample(0:999, 250, replace=T)`\n",
        "    \n",
        "### Now find various functions in R and answer the following questions:\n",
        "#### a. Pick out the values in $Y$ which are > 600.\n",
        "#### b. What are the index positions in $Y$ of the values which are > 600? Hint: `?which`\n",
        "#### c. What are the values in $X$ which correspond to the values in $Y$ that are > 600?\n",
        "#### d. How many values in $Y$ are within 200 of the maximum value of the terms in $Y$?\n",
        "#### e. How many numbers in $X$ are divisible by 2? (Note that the modulo operator is denoted `%%`.)\n",
        "#### f. Sort the numbers in the vector $X$ in the order of increasing values in $Y$.\n",
        "#### g. Pick out the elements in $Y$ at index positions $(1, 4, 7, 10, 13, …)$"
      ]
    },
    {
      "cell_type": "code",
      "metadata": {
        "id": "3Za_os0xnwzW",
        "colab": {
          "base_uri": "https://localhost:8080/",
          "height": 251
        },
        "outputId": "60d32cbf-85a7-4a90-cdf0-efceac4816a9"
      },
      "source": [
        "set.seed(50)\n",
        "xVec<-sample(0:999, 250,replace=T)\n",
        "yVec<-sample(0:999, 250,replace=T)\n",
        "\n",
        "a<-yVec[yVec > 600]\n",
        "t(a)\n",
        "\n",
        "b<-which(yVec > 600)\n",
        "t(b)\n",
        "\n",
        "c<-xVec[yVec > 600]\n",
        "t(c)\n",
        "\n",
        "d<-sum(yVec > max(yVec)-200)\n",
        "print(d)\n",
        "\n",
        "e<-sum(xVec%%2)\n",
        "print(e)\n",
        "\n",
        "f<-xVec[order(yVec)]\n",
        "t(f)\n",
        "\n",
        "Vec<-seq(1, 250, by=3)\n",
        "g<-yVec[Vec]\n",
        "t(g)\n",
        "\n"
      ],
      "execution_count": null,
      "outputs": [
        {
          "output_type": "display_data",
          "data": {
            "text/plain": [
              "     [,1] [,2] [,3] [,4] [,5] [,6] [,7] [,8] [,9] [,10] [,11] [,12] [,13] [,14]\n",
              "[1,] 702  901  617  726  915  723  941  906  782  681   ⋯     764   666   667  \n",
              "     [,15] [,16] [,17] [,18] [,19] [,20] [,21]\n",
              "[1,] 790   654   959   868   963   698   686  "
            ],
            "text/latex": "A matrix: 1 × 91 of type int\n\\begin{tabular}{lllllllllllllllllllllllllllllllllllllllllllllllllllllllllllllllllllllllllllllllllllllllllll}\n\t 702 & 901 & 617 & 726 & 915 & 723 & 941 & 906 & 782 & 681 & 721 & 929 & 827 & 653 & 839 & 800 & 869 & 692 & 840 & 845 & 769 & 866 & 696 & 685 & 788 & 642 & 902 & 797 & 601 & 656 & 842 & 970 & 680 & 792 & 662 & 868 & 875 & 795 & 880 & 700 & 665 & 699 & 979 & 796 & 772 & 836 & 974 & 990 & 954 & 846 & 943 & 658 & 655 & 628 & 623 & 629 & 989 & 738 & 992 & 758 & 870 & 910 & 933 & 641 & 872 & 904 & 647 & 988 & 753 & 624 & 996 & 621 & 714 & 965 & 920 & 755 & 783 & 856 & 927 & 759 & 700 & 764 & 666 & 667 & 790 & 654 & 959 & 868 & 963 & 698 & 686\\\\\n\\end{tabular}\n",
            "text/markdown": "\nA matrix: 1 × 91 of type int\n\n| 702 | 901 | 617 | 726 | 915 | 723 | 941 | 906 | 782 | 681 | ⋯ | 764 | 666 | 667 | 790 | 654 | 959 | 868 | 963 | 698 | 686 |\n\n",
            "text/html": [
              "<table>\n",
              "<caption>A matrix: 1 × 91 of type int</caption>\n",
              "<tbody>\n",
              "\t<tr><td>702</td><td>901</td><td>617</td><td>726</td><td>915</td><td>723</td><td>941</td><td>906</td><td>782</td><td>681</td><td>⋯</td><td>764</td><td>666</td><td>667</td><td>790</td><td>654</td><td>959</td><td>868</td><td>963</td><td>698</td><td>686</td></tr>\n",
              "</tbody>\n",
              "</table>\n"
            ]
          },
          "metadata": {
            "tags": []
          }
        },
        {
          "output_type": "display_data",
          "data": {
            "text/plain": [
              "     [,1] [,2] [,3] [,4] [,5] [,6] [,7] [,8] [,9] [,10] [,11] [,12] [,13] [,14]\n",
              "[1,] 3    9    10   18   20   22   25   26   27   29    ⋯     230   233   235  \n",
              "     [,15] [,16] [,17] [,18] [,19] [,20] [,21]\n",
              "[1,] 238   239   240   243   246   248   249  "
            ],
            "text/latex": "A matrix: 1 × 91 of type int\n\\begin{tabular}{lllllllllllllllllllllllllllllllllllllllllllllllllllllllllllllllllllllllllllllllllllllllllll}\n\t 3 & 9 & 10 & 18 & 20 & 22 & 25 & 26 & 27 & 29 & 37 & 41 & 42 & 43 & 45 & 48 & 49 & 51 & 65 & 67 & 71 & 74 & 79 & 81 & 84 & 85 & 88 & 95 & 98 & 99 & 103 & 106 & 108 & 109 & 110 & 113 & 114 & 119 & 120 & 129 & 130 & 131 & 138 & 139 & 143 & 147 & 148 & 152 & 154 & 159 & 161 & 166 & 167 & 168 & 172 & 173 & 174 & 176 & 177 & 183 & 187 & 188 & 189 & 190 & 191 & 194 & 196 & 197 & 201 & 202 & 204 & 206 & 207 & 211 & 212 & 219 & 223 & 224 & 225 & 227 & 229 & 230 & 233 & 235 & 238 & 239 & 240 & 243 & 246 & 248 & 249\\\\\n\\end{tabular}\n",
            "text/markdown": "\nA matrix: 1 × 91 of type int\n\n| 3 | 9 | 10 | 18 | 20 | 22 | 25 | 26 | 27 | 29 | ⋯ | 230 | 233 | 235 | 238 | 239 | 240 | 243 | 246 | 248 | 249 |\n\n",
            "text/html": [
              "<table>\n",
              "<caption>A matrix: 1 × 91 of type int</caption>\n",
              "<tbody>\n",
              "\t<tr><td>3</td><td>9</td><td>10</td><td>18</td><td>20</td><td>22</td><td>25</td><td>26</td><td>27</td><td>29</td><td>⋯</td><td>230</td><td>233</td><td>235</td><td>238</td><td>239</td><td>240</td><td>243</td><td>246</td><td>248</td><td>249</td></tr>\n",
              "</tbody>\n",
              "</table>\n"
            ]
          },
          "metadata": {
            "tags": []
          }
        },
        {
          "output_type": "display_data",
          "data": {
            "text/plain": [
              "     [,1] [,2] [,3] [,4] [,5] [,6] [,7] [,8] [,9] [,10] [,11] [,12] [,13] [,14]\n",
              "[1,] 819  706  903  761  439  481  624  988  473  568   ⋯     3     317   523  \n",
              "     [,15] [,16] [,17] [,18] [,19] [,20] [,21]\n",
              "[1,] 402   680   512   687   398   211   139  "
            ],
            "text/latex": "A matrix: 1 × 91 of type int\n\\begin{tabular}{lllllllllllllllllllllllllllllllllllllllllllllllllllllllllllllllllllllllllllllllllllllllllll}\n\t 819 & 706 & 903 & 761 & 439 & 481 & 624 & 988 & 473 & 568 & 926 & 518 & 852 & 593 & 86 & 455 & 773 & 935 & 398 & 755 & 335 & 500 & 810 & 755 & 233 & 125 & 332 & 440 & 811 & 385 & 591 & 345 & 610 & 221 & 646 & 261 & 640 & 206 & 388 & 161 & 705 & 319 & 667 & 286 & 605 & 87 & 895 & 561 & 777 & 576 & 778 & 963 & 961 & 212 & 201 & 324 & 387 & 770 & 258 & 232 & 438 & 25 & 376 & 218 & 665 & 708 & 78 & 762 & 227 & 873 & 390 & 113 & 839 & 757 & 397 & 601 & 814 & 827 & 79 & 566 & 983 & 3 & 317 & 523 & 402 & 680 & 512 & 687 & 398 & 211 & 139\\\\\n\\end{tabular}\n",
            "text/markdown": "\nA matrix: 1 × 91 of type int\n\n| 819 | 706 | 903 | 761 | 439 | 481 | 624 | 988 | 473 | 568 | ⋯ | 3 | 317 | 523 | 402 | 680 | 512 | 687 | 398 | 211 | 139 |\n\n",
            "text/html": [
              "<table>\n",
              "<caption>A matrix: 1 × 91 of type int</caption>\n",
              "<tbody>\n",
              "\t<tr><td>819</td><td>706</td><td>903</td><td>761</td><td>439</td><td>481</td><td>624</td><td>988</td><td>473</td><td>568</td><td>⋯</td><td>3</td><td>317</td><td>523</td><td>402</td><td>680</td><td>512</td><td>687</td><td>398</td><td>211</td><td>139</td></tr>\n",
              "</tbody>\n",
              "</table>\n"
            ]
          },
          "metadata": {
            "tags": []
          }
        },
        {
          "output_type": "stream",
          "text": [
            "[1] 42\n",
            "[1] 133\n"
          ],
          "name": "stdout"
        },
        {
          "output_type": "display_data",
          "data": {
            "text/plain": [
              "     [,1] [,2] [,3] [,4] [,5] [,6] [,7] [,8] [,9] [,10] [,11] [,12] [,13] [,14]\n",
              "[1,] 271  725  957  151  374  10   919  996  325  120   ⋯     398   757   345  \n",
              "     [,15] [,16] [,17] [,18] [,19] [,20] [,21]\n",
              "[1,] 895   667   762   387   561   258   390  "
            ],
            "text/latex": "A matrix: 1 × 250 of type int\n\\begin{tabular}{llllllllllllllllllllllllllllllllllllllllllllllllllllllllllllllllllllllllllllllllllllllllllllllllllllllllllllllllllllllllllllllllllllllllllllllllllllllllllllllllllllllllllllllllllllllllllllllllllllllllllllllllllllllllllllllllllllllllllllllllllllllllll}\n\t 271 & 725 & 957 & 151 & 374 & 10 & 919 & 996 & 325 & 120 & 216 & 978 & 997 & 409 & 474 & 261 & 607 & 979 & 814 & 271 & 905 & 362 & 692 & 746 & 777 & 793 & 130 & 94 & 257 & 840 & 892 & 435 & 68 & 703 & 862 & 23 & 949 & 853 & 250 & 986 & 813 & 669 & 996 & 441 & 504 & 975 & 49 & 46 & 98 & 239 & 274 & 358 & 598 & 799 & 159 & 885 & 94 & 150 & 114 & 611 & 650 & 339 & 988 & 778 & 881 & 344 & 764 & 189 & 247 & 391 & 180 & 43 & 541 & 487 & 635 & 868 & 180 & 865 & 215 & 830 & 465 & 521 & 253 & 609 & 78 & 440 & 618 & 799 & 259 & 835 & 960 & 921 & 420 & 581 & 927 & 711 & 752 & 257 & 346 & 102 & 966 & 272 & 665 & 640 & 563 & 104 & 887 & 510 & 276 & 958 & 160 & 855 & 662 & 795 & 40 & 450 & 648 & 656 & 12 & 234 & 915 & 362 & 765 & 800 & 678 & 786 & 769 & 485 & 251 & 598 & 926 & 805 & 161 & 449 & 310 & 924 & 369 & 777 & 17 & 765 & 59 & 795 & 367 & 499 & 498 & 778 & 274 & 450 & 651 & 722 & 954 & 55 & 470 & 526 & 469 & 749 & 477 & 31 & 962 & 811 & 903 & 113 & 201 & 873 & 212 & 324 & 218 & 125 & 78 & 593 & 680 & 961 & 385 & 963 & 646 & 705 & 317 & 523 & 610 & 568 & 755 & 139 & 935 & 810 & 211 & 319 & 161 & 983 & 819 & 839 & 926 & 481 & 761 & 770 & 227 & 601 & 232 & 566 & 3 & 335 & 605 & 473 & 814 & 233 & 402 & 221 & 206 & 286 & 440 & 455 & 852 & 87 & 86 & 398 & 591 & 755 & 576 & 827 & 500 & 261 & 687 & 773 & 438 & 665 & 640 & 388 & 706 & 332 & 708 & 988 & 25 & 439 & 397 & 79 & 518 & 376 & 624 & 778 & 777 & 512 & 398 & 757 & 345 & 895 & 667 & 762 & 387 & 561 & 258 & 390\\\\\n\\end{tabular}\n",
            "text/markdown": "\nA matrix: 1 × 250 of type int\n\n| 271 | 725 | 957 | 151 | 374 | 10 | 919 | 996 | 325 | 120 | ⋯ | 398 | 757 | 345 | 895 | 667 | 762 | 387 | 561 | 258 | 390 |\n\n",
            "text/html": [
              "<table>\n",
              "<caption>A matrix: 1 × 250 of type int</caption>\n",
              "<tbody>\n",
              "\t<tr><td>271</td><td>725</td><td>957</td><td>151</td><td>374</td><td>10</td><td>919</td><td>996</td><td>325</td><td>120</td><td>⋯</td><td>398</td><td>757</td><td>345</td><td>895</td><td>667</td><td>762</td><td>387</td><td>561</td><td>258</td><td>390</td></tr>\n",
              "</tbody>\n",
              "</table>\n"
            ]
          },
          "metadata": {
            "tags": []
          }
        },
        {
          "output_type": "display_data",
          "data": {
            "text/plain": [
              "     [,1] [,2] [,3] [,4] [,5] [,6] [,7] [,8] [,9] [,10] [,11] [,12] [,13] [,14]\n",
              "[1,] 537  95   162  617  161  56   269  723  941  88    ⋯     783   214   700  \n",
              "     [,15] [,16] [,17] [,18] [,19] [,20] [,21]\n",
              "[1,] 179   667   790   560   64    460   426  "
            ],
            "text/latex": "A matrix: 1 × 84 of type int\n\\begin{tabular}{llllllllllllllllllllllllllllllllllllllllllllllllllllllllllllllllllllllllllllllllllll}\n\t 537 & 95 & 162 & 617 & 161 & 56 & 269 & 723 & 941 & 88 & 200 & 47 & 721 & 159 & 653 & 39 & 869 & 261 & 91 & 528 & 397 & 273 & 845 & 559 & 453 & 263 & 696 & 566 & 642 & 902 & 253 & 158 & 71 & 519 & 842 & 970 & 792 & 284 & 262 & 92 & 171 & 424 & 436 & 665 & 216 & 550 & 796 & 291 & 134 & 974 & 196 & 954 & 473 & 66 & 556 & 658 & 514 & 623 & 86 & 208 & 0 & 386 & 870 & 641 & 242 & 647 & 496 & 624 & 116 & 48 & 965 & 189 & 360 & 328 & 783 & 214 & 700 & 179 & 667 & 790 & 560 & 64 & 460 & 426\\\\\n\\end{tabular}\n",
            "text/markdown": "\nA matrix: 1 × 84 of type int\n\n| 537 | 95 | 162 | 617 | 161 | 56 | 269 | 723 | 941 | 88 | ⋯ | 783 | 214 | 700 | 179 | 667 | 790 | 560 | 64 | 460 | 426 |\n\n",
            "text/html": [
              "<table>\n",
              "<caption>A matrix: 1 × 84 of type int</caption>\n",
              "<tbody>\n",
              "\t<tr><td>537</td><td>95</td><td>162</td><td>617</td><td>161</td><td>56</td><td>269</td><td>723</td><td>941</td><td>88</td><td>⋯</td><td>783</td><td>214</td><td>700</td><td>179</td><td>667</td><td>790</td><td>560</td><td>64</td><td>460</td><td>426</td></tr>\n",
              "</tbody>\n",
              "</table>\n"
            ]
          },
          "metadata": {
            "tags": []
          }
        }
      ]
    },
    {
      "cell_type": "markdown",
      "metadata": {
        "extensions": {
          "jupyter_dashboards": {
            "version": 1,
            "views": {
              "grid_default": {},
              "report_default": {}
            }
          }
        },
        "id": "CI5khJn3v8lM"
      },
      "source": [
        "## 4. Create the following 15x3 matrix:\n",
        "$B =\n",
        " \\begin{pmatrix}\n",
        "  10 & -10 & 10 \\\\\n",
        "  10 & -10 & 10 \\\\\n",
        "  \\vdots  & \\vdots  & \\vdots  \\\\\n",
        "  10 & -10 & 10\n",
        " \\end{pmatrix}$\n",
        "### Then, calculate the 3x3 matrix $B^{T}B$. Hint: `?crossprod`"
      ]
    },
    {
      "cell_type": "code",
      "metadata": {
        "id": "S7GzAg2ix8KF",
        "colab": {
          "base_uri": "https://localhost:8080/",
          "height": 116
        },
        "outputId": "f8ebae70-ca06-4176-8119-2ce8ecfa52f8"
      },
      "source": [
        "b1<- c(10,-10,10)\n",
        "m <- matrix(b1, nrow = 3, ncol = 15)\n",
        "B<-t(m)\n",
        "\n",
        "crossprod(B)"
      ],
      "execution_count": null,
      "outputs": [
        {
          "output_type": "display_data",
          "data": {
            "text/plain": [
              "     [,1]  [,2]  [,3] \n",
              "[1,]  1500 -1500  1500\n",
              "[2,] -1500  1500 -1500\n",
              "[3,]  1500 -1500  1500"
            ],
            "text/latex": "A matrix: 3 × 3 of type dbl\n\\begin{tabular}{lll}\n\t  1500 & -1500 &  1500\\\\\n\t -1500 &  1500 & -1500\\\\\n\t  1500 & -1500 &  1500\\\\\n\\end{tabular}\n",
            "text/markdown": "\nA matrix: 3 × 3 of type dbl\n\n|  1500 | -1500 |  1500 |\n| -1500 |  1500 | -1500 |\n|  1500 | -1500 |  1500 |\n\n",
            "text/html": [
              "<table>\n",
              "<caption>A matrix: 3 × 3 of type dbl</caption>\n",
              "<tbody>\n",
              "\t<tr><td> 1500</td><td>-1500</td><td> 1500</td></tr>\n",
              "\t<tr><td>-1500</td><td> 1500</td><td>-1500</td></tr>\n",
              "\t<tr><td> 1500</td><td>-1500</td><td> 1500</td></tr>\n",
              "</tbody>\n",
              "</table>\n"
            ]
          },
          "metadata": {
            "tags": []
          }
        }
      ]
    },
    {
      "cell_type": "markdown",
      "metadata": {
        "extensions": {
          "jupyter_dashboards": {
            "version": 1,
            "views": {
              "grid_default": {},
              "report_default": {}
            }
          }
        },
        "id": "qoqWdr11v8lS"
      },
      "source": [
        "## 5. Look at the help file for `outer`. Then,  create the following patterned matrix:\n",
        "$B =\n",
        " \\begin{pmatrix}\n",
        "  0 & 1 & 2 & 3 & 4 \\\\\n",
        "  1 & 2 & 3 & 4 & 5 \\\\\n",
        "  2 & 3 & 4 & 5 & 6  \\\\\n",
        "  3 & 4 & 5 & 6 & 7 \\\\\n",
        "  4 & 5 & 6 & 7 & 8\n",
        " \\end{pmatrix}$"
      ]
    },
    {
      "cell_type": "code",
      "metadata": {
        "id": "R8ZAKDi8HL2p",
        "colab": {
          "base_uri": "https://localhost:8080/",
          "height": 119
        },
        "outputId": "845f006a-d99c-4076-a17e-bb9f00edec8f"
      },
      "source": [
        "i=1\n",
        "B<-matrix(1, nrow=5, ncol=5)\n",
        "while (i<6){\n",
        "  vec<-c((i-1):(i+3))\n",
        "  B[(i), ]<-vec\n",
        "  i<-i+1\n",
        "}\n",
        "print(t(B))"
      ],
      "execution_count": null,
      "outputs": [
        {
          "output_type": "stream",
          "text": [
            "     [,1] [,2] [,3] [,4] [,5]\n",
            "[1,]    0    1    2    3    4\n",
            "[2,]    1    2    3    4    5\n",
            "[3,]    2    3    4    5    6\n",
            "[4,]    3    4    5    6    7\n",
            "[5,]    4    5    6    7    8\n"
          ],
          "name": "stdout"
        }
      ]
    },
    {
      "cell_type": "markdown",
      "metadata": {
        "extensions": {
          "jupyter_dashboards": {
            "version": 1,
            "views": {
              "grid_default": {},
              "report_default": {}
            }
          }
        },
        "id": "_3VjECEgv8lX"
      },
      "source": [
        "## 6. Write two functions - `Fn1` and `Fn2` - such that if $X$ is the vector $(x_{1}, x_{2}, …, x_{n})$, then `Fn1` returns $(x_{1}^2, x_{2}^2, …, x_{n}^2)$ and `Fn2` returns $(x_{1}, \\frac{x_{2}^2}{2}, …, \\frac{x_{n}^n}{n})$"
      ]
    },
    {
      "cell_type": "code",
      "metadata": {
        "id": "CpbQw3AmJShy",
        "colab": {
          "base_uri": "https://localhost:8080/",
          "height": 96
        },
        "outputId": "83be6c05-0e07-4edf-f45d-f7b40dabc269"
      },
      "source": [
        "Fn1<-((X)^2)\n",
        "\n",
        "leng<-(length(x))\n",
        "Fn2<-(((X)^(1:leng))/(1:leng))\n"
      ],
      "execution_count": null,
      "outputs": [
        {
          "output_type": "error",
          "ename": "ERROR",
          "evalue": "ignored",
          "traceback": [
            "Error in eval(expr, envir, enclos): object 'X' not found\nTraceback:\n"
          ]
        }
      ]
    },
    {
      "cell_type": "markdown",
      "metadata": {
        "extensions": {
          "jupyter_dashboards": {
            "version": 1,
            "views": {
              "grid_default": {},
              "report_default": {}
            }
          }
        },
        "id": "iUHmnCWev8lc"
      },
      "source": [
        "## 7. If $X = \\begin{pmatrix} 9, 8, 13, 6, 9 \\end{pmatrix}$, evaluate the following:\n",
        "#### a. $\\sum_{}^{}X_i$\n",
        "#### b. $\\sum_{i=2}^{4}X_i$\n",
        "#### c. $\\sum_{}^{}(X_i - \\overline{X})$\n",
        "#### d. $\\sum_{}^{}(X_i - \\overline{X})^2$\n",
        "#### e. $\\sum_{}^{}X_i^2$\n",
        "#### f. $(\\sum_{}^{}X_i)^2$\n",
        "#### g. $\\sum_{}^{}X_i^2 - \\frac{(\\sum_{}^{}X_i)^2}{n}$\n",
        "#### h. $\\sum_{}^{}X_i - 9$\n",
        "#### i. $\\sum_{i=1}^{3}(X_i + 2)$\n",
        "#### j. $\\sum_{i=1}^{n}5$\n",
        "#### k. $\\sum_{}^{}2X_i$\n",
        "#### l. $2\\sum_{}^{}X_i$"
      ]
    },
    {
      "cell_type": "code",
      "metadata": {
        "id": "4MeinTmad-Oi",
        "colab": {
          "base_uri": "https://localhost:8080/",
          "height": 221
        },
        "outputId": "06b4b926-19d3-4d7c-f931-77f21679e9c3"
      },
      "source": [
        "X<-c(9,8,13,6,9)\n",
        "\n",
        "a<-sum(X)\n",
        "\n",
        "b<-sum(X[2:4])\n",
        "\n",
        "mean<-sum(X)/length(X)\n",
        "\n",
        "c<-sum((X)-mean)\n",
        "\n",
        "d<-sum(((X)-mean)^2)\n",
        "\n",
        "e<-sum((X)^2)\n",
        "\n",
        "f<-(sum(X))^2\n",
        "\n",
        "\n",
        "leng<-length(X)\n",
        "g<-sum(((X)^2)-(((sum(X))^2)/leng))\n",
        "\n",
        "       \n",
        "h<-sum(X-9)\n",
        "       \n",
        "i<-sum(X[1:3]+2)\n",
        "   \n",
        "J=0\n",
        "j=0\n",
        "leng<-length(X)\n",
        "while (J<leng){\n",
        "  j=j+5\n",
        "  J=J+1\n",
        "}         \n",
        "       \n",
        "k<-sum(2*X)\n",
        "       \n",
        "l<-2*(sum(X))\n",
        "\n",
        "print (a)\n",
        "print (b)\n",
        "print (c)\n",
        "print (d)\n",
        "print (e)\n",
        "print (f)\n",
        "print (g)\n",
        "print (h)\n",
        "print (i)\n",
        "print (j)\n",
        "print (k)\n",
        "print (l)\n"
      ],
      "execution_count": null,
      "outputs": [
        {
          "output_type": "stream",
          "text": [
            "[1] 45\n",
            "[1] 27\n",
            "[1] 0\n",
            "[1] 26\n",
            "[1] 431\n",
            "[1] 2025\n",
            "[1] -1594\n",
            "[1] 0\n",
            "[1] 36\n",
            "[1] 25\n",
            "[1] 90\n",
            "[1] 90\n"
          ],
          "name": "stdout"
        }
      ]
    },
    {
      "cell_type": "markdown",
      "metadata": {
        "extensions": {
          "jupyter_dashboards": {
            "version": 1,
            "views": {
              "grid_default": {},
              "report_default": {}
            }
          }
        },
        "id": "gTVoT2u2v8mL"
      },
      "source": [
        "## 8. The following data are the carapace (shell) lengths in centimeters of a sample of adult female green turtles, Chelonia mydas, measured while nesting at Heron Island in Australia's Great Barrier Reef: \n",
        "$(110, 105, 117, 113, 95, 115, 98, 97, 63, 120)$\n",
        "### Calculate the following descriptive statistics for this sample: \n",
        "#### a. median\n",
        "#### b. sample mean\n",
        "#### c. corrected sum of squares\n",
        "#### d. sample variance\n",
        "#### e. standard deviation\n",
        "#### f. range\n"
      ]
    },
    {
      "cell_type": "code",
      "metadata": {
        "id": "kcHbzuH0sNy9",
        "colab": {
          "base_uri": "https://localhost:8080/",
          "height": 119
        },
        "outputId": "c055df2d-d4cc-4e4d-d68d-c83a3c9c2c0b"
      },
      "source": [
        " x<-c(110,105,117,113,95,115,98,97,63,120)\n",
        "       x1<-x[order(x)]\n",
        "       leng=(length(x))\n",
        "       leng1<-(leng%%2)\n",
        "       if ((leng1)>0){\n",
        "         print (x1[ceiling(leng/2)])\n",
        "       }else {\n",
        "         x2<-((x1[leng/2])+(x1[(leng/2)+1]))/2\n",
        "         print (x2)\n",
        "       }\n",
        "\n",
        "mean<-(sum(x))/(length(x))\n",
        "mean1<-mean(x)\n",
        "\n",
        "css<-sum((x-mean(x))^2)\n",
        "\n",
        "vari<-(sum((x-mean(x))^2))/(length(x))\n",
        "vari1<-var(x)\n",
        "\n",
        "std<-(((sum((x-mean(x))^2))/(length(x)))^0.5)\n",
        "std1<-sd(x)\n",
        "\n",
        "range<-max(x)-min(x)\n",
        "\n",
        "print (mean)\n",
        "print (css)\n",
        "print (vari)\n",
        "print (std)\n",
        "print (range)\n"
      ],
      "execution_count": null,
      "outputs": [
        {
          "output_type": "stream",
          "text": [
            "[1] 107.5\n",
            "[1] 103.3\n",
            "[1] 2506.1\n",
            "[1] 250.61\n",
            "[1] 15.83067\n",
            "[1] 57\n"
          ],
          "name": "stdout"
        }
      ]
    },
    {
      "cell_type": "markdown",
      "metadata": {
        "extensions": {
          "jupyter_dashboards": {
            "version": 1,
            "views": {
              "grid_default": {},
              "report_default": {}
            }
          }
        },
        "id": "0lWKF8Unv8mg"
      },
      "source": [
        "## 9. The red-tailed tropical bird, Phaethon rubricauda, is an extremely rare sea bird that nests on several islands of the Queensland coast of Australia. As part of a conservation effort to manage these endangered birds, every nesting pair was measured and weighed. Below are the body weights of these birds (in kg).\n",
        ">Female | Male\n",
        "> --- | ---\n",
        "> 2.45 | 2.86\n",
        "> 2.57 | 2.65\n",
        "> 2.81 | 2.75\n",
        "> 2.37 | 2.60\n",
        "> 2.01 | 2.30\n",
        "> 2.50 | 2.49\n",
        "> 2.32 | 2.84\n",
        "\n",
        "#### a. Determine the mean, variance, and standard deviation for the female weights.\n",
        "#### b. Determine the mean, variance, and standard deviation for the male weights.\n",
        "#### c. Is this a sample or population? Comment on the differences or similarities between the two data sets."
      ]
    },
    {
      "cell_type": "markdown",
      "metadata": {
        "id": "puLu6D2QmZPl"
      },
      "source": [
        "C. this is a sample. Eventhough the Phaethon rubricauda is extremely rare and has very little number of population left, this size of group can only be a sample that could possibly represents data of population. "
      ]
    },
    {
      "cell_type": "code",
      "metadata": {
        "id": "GOfS2Gpzg7JR"
      },
      "source": [
        "F<-c(2.45, 2.57, 2.81, 2.37, 2.01, 2.50, 2.32)\n",
        "M<-c(2.86, 2.65, 2.75, 2.60, 2.30, 2.49, 2.84)\n",
        "\n",
        "Fmean<-(sum(F))/(length(F))\n",
        "\n",
        "Fvari<-(sum((F-mean(F))^2))/(length(F))\n",
        "\n",
        "Fstd<-(((sum((F-mean(F))^2))/(length(F)))^0.5)\n",
        "\n",
        "\n",
        "Mmean<-(sum(M))/(length(M))\n",
        "\n",
        "Mvari<-(sum((M-mean(M))^2))/(length(M))\n",
        "\n",
        "Mstd<-(((sum((M-mean(M))^2))/(length(M)))^0.5)\n",
        "\n",
        "print (Fmean)\n",
        "print (Fvari)\n",
        "print (Fstd)\n",
        "print (Mmean)\n",
        "print (Mvari)\n",
        "print (Mstd)\n"
      ],
      "execution_count": null,
      "outputs": []
    },
    {
      "cell_type": "markdown",
      "metadata": {
        "extensions": {
          "jupyter_dashboards": {
            "version": 1,
            "views": {
              "grid_default": {},
              "report_default": {}
            }
          }
        },
        "id": "QMPuwUaJv8mp"
      },
      "source": [
        "## 10. Descriptive statistics for an extensive study of human morphometrics has been completed in the United States. \n",
        "### The measurements on height have to be converted from inches to centimeters for publication in a British journal. The mean in the study was 68 inches and the standard deviation was 10 inches. What should the reported mean and variance be?"
      ]
    },
    {
      "cell_type": "code",
      "metadata": {
        "id": "0vtrIscevEOo"
      },
      "source": [
        "mean<-68*2.54\n",
        "std<-10*2.54\n",
        "\n",
        "print (mean)\n",
        "print (std)"
      ],
      "execution_count": null,
      "outputs": []
    },
    {
      "cell_type": "markdown",
      "metadata": {
        "id": "Tpoj9rpUvE2S"
      },
      "source": [
        "1 inch = 2.54 cm "
      ]
    },
    {
      "cell_type": "markdown",
      "metadata": {
        "extensions": {
          "jupyter_dashboards": {
            "version": 1,
            "views": {
              "grid_default": {},
              "report_default": {}
            }
          }
        },
        "id": "kvvuvHMsv8mr"
      },
      "source": [
        "## 11. The list below provides snowfall data for 63 consecutive years in Buffalo, NY (in inches per year): \n",
        "$(25.0, 38.8, 39.9, 40.1, 46.7, 49.1, 49.6, 51.1, 51.6, 53.5, 54.7, 55.5, 55.9, 58.8, 60.3, 63.6, 65.4, 66.1, 69.3, 70.9, 71.4, 71.5, 71.8, 72.9, 74.4, 76.2, 77.8, 78.1, 78.4, 79.0, 79.3, 79.7, 80.7, 82.4, 82.4, 83.0, 83.6, 83.6, 84.8, 85.5, 87.4, 88.7, 89.6, 89.8, 89.9, 90.9, 97.0, 98.3, 101.4, 102.4, 103.9, 104.5, 105.2, 110.0, 110.5, 110.5, 113.7, 114.5, 115.6, 120.5, 120.7, 124.7, 126.4)$`\n",
        "### The data have been rearranged in order of increasing annual snowfall. Using R, create two histograms for these data, one with 20\" bins and one with 10\" bins. Do the two histograms give different impressions of the dataset? "
      ]
    },
    {
      "cell_type": "code",
      "metadata": {
        "id": "2Qa7DHuCzSTk",
        "colab": {
          "base_uri": "https://localhost:8080/",
          "height": 1000
        },
        "outputId": "43594363-e901-4350-ae29-7f31fabba8fe"
      },
      "source": [
        "x<- c(25.0, 38.8, 39.9, 40.1, 46.7, 49.1, 49.6, 51.1, 51.6, 53.5, 54.7, 55.5, 55.9, 58.8, 60.3, 63.6, 65.4, 66.1, 69.3, 70.9, 71.4, 71.5, 71.8, 72.9, 74.4, 76.2, 77.8, 78.1, 78.4, 79.0, 79.3, 79.7, 80.7, 82.4, 82.4, 83.0, 83.6, 83.6, 84.8, 85.5, 87.4, 88.7, 89.6, 89.8, 89.9, 90.9, 97.0, 98.3, 101.4, 102.4, 103.9, 104.5, 105.2, 110.0, 110.5, 110.5, 113.7, 114.5, 115.6, 120.5, 120.7, 124.7, 126.4)\n",
        "\n",
        "hist(x)\n",
        "\n",
        "hist(x, breaks=12)\n",
        "\n",
        "\n"
      ],
      "execution_count": null,
      "outputs": [
        {
          "output_type": "display_data",
          "data": {
            "image/png": "[encoded data removed]",
            "text/plain": [
              "Plot with title “Histogram of x”"
            ]
          },
          "metadata": {
            "tags": []
          }
        },
        {
          "output_type": "display_data",
          "data": {
            "image/png": "[encoded data removed]",
            "text/plain": [
              "Plot with title “Histogram of x”"
            ]
          },
          "metadata": {
            "tags": []
          }
        }
      ]
    },
    {
      "cell_type": "markdown",
      "metadata": {
        "id": "rDprQvv3Ai9x"
      },
      "source": [
        "histogram with 20'' bin makes the histogram more smooth and close to the normal bell curve, but the histogram with 10'' bin shows little more dynamic data set."
      ]
    },
    {
      "cell_type": "markdown",
      "metadata": {
        "extensions": {
          "jupyter_dashboards": {
            "version": 1,
            "views": {
              "grid_default": {},
              "report_default": {}
            }
          }
        },
        "id": "o-kXbFqKv8mx"
      },
      "source": [
        "## 12. A study of two species generates the following weights (kg) for mature males:\n",
        ">O. virginianus ||||||| O. hemionus ||\n",
        "> --- | --- | --- | --- | --- | --- | --- | --- | ---\n",
        "> 90 | 77 ||||||  99 |  84\n",
        "> 71 | 90 ||||||  80 | 104\n",
        "> 83 | 83 |||||| 120 | 104\n",
        "> 85 | 84 ||||||  91 | 101\n",
        "> 86 | 91 |||||| 106 | 109\n",
        "> 92 | 70 ||||||  95 |  80\n",
        "> 75 | 71 |||||| 100 |  91\n",
        "> 76 | 75 |||||| 109 |  73\n",
        "> 83 | 89 |||||| 101 |  98\n",
        "> 85 | 92 ||||||  93 | 102\n",
        "### Calculate appropriate descriptive statistics for each sample. Also calculate five-number summaries (median, first and third quartiles, and the two extremes) and draw box plots (in R) for each sample. Describe any observations: what are the significant differences between the two samples?"
      ]
    },
    {
      "cell_type": "code",
      "metadata": {
        "id": "HzsR4EiGA3o7",
        "colab": {
          "base_uri": "https://localhost:8080/",
          "height": 1000
        },
        "outputId": "6508fdba-606f-491b-ddd5-8d5774d6cf46"
      },
      "source": [
        "v<-c(90,71,83,85,86,92,75,76,83,85,77,90,83,84,91,70,71,75,89,92)\n",
        "h<-c(99,80,120,91,106,95,100,109,101,93,84,104,104,101,109,80,91,73,98,102)\n",
        "\n",
        "median(v)\n",
        "quantile(v)\n",
        "quantile(v,c(0.25,0.75))\n",
        "min(v)\n",
        "max(v)\n",
        "\n",
        "median(h)\n",
        "quantile(h)\n",
        "quantile(h,c(0.25,0.75))\n",
        "min(h)\n",
        "max(h)\n",
        "\n",
        "\n",
        "\n",
        "summary(v)\n",
        "summary(h)\n",
        "\n",
        "boxplot(v)\n",
        "boxplot(h)\n",
        "\n"
      ],
      "execution_count": null,
      "outputs": [
        {
          "output_type": "display_data",
          "data": {
            "text/plain": [
              "[1] 83.5"
            ],
            "text/latex": "83.5",
            "text/markdown": "83.5",
            "text/html": [
              "83.5"
            ]
          },
          "metadata": {
            "tags": []
          }
        },
        {
          "output_type": "display_data",
          "data": {
            "text/plain": [
              "   0%   25%   50%   75%  100% \n",
              "70.00 75.75 83.50 89.25 92.00 "
            ],
            "text/latex": "\\begin{description*}\n\\item[0\\textbackslash{}\\%] 70\n\\item[25\\textbackslash{}\\%] 75.75\n\\item[50\\textbackslash{}\\%] 83.5\n\\item[75\\textbackslash{}\\%] 89.25\n\\item[100\\textbackslash{}\\%] 92\n\\end{description*}\n",
            "text/markdown": "0%\n:   7025%\n:   75.7550%\n:   83.575%\n:   89.25100%\n:   92\n\n",
            "text/html": [
              "<dl class=dl-horizontal>\n",
              "\t<dt>0%</dt>\n",
              "\t\t<dd>70</dd>\n",
              "\t<dt>25%</dt>\n",
              "\t\t<dd>75.75</dd>\n",
              "\t<dt>50%</dt>\n",
              "\t\t<dd>83.5</dd>\n",
              "\t<dt>75%</dt>\n",
              "\t\t<dd>89.25</dd>\n",
              "\t<dt>100%</dt>\n",
              "\t\t<dd>92</dd>\n",
              "</dl>\n"
            ]
          },
          "metadata": {
            "tags": []
          }
        },
        {
          "output_type": "display_data",
          "data": {
            "text/plain": [
              "  25%   75% \n",
              "75.75 89.25 "
            ],
            "text/latex": "\\begin{description*}\n\\item[25\\textbackslash{}\\%] 75.75\n\\item[75\\textbackslash{}\\%] 89.25\n\\end{description*}\n",
            "text/markdown": "25%\n:   75.7575%\n:   89.25\n\n",
            "text/html": [
              "<dl class=dl-horizontal>\n",
              "\t<dt>25%</dt>\n",
              "\t\t<dd>75.75</dd>\n",
              "\t<dt>75%</dt>\n",
              "\t\t<dd>89.25</dd>\n",
              "</dl>\n"
            ]
          },
          "metadata": {
            "tags": []
          }
        },
        {
          "output_type": "display_data",
          "data": {
            "text/plain": [
              "[1] 70"
            ],
            "text/latex": "70",
            "text/markdown": "70",
            "text/html": [
              "70"
            ]
          },
          "metadata": {
            "tags": []
          }
        },
        {
          "output_type": "display_data",
          "data": {
            "text/plain": [
              "[1] 92"
            ],
            "text/latex": "92",
            "text/markdown": "92",
            "text/html": [
              "92"
            ]
          },
          "metadata": {
            "tags": []
          }
        },
        {
          "output_type": "display_data",
          "data": {
            "text/plain": [
              "[1] 99.5"
            ],
            "text/latex": "99.5",
            "text/markdown": "99.5",
            "text/html": [
              "99.5"
            ]
          },
          "metadata": {
            "tags": []
          }
        },
        {
          "output_type": "display_data",
          "data": {
            "text/plain": [
              "   0%   25%   50%   75%  100% \n",
              " 73.0  91.0  99.5 104.0 120.0 "
            ],
            "text/latex": "\\begin{description*}\n\\item[0\\textbackslash{}\\%] 73\n\\item[25\\textbackslash{}\\%] 91\n\\item[50\\textbackslash{}\\%] 99.5\n\\item[75\\textbackslash{}\\%] 104\n\\item[100\\textbackslash{}\\%] 120\n\\end{description*}\n",
            "text/markdown": "0%\n:   7325%\n:   9150%\n:   99.575%\n:   104100%\n:   120\n\n",
            "text/html": [
              "<dl class=dl-horizontal>\n",
              "\t<dt>0%</dt>\n",
              "\t\t<dd>73</dd>\n",
              "\t<dt>25%</dt>\n",
              "\t\t<dd>91</dd>\n",
              "\t<dt>50%</dt>\n",
              "\t\t<dd>99.5</dd>\n",
              "\t<dt>75%</dt>\n",
              "\t\t<dd>104</dd>\n",
              "\t<dt>100%</dt>\n",
              "\t\t<dd>120</dd>\n",
              "</dl>\n"
            ]
          },
          "metadata": {
            "tags": []
          }
        },
        {
          "output_type": "display_data",
          "data": {
            "text/plain": [
              "25% 75% \n",
              " 91 104 "
            ],
            "text/latex": "\\begin{description*}\n\\item[25\\textbackslash{}\\%] 91\n\\item[75\\textbackslash{}\\%] 104\n\\end{description*}\n",
            "text/markdown": "25%\n:   9175%\n:   104\n\n",
            "text/html": [
              "<dl class=dl-horizontal>\n",
              "\t<dt>25%</dt>\n",
              "\t\t<dd>91</dd>\n",
              "\t<dt>75%</dt>\n",
              "\t\t<dd>104</dd>\n",
              "</dl>\n"
            ]
          },
          "metadata": {
            "tags": []
          }
        },
        {
          "output_type": "display_data",
          "data": {
            "text/plain": [
              "[1] 73"
            ],
            "text/latex": "73",
            "text/markdown": "73",
            "text/html": [
              "73"
            ]
          },
          "metadata": {
            "tags": []
          }
        },
        {
          "output_type": "display_data",
          "data": {
            "text/plain": [
              "[1] 120"
            ],
            "text/latex": "120",
            "text/markdown": "120",
            "text/html": [
              "120"
            ]
          },
          "metadata": {
            "tags": []
          }
        },
        {
          "output_type": "display_data",
          "data": {
            "text/plain": [
              "   Min. 1st Qu.  Median    Mean 3rd Qu.    Max. \n",
              "  70.00   75.75   83.50   82.40   89.25   92.00 "
            ]
          },
          "metadata": {
            "tags": []
          }
        },
        {
          "output_type": "display_data",
          "data": {
            "text/plain": [
              "   Min. 1st Qu.  Median    Mean 3rd Qu.    Max. \n",
              "   73.0    91.0    99.5    97.0   104.0   120.0 "
            ]
          },
          "metadata": {
            "tags": []
          }
        },
        {
          "output_type": "display_data",
          "data": {
            "image/png": "[encoded data removed]",
            "text/plain": [
              "plot without title"
            ]
          },
          "metadata": {
            "tags": []
          }
        },
        {
          "output_type": "display_data",
          "data": {
            "image/png": "[encoded data removed]",
            "text/plain": [
              "plot without title"
            ]
          },
          "metadata": {
            "tags": []
          }
        }
      ]
    },
    {
      "cell_type": "markdown",
      "metadata": {
        "id": "exkvwcMzE-Pq"
      },
      "source": [
        "The first box plot shows that the datas are widely distributed and has wider range between first quartile and third quartile. The second plot shows smaller range between first and third quartile, meaning that most of the datas are close together except few data points, compare to the first plot. It also shows that second data set has much higher mean than first plot, meaning second set of datas were ranged and clustered in higher range. "
      ]
    }
  ]
}
