{
  "nbformat": 4,
  "nbformat_minor": 0,
  "metadata": {
    "colab": {
      "provenance": []
    },
    "kernelspec": {
      "name": "python3",
      "display_name": "Python 3"
    },
    "language_info": {
      "name": "python"
    }
  },
  "cells": [
    {
      "cell_type": "markdown",
      "source": [
        "# Info Vis Course HW1 : Where are we with pandas and matplotlib?"
      ],
      "metadata": {
        "id": "NOfte0tLpDH5"
      }
    },
    {
      "cell_type": "markdown",
      "source": [
        "HW 1, Where are we with pandas and matplotlib?\n",
        "\n",
        "We are using covid19cases_test.csv here"
      ],
      "metadata": {
        "id": "VJZX4-F5oyoP"
      }
    },
    {
      "cell_type": "code",
      "execution_count": null,
      "metadata": {
        "id": "EBM_BRDjn6NW"
      },
      "outputs": [],
      "source": [
        "# %matplotlib qt\n",
        "import math  # because you may need math.nan and math.isnan\n",
        "import pandas as pd\n",
        "import matplotlib.pyplot as plt\n",
        "from datetime import datetime  # to manipulate date strings"
      ]
    },
    {
      "cell_type": "markdown",
      "source": [
        "Got the code straight from the slides. Oops"
      ],
      "metadata": {
        "id": "XMIfKe1sql8g"
      }
    },
    {
      "cell_type": "code",
      "source": [
        "df = pd.read_csv(\"covid19cases_test.csv\")\n",
        "df.info()"
      ],
      "metadata": {
        "colab": {
          "base_uri": "https://localhost:8080/"
        },
        "id": "5IPSwiBVqwg2",
        "outputId": "239e686b-4e35-43ea-9391-485182efacb0"
      },
      "execution_count": null,
      "outputs": [
        {
          "output_type": "stream",
          "name": "stdout",
          "text": [
            "<class 'pandas.core.frame.DataFrame'>\n",
            "RangeIndex: 43920 entries, 0 to 43919\n",
            "Data columns (total 17 columns):\n",
            " #   Column                      Non-Null Count  Dtype  \n",
            "---  ------                      --------------  -----  \n",
            " 0   date                        43859 non-null  object \n",
            " 1   area                        43920 non-null  object \n",
            " 2   area_type                   43920 non-null  object \n",
            " 3   population                  42480 non-null  float64\n",
            " 4   cases                       43200 non-null  float64\n",
            " 5   cumulative_cases            43200 non-null  float64\n",
            " 6   deaths                      43200 non-null  float64\n",
            " 7   cumulative_deaths           43200 non-null  float64\n",
            " 8   total_tests                 43859 non-null  float64\n",
            " 9   cumulative_total_tests      43920 non-null  int64  \n",
            " 10  positive_tests              43859 non-null  float64\n",
            " 11  cumulative_positive_tests   43920 non-null  int64  \n",
            " 12  reported_cases              43200 non-null  float64\n",
            " 13  cumulative_reported_cases   43200 non-null  float64\n",
            " 14  reported_deaths             43200 non-null  float64\n",
            " 15  cumulative_reported_deaths  43200 non-null  float64\n",
            " 16  reported_tests              34831 non-null  float64\n",
            "dtypes: float64(12), int64(2), object(3)\n",
            "memory usage: 5.7+ MB\n"
          ]
        }
      ]
    },
    {
      "cell_type": "code",
      "source": [
        "df.head()"
      ],
      "metadata": {
        "colab": {
          "base_uri": "https://localhost:8080/",
          "height": 304
        },
        "id": "Cx9J5HBVq5oS",
        "outputId": "3238b5f6-5dca-4e2a-c5b5-ba9984dd6c5c"
      },
      "execution_count": null,
      "outputs": [
        {
          "output_type": "execute_result",
          "data": {
            "text/plain": [
              "         date     area area_type  population  cases  cumulative_cases  deaths  \\\n",
              "0  2020-02-01  Alameda    County   1685886.0    3.0               3.0     0.0   \n",
              "1  2020-02-02  Alameda    County   1685886.0    0.0               3.0     0.0   \n",
              "2  2020-02-03  Alameda    County   1685886.0    0.0               3.0     0.0   \n",
              "3  2020-02-04  Alameda    County   1685886.0    0.0               3.0     0.0   \n",
              "4  2020-02-05  Alameda    County   1685886.0    0.0               3.0     0.0   \n",
              "\n",
              "   cumulative_deaths  total_tests  cumulative_total_tests  positive_tests  \\\n",
              "0                0.0          4.0                       4             0.0   \n",
              "1                0.0          1.0                       5             0.0   \n",
              "2                0.0          0.0                       5             0.0   \n",
              "3                0.0          0.0                       5             0.0   \n",
              "4                0.0          1.0                       6             0.0   \n",
              "\n",
              "   cumulative_positive_tests  reported_cases  cumulative_reported_cases  \\\n",
              "0                          0             0.0                        0.0   \n",
              "1                          0             0.0                        0.0   \n",
              "2                          0             0.0                        0.0   \n",
              "3                          0             0.0                        0.0   \n",
              "4                          0             0.0                        0.0   \n",
              "\n",
              "   reported_deaths  cumulative_reported_deaths  reported_tests  \n",
              "0              0.0                         0.0             NaN  \n",
              "1              0.0                         0.0             NaN  \n",
              "2              0.0                         0.0             NaN  \n",
              "3              0.0                         0.0             NaN  \n",
              "4              0.0                         0.0             NaN  "
            ],
            "text/html": [
              "\n",
              "  <div id=\"df-1b9f7f52-8eee-4588-85c8-328a4c9f07a8\" class=\"colab-df-container\">\n",
              "    <div>\n",
              "<style scoped>\n",
              "    .dataframe tbody tr th:only-of-type {\n",
              "        vertical-align: middle;\n",
              "    }\n",
              "\n",
              "    .dataframe tbody tr th {\n",
              "        vertical-align: top;\n",
              "    }\n",
              "\n",
              "    .dataframe thead th {\n",
              "        text-align: right;\n",
              "    }\n",
              "</style>\n",
              "<table border=\"1\" class=\"dataframe\">\n",
              "  <thead>\n",
              "    <tr style=\"text-align: right;\">\n",
              "      <th></th>\n",
              "      <th>date</th>\n",
              "      <th>area</th>\n",
              "      <th>area_type</th>\n",
              "      <th>population</th>\n",
              "      <th>cases</th>\n",
              "      <th>cumulative_cases</th>\n",
              "      <th>deaths</th>\n",
              "      <th>cumulative_deaths</th>\n",
              "      <th>total_tests</th>\n",
              "      <th>cumulative_total_tests</th>\n",
              "      <th>positive_tests</th>\n",
              "      <th>cumulative_positive_tests</th>\n",
              "      <th>reported_cases</th>\n",
              "      <th>cumulative_reported_cases</th>\n",
              "      <th>reported_deaths</th>\n",
              "      <th>cumulative_reported_deaths</th>\n",
              "      <th>reported_tests</th>\n",
              "    </tr>\n",
              "  </thead>\n",
              "  <tbody>\n",
              "    <tr>\n",
              "      <th>0</th>\n",
              "      <td>2020-02-01</td>\n",
              "      <td>Alameda</td>\n",
              "      <td>County</td>\n",
              "      <td>1685886.0</td>\n",
              "      <td>3.0</td>\n",
              "      <td>3.0</td>\n",
              "      <td>0.0</td>\n",
              "      <td>0.0</td>\n",
              "      <td>4.0</td>\n",
              "      <td>4</td>\n",
              "      <td>0.0</td>\n",
              "      <td>0</td>\n",
              "      <td>0.0</td>\n",
              "      <td>0.0</td>\n",
              "      <td>0.0</td>\n",
              "      <td>0.0</td>\n",
              "      <td>NaN</td>\n",
              "    </tr>\n",
              "    <tr>\n",
              "      <th>1</th>\n",
              "      <td>2020-02-02</td>\n",
              "      <td>Alameda</td>\n",
              "      <td>County</td>\n",
              "      <td>1685886.0</td>\n",
              "      <td>0.0</td>\n",
              "      <td>3.0</td>\n",
              "      <td>0.0</td>\n",
              "      <td>0.0</td>\n",
              "      <td>1.0</td>\n",
              "      <td>5</td>\n",
              "      <td>0.0</td>\n",
              "      <td>0</td>\n",
              "      <td>0.0</td>\n",
              "      <td>0.0</td>\n",
              "      <td>0.0</td>\n",
              "      <td>0.0</td>\n",
              "      <td>NaN</td>\n",
              "    </tr>\n",
              "    <tr>\n",
              "      <th>2</th>\n",
              "      <td>2020-02-03</td>\n",
              "      <td>Alameda</td>\n",
              "      <td>County</td>\n",
              "      <td>1685886.0</td>\n",
              "      <td>0.0</td>\n",
              "      <td>3.0</td>\n",
              "      <td>0.0</td>\n",
              "      <td>0.0</td>\n",
              "      <td>0.0</td>\n",
              "      <td>5</td>\n",
              "      <td>0.0</td>\n",
              "      <td>0</td>\n",
              "      <td>0.0</td>\n",
              "      <td>0.0</td>\n",
              "      <td>0.0</td>\n",
              "      <td>0.0</td>\n",
              "      <td>NaN</td>\n",
              "    </tr>\n",
              "    <tr>\n",
              "      <th>3</th>\n",
              "      <td>2020-02-04</td>\n",
              "      <td>Alameda</td>\n",
              "      <td>County</td>\n",
              "      <td>1685886.0</td>\n",
              "      <td>0.0</td>\n",
              "      <td>3.0</td>\n",
              "      <td>0.0</td>\n",
              "      <td>0.0</td>\n",
              "      <td>0.0</td>\n",
              "      <td>5</td>\n",
              "      <td>0.0</td>\n",
              "      <td>0</td>\n",
              "      <td>0.0</td>\n",
              "      <td>0.0</td>\n",
              "      <td>0.0</td>\n",
              "      <td>0.0</td>\n",
              "      <td>NaN</td>\n",
              "    </tr>\n",
              "    <tr>\n",
              "      <th>4</th>\n",
              "      <td>2020-02-05</td>\n",
              "      <td>Alameda</td>\n",
              "      <td>County</td>\n",
              "      <td>1685886.0</td>\n",
              "      <td>0.0</td>\n",
              "      <td>3.0</td>\n",
              "      <td>0.0</td>\n",
              "      <td>0.0</td>\n",
              "      <td>1.0</td>\n",
              "      <td>6</td>\n",
              "      <td>0.0</td>\n",
              "      <td>0</td>\n",
              "      <td>0.0</td>\n",
              "      <td>0.0</td>\n",
              "      <td>0.0</td>\n",
              "      <td>0.0</td>\n",
              "      <td>NaN</td>\n",
              "    </tr>\n",
              "  </tbody>\n",
              "</table>\n",
              "</div>\n",
              "    <div class=\"colab-df-buttons\">\n",
              "\n",
              "  <div class=\"colab-df-container\">\n",
              "    <button class=\"colab-df-convert\" onclick=\"convertToInteractive('df-1b9f7f52-8eee-4588-85c8-328a4c9f07a8')\"\n",
              "            title=\"Convert this dataframe to an interactive table.\"\n",
              "            style=\"display:none;\">\n",
              "\n",
              "  <svg xmlns=\"http://www.w3.org/2000/svg\" height=\"24px\" viewBox=\"0 -960 960 960\">\n",
              "    <path d=\"M120-120v-720h720v720H120Zm60-500h600v-160H180v160Zm220 220h160v-160H400v160Zm0 220h160v-160H400v160ZM180-400h160v-160H180v160Zm440 0h160v-160H620v160ZM180-180h160v-160H180v160Zm440 0h160v-160H620v160Z\"/>\n",
              "  </svg>\n",
              "    </button>\n",
              "\n",
              "  <style>\n",
              "    .colab-df-container {\n",
              "      display:flex;\n",
              "      gap: 12px;\n",
              "    }\n",
              "\n",
              "    .colab-df-convert {\n",
              "      background-color: #E8F0FE;\n",
              "      border: none;\n",
              "      border-radius: 50%;\n",
              "      cursor: pointer;\n",
              "      display: none;\n",
              "      fill: #1967D2;\n",
              "      height: 32px;\n",
              "      padding: 0 0 0 0;\n",
              "      width: 32px;\n",
              "    }\n",
              "\n",
              "    .colab-df-convert:hover {\n",
              "      background-color: #E2EBFA;\n",
              "      box-shadow: 0px 1px 2px rgba(60, 64, 67, 0.3), 0px 1px 3px 1px rgba(60, 64, 67, 0.15);\n",
              "      fill: #174EA6;\n",
              "    }\n",
              "\n",
              "    .colab-df-buttons div {\n",
              "      margin-bottom: 4px;\n",
              "    }\n",
              "\n",
              "    [theme=dark] .colab-df-convert {\n",
              "      background-color: #3B4455;\n",
              "      fill: #D2E3FC;\n",
              "    }\n",
              "\n",
              "    [theme=dark] .colab-df-convert:hover {\n",
              "      background-color: #434B5C;\n",
              "      box-shadow: 0px 1px 3px 1px rgba(0, 0, 0, 0.15);\n",
              "      filter: drop-shadow(0px 1px 2px rgba(0, 0, 0, 0.3));\n",
              "      fill: #FFFFFF;\n",
              "    }\n",
              "  </style>\n",
              "\n",
              "    <script>\n",
              "      const buttonEl =\n",
              "        document.querySelector('#df-1b9f7f52-8eee-4588-85c8-328a4c9f07a8 button.colab-df-convert');\n",
              "      buttonEl.style.display =\n",
              "        google.colab.kernel.accessAllowed ? 'block' : 'none';\n",
              "\n",
              "      async function convertToInteractive(key) {\n",
              "        const element = document.querySelector('#df-1b9f7f52-8eee-4588-85c8-328a4c9f07a8');\n",
              "        const dataTable =\n",
              "          await google.colab.kernel.invokeFunction('convertToInteractive',\n",
              "                                                    [key], {});\n",
              "        if (!dataTable) return;\n",
              "\n",
              "        const docLinkHtml = 'Like what you see? Visit the ' +\n",
              "          '<a target=\"_blank\" href=https://colab.research.google.com/notebooks/data_table.ipynb>data table notebook</a>'\n",
              "          + ' to learn more about interactive tables.';\n",
              "        element.innerHTML = '';\n",
              "        dataTable['output_type'] = 'display_data';\n",
              "        await google.colab.output.renderOutput(dataTable, element);\n",
              "        const docLink = document.createElement('div');\n",
              "        docLink.innerHTML = docLinkHtml;\n",
              "        element.appendChild(docLink);\n",
              "      }\n",
              "    </script>\n",
              "  </div>\n",
              "\n",
              "\n",
              "<div id=\"df-6e0a8bbd-9d99-4e54-950c-2e416d782a6f\">\n",
              "  <button class=\"colab-df-quickchart\" onclick=\"quickchart('df-6e0a8bbd-9d99-4e54-950c-2e416d782a6f')\"\n",
              "            title=\"Suggest charts\"\n",
              "            style=\"display:none;\">\n",
              "\n",
              "<svg xmlns=\"http://www.w3.org/2000/svg\" height=\"24px\"viewBox=\"0 0 24 24\"\n",
              "     width=\"24px\">\n",
              "    <g>\n",
              "        <path d=\"M19 3H5c-1.1 0-2 .9-2 2v14c0 1.1.9 2 2 2h14c1.1 0 2-.9 2-2V5c0-1.1-.9-2-2-2zM9 17H7v-7h2v7zm4 0h-2V7h2v10zm4 0h-2v-4h2v4z\"/>\n",
              "    </g>\n",
              "</svg>\n",
              "  </button>\n",
              "\n",
              "<style>\n",
              "  .colab-df-quickchart {\n",
              "      --bg-color: #E8F0FE;\n",
              "      --fill-color: #1967D2;\n",
              "      --hover-bg-color: #E2EBFA;\n",
              "      --hover-fill-color: #174EA6;\n",
              "      --disabled-fill-color: #AAA;\n",
              "      --disabled-bg-color: #DDD;\n",
              "  }\n",
              "\n",
              "  [theme=dark] .colab-df-quickchart {\n",
              "      --bg-color: #3B4455;\n",
              "      --fill-color: #D2E3FC;\n",
              "      --hover-bg-color: #434B5C;\n",
              "      --hover-fill-color: #FFFFFF;\n",
              "      --disabled-bg-color: #3B4455;\n",
              "      --disabled-fill-color: #666;\n",
              "  }\n",
              "\n",
              "  .colab-df-quickchart {\n",
              "    background-color: var(--bg-color);\n",
              "    border: none;\n",
              "    border-radius: 50%;\n",
              "    cursor: pointer;\n",
              "    display: none;\n",
              "    fill: var(--fill-color);\n",
              "    height: 32px;\n",
              "    padding: 0;\n",
              "    width: 32px;\n",
              "  }\n",
              "\n",
              "  .colab-df-quickchart:hover {\n",
              "    background-color: var(--hover-bg-color);\n",
              "    box-shadow: 0 1px 2px rgba(60, 64, 67, 0.3), 0 1px 3px 1px rgba(60, 64, 67, 0.15);\n",
              "    fill: var(--button-hover-fill-color);\n",
              "  }\n",
              "\n",
              "  .colab-df-quickchart-complete:disabled,\n",
              "  .colab-df-quickchart-complete:disabled:hover {\n",
              "    background-color: var(--disabled-bg-color);\n",
              "    fill: var(--disabled-fill-color);\n",
              "    box-shadow: none;\n",
              "  }\n",
              "\n",
              "  .colab-df-spinner {\n",
              "    border: 2px solid var(--fill-color);\n",
              "    border-color: transparent;\n",
              "    border-bottom-color: var(--fill-color);\n",
              "    animation:\n",
              "      spin 1s steps(1) infinite;\n",
              "  }\n",
              "\n",
              "  @keyframes spin {\n",
              "    0% {\n",
              "      border-color: transparent;\n",
              "      border-bottom-color: var(--fill-color);\n",
              "      border-left-color: var(--fill-color);\n",
              "    }\n",
              "    20% {\n",
              "      border-color: transparent;\n",
              "      border-left-color: var(--fill-color);\n",
              "      border-top-color: var(--fill-color);\n",
              "    }\n",
              "    30% {\n",
              "      border-color: transparent;\n",
              "      border-left-color: var(--fill-color);\n",
              "      border-top-color: var(--fill-color);\n",
              "      border-right-color: var(--fill-color);\n",
              "    }\n",
              "    40% {\n",
              "      border-color: transparent;\n",
              "      border-right-color: var(--fill-color);\n",
              "      border-top-color: var(--fill-color);\n",
              "    }\n",
              "    60% {\n",
              "      border-color: transparent;\n",
              "      border-right-color: var(--fill-color);\n",
              "    }\n",
              "    80% {\n",
              "      border-color: transparent;\n",
              "      border-right-color: var(--fill-color);\n",
              "      border-bottom-color: var(--fill-color);\n",
              "    }\n",
              "    90% {\n",
              "      border-color: transparent;\n",
              "      border-bottom-color: var(--fill-color);\n",
              "    }\n",
              "  }\n",
              "</style>\n",
              "\n",
              "  <script>\n",
              "    async function quickchart(key) {\n",
              "      const quickchartButtonEl =\n",
              "        document.querySelector('#' + key + ' button');\n",
              "      quickchartButtonEl.disabled = true;  // To prevent multiple clicks.\n",
              "      quickchartButtonEl.classList.add('colab-df-spinner');\n",
              "      try {\n",
              "        const charts = await google.colab.kernel.invokeFunction(\n",
              "            'suggestCharts', [key], {});\n",
              "      } catch (error) {\n",
              "        console.error('Error during call to suggestCharts:', error);\n",
              "      }\n",
              "      quickchartButtonEl.classList.remove('colab-df-spinner');\n",
              "      quickchartButtonEl.classList.add('colab-df-quickchart-complete');\n",
              "    }\n",
              "    (() => {\n",
              "      let quickchartButtonEl =\n",
              "        document.querySelector('#df-6e0a8bbd-9d99-4e54-950c-2e416d782a6f button');\n",
              "      quickchartButtonEl.style.display =\n",
              "        google.colab.kernel.accessAllowed ? 'block' : 'none';\n",
              "    })();\n",
              "  </script>\n",
              "</div>\n",
              "\n",
              "    </div>\n",
              "  </div>\n"
            ]
          },
          "metadata": {},
          "execution_count": 51
        }
      ]
    },
    {
      "cell_type": "markdown",
      "source": [
        "Now that we know how the data looks like, let's do the step 2 that was on the slides.\n",
        "\n",
        "Create a date_offset column"
      ],
      "metadata": {
        "id": "odZ1K4RVrHrv"
      }
    },
    {
      "cell_type": "markdown",
      "source": [
        "As it was instructed, let's make a function to do that, and use the apply function."
      ],
      "metadata": {
        "id": "tCJS8Untyzbz"
      }
    },
    {
      "cell_type": "code",
      "source": [
        "# Function to compute date offset\n",
        "def calculate_date_offset(date_str):\n",
        "    if pd.isna(date_str):  # Check if the date is NaN\n",
        "        return math.nan\n",
        "    else:\n",
        "        base_date = datetime.strptime(\"2020-02-01\", \"%Y-%m-%d\").date()\n",
        "        current_date = datetime.strptime(date_str, \"%Y-%m-%d\").date()\n",
        "        return (current_date - base_date).days\n",
        "\n",
        "# Apply the function to create a new column 'date_offset'\n",
        "df['date_offset'] = df['date'].apply(calculate_date_offset)\n",
        "\n",
        "# Display the updated DataFrame\n",
        "\n",
        "\n",
        "print(df[\"date_offset\"].head())\n"
      ],
      "metadata": {
        "colab": {
          "base_uri": "https://localhost:8080/"
        },
        "id": "-14gE185rTzE",
        "outputId": "f3fbc9e8-498c-4d9c-8c30-49fe73404235"
      },
      "execution_count": null,
      "outputs": [
        {
          "output_type": "stream",
          "name": "stdout",
          "text": [
            "0    0.0\n",
            "1    1.0\n",
            "2    2.0\n",
            "3    3.0\n",
            "4    4.0\n",
            "Name: date_offset, dtype: float64\n"
          ]
        }
      ]
    },
    {
      "cell_type": "code",
      "source": [
        "print(df) # to see the whole thing"
      ],
      "metadata": {
        "colab": {
          "base_uri": "https://localhost:8080/"
        },
        "id": "FEOUvb-1zCBq",
        "outputId": "2adb070e-b2db-4352-dbf6-a3bd49408750"
      },
      "execution_count": null,
      "outputs": [
        {
          "output_type": "stream",
          "name": "stdout",
          "text": [
            "             date     area area_type  population  cases  cumulative_cases  \\\n",
            "0      2020-02-01  Alameda    County   1685886.0    3.0               3.0   \n",
            "1      2020-02-02  Alameda    County   1685886.0    0.0               3.0   \n",
            "2      2020-02-03  Alameda    County   1685886.0    0.0               3.0   \n",
            "3      2020-02-04  Alameda    County   1685886.0    0.0               3.0   \n",
            "4      2020-02-05  Alameda    County   1685886.0    0.0               3.0   \n",
            "...           ...      ...       ...         ...    ...               ...   \n",
            "43915  2022-01-16     Yuba    County     79290.0   38.0           12967.0   \n",
            "43916  2022-01-17     Yuba    County     79290.0   83.0           13050.0   \n",
            "43917  2022-01-18     Yuba    County     79290.0   64.0           13114.0   \n",
            "43918  2022-01-19     Yuba    County     79290.0    0.0           13114.0   \n",
            "43919         NaN     Yuba    County     79290.0    2.0           13116.0   \n",
            "\n",
            "       deaths  cumulative_deaths  total_tests  cumulative_total_tests  \\\n",
            "0         0.0                0.0          4.0                       4   \n",
            "1         0.0                0.0          1.0                       5   \n",
            "2         0.0                0.0          0.0                       5   \n",
            "3         0.0                0.0          0.0                       5   \n",
            "4         0.0                0.0          1.0                       6   \n",
            "...       ...                ...          ...                     ...   \n",
            "43915     0.0               78.0        162.0                  139454   \n",
            "43916     0.0               78.0        259.0                  139713   \n",
            "43917     0.0               78.0        150.0                  139863   \n",
            "43918     0.0               78.0          NaN                  139863   \n",
            "43919    26.0              104.0         12.0                  139875   \n",
            "\n",
            "       positive_tests  cumulative_positive_tests  reported_cases  \\\n",
            "0                 0.0                          0             0.0   \n",
            "1                 0.0                          0             0.0   \n",
            "2                 0.0                          0             0.0   \n",
            "3                 0.0                          0             0.0   \n",
            "4                 0.0                          0             0.0   \n",
            "...               ...                        ...             ...   \n",
            "43915            56.0                      15124           560.0   \n",
            "43916           108.0                      15232           111.0   \n",
            "43917            75.0                      15307           100.0   \n",
            "43918             NaN                      15307           143.0   \n",
            "43919             2.0                      15309             0.0   \n",
            "\n",
            "       cumulative_reported_cases  reported_deaths  cumulative_reported_deaths  \\\n",
            "0                            0.0              0.0                         0.0   \n",
            "1                            0.0              0.0                         0.0   \n",
            "2                            0.0              0.0                         0.0   \n",
            "3                            0.0              0.0                         0.0   \n",
            "4                            0.0              0.0                         0.0   \n",
            "...                          ...              ...                         ...   \n",
            "43915                    12760.0              0.0                       101.0   \n",
            "43916                    12871.0              0.0                       101.0   \n",
            "43917                    12971.0              0.0                       101.0   \n",
            "43918                    13114.0              3.0                       104.0   \n",
            "43919                    13114.0              0.0                       104.0   \n",
            "\n",
            "       reported_tests  date_offset  \n",
            "0                 NaN          0.0  \n",
            "1                 NaN          1.0  \n",
            "2                 NaN          2.0  \n",
            "3                 NaN          3.0  \n",
            "4                 NaN          4.0  \n",
            "...               ...          ...  \n",
            "43915          2038.0        715.0  \n",
            "43916           366.0        716.0  \n",
            "43917           405.0        717.0  \n",
            "43918           399.0        718.0  \n",
            "43919             NaN          NaN  \n",
            "\n",
            "[43920 rows x 18 columns]\n"
          ]
        }
      ]
    },
    {
      "cell_type": "markdown",
      "source": [
        "Seems like our function is working fine, where it shows the numbers correctly, and also show NaN, where there is date entries data missing, as it was one of the instructions."
      ],
      "metadata": {
        "id": "3qnGpqMvzHjn"
      }
    },
    {
      "cell_type": "markdown",
      "source": [
        "Let's now move on to step 3, which is Normalize case counts. To normalize the case counts, we have to create a new column named 'normalized_cases', and put in the values of 'cases' divided by the 'population'"
      ],
      "metadata": {
        "id": "3VeLehXezV6F"
      }
    },
    {
      "cell_type": "code",
      "source": [
        "df['normalized_cases'] = df['cases'] / df['population']\n",
        "\n",
        "print(df[\"normalized_cases\"].head())"
      ],
      "metadata": {
        "colab": {
          "base_uri": "https://localhost:8080/"
        },
        "id": "ibSbz1oJzVSi",
        "outputId": "72f7a1ac-2088-4af2-ae2c-e870a2abd260"
      },
      "execution_count": null,
      "outputs": [
        {
          "output_type": "stream",
          "name": "stdout",
          "text": [
            "0    0.000002\n",
            "1    0.000000\n",
            "2    0.000000\n",
            "3    0.000000\n",
            "4    0.000000\n",
            "Name: normalized_cases, dtype: float64\n"
          ]
        }
      ]
    },
    {
      "cell_type": "markdown",
      "source": [
        "Let's move on to step 4, which is making a quick plot of one county. I looked at the code that was given, and it seems like it was using a separate data frame that's named one_county_df, with just one county in there, so I am going to do that, and use the code that was given to me."
      ],
      "metadata": {
        "id": "a4BNVxP00OHl"
      }
    },
    {
      "cell_type": "code",
      "source": [
        "# Making a separate data frame called one_county_df\n",
        "# I chose Alameda county, because that was the first county I saw when I saw the head of the data frame\n",
        "one_county_df = df[df['area'] == 'Alameda']"
      ],
      "metadata": {
        "id": "ZcSPXM8_0fLT"
      },
      "execution_count": null,
      "outputs": []
    },
    {
      "cell_type": "code",
      "source": [
        "fig, axes = plt.subplots()\n",
        "axes.plot(one_county_df['date_offset'], one_county_df['normalized_cases'])\n",
        "# adding some of the labels and axis names, because after all this is visualization class\n",
        "plt.title('Covid 19 cases in Alameda County - Normalized by population')\n",
        "plt.xlabel(\"Number of Days\")\n",
        "plt.ylabel(\"Covid Cases\")\n",
        "plt.show()"
      ],
      "metadata": {
        "colab": {
          "base_uri": "https://localhost:8080/",
          "height": 493
        },
        "id": "EBHdq_rh0dwJ",
        "outputId": "e187c57d-3070-4e5d-d8b5-2acb1b296364"
      },
      "execution_count": null,
      "outputs": [
        {
          "output_type": "display_data",
          "data": {
            "text/plain": [
              "<Figure size 640x480 with 1 Axes>"
            ],
            "image/png": "[encoded data removed]"
          },
          "metadata": {}
        }
      ]
    },
    {
      "cell_type": "markdown",
      "source": [
        "Let's move on to step 5, Statistical Summary.\n",
        "\n",
        "We are going to use the code that was given to us and go from there."
      ],
      "metadata": {
        "id": "H46roysF1vVp"
      }
    },
    {
      "cell_type": "code",
      "source": [
        "safe_cols_df = df.drop(columns=['date', 'area', 'area_type'])\n",
        "medians_df = safe_cols_df.groupby(['date_offset']).median().reset_index()\n",
        "\n",
        "iqr_1 = safe_cols_df.groupby(['date_offset']).quantile(0.25).reset_index()\n",
        "iqr_3 = safe_cols_df.groupby(['date_offset']).quantile(0.75).reset_index()\n"
      ],
      "metadata": {
        "id": "8DaMYSCJ146t"
      },
      "execution_count": null,
      "outputs": []
    },
    {
      "cell_type": "markdown",
      "source": [
        "Let's move on to step 6. We need a running average!\n",
        "\n",
        "We are going to use 'pandas.DataFrame.rolling method' that was introduced to us."
      ],
      "metadata": {
        "id": "tiD7i4on2ZBw"
      }
    },
    {
      "cell_type": "code",
      "source": [
        "medians_rolling = medians_df.rolling(7).mean()\n",
        "\n",
        "iqr_1_rolling = iqr_1.rolling(7).mean()\n",
        "iqr_3_rolling = iqr_3.rolling(7).mean()"
      ],
      "metadata": {
        "id": "gJV_QwSb2rug"
      },
      "execution_count": null,
      "outputs": []
    },
    {
      "cell_type": "markdown",
      "source": [
        "Finally, step 7, let's draw out our final graph!\n",
        "(and step 8, which is adding all the labels)\n",
        "\n",
        "It is time to see if my code for quantile and rolling worked fine.\n"
      ],
      "metadata": {
        "id": "81HEgmmD3QvI"
      }
    },
    {
      "cell_type": "markdown",
      "source": [],
      "metadata": {
        "id": "g9FM7R0J7nPU"
      }
    },
    {
      "cell_type": "code",
      "source": [
        "fig, axes = plt.subplots()\n",
        "\n",
        "axes.plot(iqr_1_rolling['date_offset'], iqr_1_rolling['normalized_cases'],\n",
        "          c = \"lightgreen\", linestyle='--')\n",
        "\n",
        "axes.plot(iqr_3_rolling['date_offset'], iqr_3_rolling['normalized_cases'],\n",
        "          c = \"lightblue\", linestyle='--')\n",
        "\n",
        "plt.fill_between(iqr_1_rolling['date_offset'], iqr_1_rolling['normalized_cases'], iqr_3_rolling['normalized_cases'],\n",
        "                 color='lightblue', alpha=0.5, label=\"_nolegend_\")\n",
        "\n",
        "axes.plot(medians_rolling['date_offset'], medians_rolling['normalized_cases'],\n",
        "         c = \"red\")\n",
        "\n",
        "plt.grid(alpha=0.5, linestyle='--')\n",
        "\n",
        "plt.title(\"COVID Cases Over Time in Counties of California - Normalized by Population\")\n",
        "plt.xlabel(\"Number of Days\")\n",
        "plt.ylabel(\"Covid Cases\")\n",
        "\n",
        "plt.legend(labels = [\"IQR1\", \"IQR3\", \"Median\"],\n",
        "           fontsize='medium', fancybox=True)\n",
        "\n",
        "plt.show()"
      ],
      "metadata": {
        "colab": {
          "base_uri": "https://localhost:8080/",
          "height": 493
        },
        "id": "j2CC2frK3aAp",
        "outputId": "304addf1-48e0-4444-fda7-52895699e69e"
      },
      "execution_count": null,
      "outputs": [
        {
          "output_type": "display_data",
          "data": {
            "text/plain": [
              "<Figure size 640x480 with 1 Axes>"
            ],
            "image/png": "[encoded data removed]"
          },
          "metadata": {}
        }
      ]
    }
  ]
}