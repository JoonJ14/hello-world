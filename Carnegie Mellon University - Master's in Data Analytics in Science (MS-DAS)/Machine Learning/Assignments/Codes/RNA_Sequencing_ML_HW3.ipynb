{
  "nbformat": 4,
  "nbformat_minor": 0,
  "metadata": {
    "colab": {
      "provenance": []
    },
    "kernelspec": {
      "name": "python3",
      "display_name": "Python 3"
    },
    "language_info": {
      "name": "python"
    }
  },
  "cells": [
    {
      "cell_type": "markdown",
      "source": [
        "# RNA Sequencing HW 3\n",
        "Binary classification using linear models (whether the tumor is <2 or >3"
      ],
      "metadata": {
        "id": "OTBqXL98Gcv6"
      }
    },
    {
      "cell_type": "markdown",
      "source": [
        "Import libraries"
      ],
      "metadata": {
        "id": "6qkO86C1GsX_"
      }
    },
    {
      "cell_type": "code",
      "execution_count": null,
      "metadata": {
        "id": "N_Nj6M2KA8wU"
      },
      "outputs": [],
      "source": [
        "import numpy as np\n",
        "import pandas as pd\n",
        "from sklearn.model_selection import train_test_split, cross_val_predict\n",
        "from sklearn.linear_model import LogisticRegression, LinearRegression, Ridge, Lasso\n",
        "from sklearn.metrics import accuracy_score, precision_score, recall_score, f1_score, make_scorer\n",
        "from sklearn.preprocessing import StandardScaler\n"
      ]
    },
    {
      "cell_type": "code",
      "source": [
        "x_train_data = pd.read_csv('train_X.csv')\n",
        "y_train_data = pd.read_csv('train_y.csv')\n",
        "x_test_data = pd.read_csv('test_X.csv')\n",
        "\n",
        "x_train_data.head()\n",
        "y_train_data.head()"
      ],
      "metadata": {
        "colab": {
          "base_uri": "https://localhost:8080/",
          "height": 221
        },
        "id": "jgnF_oFoGyJr",
        "outputId": "d8e559c2-bf7c-4cff-eb30-6db498903b65"
      },
      "execution_count": null,
      "outputs": [
        {
          "output_type": "execute_result",
          "data": {
            "text/plain": [
              "                             Unnamed: 0  xml_neoplasm_histologic_grade\n",
              "0  EB0D68BC-5FF9-44A5-A355-CA5441BFBA0A                              0\n",
              "1  0876B4BB-58BA-4C4C-84F4-E9D19EF96147                              1\n",
              "2  EACD1021-7B52-4531-8806-B7555B73AC84                              0\n",
              "3  368ACD26-C7FB-4974-BB7F-0AE22670CB0E                              0\n",
              "4  F23B0A1A-25AE-41D9-8C49-B692C4FDE1E4                              1"
            ],
            "text/html": [
              "\n",
              "  <div id=\"df-840025a1-9ed4-4917-9454-2698c25bb2aa\" class=\"colab-df-container\">\n",
              "    <div>\n",
              "<style scoped>\n",
              "    .dataframe tbody tr th:only-of-type {\n",
              "        vertical-align: middle;\n",
              "    }\n",
              "\n",
              "    .dataframe tbody tr th {\n",
              "        vertical-align: top;\n",
              "    }\n",
              "\n",
              "    .dataframe thead th {\n",
              "        text-align: right;\n",
              "    }\n",
              "</style>\n",
              "<table border=\"1\" class=\"dataframe\">\n",
              "  <thead>\n",
              "    <tr style=\"text-align: right;\">\n",
              "      <th></th>\n",
              "      <th>Unnamed: 0</th>\n",
              "      <th>xml_neoplasm_histologic_grade</th>\n",
              "    </tr>\n",
              "  </thead>\n",
              "  <tbody>\n",
              "    <tr>\n",
              "      <th>0</th>\n",
              "      <td>EB0D68BC-5FF9-44A5-A355-CA5441BFBA0A</td>\n",
              "      <td>0</td>\n",
              "    </tr>\n",
              "    <tr>\n",
              "      <th>1</th>\n",
              "      <td>0876B4BB-58BA-4C4C-84F4-E9D19EF96147</td>\n",
              "      <td>1</td>\n",
              "    </tr>\n",
              "    <tr>\n",
              "      <th>2</th>\n",
              "      <td>EACD1021-7B52-4531-8806-B7555B73AC84</td>\n",
              "      <td>0</td>\n",
              "    </tr>\n",
              "    <tr>\n",
              "      <th>3</th>\n",
              "      <td>368ACD26-C7FB-4974-BB7F-0AE22670CB0E</td>\n",
              "      <td>0</td>\n",
              "    </tr>\n",
              "    <tr>\n",
              "      <th>4</th>\n",
              "      <td>F23B0A1A-25AE-41D9-8C49-B692C4FDE1E4</td>\n",
              "      <td>1</td>\n",
              "    </tr>\n",
              "  </tbody>\n",
              "</table>\n",
              "</div>\n",
              "    <div class=\"colab-df-buttons\">\n",
              "\n",
              "  <div class=\"colab-df-container\">\n",
              "    <button class=\"colab-df-convert\" onclick=\"convertToInteractive('df-840025a1-9ed4-4917-9454-2698c25bb2aa')\"\n",
              "            title=\"Convert this dataframe to an interactive table.\"\n",
              "            style=\"display:none;\">\n",
              "\n",
              "  <svg xmlns=\"http://www.w3.org/2000/svg\" height=\"24px\" viewBox=\"0 -960 960 960\">\n",
              "    <path d=\"M120-120v-720h720v720H120Zm60-500h600v-160H180v160Zm220 220h160v-160H400v160Zm0 220h160v-160H400v160ZM180-400h160v-160H180v160Zm440 0h160v-160H620v160ZM180-180h160v-160H180v160Zm440 0h160v-160H620v160Z\"/>\n",
              "  </svg>\n",
              "    </button>\n",
              "\n",
              "  <style>\n",
              "    .colab-df-container {\n",
              "      display:flex;\n",
              "      gap: 12px;\n",
              "    }\n",
              "\n",
              "    .colab-df-convert {\n",
              "      background-color: #E8F0FE;\n",
              "      border: none;\n",
              "      border-radius: 50%;\n",
              "      cursor: pointer;\n",
              "      display: none;\n",
              "      fill: #1967D2;\n",
              "      height: 32px;\n",
              "      padding: 0 0 0 0;\n",
              "      width: 32px;\n",
              "    }\n",
              "\n",
              "    .colab-df-convert:hover {\n",
              "      background-color: #E2EBFA;\n",
              "      box-shadow: 0px 1px 2px rgba(60, 64, 67, 0.3), 0px 1px 3px 1px rgba(60, 64, 67, 0.15);\n",
              "      fill: #174EA6;\n",
              "    }\n",
              "\n",
              "    .colab-df-buttons div {\n",
              "      margin-bottom: 4px;\n",
              "    }\n",
              "\n",
              "    [theme=dark] .colab-df-convert {\n",
              "      background-color: #3B4455;\n",
              "      fill: #D2E3FC;\n",
              "    }\n",
              "\n",
              "    [theme=dark] .colab-df-convert:hover {\n",
              "      background-color: #434B5C;\n",
              "      box-shadow: 0px 1px 3px 1px rgba(0, 0, 0, 0.15);\n",
              "      filter: drop-shadow(0px 1px 2px rgba(0, 0, 0, 0.3));\n",
              "      fill: #FFFFFF;\n",
              "    }\n",
              "  </style>\n",
              "\n",
              "    <script>\n",
              "      const buttonEl =\n",
              "        document.querySelector('#df-840025a1-9ed4-4917-9454-2698c25bb2aa button.colab-df-convert');\n",
              "      buttonEl.style.display =\n",
              "        google.colab.kernel.accessAllowed ? 'block' : 'none';\n",
              "\n",
              "      async function convertToInteractive(key) {\n",
              "        const element = document.querySelector('#df-840025a1-9ed4-4917-9454-2698c25bb2aa');\n",
              "        const dataTable =\n",
              "          await google.colab.kernel.invokeFunction('convertToInteractive',\n",
              "                                                    [key], {});\n",
              "        if (!dataTable) return;\n",
              "\n",
              "        const docLinkHtml = 'Like what you see? Visit the ' +\n",
              "          '<a target=\"_blank\" href=https://colab.research.google.com/notebooks/data_table.ipynb>data table notebook</a>'\n",
              "          + ' to learn more about interactive tables.';\n",
              "        element.innerHTML = '';\n",
              "        dataTable['output_type'] = 'display_data';\n",
              "        await google.colab.output.renderOutput(dataTable, element);\n",
              "        const docLink = document.createElement('div');\n",
              "        docLink.innerHTML = docLinkHtml;\n",
              "        element.appendChild(docLink);\n",
              "      }\n",
              "    </script>\n",
              "  </div>\n",
              "\n",
              "\n",
              "<div id=\"df-e024dfa0-e1db-4a40-ad19-d5da37d3adcb\">\n",
              "  <button class=\"colab-df-quickchart\" onclick=\"quickchart('df-e024dfa0-e1db-4a40-ad19-d5da37d3adcb')\"\n",
              "            title=\"Suggest charts.\"\n",
              "            style=\"display:none;\">\n",
              "\n",
              "<svg xmlns=\"http://www.w3.org/2000/svg\" height=\"24px\"viewBox=\"0 0 24 24\"\n",
              "     width=\"24px\">\n",
              "    <g>\n",
              "        <path d=\"M19 3H5c-1.1 0-2 .9-2 2v14c0 1.1.9 2 2 2h14c1.1 0 2-.9 2-2V5c0-1.1-.9-2-2-2zM9 17H7v-7h2v7zm4 0h-2V7h2v10zm4 0h-2v-4h2v4z\"/>\n",
              "    </g>\n",
              "</svg>\n",
              "  </button>\n",
              "\n",
              "<style>\n",
              "  .colab-df-quickchart {\n",
              "      --bg-color: #E8F0FE;\n",
              "      --fill-color: #1967D2;\n",
              "      --hover-bg-color: #E2EBFA;\n",
              "      --hover-fill-color: #174EA6;\n",
              "      --disabled-fill-color: #AAA;\n",
              "      --disabled-bg-color: #DDD;\n",
              "  }\n",
              "\n",
              "  [theme=dark] .colab-df-quickchart {\n",
              "      --bg-color: #3B4455;\n",
              "      --fill-color: #D2E3FC;\n",
              "      --hover-bg-color: #434B5C;\n",
              "      --hover-fill-color: #FFFFFF;\n",
              "      --disabled-bg-color: #3B4455;\n",
              "      --disabled-fill-color: #666;\n",
              "  }\n",
              "\n",
              "  .colab-df-quickchart {\n",
              "    background-color: var(--bg-color);\n",
              "    border: none;\n",
              "    border-radius: 50%;\n",
              "    cursor: pointer;\n",
              "    display: none;\n",
              "    fill: var(--fill-color);\n",
              "    height: 32px;\n",
              "    padding: 0;\n",
              "    width: 32px;\n",
              "  }\n",
              "\n",
              "  .colab-df-quickchart:hover {\n",
              "    background-color: var(--hover-bg-color);\n",
              "    box-shadow: 0 1px 2px rgba(60, 64, 67, 0.3), 0 1px 3px 1px rgba(60, 64, 67, 0.15);\n",
              "    fill: var(--button-hover-fill-color);\n",
              "  }\n",
              "\n",
              "  .colab-df-quickchart-complete:disabled,\n",
              "  .colab-df-quickchart-complete:disabled:hover {\n",
              "    background-color: var(--disabled-bg-color);\n",
              "    fill: var(--disabled-fill-color);\n",
              "    box-shadow: none;\n",
              "  }\n",
              "\n",
              "  .colab-df-spinner {\n",
              "    border: 2px solid var(--fill-color);\n",
              "    border-color: transparent;\n",
              "    border-bottom-color: var(--fill-color);\n",
              "    animation:\n",
              "      spin 1s steps(1) infinite;\n",
              "  }\n",
              "\n",
              "  @keyframes spin {\n",
              "    0% {\n",
              "      border-color: transparent;\n",
              "      border-bottom-color: var(--fill-color);\n",
              "      border-left-color: var(--fill-color);\n",
              "    }\n",
              "    20% {\n",
              "      border-color: transparent;\n",
              "      border-left-color: var(--fill-color);\n",
              "      border-top-color: var(--fill-color);\n",
              "    }\n",
              "    30% {\n",
              "      border-color: transparent;\n",
              "      border-left-color: var(--fill-color);\n",
              "      border-top-color: var(--fill-color);\n",
              "      border-right-color: var(--fill-color);\n",
              "    }\n",
              "    40% {\n",
              "      border-color: transparent;\n",
              "      border-right-color: var(--fill-color);\n",
              "      border-top-color: var(--fill-color);\n",
              "    }\n",
              "    60% {\n",
              "      border-color: transparent;\n",
              "      border-right-color: var(--fill-color);\n",
              "    }\n",
              "    80% {\n",
              "      border-color: transparent;\n",
              "      border-right-color: var(--fill-color);\n",
              "      border-bottom-color: var(--fill-color);\n",
              "    }\n",
              "    90% {\n",
              "      border-color: transparent;\n",
              "      border-bottom-color: var(--fill-color);\n",
              "    }\n",
              "  }\n",
              "</style>\n",
              "\n",
              "  <script>\n",
              "    async function quickchart(key) {\n",
              "      const quickchartButtonEl =\n",
              "        document.querySelector('#' + key + ' button');\n",
              "      quickchartButtonEl.disabled = true;  // To prevent multiple clicks.\n",
              "      quickchartButtonEl.classList.add('colab-df-spinner');\n",
              "      try {\n",
              "        const charts = await google.colab.kernel.invokeFunction(\n",
              "            'suggestCharts', [key], {});\n",
              "      } catch (error) {\n",
              "        console.error('Error during call to suggestCharts:', error);\n",
              "      }\n",
              "      quickchartButtonEl.classList.remove('colab-df-spinner');\n",
              "      quickchartButtonEl.classList.add('colab-df-quickchart-complete');\n",
              "    }\n",
              "    (() => {\n",
              "      let quickchartButtonEl =\n",
              "        document.querySelector('#df-e024dfa0-e1db-4a40-ad19-d5da37d3adcb button');\n",
              "      quickchartButtonEl.style.display =\n",
              "        google.colab.kernel.accessAllowed ? 'block' : 'none';\n",
              "    })();\n",
              "  </script>\n",
              "</div>\n",
              "    </div>\n",
              "  </div>\n"
            ]
          },
          "metadata": {},
          "execution_count": 19
        }
      ]
    },
    {
      "cell_type": "markdown",
      "source": [
        "Now that we know how our data looks like, let's split them into data frames so that we can use them without labels."
      ],
      "metadata": {
        "id": "xPmldW5yylh8"
      }
    },
    {
      "cell_type": "code",
      "source": [
        "x = x_train_data[x_train_data.columns[1:]]\n",
        "y = y_train_data[y_train_data.columns[1:]]\n",
        "y = y.values.ravel()\n",
        "x_test = x_test_data[x_test_data.columns[1:]]"
      ],
      "metadata": {
        "id": "1tBWQm0GJMHy"
      },
      "execution_count": null,
      "outputs": []
    },
    {
      "cell_type": "markdown",
      "source": [
        "I tested with many different test sizes and random_state, you can see them in the code here. I thought there is just not enough hyperparameters to play around with, so I decided to play around with test size too. Sometimes they gave same performance as 70-30 split or 80-20 split, but so far I got the best score on Kaggle using test size of 0.55."
      ],
      "metadata": {
        "id": "-EJRkNlryx8E"
      }
    },
    {
      "cell_type": "code",
      "source": [
        "x_train, x_val, y_train, y_val = train_test_split(x, y, test_size=0.55, random_state=14)\n",
        "# for just logistic regression with max iteration 3000\n",
        "#0.45, 0.895, but kaggle 0.9166\n",
        "#0.4, 0.89325, but kaggle 0.9166\n",
        "#0.35, 0.8846, but kaggle 0.9166\n",
        "#0.3, 0.86567\n",
        "#0.25,\n",
        "#0.2,\n",
        "#0.15\n",
        "#0.1\n",
        "\n",
        "# for logistic regression with more penalty L2 and C=0.005\n",
        "\n",
        "#0.55, 0.8408\n",
        "#0.5, 0.8648, kaggle 0.9315\n",
        "#0.47, 0.8851\n",
        "#0.46, 0.887\n",
        "#0.45, 0.895  (1.0), 0.795 (random seed 42), 0.895 (0.005) kaggle 0.9315 (0.004)\n",
        "#0.44, 0.8877\n",
        "#0.4, 0.89325 (1.0),\n",
        "#0.35, 0.8846 (1.0),\n",
        "#0.3, 0.858   (1.0),\n"
      ],
      "metadata": {
        "id": "PBSF27S1NaF-"
      },
      "execution_count": null,
      "outputs": []
    },
    {
      "cell_type": "markdown",
      "source": [
        "Let's try all of the models and see which one is the best to use!\n"
      ],
      "metadata": {
        "id": "sMqYhjdvzUw7"
      }
    },
    {
      "cell_type": "code",
      "source": [
        "models = [\n",
        "    ('Logistic Regression', LogisticRegression(max_iter=1000)),\n",
        "    ('Linear Regression', LinearRegression()),\n",
        "    ('Ridge Regression', Ridge(alpha=10.0)),  # adjust the alpha parameter\n",
        "    ('LASSO', Lasso(alpha=10.0))  # adjust the alpha parameter\n",
        "]\n"
      ],
      "metadata": {
        "id": "frH5Jy-VKtAE"
      },
      "execution_count": null,
      "outputs": []
    },
    {
      "cell_type": "code",
      "source": [
        "# Train and compare the models\n",
        "best_model = None\n",
        "best_f1_score = 0.0\n",
        "best_accuracy = 0.0\n",
        "\n",
        "for name, model in models:\n",
        "    if name != 'Logistic Regression':\n",
        "        # Normalize the features for linear regression models\n",
        "        scaler = StandardScaler()\n",
        "        x_train_scaled = scaler.fit_transform(x_train)\n",
        "        x_val_scaled = scaler.transform(x_val)\n",
        "        model.fit(x_train_scaled, y_train)\n",
        "        y_pred = model.predict(x_val_scaled)\n",
        "    else:\n",
        "        model.fit(x_train, y_train)\n",
        "        y_pred = model.predict(x_val)\n",
        "\n",
        "    # Round the predicted values to 0 or 1\n",
        "    y_pred = np.round(y_pred)\n",
        "\n",
        "    # Calculate F1 Score\n",
        "    f1 = f1_score(y_val, y_pred)\n",
        "\n",
        "    # Calculate Accuracy\n",
        "    accuracy = accuracy_score(y_val, y_pred)\n",
        "\n",
        "    # Print results\n",
        "    print(f\"Model: {name}\")\n",
        "    print(f\"F1 Score: {f1}\")\n",
        "    print(f\"Accuracy: {accuracy}\")\n",
        "    print()\n",
        "\n",
        "    # Update best model based on F1 Score\n",
        "    if f1 > best_f1_score:\n",
        "        best_f1_score = f1\n",
        "        best_model = model\n",
        "        best_accuracy = accuracy\n",
        "\n",
        "print(f\"Best Model (based on F1 Score): {best_model}\")\n",
        "print(f\"Best F1 Score: {best_f1_score}\")\n",
        "print(f\"Best Accuracy: {best_accuracy}\")\n"
      ],
      "metadata": {
        "id": "2Iw3mXQfK46y",
        "colab": {
          "base_uri": "https://localhost:8080/"
        },
        "outputId": "2a0c879e-b698-4855-e5ea-a98d544f4491"
      },
      "execution_count": null,
      "outputs": [
        {
          "output_type": "stream",
          "name": "stdout",
          "text": [
            "Model: Logistic Regression\n",
            "F1 Score: 0.8592057761732851\n",
            "Accuracy: 0.8408163265306122\n",
            "\n",
            "Model: Linear Regression\n",
            "F1 Score: 0.8633093525179857\n",
            "Accuracy: 0.8448979591836735\n",
            "\n",
            "Model: Ridge Regression\n",
            "F1 Score: 0.8633093525179857\n",
            "Accuracy: 0.8448979591836735\n",
            "\n",
            "Model: LASSO\n",
            "F1 Score: 0.7139107611548556\n",
            "Accuracy: 0.5551020408163265\n",
            "\n",
            "Best Model (based on F1 Score): LinearRegression()\n",
            "Best F1 Score: 0.8633093525179857\n",
            "Best Accuracy: 0.8448979591836735\n"
          ]
        }
      ]
    },
    {
      "cell_type": "markdown",
      "source": [
        "For me, I played around with Alpha levels for Ridge and LASSO, but it could not beat the logistic regression on this binary classification case for our tumor. So I decided to go with Logistic regression.\n",
        "\n",
        "For linear regression here, I rounded the y up so I can use them for linear regression."
      ],
      "metadata": {
        "id": "f_oxnBTdzc22"
      }
    },
    {
      "cell_type": "markdown",
      "source": [
        "It also seemed like no matter how much hyperparameter tuning I do, this model really depended on which random seed I used to pull out the validation set. Below was my attempt to find the best random seed, but for some reason it would be working well and it would crash at some point, so I could never find a better random seed to use."
      ],
      "metadata": {
        "id": "2mTbPppU0H_X"
      }
    },
    {
      "cell_type": "code",
      "source": [
        "# models = [\n",
        "#       ('Logistic Regression', LogisticRegression(C=0.005, penalty='l2', solver='liblinear', max_iter=3000)),\n",
        "#       ('Linear Regression', LinearRegression()),\n",
        "#       ('Ridge Regression', Ridge(alpha=10.0)),  # adjust the alpha parameter\n",
        "#       ('LASSO', Lasso(alpha=10.0))  # adjust the alpha parameter\n",
        "#   ]\n",
        "\n",
        "# # Train and compare the models\n",
        "# best_model = None\n",
        "# best_f1_score = 0.0\n",
        "# best_accuracy = 0.0\n",
        "\n",
        "# for i in range(500):\n",
        "#   x = x_train_data[x_train_data.columns[1:]]\n",
        "#   y = y_train_data[y_train_data.columns[1:]]\n",
        "#   y = y.values.ravel()\n",
        "\n",
        "#   x_train, x_val, y_train, y_val = train_test_split(x, y, test_size=0.45, random_state=i)\n",
        "\n",
        "#   for name, model in models:\n",
        "#       if name != 'Logistic Regression':\n",
        "#           # Normalize the features for linear regression models\n",
        "#           scaler = StandardScaler()\n",
        "#           x_train_scaled = scaler.fit_transform(x_train)\n",
        "#           x_val_scaled = scaler.transform(x_val)\n",
        "#           model.fit(x_train_scaled, y_train)\n",
        "#           y_pred = model.predict(x_val_scaled)\n",
        "#       else:\n",
        "#           model.fit(x_train, y_train)\n",
        "#           y_pred = model.predict(x_val)\n",
        "\n",
        "#       # Round the predicted values to 0 or 1\n",
        "#       y_pred = np.round(y_pred)\n",
        "\n",
        "#       # Calculate F1 Score\n",
        "#       f1 = f1_score(y_val, y_pred)\n",
        "\n",
        "#       # Calculate Accuracy\n",
        "#       accuracy = accuracy_score(y_val, y_pred)\n",
        "\n",
        "#       # # Print results\n",
        "#       # print(f\"Model: {name}\")\n",
        "#       # print(f\"F1 Score: {f1}\")\n",
        "#       # print(f\"Accuracy: {accuracy}\")\n",
        "#       # print()\n",
        "\n",
        "#       # Update best model based on F1 Score\n",
        "#       if f1 > best_f1_score:\n",
        "#           best_f1_score = f1\n",
        "#           best_model = model\n",
        "#           best_accuracy = accuracy\n",
        "#           seed = i\n",
        "#       print(i) #iteration check\n",
        "\n",
        "# print(f\"Best Model (based on F1 Score): {best_model}\")\n",
        "# print(f\"Best F1 Score: {best_f1_score}\")\n",
        "# print(f\"Best Accuracy: {best_accuracy}\")\n",
        "# print(f\"Best Seed: {seed}\")"
      ],
      "metadata": {
        "id": "W-rtDmtIYobH"
      },
      "execution_count": null,
      "outputs": []
    },
    {
      "cell_type": "markdown",
      "source": [
        "Now that we know that we are going to use logistic regression, let's explore more and see if we can make our prediction any better."
      ],
      "metadata": {
        "id": "5YNUyajp0eWW"
      }
    },
    {
      "cell_type": "code",
      "source": [
        "from imblearn.over_sampling import SMOTE\n",
        "from sklearn.feature_selection import SelectKBest, f_classif\n",
        "# Step 3: Address class imbalance using SMOTE\n",
        "smote = SMOTE(sampling_strategy='auto', random_state=14)\n",
        "x_train_resampled, y_train_resampled = smote.fit_resample(x_train_scaled, y_train)\n",
        "\n",
        "# Step 4: Hyperparameter tuning\n",
        "# Experiment with different values of 'C' and regularization penalties\n",
        "logistic_model = LogisticRegression(C=1.0, penalty='l2', solver='liblinear', max_iter=1000)\n",
        "logistic_model.fit(x_train_resampled, y_train_resampled)\n",
        "\n",
        "# Step 5: Feature selection\n",
        "# Select the top 'k' features based on ANOVA F-statistic\n",
        "k = 10\n",
        "feature_selector = SelectKBest(f_classif, k=k)\n",
        "x_train_selected = feature_selector.fit_transform(x_train_resampled, y_train_resampled)\n",
        "x_val_selected = feature_selector.transform(x_val_scaled)\n",
        "\n",
        "# Re-train the logistic regression model with the selected features\n",
        "logistic_model.fit(x_train_selected, y_train_resampled)\n",
        "\n",
        "# Step 6: Make predictions and evaluate\n",
        "y_val_pred = logistic_model.predict(x_val_selected)\n",
        "\n",
        "# Calculate F1 Score and Accuracy\n",
        "f1 = f1_score(y_val, y_val_pred)\n",
        "accuracy = accuracy_score(y_val, y_val_pred)\n",
        "\n",
        "# Print performance metrics\n",
        "print(f\"F1 Score on Validation Data: {f1}\")\n",
        "print(f\"Accuracy on Validation Data: {accuracy}\")"
      ],
      "metadata": {
        "id": "4b3TrMhoaNFB",
        "colab": {
          "base_uri": "https://localhost:8080/"
        },
        "outputId": "73ef6595-c8b9-414a-ca7b-b6105a01196e"
      },
      "execution_count": null,
      "outputs": [
        {
          "output_type": "stream",
          "name": "stdout",
          "text": [
            "F1 Score on Validation Data: 0.7910447761194029\n",
            "Accuracy on Validation Data: 0.7714285714285715\n"
          ]
        }
      ]
    },
    {
      "cell_type": "markdown",
      "source": [
        "It actually seems like using SMOTE to address class imbalance made our model perform worse, by using cross validation. Maybe it isn't the best idea to use them for Kaggle, or this dataset in particular."
      ],
      "metadata": {
        "id": "uaAxLLHY0oVI"
      }
    },
    {
      "cell_type": "markdown",
      "source": [
        "Let's move on to our logistic model itself. Let's try different C, l1 or l2 penalty, and max iteration cycles. Our for loop and gridsearchCV will test and spit out the best result it found."
      ],
      "metadata": {
        "id": "m_ewSNv005NV"
      }
    },
    {
      "cell_type": "code",
      "source": [
        "from sklearn.model_selection import train_test_split, GridSearchCV\n",
        "from sklearn.linear_model import LogisticRegression\n",
        "from sklearn.preprocessing import StandardScaler\n",
        "from imblearn.over_sampling import SMOTE\n",
        "from sklearn.feature_selection import SelectKBest, f_classif\n",
        "from sklearn.metrics import make_scorer, f1_score, accuracy_score\n",
        "\n",
        "\n",
        "\n",
        "# Step 1: Split your data into training and validation sets\n",
        "x_train, x_val, y_train, y_val = train_test_split(x, y, test_size=0.35, random_state=14)\n",
        "\n",
        "# Step 2: Preprocess the data\n",
        "scaler = StandardScaler()\n",
        "x_train_scaled = scaler.fit_transform(x_train)\n",
        "x_val_scaled = scaler.transform(x_val)\n",
        "\n",
        "# # Step 3: Address class imbalance using SMOTE\n",
        "# smote = SMOTE(sampling_strategy='auto', random_state=14)\n",
        "# x_train_resampled, y_train_resampled = smote.fit_resample(x_train_scaled, y_train)\n",
        "\n",
        "\n",
        "# Step 4: Define a logistic regression model\n",
        "logistic_model = LogisticRegression(max_iter=3000)\n",
        "\n",
        "# Step 5: Define a parameter grid for hyperparameter tuning\n",
        "param_grid = {\n",
        "    'C': [0.001, 0.002, 0.003, 0.035,0.004, 0.045, 0.005, 0.006, 0.007, 0.01, 0.1, 0.15, 0.2, 1.0],  # Specify a range of C values to test\n",
        "    'penalty': ['l1', 'l2'],  # Test both L1 and L2 penalties\n",
        "}\n",
        "\n",
        "# Step 6: Perform GridSearchCV for hyperparameter tuning\n",
        "scorer = make_scorer(f1_score)  # Use F1 score as the evaluation metric\n",
        "grid_search = GridSearchCV(logistic_model, param_grid, cv=5, scoring=scorer)\n",
        "#grid_search.fit(x_train_resampled, y_train_resampled) #SMOTE\n",
        "grid_search.fit(x_train_scaled, y_train) #SMOTE\n",
        "\n",
        "# Get the best hyperparameters from GridSearchCV\n",
        "best_C = grid_search.best_params_['C']\n",
        "best_penalty = grid_search.best_params_['penalty']\n",
        "\n",
        "# Step 7: Train a logistic regression model with the best hyperparameters\n",
        "best_logistic_model = LogisticRegression(C=best_C, penalty=best_penalty, max_iter=1000)\n",
        "#best_logistic_model.fit(x_train_resampled, y_train_resampled) #SMOTE\n",
        "best_logistic_model.fit(x_train_scaled, y_train) #no SMOTE\n",
        "\n",
        "# Step 8: Make predictions and evaluate\n",
        "x_val_selected = x_val  # No feature selection applied to validation data\n",
        "y_val_pred = best_logistic_model.predict(x_val_scaled)\n",
        "\n",
        "# Calculate F1 Score and Accuracy\n",
        "f1 = f1_score(y_val, y_val_pred)\n",
        "accuracy = accuracy_score(y_val, y_val_pred)\n",
        "\n",
        "# Print performance metrics\n",
        "print(f\"Best C: {best_C}\")\n",
        "print(f\"Best Penalty: {best_penalty}\")\n",
        "print(f\"F1 Score on Validation Data: {f1}\")\n",
        "print(f\"Accuracy on Validation Data: {accuracy}\")"
      ],
      "metadata": {
        "colab": {
          "base_uri": "https://localhost:8080/"
        },
        "id": "VXey1d9bMax2",
        "outputId": "2772e63d-9aaf-4605-c192-b84855575564"
      },
      "execution_count": null,
      "outputs": [
        {
          "output_type": "stream",
          "name": "stderr",
          "text": [
            "/usr/local/lib/python3.10/dist-packages/sklearn/model_selection/_validation.py:378: FitFailedWarning: \n",
            "70 fits failed out of a total of 140.\n",
            "The score on these train-test partitions for these parameters will be set to nan.\n",
            "If these failures are not expected, you can try to debug them by setting error_score='raise'.\n",
            "\n",
            "Below are more details about the failures:\n",
            "--------------------------------------------------------------------------------\n",
            "70 fits failed with the following error:\n",
            "Traceback (most recent call last):\n",
            "  File \"/usr/local/lib/python3.10/dist-packages/sklearn/model_selection/_validation.py\", line 686, in _fit_and_score\n",
            "    estimator.fit(X_train, y_train, **fit_params)\n",
            "  File \"/usr/local/lib/python3.10/dist-packages/sklearn/linear_model/_logistic.py\", line 1162, in fit\n",
            "    solver = _check_solver(self.solver, self.penalty, self.dual)\n",
            "  File \"/usr/local/lib/python3.10/dist-packages/sklearn/linear_model/_logistic.py\", line 54, in _check_solver\n",
            "    raise ValueError(\n",
            "ValueError: Solver lbfgs supports only 'l2' or 'none' penalties, got l1 penalty.\n",
            "\n",
            "  warnings.warn(some_fits_failed_message, FitFailedWarning)\n",
            "/usr/local/lib/python3.10/dist-packages/sklearn/model_selection/_search.py:952: UserWarning: One or more of the test scores are non-finite: [       nan 0.83973235        nan 0.83897045        nan 0.84230671\n",
            "        nan 0.83860453        nan 0.84602256        nan 0.83860453\n",
            "        nan 0.84602256        nan 0.84577132        nan 0.84577132\n",
            "        nan 0.84577132        nan 0.83860453        nan 0.83602516\n",
            "        nan 0.83602516        nan 0.83225532]\n",
            "  warnings.warn(\n"
          ]
        },
        {
          "output_type": "stream",
          "name": "stdout",
          "text": [
            "Best C: 0.004\n",
            "Best Penalty: l2\n",
            "F1 Score on Validation Data: 0.863905325443787\n",
            "Accuracy on Validation Data: 0.8525641025641025\n"
          ]
        }
      ]
    },
    {
      "cell_type": "markdown",
      "source": [
        "I manually tested and see which C would be the best to use. When the code initially gave me 0.001 was better than 0.01, then I started adding more C values in the bracket to test them in between like 0.005, then it gave me 0.005, and I added more in between 0.001 and 0.005, and that gave me C=0.004 has performed the best, so I will be settling for that value."
      ],
      "metadata": {
        "id": "gzPQGv141P0Y"
      }
    },
    {
      "cell_type": "markdown",
      "source": [
        "Let's actually predict on test_X and output our file for the Kaggle competition and see how our model does on real data. I have used all the hyperparameter setting, random state seed, and also the test size when we are splitting train and val model, which surprisingly gave me the best kaggle score when I used 0.55 test size."
      ],
      "metadata": {
        "id": "XXg_D6831oAe"
      }
    },
    {
      "cell_type": "code",
      "source": [
        "# Create a logistic regression model\n",
        "# best_logistic_model = LogisticRegression(C=0.004, penalty='l2', solver='liblinear', max_iter=3000)\n",
        "\n",
        "x = x_train_data[x_train_data.columns[1:]]\n",
        "y = y_train_data[y_train_data.columns[1:]]\n",
        "y = y.values.ravel()\n",
        "\n",
        "# Step 1: Split your data into training and validation sets\n",
        "x_train, x_val, y_train, y_val = train_test_split(x, y, test_size=0.575, random_state=14)\n",
        "# for just logistic regression with max iteration 3000\n",
        "#0.45, 0.895, but kaggle 0.9166\n",
        "#0.4, 0.89325, but kaggle 0.9166\n",
        "#0.35, 0.8846, but kaggle 0.9166\n",
        "#0.3, 0.86567\n",
        "#0.25,\n",
        "#0.2,\n",
        "#0.15\n",
        "#0.1\n",
        "\n",
        "# for logistic regression with more penalty L2 and C=0.004\n",
        "#0.55, 0.8408, kaggle 0.9315\n",
        "#0.5, 0.8648, kaggle 0.9315\n",
        "#0.47, 0.8851\n",
        "#0.46, 0.887\n",
        "#0.45, 0.895  (1.0), 0.795 (random seed 42), 0.895 (0.005) kaggle 0.9315 (0.004)\n",
        "#0.44, 0.8877\n",
        "#0.4, 0.89325 (1.0),\n",
        "#0.35, 0.8846 (1.0),\n",
        "#0.3, 0.858   (1.0),\n",
        "\n",
        "\n",
        "\n",
        "# Step 2: Preprocess the data\n",
        "scaler = StandardScaler()\n",
        "x_train_scaled = scaler.fit_transform(x_train)\n",
        "x_val_scaled = scaler.transform(x_val)\n",
        "\n",
        "# # Step 3: Address class imbalance using SMOTE\n",
        "#smote = SMOTE(sampling_strategy='auto', random_state=14)\n",
        "#x_train_resampled, y_train_resampled = smote.fit_resample(x_train_scaled, y_train)\n",
        "\n",
        "\n",
        "# Step 4: Fit the model to logistic regression\n",
        "best_logistic_model = LogisticRegression(C=best_C, penalty=best_penalty, max_iter=3000)\n",
        "#best_logistic_model.fit(x_train_resampled, y_train_resampled) # SMOTE\n",
        "best_logistic_model.fit(x_train_scaled, y_train) # NO SMOTE\n",
        "\n",
        "# # Train the logistic regression model on your training data\n",
        "# scaler = StandardScaler()\n",
        "# x_scaled = scaler.fit_transform(x_train) #used to be x\n",
        "# best_logistic_model.fit(x_scaled, y_train)\n",
        "\n",
        "# Load your test data from 'test_X.csv'\n",
        "x_test = pd.read_csv('test_X.csv')\n",
        "x_test = x_test_data[x_test_data.columns[1:]]\n",
        "ID_column = x_test_data[x_test_data.columns[0]]\n",
        "\n",
        "\n",
        "# Preprocess the test data (e.g., scaling) - Use the same preprocessing steps as for the training data\n",
        "x_test_scaled = scaler.transform(x_test)  # Scale the test data using the same scalers\n",
        "\n",
        "# Make predictions on the test data\n",
        "y_test_pred = best_logistic_model.predict(x_test_scaled)\n",
        "\n",
        "# Create a DataFrame with the predicted labels\n",
        "ID_df = pd.DataFrame({'ID': ID_column})\n",
        "result_df = pd.DataFrame({'xml_neoplasm_histologic_grade': y_test_pred})\n",
        "combined_df = pd.concat([ID_df, result_df], axis=1)\n",
        "\n",
        "# Save the results to a CSV file (replace 'results.csv' with your desired file name)\n",
        "combined_df.to_csv('combined_results.csv', index=False)\n"
      ],
      "metadata": {
        "id": "UED7iC7VUpEY"
      },
      "execution_count": null,
      "outputs": []
    },
    {
      "cell_type": "markdown",
      "source": [
        "Now, let's check if our output file would have correct format. The top two column name has to be ID and the xml_neoplasm_histologic_grade."
      ],
      "metadata": {
        "id": "y9bl5DYD2hk-"
      }
    },
    {
      "cell_type": "code",
      "source": [
        "combined_df.head()"
      ],
      "metadata": {
        "id": "aOdS6vzWV3Lc",
        "colab": {
          "base_uri": "https://localhost:8080/",
          "height": 221
        },
        "outputId": "36e093df-a5f5-4a44-fb9b-614b3c6e2243"
      },
      "execution_count": null,
      "outputs": [
        {
          "output_type": "execute_result",
          "data": {
            "text/plain": [
              "                                     ID  xml_neoplasm_histologic_grade\n",
              "0  1576BB97-F8EA-48FF-9494-EBC7A0C97312                              1\n",
              "1  63F4281A-4D90-4589-879E-549097FB3459                              0\n",
              "2  74CF740D-201D-4070-99B9-F007E7C4D472                              0\n",
              "3  1329E1C1-743E-4541-9081-165572D4BF47                              1\n",
              "4  88BBA1BF-44E0-416E-A028-04F410A3FE5D                              0"
            ],
            "text/html": [
              "\n",
              "  <div id=\"df-292e6d1c-2d9c-4da2-a3ea-aa5810a88332\" class=\"colab-df-container\">\n",
              "    <div>\n",
              "<style scoped>\n",
              "    .dataframe tbody tr th:only-of-type {\n",
              "        vertical-align: middle;\n",
              "    }\n",
              "\n",
              "    .dataframe tbody tr th {\n",
              "        vertical-align: top;\n",
              "    }\n",
              "\n",
              "    .dataframe thead th {\n",
              "        text-align: right;\n",
              "    }\n",
              "</style>\n",
              "<table border=\"1\" class=\"dataframe\">\n",
              "  <thead>\n",
              "    <tr style=\"text-align: right;\">\n",
              "      <th></th>\n",
              "      <th>ID</th>\n",
              "      <th>xml_neoplasm_histologic_grade</th>\n",
              "    </tr>\n",
              "  </thead>\n",
              "  <tbody>\n",
              "    <tr>\n",
              "      <th>0</th>\n",
              "      <td>1576BB97-F8EA-48FF-9494-EBC7A0C97312</td>\n",
              "      <td>1</td>\n",
              "    </tr>\n",
              "    <tr>\n",
              "      <th>1</th>\n",
              "      <td>63F4281A-4D90-4589-879E-549097FB3459</td>\n",
              "      <td>0</td>\n",
              "    </tr>\n",
              "    <tr>\n",
              "      <th>2</th>\n",
              "      <td>74CF740D-201D-4070-99B9-F007E7C4D472</td>\n",
              "      <td>0</td>\n",
              "    </tr>\n",
              "    <tr>\n",
              "      <th>3</th>\n",
              "      <td>1329E1C1-743E-4541-9081-165572D4BF47</td>\n",
              "      <td>1</td>\n",
              "    </tr>\n",
              "    <tr>\n",
              "      <th>4</th>\n",
              "      <td>88BBA1BF-44E0-416E-A028-04F410A3FE5D</td>\n",
              "      <td>0</td>\n",
              "    </tr>\n",
              "  </tbody>\n",
              "</table>\n",
              "</div>\n",
              "    <div class=\"colab-df-buttons\">\n",
              "\n",
              "  <div class=\"colab-df-container\">\n",
              "    <button class=\"colab-df-convert\" onclick=\"convertToInteractive('df-292e6d1c-2d9c-4da2-a3ea-aa5810a88332')\"\n",
              "            title=\"Convert this dataframe to an interactive table.\"\n",
              "            style=\"display:none;\">\n",
              "\n",
              "  <svg xmlns=\"http://www.w3.org/2000/svg\" height=\"24px\" viewBox=\"0 -960 960 960\">\n",
              "    <path d=\"M120-120v-720h720v720H120Zm60-500h600v-160H180v160Zm220 220h160v-160H400v160Zm0 220h160v-160H400v160ZM180-400h160v-160H180v160Zm440 0h160v-160H620v160ZM180-180h160v-160H180v160Zm440 0h160v-160H620v160Z\"/>\n",
              "  </svg>\n",
              "    </button>\n",
              "\n",
              "  <style>\n",
              "    .colab-df-container {\n",
              "      display:flex;\n",
              "      gap: 12px;\n",
              "    }\n",
              "\n",
              "    .colab-df-convert {\n",
              "      background-color: #E8F0FE;\n",
              "      border: none;\n",
              "      border-radius: 50%;\n",
              "      cursor: pointer;\n",
              "      display: none;\n",
              "      fill: #1967D2;\n",
              "      height: 32px;\n",
              "      padding: 0 0 0 0;\n",
              "      width: 32px;\n",
              "    }\n",
              "\n",
              "    .colab-df-convert:hover {\n",
              "      background-color: #E2EBFA;\n",
              "      box-shadow: 0px 1px 2px rgba(60, 64, 67, 0.3), 0px 1px 3px 1px rgba(60, 64, 67, 0.15);\n",
              "      fill: #174EA6;\n",
              "    }\n",
              "\n",
              "    .colab-df-buttons div {\n",
              "      margin-bottom: 4px;\n",
              "    }\n",
              "\n",
              "    [theme=dark] .colab-df-convert {\n",
              "      background-color: #3B4455;\n",
              "      fill: #D2E3FC;\n",
              "    }\n",
              "\n",
              "    [theme=dark] .colab-df-convert:hover {\n",
              "      background-color: #434B5C;\n",
              "      box-shadow: 0px 1px 3px 1px rgba(0, 0, 0, 0.15);\n",
              "      filter: drop-shadow(0px 1px 2px rgba(0, 0, 0, 0.3));\n",
              "      fill: #FFFFFF;\n",
              "    }\n",
              "  </style>\n",
              "\n",
              "    <script>\n",
              "      const buttonEl =\n",
              "        document.querySelector('#df-292e6d1c-2d9c-4da2-a3ea-aa5810a88332 button.colab-df-convert');\n",
              "      buttonEl.style.display =\n",
              "        google.colab.kernel.accessAllowed ? 'block' : 'none';\n",
              "\n",
              "      async function convertToInteractive(key) {\n",
              "        const element = document.querySelector('#df-292e6d1c-2d9c-4da2-a3ea-aa5810a88332');\n",
              "        const dataTable =\n",
              "          await google.colab.kernel.invokeFunction('convertToInteractive',\n",
              "                                                    [key], {});\n",
              "        if (!dataTable) return;\n",
              "\n",
              "        const docLinkHtml = 'Like what you see? Visit the ' +\n",
              "          '<a target=\"_blank\" href=https://colab.research.google.com/notebooks/data_table.ipynb>data table notebook</a>'\n",
              "          + ' to learn more about interactive tables.';\n",
              "        element.innerHTML = '';\n",
              "        dataTable['output_type'] = 'display_data';\n",
              "        await google.colab.output.renderOutput(dataTable, element);\n",
              "        const docLink = document.createElement('div');\n",
              "        docLink.innerHTML = docLinkHtml;\n",
              "        element.appendChild(docLink);\n",
              "      }\n",
              "    </script>\n",
              "  </div>\n",
              "\n",
              "\n",
              "<div id=\"df-4cf09d01-4cc3-4d9d-890e-df3d220e0146\">\n",
              "  <button class=\"colab-df-quickchart\" onclick=\"quickchart('df-4cf09d01-4cc3-4d9d-890e-df3d220e0146')\"\n",
              "            title=\"Suggest charts.\"\n",
              "            style=\"display:none;\">\n",
              "\n",
              "<svg xmlns=\"http://www.w3.org/2000/svg\" height=\"24px\"viewBox=\"0 0 24 24\"\n",
              "     width=\"24px\">\n",
              "    <g>\n",
              "        <path d=\"M19 3H5c-1.1 0-2 .9-2 2v14c0 1.1.9 2 2 2h14c1.1 0 2-.9 2-2V5c0-1.1-.9-2-2-2zM9 17H7v-7h2v7zm4 0h-2V7h2v10zm4 0h-2v-4h2v4z\"/>\n",
              "    </g>\n",
              "</svg>\n",
              "  </button>\n",
              "\n",
              "<style>\n",
              "  .colab-df-quickchart {\n",
              "      --bg-color: #E8F0FE;\n",
              "      --fill-color: #1967D2;\n",
              "      --hover-bg-color: #E2EBFA;\n",
              "      --hover-fill-color: #174EA6;\n",
              "      --disabled-fill-color: #AAA;\n",
              "      --disabled-bg-color: #DDD;\n",
              "  }\n",
              "\n",
              "  [theme=dark] .colab-df-quickchart {\n",
              "      --bg-color: #3B4455;\n",
              "      --fill-color: #D2E3FC;\n",
              "      --hover-bg-color: #434B5C;\n",
              "      --hover-fill-color: #FFFFFF;\n",
              "      --disabled-bg-color: #3B4455;\n",
              "      --disabled-fill-color: #666;\n",
              "  }\n",
              "\n",
              "  .colab-df-quickchart {\n",
              "    background-color: var(--bg-color);\n",
              "    border: none;\n",
              "    border-radius: 50%;\n",
              "    cursor: pointer;\n",
              "    display: none;\n",
              "    fill: var(--fill-color);\n",
              "    height: 32px;\n",
              "    padding: 0;\n",
              "    width: 32px;\n",
              "  }\n",
              "\n",
              "  .colab-df-quickchart:hover {\n",
              "    background-color: var(--hover-bg-color);\n",
              "    box-shadow: 0 1px 2px rgba(60, 64, 67, 0.3), 0 1px 3px 1px rgba(60, 64, 67, 0.15);\n",
              "    fill: var(--button-hover-fill-color);\n",
              "  }\n",
              "\n",
              "  .colab-df-quickchart-complete:disabled,\n",
              "  .colab-df-quickchart-complete:disabled:hover {\n",
              "    background-color: var(--disabled-bg-color);\n",
              "    fill: var(--disabled-fill-color);\n",
              "    box-shadow: none;\n",
              "  }\n",
              "\n",
              "  .colab-df-spinner {\n",
              "    border: 2px solid var(--fill-color);\n",
              "    border-color: transparent;\n",
              "    border-bottom-color: var(--fill-color);\n",
              "    animation:\n",
              "      spin 1s steps(1) infinite;\n",
              "  }\n",
              "\n",
              "  @keyframes spin {\n",
              "    0% {\n",
              "      border-color: transparent;\n",
              "      border-bottom-color: var(--fill-color);\n",
              "      border-left-color: var(--fill-color);\n",
              "    }\n",
              "    20% {\n",
              "      border-color: transparent;\n",
              "      border-left-color: var(--fill-color);\n",
              "      border-top-color: var(--fill-color);\n",
              "    }\n",
              "    30% {\n",
              "      border-color: transparent;\n",
              "      border-left-color: var(--fill-color);\n",
              "      border-top-color: var(--fill-color);\n",
              "      border-right-color: var(--fill-color);\n",
              "    }\n",
              "    40% {\n",
              "      border-color: transparent;\n",
              "      border-right-color: var(--fill-color);\n",
              "      border-top-color: var(--fill-color);\n",
              "    }\n",
              "    60% {\n",
              "      border-color: transparent;\n",
              "      border-right-color: var(--fill-color);\n",
              "    }\n",
              "    80% {\n",
              "      border-color: transparent;\n",
              "      border-right-color: var(--fill-color);\n",
              "      border-bottom-color: var(--fill-color);\n",
              "    }\n",
              "    90% {\n",
              "      border-color: transparent;\n",
              "      border-bottom-color: var(--fill-color);\n",
              "    }\n",
              "  }\n",
              "</style>\n",
              "\n",
              "  <script>\n",
              "    async function quickchart(key) {\n",
              "      const quickchartButtonEl =\n",
              "        document.querySelector('#' + key + ' button');\n",
              "      quickchartButtonEl.disabled = true;  // To prevent multiple clicks.\n",
              "      quickchartButtonEl.classList.add('colab-df-spinner');\n",
              "      try {\n",
              "        const charts = await google.colab.kernel.invokeFunction(\n",
              "            'suggestCharts', [key], {});\n",
              "      } catch (error) {\n",
              "        console.error('Error during call to suggestCharts:', error);\n",
              "      }\n",
              "      quickchartButtonEl.classList.remove('colab-df-spinner');\n",
              "      quickchartButtonEl.classList.add('colab-df-quickchart-complete');\n",
              "    }\n",
              "    (() => {\n",
              "      let quickchartButtonEl =\n",
              "        document.querySelector('#df-4cf09d01-4cc3-4d9d-890e-df3d220e0146 button');\n",
              "      quickchartButtonEl.style.display =\n",
              "        google.colab.kernel.accessAllowed ? 'block' : 'none';\n",
              "    })();\n",
              "  </script>\n",
              "</div>\n",
              "    </div>\n",
              "  </div>\n"
            ]
          },
          "metadata": {},
          "execution_count": 15
        }
      ]
    },
    {
      "cell_type": "markdown",
      "source": [
        "Shall we actually try to visualize our data set? Let's use PCA and TSNE"
      ],
      "metadata": {
        "id": "y6AZH5gV2vnh"
      }
    },
    {
      "cell_type": "code",
      "source": [
        "from sklearn.decomposition import PCA\n",
        "import matplotlib.pyplot as plt\n",
        "\n",
        "\n",
        "# Step 8: Visualize data using PCA\n",
        "pca = PCA(n_components=2)  # Reduce to 2 dimensions for visualization\n",
        "x_pca = pca.fit_transform(x_val_scaled)\n",
        "\n",
        "# Scatter plot\n",
        "plt.figure(figsize=(10, 6))\n",
        "plt.scatter(x_pca[y_val == 0, 0], x_pca[y_val == 0, 1], label='Class 0', alpha=0.7)\n",
        "plt.scatter(x_pca[y_val == 1, 0], x_pca[y_val == 1, 1], label='Class 1', alpha=0.7)\n",
        "plt.legend()\n",
        "plt.title('PCA Visualization')\n",
        "plt.xlabel('Principal Component 1')\n",
        "plt.ylabel('Principal Component 2')\n",
        "plt.show()\n"
      ],
      "metadata": {
        "colab": {
          "base_uri": "https://localhost:8080/",
          "height": 469
        },
        "id": "aRnyyH0cxKeo",
        "outputId": "8e08b40e-79d2-475a-9e03-4f01e8528f0b"
      },
      "execution_count": null,
      "outputs": [
        {
          "output_type": "display_data",
          "data": {
            "text/plain": [
              "<Figure size 1000x600 with 1 Axes>"
            ],
            "image/png": "[encoded data removed]"
          },
          "metadata": {}
        }
      ]
    },
    {
      "cell_type": "code",
      "source": [
        "from sklearn.manifold import TSNE\n",
        "\n",
        "# Step 8: Visualize data using t-SNE\n",
        "tsne = TSNE(n_components=2, random_state=14)\n",
        "x_tsne = tsne.fit_transform(x_val_scaled)\n",
        "\n",
        "# Scatter plot\n",
        "plt.figure(figsize=(10, 6))\n",
        "plt.scatter(x_tsne[y_val == 0, 0], x_tsne[y_val == 0, 1], label='Class 0', alpha=0.7)\n",
        "plt.scatter(x_tsne[y_val == 1, 0], x_tsne[y_val == 1, 1], label='Class 1', alpha=0.7)\n",
        "plt.legend()\n",
        "plt.title('t-SNE Visualization')\n",
        "plt.xlabel('t-SNE Dimension 1')\n",
        "plt.ylabel('t-SNE Dimension 2')\n",
        "plt.show()\n"
      ],
      "metadata": {
        "colab": {
          "base_uri": "https://localhost:8080/",
          "height": 470
        },
        "id": "_bsIggVfyWvY",
        "outputId": "f5dfc941-ca96-463c-b44c-a66b2edee769"
      },
      "execution_count": null,
      "outputs": [
        {
          "output_type": "display_data",
          "data": {
            "text/plain": [
              "<Figure size 1000x600 with 1 Axes>"
            ],
            "image/png": "[encoded data removed]"
          },
          "metadata": {}
        }
      ]
    },
    {
      "cell_type": "markdown",
      "source": [
        "Hm, seems like it can't see the best correlation here that I can see whether our model is right or not by visualizing."
      ],
      "metadata": {
        "id": "sTYKoyks22QS"
      }
    },
    {
      "cell_type": "markdown",
      "source": [
        "For the last, let's see which features our model thought it was the most important to predict the tumor size and get the best 10 RNA gene code."
      ],
      "metadata": {
        "id": "qPFA_J6y3OZK"
      }
    },
    {
      "cell_type": "code",
      "source": [
        "# Get the coefficients (feature importances)\n",
        "coefficients = best_logistic_model.coef_[0]\n",
        "\n",
        "# Map coefficients to feature names\n",
        "feature_names = x.columns\n",
        "\n",
        "# Create a DataFrame to display feature importances\n",
        "importance_df = pd.DataFrame({'Feature': feature_names, 'Coefficient': coefficients})\n",
        "\n",
        "# Sort the DataFrame by coefficient magnitude to identify top features\n",
        "top_features = importance_df.sort_values(by='Coefficient', ascending=False)\n",
        "\n",
        "# Print or visualize the top features\n",
        "print(top_features.head(10))"
      ],
      "metadata": {
        "id": "GnX3dLuSZH_-",
        "colab": {
          "base_uri": "https://localhost:8080/"
        },
        "outputId": "c30f6a38-713b-4c70-a921-d79c54ac27aa"
      },
      "execution_count": null,
      "outputs": [
        {
          "output_type": "stream",
          "name": "stdout",
          "text": [
            "               Feature  Coefficient\n",
            "13265  ENSG00000177947     0.014260\n",
            "13574  ENSG00000180316     0.012277\n",
            "6937   ENSG00000136535     0.012182\n",
            "2551   ENSG00000102239     0.011630\n",
            "17012  ENSG00000233670     0.011409\n",
            "14577  ENSG00000186226     0.011108\n",
            "6678   ENSG00000135116     0.010801\n",
            "7250   ENSG00000138161     0.010680\n",
            "10178  ENSG00000162723     0.010532\n",
            "7499   ENSG00000139797     0.010529\n"
          ]
        }
      ]
    },
    {
      "cell_type": "markdown",
      "source": [
        "The correlation doesn't seem to high, but that could be because I am doing correlation on every column for our logistic regression. Let's look into what those 10 genes are."
      ],
      "metadata": {
        "id": "5a17wMQl5PNt"
      }
    },
    {
      "cell_type": "markdown",
      "source": [
        "Our best indicator gene ENSG00000177947 seems like it is ODF3, which is outer dense fiber of sperm tail 3. This gene has proteins that correspond to the following UniProtKB identifiers: Q96PU9. More information can be found here. https://useast.ensembl.org/Homo_sapiens/Gene/Summary?db=core;g=ENSG00000177947;r=11:196761-200261\n",
        "\n",
        "When you look up the protein more specifically, the gene is CIMAP1A, and protein is Ciliary microtubule associated protein 1A. More information can be found here. https://www.uniprot.org/uniprotkb/Q96PU9/entry\n",
        "\n",
        "This is the list for all the gene IDs we found on top 10.\n",
        "\n",
        "ENSG00000177947    ODF3, Outer dense fiber of sperm tails 3\n",
        "\n",
        "ENSG00000180316    PNPLA1, Omega-hydroxyceramide transacylase\n",
        "\n",
        "ENSG00000136535    TBR1, T-box brain transcription factor 1\n",
        "\n",
        "ENSG00000102239    BRS3, bombesin receptor subtype 3\n",
        "\n",
        "ENSG00000233670    PIRT, phosphoinositide interacting regulator of transient receptor potential channels\n",
        "\n",
        "ENSG00000186226    LCE1E, late cornified envelope 1E\n",
        "\n",
        "ENSG00000135116    HRK, Activator of apoptosis harakiri (BH3-interacting domain-containing protein 3\n",
        "Neuronal death protein DP5)\n",
        "\n",
        "ENSG00000138161    CUZD1, CUB and zona pellucida-like domain-containing protein 1\n",
        "\n",
        "ENSG00000162723    SLAMF9, SLAM family member 9\n",
        "\n",
        "ENSG00000139797    RNF113B, RING finger protein 113B\n",
        "\n",
        "Now, I am not the best GENE expert here, but from personal family health issues and stuff, I do know that females with high male hormone could develop many uterine related diseases due to hormone imbalance. For example, if you have high male hormones as females, you could develeop PCOS, which could lead to inability to become pregnant if not regulated with medicine and treatments and such. My guess here is that our best predictor, which is Outer dense fiber of sperm tails would be a similar case? Although female doesn't have sexual organs to create sperms itself, maybe their hormone imbalance or being born with this gene that should've been in Y chromosome of male and they happen to have this gene as female by chance in the middle of DNA splicing and mixing, maybe they have higher chance of developing UCEC (uterine corpus endometrial carcinoma), which is uterine related disease. It is just my guess to make sense of it for our project and extra credit."
      ],
      "metadata": {
        "id": "peZ3Y0zP3cqN"
      }
    },
    {
      "cell_type": "markdown",
      "source": [
        "Extra: These were my failed attemps to get the code working, but I kept them as reference so I can look back and pull the useful parts of the code as I was coding."
      ],
      "metadata": {
        "id": "g5g8qovHz6ns"
      }
    },
    {
      "cell_type": "code",
      "source": [
        "# # Define cross-validation metrics\n",
        "# scoring = {\n",
        "#     'f1_score': make_scorer(f1_score),\n",
        "#     'accuracy': make_scorer(accuracy_score)\n",
        "# }\n",
        "\n",
        "# for name, model in models:\n",
        "#     if name != 'Logistic Regression':\n",
        "#         # Normalize the features for linear regression models\n",
        "#         scaler = StandardScaler()\n",
        "#         x_scaled = scaler.fit_transform(x)\n",
        "#     else:\n",
        "#         x_scaled = x\n",
        "\n",
        "#     # Perform cross-validation predictions for the model\n",
        "#     cv_y_pred = cross_val_predict(model, x_scaled, y, cv=5)\n",
        "\n",
        "#     y = y.ravel()\n",
        "#     # Calculate F1 Score\n",
        "#     f1 = f1_score(y, cv_y_pred)\n",
        "\n",
        "#     # Calculate Accuracy\n",
        "#     accuracy = accuracy_score(y, cv_y_pred)\n",
        "\n",
        "#     # Print results\n",
        "#     print(f\"Model: {name}\")\n",
        "#     print(f\"Cross-Validation F1 Score: {f1}\")\n",
        "#     print(f\"Cross-Validation Accuracy: {accuracy}\")\n",
        "#     print()"
      ],
      "metadata": {
        "id": "8euYm_LtQtwk"
      },
      "execution_count": null,
      "outputs": []
    }
  ]
}