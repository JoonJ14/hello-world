{
  "nbformat": 4,
  "nbformat_minor": 0,
  "metadata": {
    "colab": {
      "provenance": [],
      "gpuType": "T4"
    },
    "kernelspec": {
      "name": "python3",
      "display_name": "Python 3"
    },
    "language_info": {
      "name": "python"
    },
    "accelerator": "GPU"
  },
  "cells": [
    {
      "cell_type": "markdown",
      "source": [
        "# Green Fluorescent Project HW 4"
      ],
      "metadata": {
        "id": "lCybZWVwBpRU"
      }
    },
    {
      "cell_type": "code",
      "execution_count": 51,
      "metadata": {
        "id": "Dc6HJl6l4ZEI"
      },
      "outputs": [],
      "source": [
        "import numpy as np\n",
        "import pandas as pd\n",
        "from sklearn.model_selection import train_test_split, cross_val_predict\n",
        "from sklearn.linear_model import LogisticRegression, LinearRegression, Ridge, Lasso\n",
        "from sklearn.metrics import accuracy_score, precision_score, recall_score, f1_score, make_scorer\n",
        "from sklearn.preprocessing import StandardScaler\n"
      ]
    },
    {
      "cell_type": "code",
      "source": [
        "x_train_data = pd.read_csv('train_X_new.csv')\n",
        "y_train_data = pd.read_csv('train_y_new.csv')\n",
        "x_test_data = pd.read_csv('test_X_new.csv')\n",
        "\n",
        "x_train_data.head(10)"
      ],
      "metadata": {
        "colab": {
          "base_uri": "https://localhost:8080/",
          "height": 374
        },
        "id": "q-u4NdoHBxih",
        "outputId": "7c408348-adc9-439f-d10a-ed855e5383f5"
      },
      "execution_count": 52,
      "outputs": [
        {
          "output_type": "execute_result",
          "data": {
            "text/plain": [
              "   Unnamed: 0                               ConstructedAASeq_cln     Id\n",
              "0           0  SKGEELFTGVVPILVELDGDVNGHKFSVSGEGEGDATYGKLTLKFI...  11328\n",
              "1           1  SKGEELFTGVVPILVELDGDVNGHKFSVSGEGEGDATYGKLTLKFI...   5781\n",
              "2           2  SKGEELFTGVVPILVELDGDVNGHKFSVSGEGEGDATYGKLTLKFI...  13681\n",
              "3           3  SKGEELFTGVVPILVELDGDVNGHKFSVSGEGEGDATYGKLTLKFI...  30804\n",
              "4           4  SKGEELFTGVVPILVELDGDVNGHTFSVSGEGEGDATYGELTLKFI...  30813\n",
              "5           5  SKGEELFTGVVPILVELDGDVNGHKFSVSGEGEGDATYGKLTLKFI...   5983\n",
              "6           6  SKGEELFTGVVPILVELDGDVNGHKFSESGEGEGDATYGKLTLKFI...  20374\n",
              "7           7  SKGEELFTGVVPILVELDGDVNGHKFSVSGEGEGDATYGKLTLKFI...  22332\n",
              "8           8  SKGEELFTGVVPILVELDGDVNGHKFSVSGEGEGDATYGKLTLKFI...  17800\n",
              "9           9  SKGEELLTGVVPILVELDGDVNGHKFSVSGEGEGDATYGKLTLKFI...  22064"
            ],
            "text/html": [
              "\n",
              "  <div id=\"df-7890207c-105a-44af-8dd5-71d9dc2c1bfe\" class=\"colab-df-container\">\n",
              "    <div>\n",
              "<style scoped>\n",
              "    .dataframe tbody tr th:only-of-type {\n",
              "        vertical-align: middle;\n",
              "    }\n",
              "\n",
              "    .dataframe tbody tr th {\n",
              "        vertical-align: top;\n",
              "    }\n",
              "\n",
              "    .dataframe thead th {\n",
              "        text-align: right;\n",
              "    }\n",
              "</style>\n",
              "<table border=\"1\" class=\"dataframe\">\n",
              "  <thead>\n",
              "    <tr style=\"text-align: right;\">\n",
              "      <th></th>\n",
              "      <th>Unnamed: 0</th>\n",
              "      <th>ConstructedAASeq_cln</th>\n",
              "      <th>Id</th>\n",
              "    </tr>\n",
              "  </thead>\n",
              "  <tbody>\n",
              "    <tr>\n",
              "      <th>0</th>\n",
              "      <td>0</td>\n",
              "      <td>SKGEELFTGVVPILVELDGDVNGHKFSVSGEGEGDATYGKLTLKFI...</td>\n",
              "      <td>11328</td>\n",
              "    </tr>\n",
              "    <tr>\n",
              "      <th>1</th>\n",
              "      <td>1</td>\n",
              "      <td>SKGEELFTGVVPILVELDGDVNGHKFSVSGEGEGDATYGKLTLKFI...</td>\n",
              "      <td>5781</td>\n",
              "    </tr>\n",
              "    <tr>\n",
              "      <th>2</th>\n",
              "      <td>2</td>\n",
              "      <td>SKGEELFTGVVPILVELDGDVNGHKFSVSGEGEGDATYGKLTLKFI...</td>\n",
              "      <td>13681</td>\n",
              "    </tr>\n",
              "    <tr>\n",
              "      <th>3</th>\n",
              "      <td>3</td>\n",
              "      <td>SKGEELFTGVVPILVELDGDVNGHKFSVSGEGEGDATYGKLTLKFI...</td>\n",
              "      <td>30804</td>\n",
              "    </tr>\n",
              "    <tr>\n",
              "      <th>4</th>\n",
              "      <td>4</td>\n",
              "      <td>SKGEELFTGVVPILVELDGDVNGHTFSVSGEGEGDATYGELTLKFI...</td>\n",
              "      <td>30813</td>\n",
              "    </tr>\n",
              "    <tr>\n",
              "      <th>5</th>\n",
              "      <td>5</td>\n",
              "      <td>SKGEELFTGVVPILVELDGDVNGHKFSVSGEGEGDATYGKLTLKFI...</td>\n",
              "      <td>5983</td>\n",
              "    </tr>\n",
              "    <tr>\n",
              "      <th>6</th>\n",
              "      <td>6</td>\n",
              "      <td>SKGEELFTGVVPILVELDGDVNGHKFSESGEGEGDATYGKLTLKFI...</td>\n",
              "      <td>20374</td>\n",
              "    </tr>\n",
              "    <tr>\n",
              "      <th>7</th>\n",
              "      <td>7</td>\n",
              "      <td>SKGEELFTGVVPILVELDGDVNGHKFSVSGEGEGDATYGKLTLKFI...</td>\n",
              "      <td>22332</td>\n",
              "    </tr>\n",
              "    <tr>\n",
              "      <th>8</th>\n",
              "      <td>8</td>\n",
              "      <td>SKGEELFTGVVPILVELDGDVNGHKFSVSGEGEGDATYGKLTLKFI...</td>\n",
              "      <td>17800</td>\n",
              "    </tr>\n",
              "    <tr>\n",
              "      <th>9</th>\n",
              "      <td>9</td>\n",
              "      <td>SKGEELLTGVVPILVELDGDVNGHKFSVSGEGEGDATYGKLTLKFI...</td>\n",
              "      <td>22064</td>\n",
              "    </tr>\n",
              "  </tbody>\n",
              "</table>\n",
              "</div>\n",
              "    <div class=\"colab-df-buttons\">\n",
              "\n",
              "  <div class=\"colab-df-container\">\n",
              "    <button class=\"colab-df-convert\" onclick=\"convertToInteractive('df-7890207c-105a-44af-8dd5-71d9dc2c1bfe')\"\n",
              "            title=\"Convert this dataframe to an interactive table.\"\n",
              "            style=\"display:none;\">\n",
              "\n",
              "  <svg xmlns=\"http://www.w3.org/2000/svg\" height=\"24px\" viewBox=\"0 -960 960 960\">\n",
              "    <path d=\"M120-120v-720h720v720H120Zm60-500h600v-160H180v160Zm220 220h160v-160H400v160Zm0 220h160v-160H400v160ZM180-400h160v-160H180v160Zm440 0h160v-160H620v160ZM180-180h160v-160H180v160Zm440 0h160v-160H620v160Z\"/>\n",
              "  </svg>\n",
              "    </button>\n",
              "\n",
              "  <style>\n",
              "    .colab-df-container {\n",
              "      display:flex;\n",
              "      gap: 12px;\n",
              "    }\n",
              "\n",
              "    .colab-df-convert {\n",
              "      background-color: #E8F0FE;\n",
              "      border: none;\n",
              "      border-radius: 50%;\n",
              "      cursor: pointer;\n",
              "      display: none;\n",
              "      fill: #1967D2;\n",
              "      height: 32px;\n",
              "      padding: 0 0 0 0;\n",
              "      width: 32px;\n",
              "    }\n",
              "\n",
              "    .colab-df-convert:hover {\n",
              "      background-color: #E2EBFA;\n",
              "      box-shadow: 0px 1px 2px rgba(60, 64, 67, 0.3), 0px 1px 3px 1px rgba(60, 64, 67, 0.15);\n",
              "      fill: #174EA6;\n",
              "    }\n",
              "\n",
              "    .colab-df-buttons div {\n",
              "      margin-bottom: 4px;\n",
              "    }\n",
              "\n",
              "    [theme=dark] .colab-df-convert {\n",
              "      background-color: #3B4455;\n",
              "      fill: #D2E3FC;\n",
              "    }\n",
              "\n",
              "    [theme=dark] .colab-df-convert:hover {\n",
              "      background-color: #434B5C;\n",
              "      box-shadow: 0px 1px 3px 1px rgba(0, 0, 0, 0.15);\n",
              "      filter: drop-shadow(0px 1px 2px rgba(0, 0, 0, 0.3));\n",
              "      fill: #FFFFFF;\n",
              "    }\n",
              "  </style>\n",
              "\n",
              "    <script>\n",
              "      const buttonEl =\n",
              "        document.querySelector('#df-7890207c-105a-44af-8dd5-71d9dc2c1bfe button.colab-df-convert');\n",
              "      buttonEl.style.display =\n",
              "        google.colab.kernel.accessAllowed ? 'block' : 'none';\n",
              "\n",
              "      async function convertToInteractive(key) {\n",
              "        const element = document.querySelector('#df-7890207c-105a-44af-8dd5-71d9dc2c1bfe');\n",
              "        const dataTable =\n",
              "          await google.colab.kernel.invokeFunction('convertToInteractive',\n",
              "                                                    [key], {});\n",
              "        if (!dataTable) return;\n",
              "\n",
              "        const docLinkHtml = 'Like what you see? Visit the ' +\n",
              "          '<a target=\"_blank\" href=https://colab.research.google.com/notebooks/data_table.ipynb>data table notebook</a>'\n",
              "          + ' to learn more about interactive tables.';\n",
              "        element.innerHTML = '';\n",
              "        dataTable['output_type'] = 'display_data';\n",
              "        await google.colab.output.renderOutput(dataTable, element);\n",
              "        const docLink = document.createElement('div');\n",
              "        docLink.innerHTML = docLinkHtml;\n",
              "        element.appendChild(docLink);\n",
              "      }\n",
              "    </script>\n",
              "  </div>\n",
              "\n",
              "\n",
              "<div id=\"df-52aff660-4df5-4109-a4e6-fd2ab88f4ea7\">\n",
              "  <button class=\"colab-df-quickchart\" onclick=\"quickchart('df-52aff660-4df5-4109-a4e6-fd2ab88f4ea7')\"\n",
              "            title=\"Suggest charts\"\n",
              "            style=\"display:none;\">\n",
              "\n",
              "<svg xmlns=\"http://www.w3.org/2000/svg\" height=\"24px\"viewBox=\"0 0 24 24\"\n",
              "     width=\"24px\">\n",
              "    <g>\n",
              "        <path d=\"M19 3H5c-1.1 0-2 .9-2 2v14c0 1.1.9 2 2 2h14c1.1 0 2-.9 2-2V5c0-1.1-.9-2-2-2zM9 17H7v-7h2v7zm4 0h-2V7h2v10zm4 0h-2v-4h2v4z\"/>\n",
              "    </g>\n",
              "</svg>\n",
              "  </button>\n",
              "\n",
              "<style>\n",
              "  .colab-df-quickchart {\n",
              "      --bg-color: #E8F0FE;\n",
              "      --fill-color: #1967D2;\n",
              "      --hover-bg-color: #E2EBFA;\n",
              "      --hover-fill-color: #174EA6;\n",
              "      --disabled-fill-color: #AAA;\n",
              "      --disabled-bg-color: #DDD;\n",
              "  }\n",
              "\n",
              "  [theme=dark] .colab-df-quickchart {\n",
              "      --bg-color: #3B4455;\n",
              "      --fill-color: #D2E3FC;\n",
              "      --hover-bg-color: #434B5C;\n",
              "      --hover-fill-color: #FFFFFF;\n",
              "      --disabled-bg-color: #3B4455;\n",
              "      --disabled-fill-color: #666;\n",
              "  }\n",
              "\n",
              "  .colab-df-quickchart {\n",
              "    background-color: var(--bg-color);\n",
              "    border: none;\n",
              "    border-radius: 50%;\n",
              "    cursor: pointer;\n",
              "    display: none;\n",
              "    fill: var(--fill-color);\n",
              "    height: 32px;\n",
              "    padding: 0;\n",
              "    width: 32px;\n",
              "  }\n",
              "\n",
              "  .colab-df-quickchart:hover {\n",
              "    background-color: var(--hover-bg-color);\n",
              "    box-shadow: 0 1px 2px rgba(60, 64, 67, 0.3), 0 1px 3px 1px rgba(60, 64, 67, 0.15);\n",
              "    fill: var(--button-hover-fill-color);\n",
              "  }\n",
              "\n",
              "  .colab-df-quickchart-complete:disabled,\n",
              "  .colab-df-quickchart-complete:disabled:hover {\n",
              "    background-color: var(--disabled-bg-color);\n",
              "    fill: var(--disabled-fill-color);\n",
              "    box-shadow: none;\n",
              "  }\n",
              "\n",
              "  .colab-df-spinner {\n",
              "    border: 2px solid var(--fill-color);\n",
              "    border-color: transparent;\n",
              "    border-bottom-color: var(--fill-color);\n",
              "    animation:\n",
              "      spin 1s steps(1) infinite;\n",
              "  }\n",
              "\n",
              "  @keyframes spin {\n",
              "    0% {\n",
              "      border-color: transparent;\n",
              "      border-bottom-color: var(--fill-color);\n",
              "      border-left-color: var(--fill-color);\n",
              "    }\n",
              "    20% {\n",
              "      border-color: transparent;\n",
              "      border-left-color: var(--fill-color);\n",
              "      border-top-color: var(--fill-color);\n",
              "    }\n",
              "    30% {\n",
              "      border-color: transparent;\n",
              "      border-left-color: var(--fill-color);\n",
              "      border-top-color: var(--fill-color);\n",
              "      border-right-color: var(--fill-color);\n",
              "    }\n",
              "    40% {\n",
              "      border-color: transparent;\n",
              "      border-right-color: var(--fill-color);\n",
              "      border-top-color: var(--fill-color);\n",
              "    }\n",
              "    60% {\n",
              "      border-color: transparent;\n",
              "      border-right-color: var(--fill-color);\n",
              "    }\n",
              "    80% {\n",
              "      border-color: transparent;\n",
              "      border-right-color: var(--fill-color);\n",
              "      border-bottom-color: var(--fill-color);\n",
              "    }\n",
              "    90% {\n",
              "      border-color: transparent;\n",
              "      border-bottom-color: var(--fill-color);\n",
              "    }\n",
              "  }\n",
              "</style>\n",
              "\n",
              "  <script>\n",
              "    async function quickchart(key) {\n",
              "      const quickchartButtonEl =\n",
              "        document.querySelector('#' + key + ' button');\n",
              "      quickchartButtonEl.disabled = true;  // To prevent multiple clicks.\n",
              "      quickchartButtonEl.classList.add('colab-df-spinner');\n",
              "      try {\n",
              "        const charts = await google.colab.kernel.invokeFunction(\n",
              "            'suggestCharts', [key], {});\n",
              "      } catch (error) {\n",
              "        console.error('Error during call to suggestCharts:', error);\n",
              "      }\n",
              "      quickchartButtonEl.classList.remove('colab-df-spinner');\n",
              "      quickchartButtonEl.classList.add('colab-df-quickchart-complete');\n",
              "    }\n",
              "    (() => {\n",
              "      let quickchartButtonEl =\n",
              "        document.querySelector('#df-52aff660-4df5-4109-a4e6-fd2ab88f4ea7 button');\n",
              "      quickchartButtonEl.style.display =\n",
              "        google.colab.kernel.accessAllowed ? 'block' : 'none';\n",
              "    })();\n",
              "  </script>\n",
              "</div>\n",
              "    </div>\n",
              "  </div>\n"
            ]
          },
          "metadata": {},
          "execution_count": 52
        }
      ]
    },
    {
      "cell_type": "code",
      "source": [
        "y_train_data.head(10)"
      ],
      "metadata": {
        "colab": {
          "base_uri": "https://localhost:8080/",
          "height": 374
        },
        "id": "Bx9vS3O0CRJe",
        "outputId": "85917278-0893-47b5-d51e-276d31f34c96"
      },
      "execution_count": 53,
      "outputs": [
        {
          "output_type": "execute_result",
          "data": {
            "text/plain": [
              "   Unnamed: 0  Brightness_Class     Id\n",
              "0           0                 0  11328\n",
              "1           1                 0   5781\n",
              "2           2                 0  13681\n",
              "3           3                 0  30804\n",
              "4           4                 0  30813\n",
              "5           5                 1   5983\n",
              "6           6                 0  20374\n",
              "7           7                 1  22332\n",
              "8           8                 1  17800\n",
              "9           9                 0  22064"
            ],
            "text/html": [
              "\n",
              "  <div id=\"df-aa759549-b678-4369-8ec8-b3e1689d5dbe\" class=\"colab-df-container\">\n",
              "    <div>\n",
              "<style scoped>\n",
              "    .dataframe tbody tr th:only-of-type {\n",
              "        vertical-align: middle;\n",
              "    }\n",
              "\n",
              "    .dataframe tbody tr th {\n",
              "        vertical-align: top;\n",
              "    }\n",
              "\n",
              "    .dataframe thead th {\n",
              "        text-align: right;\n",
              "    }\n",
              "</style>\n",
              "<table border=\"1\" class=\"dataframe\">\n",
              "  <thead>\n",
              "    <tr style=\"text-align: right;\">\n",
              "      <th></th>\n",
              "      <th>Unnamed: 0</th>\n",
              "      <th>Brightness_Class</th>\n",
              "      <th>Id</th>\n",
              "    </tr>\n",
              "  </thead>\n",
              "  <tbody>\n",
              "    <tr>\n",
              "      <th>0</th>\n",
              "      <td>0</td>\n",
              "      <td>0</td>\n",
              "      <td>11328</td>\n",
              "    </tr>\n",
              "    <tr>\n",
              "      <th>1</th>\n",
              "      <td>1</td>\n",
              "      <td>0</td>\n",
              "      <td>5781</td>\n",
              "    </tr>\n",
              "    <tr>\n",
              "      <th>2</th>\n",
              "      <td>2</td>\n",
              "      <td>0</td>\n",
              "      <td>13681</td>\n",
              "    </tr>\n",
              "    <tr>\n",
              "      <th>3</th>\n",
              "      <td>3</td>\n",
              "      <td>0</td>\n",
              "      <td>30804</td>\n",
              "    </tr>\n",
              "    <tr>\n",
              "      <th>4</th>\n",
              "      <td>4</td>\n",
              "      <td>0</td>\n",
              "      <td>30813</td>\n",
              "    </tr>\n",
              "    <tr>\n",
              "      <th>5</th>\n",
              "      <td>5</td>\n",
              "      <td>1</td>\n",
              "      <td>5983</td>\n",
              "    </tr>\n",
              "    <tr>\n",
              "      <th>6</th>\n",
              "      <td>6</td>\n",
              "      <td>0</td>\n",
              "      <td>20374</td>\n",
              "    </tr>\n",
              "    <tr>\n",
              "      <th>7</th>\n",
              "      <td>7</td>\n",
              "      <td>1</td>\n",
              "      <td>22332</td>\n",
              "    </tr>\n",
              "    <tr>\n",
              "      <th>8</th>\n",
              "      <td>8</td>\n",
              "      <td>1</td>\n",
              "      <td>17800</td>\n",
              "    </tr>\n",
              "    <tr>\n",
              "      <th>9</th>\n",
              "      <td>9</td>\n",
              "      <td>0</td>\n",
              "      <td>22064</td>\n",
              "    </tr>\n",
              "  </tbody>\n",
              "</table>\n",
              "</div>\n",
              "    <div class=\"colab-df-buttons\">\n",
              "\n",
              "  <div class=\"colab-df-container\">\n",
              "    <button class=\"colab-df-convert\" onclick=\"convertToInteractive('df-aa759549-b678-4369-8ec8-b3e1689d5dbe')\"\n",
              "            title=\"Convert this dataframe to an interactive table.\"\n",
              "            style=\"display:none;\">\n",
              "\n",
              "  <svg xmlns=\"http://www.w3.org/2000/svg\" height=\"24px\" viewBox=\"0 -960 960 960\">\n",
              "    <path d=\"M120-120v-720h720v720H120Zm60-500h600v-160H180v160Zm220 220h160v-160H400v160Zm0 220h160v-160H400v160ZM180-400h160v-160H180v160Zm440 0h160v-160H620v160ZM180-180h160v-160H180v160Zm440 0h160v-160H620v160Z\"/>\n",
              "  </svg>\n",
              "    </button>\n",
              "\n",
              "  <style>\n",
              "    .colab-df-container {\n",
              "      display:flex;\n",
              "      gap: 12px;\n",
              "    }\n",
              "\n",
              "    .colab-df-convert {\n",
              "      background-color: #E8F0FE;\n",
              "      border: none;\n",
              "      border-radius: 50%;\n",
              "      cursor: pointer;\n",
              "      display: none;\n",
              "      fill: #1967D2;\n",
              "      height: 32px;\n",
              "      padding: 0 0 0 0;\n",
              "      width: 32px;\n",
              "    }\n",
              "\n",
              "    .colab-df-convert:hover {\n",
              "      background-color: #E2EBFA;\n",
              "      box-shadow: 0px 1px 2px rgba(60, 64, 67, 0.3), 0px 1px 3px 1px rgba(60, 64, 67, 0.15);\n",
              "      fill: #174EA6;\n",
              "    }\n",
              "\n",
              "    .colab-df-buttons div {\n",
              "      margin-bottom: 4px;\n",
              "    }\n",
              "\n",
              "    [theme=dark] .colab-df-convert {\n",
              "      background-color: #3B4455;\n",
              "      fill: #D2E3FC;\n",
              "    }\n",
              "\n",
              "    [theme=dark] .colab-df-convert:hover {\n",
              "      background-color: #434B5C;\n",
              "      box-shadow: 0px 1px 3px 1px rgba(0, 0, 0, 0.15);\n",
              "      filter: drop-shadow(0px 1px 2px rgba(0, 0, 0, 0.3));\n",
              "      fill: #FFFFFF;\n",
              "    }\n",
              "  </style>\n",
              "\n",
              "    <script>\n",
              "      const buttonEl =\n",
              "        document.querySelector('#df-aa759549-b678-4369-8ec8-b3e1689d5dbe button.colab-df-convert');\n",
              "      buttonEl.style.display =\n",
              "        google.colab.kernel.accessAllowed ? 'block' : 'none';\n",
              "\n",
              "      async function convertToInteractive(key) {\n",
              "        const element = document.querySelector('#df-aa759549-b678-4369-8ec8-b3e1689d5dbe');\n",
              "        const dataTable =\n",
              "          await google.colab.kernel.invokeFunction('convertToInteractive',\n",
              "                                                    [key], {});\n",
              "        if (!dataTable) return;\n",
              "\n",
              "        const docLinkHtml = 'Like what you see? Visit the ' +\n",
              "          '<a target=\"_blank\" href=https://colab.research.google.com/notebooks/data_table.ipynb>data table notebook</a>'\n",
              "          + ' to learn more about interactive tables.';\n",
              "        element.innerHTML = '';\n",
              "        dataTable['output_type'] = 'display_data';\n",
              "        await google.colab.output.renderOutput(dataTable, element);\n",
              "        const docLink = document.createElement('div');\n",
              "        docLink.innerHTML = docLinkHtml;\n",
              "        element.appendChild(docLink);\n",
              "      }\n",
              "    </script>\n",
              "  </div>\n",
              "\n",
              "\n",
              "<div id=\"df-002f4b35-ef33-4a92-8ef7-65318eb96806\">\n",
              "  <button class=\"colab-df-quickchart\" onclick=\"quickchart('df-002f4b35-ef33-4a92-8ef7-65318eb96806')\"\n",
              "            title=\"Suggest charts\"\n",
              "            style=\"display:none;\">\n",
              "\n",
              "<svg xmlns=\"http://www.w3.org/2000/svg\" height=\"24px\"viewBox=\"0 0 24 24\"\n",
              "     width=\"24px\">\n",
              "    <g>\n",
              "        <path d=\"M19 3H5c-1.1 0-2 .9-2 2v14c0 1.1.9 2 2 2h14c1.1 0 2-.9 2-2V5c0-1.1-.9-2-2-2zM9 17H7v-7h2v7zm4 0h-2V7h2v10zm4 0h-2v-4h2v4z\"/>\n",
              "    </g>\n",
              "</svg>\n",
              "  </button>\n",
              "\n",
              "<style>\n",
              "  .colab-df-quickchart {\n",
              "      --bg-color: #E8F0FE;\n",
              "      --fill-color: #1967D2;\n",
              "      --hover-bg-color: #E2EBFA;\n",
              "      --hover-fill-color: #174EA6;\n",
              "      --disabled-fill-color: #AAA;\n",
              "      --disabled-bg-color: #DDD;\n",
              "  }\n",
              "\n",
              "  [theme=dark] .colab-df-quickchart {\n",
              "      --bg-color: #3B4455;\n",
              "      --fill-color: #D2E3FC;\n",
              "      --hover-bg-color: #434B5C;\n",
              "      --hover-fill-color: #FFFFFF;\n",
              "      --disabled-bg-color: #3B4455;\n",
              "      --disabled-fill-color: #666;\n",
              "  }\n",
              "\n",
              "  .colab-df-quickchart {\n",
              "    background-color: var(--bg-color);\n",
              "    border: none;\n",
              "    border-radius: 50%;\n",
              "    cursor: pointer;\n",
              "    display: none;\n",
              "    fill: var(--fill-color);\n",
              "    height: 32px;\n",
              "    padding: 0;\n",
              "    width: 32px;\n",
              "  }\n",
              "\n",
              "  .colab-df-quickchart:hover {\n",
              "    background-color: var(--hover-bg-color);\n",
              "    box-shadow: 0 1px 2px rgba(60, 64, 67, 0.3), 0 1px 3px 1px rgba(60, 64, 67, 0.15);\n",
              "    fill: var(--button-hover-fill-color);\n",
              "  }\n",
              "\n",
              "  .colab-df-quickchart-complete:disabled,\n",
              "  .colab-df-quickchart-complete:disabled:hover {\n",
              "    background-color: var(--disabled-bg-color);\n",
              "    fill: var(--disabled-fill-color);\n",
              "    box-shadow: none;\n",
              "  }\n",
              "\n",
              "  .colab-df-spinner {\n",
              "    border: 2px solid var(--fill-color);\n",
              "    border-color: transparent;\n",
              "    border-bottom-color: var(--fill-color);\n",
              "    animation:\n",
              "      spin 1s steps(1) infinite;\n",
              "  }\n",
              "\n",
              "  @keyframes spin {\n",
              "    0% {\n",
              "      border-color: transparent;\n",
              "      border-bottom-color: var(--fill-color);\n",
              "      border-left-color: var(--fill-color);\n",
              "    }\n",
              "    20% {\n",
              "      border-color: transparent;\n",
              "      border-left-color: var(--fill-color);\n",
              "      border-top-color: var(--fill-color);\n",
              "    }\n",
              "    30% {\n",
              "      border-color: transparent;\n",
              "      border-left-color: var(--fill-color);\n",
              "      border-top-color: var(--fill-color);\n",
              "      border-right-color: var(--fill-color);\n",
              "    }\n",
              "    40% {\n",
              "      border-color: transparent;\n",
              "      border-right-color: var(--fill-color);\n",
              "      border-top-color: var(--fill-color);\n",
              "    }\n",
              "    60% {\n",
              "      border-color: transparent;\n",
              "      border-right-color: var(--fill-color);\n",
              "    }\n",
              "    80% {\n",
              "      border-color: transparent;\n",
              "      border-right-color: var(--fill-color);\n",
              "      border-bottom-color: var(--fill-color);\n",
              "    }\n",
              "    90% {\n",
              "      border-color: transparent;\n",
              "      border-bottom-color: var(--fill-color);\n",
              "    }\n",
              "  }\n",
              "</style>\n",
              "\n",
              "  <script>\n",
              "    async function quickchart(key) {\n",
              "      const quickchartButtonEl =\n",
              "        document.querySelector('#' + key + ' button');\n",
              "      quickchartButtonEl.disabled = true;  // To prevent multiple clicks.\n",
              "      quickchartButtonEl.classList.add('colab-df-spinner');\n",
              "      try {\n",
              "        const charts = await google.colab.kernel.invokeFunction(\n",
              "            'suggestCharts', [key], {});\n",
              "      } catch (error) {\n",
              "        console.error('Error during call to suggestCharts:', error);\n",
              "      }\n",
              "      quickchartButtonEl.classList.remove('colab-df-spinner');\n",
              "      quickchartButtonEl.classList.add('colab-df-quickchart-complete');\n",
              "    }\n",
              "    (() => {\n",
              "      let quickchartButtonEl =\n",
              "        document.querySelector('#df-002f4b35-ef33-4a92-8ef7-65318eb96806 button');\n",
              "      quickchartButtonEl.style.display =\n",
              "        google.colab.kernel.accessAllowed ? 'block' : 'none';\n",
              "    })();\n",
              "  </script>\n",
              "</div>\n",
              "    </div>\n",
              "  </div>\n"
            ]
          },
          "metadata": {},
          "execution_count": 53
        }
      ]
    },
    {
      "cell_type": "markdown",
      "source": [
        "Okay, now that we have checked what the data looks like, let's take out the initials so we can work with only the data. The ID sequence for both x and y are same, so we can save the ID columna separately and then add them back later. Frist column with just order number 01234 also seems useless."
      ],
      "metadata": {
        "id": "J7Olfbs9CTO6"
      }
    },
    {
      "cell_type": "code",
      "source": [
        "x = x_train_data[['Id', 'ConstructedAASeq_cln']]\n",
        "print(x)"
      ],
      "metadata": {
        "colab": {
          "base_uri": "https://localhost:8080/"
        },
        "id": "ywnkBEhwz1sE",
        "outputId": "d4430de0-ccc5-4101-fe79-f4996081b2cf"
      },
      "execution_count": 54,
      "outputs": [
        {
          "output_type": "stream",
          "name": "stdout",
          "text": [
            "          Id                               ConstructedAASeq_cln\n",
            "0      11328  SKGEELFTGVVPILVELDGDVNGHKFSVSGEGEGDATYGKLTLKFI...\n",
            "1       5781  SKGEELFTGVVPILVELDGDVNGHKFSVSGEGEGDATYGKLTLKFI...\n",
            "2      13681  SKGEELFTGVVPILVELDGDVNGHKFSVSGEGEGDATYGKLTLKFI...\n",
            "3      30804  SKGEELFTGVVPILVELDGDVNGHKFSVSGEGEGDATYGKLTLKFI...\n",
            "4      30813  SKGEELFTGVVPILVELDGDVNGHTFSVSGEGEGDATYGELTLKFI...\n",
            "...      ...                                                ...\n",
            "31024   7024  SKGEELFTGVVPILVELDGDVNGHKFSVSGEGEGDATYGKLTLKFI...\n",
            "31025  14012  SKGEELFTGVVPTLVELDGDVNGHKFSVSGEGAGDATYSKLTLKFI...\n",
            "31026   4140  SKGEELFTGVVPVLVELDGDVNGHKFSVSGEGEGDATYGKLTLKLI...\n",
            "31027  15193  SKGEELFTGVVPILVELDGDVNGHKFSVSGEGEGDATYGKLTLKFI...\n",
            "31028  30255  SKGEELFTGVVPILVELDGDVNGHKFSVSGEGEGDATYGKLTLKFI...\n",
            "\n",
            "[31029 rows x 2 columns]\n"
          ]
        }
      ]
    },
    {
      "cell_type": "code",
      "source": [
        "y = y_train_data[y_train_data.columns[1]]\n",
        "y = y.values.ravel()\n",
        "print(y)"
      ],
      "metadata": {
        "colab": {
          "base_uri": "https://localhost:8080/"
        },
        "id": "hupNDgFg7xE3",
        "outputId": "f4ec7e7b-f594-498c-d35c-1acc1bc38197"
      },
      "execution_count": 55,
      "outputs": [
        {
          "output_type": "stream",
          "name": "stdout",
          "text": [
            "[0 0 0 ... 0 1 1]\n"
          ]
        }
      ]
    },
    {
      "cell_type": "code",
      "source": [
        "ID_column = x_train_data[x_train_data.columns[2]]\n",
        "\n",
        "ID_column.head(10)"
      ],
      "metadata": {
        "colab": {
          "base_uri": "https://localhost:8080/"
        },
        "id": "1BwDjevvCdPj",
        "outputId": "4a6450cb-9d45-49bd-bfd4-52f46aabe8f4"
      },
      "execution_count": 56,
      "outputs": [
        {
          "output_type": "execute_result",
          "data": {
            "text/plain": [
              "0    11328\n",
              "1     5781\n",
              "2    13681\n",
              "3    30804\n",
              "4    30813\n",
              "5     5983\n",
              "6    20374\n",
              "7    22332\n",
              "8    17800\n",
              "9    22064\n",
              "Name: Id, dtype: int64"
            ]
          },
          "metadata": {},
          "execution_count": 56
        }
      ]
    },
    {
      "cell_type": "markdown",
      "source": [
        "We still have problem that is unlike other datasets, its that we just have letters for x data. Those letters aren't just regular letters too, each of them are amino acids (its their one letter code).  We are going to use connect each of letters and connect them to a descriptors numbers, in different csv file."
      ],
      "metadata": {
        "id": "IGvPkPc7Cgq1"
      }
    },
    {
      "cell_type": "markdown",
      "source": [
        "# DPPS Feature generation"
      ],
      "metadata": {
        "id": "UK6KS5t5IBsB"
      }
    },
    {
      "cell_type": "markdown",
      "source": [
        "I'll make a copy of x just so we can manipulate it for DPPS descriptors"
      ],
      "metadata": {
        "id": "kOatI85C1HDG"
      }
    },
    {
      "cell_type": "code",
      "source": [
        "x_dpps = x"
      ],
      "metadata": {
        "id": "uNXoftwC1GVS"
      },
      "execution_count": 57,
      "outputs": []
    },
    {
      "cell_type": "markdown",
      "source": [
        "So let's look at one of the descriptors csv first and get a sense how we are going to do this"
      ],
      "metadata": {
        "id": "hdthUpcZIFMx"
      }
    },
    {
      "cell_type": "code",
      "source": [
        "DPPS = pd.read_csv('DPPS.csv', skiprows=2)\n",
        "print(DPPS)\n"
      ],
      "metadata": {
        "colab": {
          "base_uri": "https://localhost:8080/"
        },
        "id": "RgndG_rbIJww",
        "outputId": "1c2b1212-0611-44ed-e543-dbb1f7be2126"
      },
      "execution_count": 58,
      "outputs": [
        {
          "output_type": "stream",
          "name": "stdout",
          "text": [
            "   AA_3 AA_1    D1    D2    D3    D4     D5    D6    D7    D8    D9   D10\n",
            "0   Ala    A -1.02 -2.88 -0.56  0.36  -6.15 -1.68  0.04 -2.51 -1.94 -0.01\n",
            "1   Arg    R  1.99  4.13 -4.41 -1.02   4.78  3.04 -9.06  6.71  4.41  0.07\n",
            "2   Asn    N -2.19  1.86  0.38 -0.13  -2.30  1.41 -5.71 -1.11  1.73 -0.19\n",
            "3   Asp    D -6.60  3.32  1.61  0.36  -3.25  1.95 -7.36  0.14  1.24 -0.15\n",
            "4   Cys    C  0.21  1.12  3.42 -0.68  -2.27 -1.22  3.11 -2.98 -1.70  1.57\n",
            "5   Gln    Q -0.47  1.16 -0.57  0.69   0.39  1.93 -5.46 -0.84  1.93  0.85\n",
            "6   Glu    E -5.39  0.65 -0.98  1.39  -0.23  2.51 -6.84 -0.68  1.41  1.28\n",
            "7   Gly    G -2.86 -5.00 -2.97  0.53 -11.45  1.89 -2.11 -3.99 -2.16 -0.76\n",
            "8   His    H  0.73  2.68 -0.66 -1.89   1.60  1.13 -1.94 -0.11  0.44  0.15\n",
            "9   Ile    I  1.91 -3.13  0.01  1.14   2.70 -4.55  8.93  0.18 -1.10 -0.76\n",
            "10  Leu    L  1.64 -2.57  0.00  1.35   2.62 -2.65  7.72  0.05 -1.03 -1.81\n",
            "11  Lys    K  2.47  1.54 -4.28 -0.86   2.77  2.06 -6.18  2.05  2.19 -1.65\n",
            "12  Met    M  1.93 -0.01  1.21  0.99   2.79 -0.56  5.33 -0.87 -0.99 -1.09\n",
            "13  Phe    F  2.68  0.84  2.22  0.71   5.02 -0.30  8.60  1.13 -1.40 -0.28\n",
            "14  Pro    P  0.45 -2.89  1.77 -5.81  -3.79 -0.61  0.70  1.21 -1.67  1.79\n",
            "15  Ser    S -1.76 -0.19  1.06 -0.69  -5.72  0.14 -4.14 -2.42 -0.13  0.69\n",
            "16  Thr    T -0.55 -0.66  0.13 -0.31  -2.76 -1.56 -2.46 -2.12  0.17  0.08\n",
            "17  Trp    W  3.88  1.78  1.68  2.00   9.31  0.89  7.53  4.27 -0.23 -1.42\n",
            "18  Tyr    Y  2.10  1.26  1.15  0.91   5.90  0.74  3.71  3.32  0.25  1.33\n",
            "19  Val    V  0.83 -3.02 -0.22  0.97   0.05 -4.55  5.61 -1.41 -1.44  0.30\n"
          ]
        }
      ]
    },
    {
      "cell_type": "markdown",
      "source": [
        "Let's leave only the stuff that we want."
      ],
      "metadata": {
        "id": "dlw_lqyJI2xl"
      }
    },
    {
      "cell_type": "code",
      "source": [
        "#list of descriptor columns to be used\n",
        "\n",
        "desc_cols = DPPS.columns.to_list()\n",
        "del desc_cols[:2]\n",
        "print(desc_cols)"
      ],
      "metadata": {
        "colab": {
          "base_uri": "https://localhost:8080/"
        },
        "id": "l3jodvsBei_6",
        "outputId": "d904f390-f8c3-4edd-bdad-69b0358c1ed8"
      },
      "execution_count": 59,
      "outputs": [
        {
          "output_type": "stream",
          "name": "stdout",
          "text": [
            "['D1', 'D2', 'D3', 'D4', 'D5', 'D6', 'D7', 'D8', 'D9', 'D10']\n"
          ]
        }
      ]
    },
    {
      "cell_type": "code",
      "source": [
        "#create a dictionary to map amino acids to their descriptors\n",
        "\n",
        "dct_DPPS = dict(zip(DPPS['AA_1'], DPPS.loc[:, desc_cols].apply(list, axis=1).tolist()))\n",
        "print (dct_DPPS)"
      ],
      "metadata": {
        "colab": {
          "base_uri": "https://localhost:8080/"
        },
        "id": "_7BQhezWy8bU",
        "outputId": "c673bff4-8401-4b5a-c1a2-0355ff91ae74"
      },
      "execution_count": 60,
      "outputs": [
        {
          "output_type": "stream",
          "name": "stdout",
          "text": [
            "{'A': [-1.02, -2.88, -0.56, 0.36, -6.15, -1.68, 0.04, -2.51, -1.94, -0.01], 'R': [1.99, 4.13, -4.41, -1.02, 4.78, 3.04, -9.06, 6.71, 4.41, 0.07], 'N': [-2.19, 1.86, 0.38, -0.13, -2.3, 1.41, -5.71, -1.11, 1.73, -0.19], 'D': [-6.6, 3.32, 1.61, 0.36, -3.25, 1.95, -7.36, 0.14, 1.24, -0.15], 'C': [0.21, 1.12, 3.42, -0.68, -2.27, -1.22, 3.11, -2.98, -1.7, 1.57], 'Q': [-0.47, 1.16, -0.57, 0.69, 0.39, 1.93, -5.46, -0.84, 1.93, 0.85], 'E': [-5.39, 0.65, -0.98, 1.39, -0.23, 2.51, -6.84, -0.68, 1.41, 1.28], 'G': [-2.86, -5.0, -2.97, 0.53, -11.45, 1.89, -2.11, -3.99, -2.16, -0.76], 'H': [0.73, 2.68, -0.66, -1.89, 1.6, 1.13, -1.94, -0.11, 0.44, 0.15], 'I': [1.91, -3.13, 0.01, 1.14, 2.7, -4.55, 8.93, 0.18, -1.1, -0.76], 'L': [1.64, -2.57, 0.0, 1.35, 2.62, -2.65, 7.72, 0.05, -1.03, -1.81], 'K': [2.47, 1.54, -4.28, -0.86, 2.77, 2.06, -6.18, 2.05, 2.19, -1.65], 'M': [1.93, -0.01, 1.21, 0.99, 2.79, -0.56, 5.33, -0.87, -0.99, -1.09], 'F': [2.68, 0.84, 2.22, 0.71, 5.02, -0.3, 8.6, 1.13, -1.4, -0.28], 'P': [0.45, -2.89, 1.77, -5.81, -3.79, -0.61, 0.7, 1.21, -1.67, 1.79], 'S': [-1.76, -0.19, 1.06, -0.69, -5.72, 0.14, -4.14, -2.42, -0.13, 0.69], 'T': [-0.55, -0.66, 0.13, -0.31, -2.76, -1.56, -2.46, -2.12, 0.17, 0.08], 'W': [3.88, 1.78, 1.68, 2.0, 9.31, 0.89, 7.53, 4.27, -0.23, -1.42], 'Y': [2.1, 1.26, 1.15, 0.91, 5.9, 0.74, 3.71, 3.32, 0.25, 1.33], 'V': [0.83, -3.02, -0.22, 0.97, 0.05, -4.55, 5.61, -1.41, -1.44, 0.3]}\n"
          ]
        }
      ]
    },
    {
      "cell_type": "code",
      "source": [
        "#convert the protein sequences to an array of descriptors based on DPPS dictionary\n",
        "\n",
        "protein_descriptors = []\n",
        "for sequence in x_dpps['ConstructedAASeq_cln']:\n",
        "    sequence_descriptor = [np.array(dct_DPPS[amino_acid]) for amino_acid in sequence]\n",
        "    protein_descriptors.append(np.hstack(sequence_descriptor).flatten())\n",
        "\n",
        "x_dpps['DPPS'] = protein_descriptors"
      ],
      "metadata": {
        "id": "DHUhlFihzAEv"
      },
      "execution_count": 61,
      "outputs": []
    },
    {
      "cell_type": "code",
      "source": [
        "x_dpps"
      ],
      "metadata": {
        "colab": {
          "base_uri": "https://localhost:8080/",
          "height": 433
        },
        "id": "ZQa1zyiBzC40",
        "outputId": "0cbaf6fc-fbda-4376-b80f-42553982c0ac"
      },
      "execution_count": 62,
      "outputs": [
        {
          "output_type": "execute_result",
          "data": {
            "text/plain": [
              "          Id                               ConstructedAASeq_cln  \\\n",
              "0      11328  SKGEELFTGVVPILVELDGDVNGHKFSVSGEGEGDATYGKLTLKFI...   \n",
              "1       5781  SKGEELFTGVVPILVELDGDVNGHKFSVSGEGEGDATYGKLTLKFI...   \n",
              "2      13681  SKGEELFTGVVPILVELDGDVNGHKFSVSGEGEGDATYGKLTLKFI...   \n",
              "3      30804  SKGEELFTGVVPILVELDGDVNGHKFSVSGEGEGDATYGKLTLKFI...   \n",
              "4      30813  SKGEELFTGVVPILVELDGDVNGHTFSVSGEGEGDATYGELTLKFI...   \n",
              "...      ...                                                ...   \n",
              "31024   7024  SKGEELFTGVVPILVELDGDVNGHKFSVSGEGEGDATYGKLTLKFI...   \n",
              "31025  14012  SKGEELFTGVVPTLVELDGDVNGHKFSVSGEGAGDATYSKLTLKFI...   \n",
              "31026   4140  SKGEELFTGVVPVLVELDGDVNGHKFSVSGEGEGDATYGKLTLKLI...   \n",
              "31027  15193  SKGEELFTGVVPILVELDGDVNGHKFSVSGEGEGDATYGKLTLKFI...   \n",
              "31028  30255  SKGEELFTGVVPILVELDGDVNGHKFSVSGEGEGDATYGKLTLKFI...   \n",
              "\n",
              "                                                    DPPS  \n",
              "0      [-1.76, -0.19, 1.06, -0.69, -5.72, 0.14, -4.14...  \n",
              "1      [-1.76, -0.19, 1.06, -0.69, -5.72, 0.14, -4.14...  \n",
              "2      [-1.76, -0.19, 1.06, -0.69, -5.72, 0.14, -4.14...  \n",
              "3      [-1.76, -0.19, 1.06, -0.69, -5.72, 0.14, -4.14...  \n",
              "4      [-1.76, -0.19, 1.06, -0.69, -5.72, 0.14, -4.14...  \n",
              "...                                                  ...  \n",
              "31024  [-1.76, -0.19, 1.06, -0.69, -5.72, 0.14, -4.14...  \n",
              "31025  [-1.76, -0.19, 1.06, -0.69, -5.72, 0.14, -4.14...  \n",
              "31026  [-1.76, -0.19, 1.06, -0.69, -5.72, 0.14, -4.14...  \n",
              "31027  [-1.76, -0.19, 1.06, -0.69, -5.72, 0.14, -4.14...  \n",
              "31028  [-1.76, -0.19, 1.06, -0.69, -5.72, 0.14, -4.14...  \n",
              "\n",
              "[31029 rows x 3 columns]"
            ],
            "text/html": [
              "\n",
              "  <div id=\"df-338d6b70-ef30-474e-9630-25cf5feb9873\" class=\"colab-df-container\">\n",
              "    <div>\n",
              "<style scoped>\n",
              "    .dataframe tbody tr th:only-of-type {\n",
              "        vertical-align: middle;\n",
              "    }\n",
              "\n",
              "    .dataframe tbody tr th {\n",
              "        vertical-align: top;\n",
              "    }\n",
              "\n",
              "    .dataframe thead th {\n",
              "        text-align: right;\n",
              "    }\n",
              "</style>\n",
              "<table border=\"1\" class=\"dataframe\">\n",
              "  <thead>\n",
              "    <tr style=\"text-align: right;\">\n",
              "      <th></th>\n",
              "      <th>Id</th>\n",
              "      <th>ConstructedAASeq_cln</th>\n",
              "      <th>DPPS</th>\n",
              "    </tr>\n",
              "  </thead>\n",
              "  <tbody>\n",
              "    <tr>\n",
              "      <th>0</th>\n",
              "      <td>11328</td>\n",
              "      <td>SKGEELFTGVVPILVELDGDVNGHKFSVSGEGEGDATYGKLTLKFI...</td>\n",
              "      <td>[-1.76, -0.19, 1.06, -0.69, -5.72, 0.14, -4.14...</td>\n",
              "    </tr>\n",
              "    <tr>\n",
              "      <th>1</th>\n",
              "      <td>5781</td>\n",
              "      <td>SKGEELFTGVVPILVELDGDVNGHKFSVSGEGEGDATYGKLTLKFI...</td>\n",
              "      <td>[-1.76, -0.19, 1.06, -0.69, -5.72, 0.14, -4.14...</td>\n",
              "    </tr>\n",
              "    <tr>\n",
              "      <th>2</th>\n",
              "      <td>13681</td>\n",
              "      <td>SKGEELFTGVVPILVELDGDVNGHKFSVSGEGEGDATYGKLTLKFI...</td>\n",
              "      <td>[-1.76, -0.19, 1.06, -0.69, -5.72, 0.14, -4.14...</td>\n",
              "    </tr>\n",
              "    <tr>\n",
              "      <th>3</th>\n",
              "      <td>30804</td>\n",
              "      <td>SKGEELFTGVVPILVELDGDVNGHKFSVSGEGEGDATYGKLTLKFI...</td>\n",
              "      <td>[-1.76, -0.19, 1.06, -0.69, -5.72, 0.14, -4.14...</td>\n",
              "    </tr>\n",
              "    <tr>\n",
              "      <th>4</th>\n",
              "      <td>30813</td>\n",
              "      <td>SKGEELFTGVVPILVELDGDVNGHTFSVSGEGEGDATYGELTLKFI...</td>\n",
              "      <td>[-1.76, -0.19, 1.06, -0.69, -5.72, 0.14, -4.14...</td>\n",
              "    </tr>\n",
              "    <tr>\n",
              "      <th>...</th>\n",
              "      <td>...</td>\n",
              "      <td>...</td>\n",
              "      <td>...</td>\n",
              "    </tr>\n",
              "    <tr>\n",
              "      <th>31024</th>\n",
              "      <td>7024</td>\n",
              "      <td>SKGEELFTGVVPILVELDGDVNGHKFSVSGEGEGDATYGKLTLKFI...</td>\n",
              "      <td>[-1.76, -0.19, 1.06, -0.69, -5.72, 0.14, -4.14...</td>\n",
              "    </tr>\n",
              "    <tr>\n",
              "      <th>31025</th>\n",
              "      <td>14012</td>\n",
              "      <td>SKGEELFTGVVPTLVELDGDVNGHKFSVSGEGAGDATYSKLTLKFI...</td>\n",
              "      <td>[-1.76, -0.19, 1.06, -0.69, -5.72, 0.14, -4.14...</td>\n",
              "    </tr>\n",
              "    <tr>\n",
              "      <th>31026</th>\n",
              "      <td>4140</td>\n",
              "      <td>SKGEELFTGVVPVLVELDGDVNGHKFSVSGEGEGDATYGKLTLKLI...</td>\n",
              "      <td>[-1.76, -0.19, 1.06, -0.69, -5.72, 0.14, -4.14...</td>\n",
              "    </tr>\n",
              "    <tr>\n",
              "      <th>31027</th>\n",
              "      <td>15193</td>\n",
              "      <td>SKGEELFTGVVPILVELDGDVNGHKFSVSGEGEGDATYGKLTLKFI...</td>\n",
              "      <td>[-1.76, -0.19, 1.06, -0.69, -5.72, 0.14, -4.14...</td>\n",
              "    </tr>\n",
              "    <tr>\n",
              "      <th>31028</th>\n",
              "      <td>30255</td>\n",
              "      <td>SKGEELFTGVVPILVELDGDVNGHKFSVSGEGEGDATYGKLTLKFI...</td>\n",
              "      <td>[-1.76, -0.19, 1.06, -0.69, -5.72, 0.14, -4.14...</td>\n",
              "    </tr>\n",
              "  </tbody>\n",
              "</table>\n",
              "<p>31029 rows × 3 columns</p>\n",
              "</div>\n",
              "    <div class=\"colab-df-buttons\">\n",
              "\n",
              "  <div class=\"colab-df-container\">\n",
              "    <button class=\"colab-df-convert\" onclick=\"convertToInteractive('df-338d6b70-ef30-474e-9630-25cf5feb9873')\"\n",
              "            title=\"Convert this dataframe to an interactive table.\"\n",
              "            style=\"display:none;\">\n",
              "\n",
              "  <svg xmlns=\"http://www.w3.org/2000/svg\" height=\"24px\" viewBox=\"0 -960 960 960\">\n",
              "    <path d=\"M120-120v-720h720v720H120Zm60-500h600v-160H180v160Zm220 220h160v-160H400v160Zm0 220h160v-160H400v160ZM180-400h160v-160H180v160Zm440 0h160v-160H620v160ZM180-180h160v-160H180v160Zm440 0h160v-160H620v160Z\"/>\n",
              "  </svg>\n",
              "    </button>\n",
              "\n",
              "  <style>\n",
              "    .colab-df-container {\n",
              "      display:flex;\n",
              "      gap: 12px;\n",
              "    }\n",
              "\n",
              "    .colab-df-convert {\n",
              "      background-color: #E8F0FE;\n",
              "      border: none;\n",
              "      border-radius: 50%;\n",
              "      cursor: pointer;\n",
              "      display: none;\n",
              "      fill: #1967D2;\n",
              "      height: 32px;\n",
              "      padding: 0 0 0 0;\n",
              "      width: 32px;\n",
              "    }\n",
              "\n",
              "    .colab-df-convert:hover {\n",
              "      background-color: #E2EBFA;\n",
              "      box-shadow: 0px 1px 2px rgba(60, 64, 67, 0.3), 0px 1px 3px 1px rgba(60, 64, 67, 0.15);\n",
              "      fill: #174EA6;\n",
              "    }\n",
              "\n",
              "    .colab-df-buttons div {\n",
              "      margin-bottom: 4px;\n",
              "    }\n",
              "\n",
              "    [theme=dark] .colab-df-convert {\n",
              "      background-color: #3B4455;\n",
              "      fill: #D2E3FC;\n",
              "    }\n",
              "\n",
              "    [theme=dark] .colab-df-convert:hover {\n",
              "      background-color: #434B5C;\n",
              "      box-shadow: 0px 1px 3px 1px rgba(0, 0, 0, 0.15);\n",
              "      filter: drop-shadow(0px 1px 2px rgba(0, 0, 0, 0.3));\n",
              "      fill: #FFFFFF;\n",
              "    }\n",
              "  </style>\n",
              "\n",
              "    <script>\n",
              "      const buttonEl =\n",
              "        document.querySelector('#df-338d6b70-ef30-474e-9630-25cf5feb9873 button.colab-df-convert');\n",
              "      buttonEl.style.display =\n",
              "        google.colab.kernel.accessAllowed ? 'block' : 'none';\n",
              "\n",
              "      async function convertToInteractive(key) {\n",
              "        const element = document.querySelector('#df-338d6b70-ef30-474e-9630-25cf5feb9873');\n",
              "        const dataTable =\n",
              "          await google.colab.kernel.invokeFunction('convertToInteractive',\n",
              "                                                    [key], {});\n",
              "        if (!dataTable) return;\n",
              "\n",
              "        const docLinkHtml = 'Like what you see? Visit the ' +\n",
              "          '<a target=\"_blank\" href=https://colab.research.google.com/notebooks/data_table.ipynb>data table notebook</a>'\n",
              "          + ' to learn more about interactive tables.';\n",
              "        element.innerHTML = '';\n",
              "        dataTable['output_type'] = 'display_data';\n",
              "        await google.colab.output.renderOutput(dataTable, element);\n",
              "        const docLink = document.createElement('div');\n",
              "        docLink.innerHTML = docLinkHtml;\n",
              "        element.appendChild(docLink);\n",
              "      }\n",
              "    </script>\n",
              "  </div>\n",
              "\n",
              "\n",
              "<div id=\"df-31beb43c-5578-43a5-9f18-027b5f2bd62e\">\n",
              "  <button class=\"colab-df-quickchart\" onclick=\"quickchart('df-31beb43c-5578-43a5-9f18-027b5f2bd62e')\"\n",
              "            title=\"Suggest charts\"\n",
              "            style=\"display:none;\">\n",
              "\n",
              "<svg xmlns=\"http://www.w3.org/2000/svg\" height=\"24px\"viewBox=\"0 0 24 24\"\n",
              "     width=\"24px\">\n",
              "    <g>\n",
              "        <path d=\"M19 3H5c-1.1 0-2 .9-2 2v14c0 1.1.9 2 2 2h14c1.1 0 2-.9 2-2V5c0-1.1-.9-2-2-2zM9 17H7v-7h2v7zm4 0h-2V7h2v10zm4 0h-2v-4h2v4z\"/>\n",
              "    </g>\n",
              "</svg>\n",
              "  </button>\n",
              "\n",
              "<style>\n",
              "  .colab-df-quickchart {\n",
              "      --bg-color: #E8F0FE;\n",
              "      --fill-color: #1967D2;\n",
              "      --hover-bg-color: #E2EBFA;\n",
              "      --hover-fill-color: #174EA6;\n",
              "      --disabled-fill-color: #AAA;\n",
              "      --disabled-bg-color: #DDD;\n",
              "  }\n",
              "\n",
              "  [theme=dark] .colab-df-quickchart {\n",
              "      --bg-color: #3B4455;\n",
              "      --fill-color: #D2E3FC;\n",
              "      --hover-bg-color: #434B5C;\n",
              "      --hover-fill-color: #FFFFFF;\n",
              "      --disabled-bg-color: #3B4455;\n",
              "      --disabled-fill-color: #666;\n",
              "  }\n",
              "\n",
              "  .colab-df-quickchart {\n",
              "    background-color: var(--bg-color);\n",
              "    border: none;\n",
              "    border-radius: 50%;\n",
              "    cursor: pointer;\n",
              "    display: none;\n",
              "    fill: var(--fill-color);\n",
              "    height: 32px;\n",
              "    padding: 0;\n",
              "    width: 32px;\n",
              "  }\n",
              "\n",
              "  .colab-df-quickchart:hover {\n",
              "    background-color: var(--hover-bg-color);\n",
              "    box-shadow: 0 1px 2px rgba(60, 64, 67, 0.3), 0 1px 3px 1px rgba(60, 64, 67, 0.15);\n",
              "    fill: var(--button-hover-fill-color);\n",
              "  }\n",
              "\n",
              "  .colab-df-quickchart-complete:disabled,\n",
              "  .colab-df-quickchart-complete:disabled:hover {\n",
              "    background-color: var(--disabled-bg-color);\n",
              "    fill: var(--disabled-fill-color);\n",
              "    box-shadow: none;\n",
              "  }\n",
              "\n",
              "  .colab-df-spinner {\n",
              "    border: 2px solid var(--fill-color);\n",
              "    border-color: transparent;\n",
              "    border-bottom-color: var(--fill-color);\n",
              "    animation:\n",
              "      spin 1s steps(1) infinite;\n",
              "  }\n",
              "\n",
              "  @keyframes spin {\n",
              "    0% {\n",
              "      border-color: transparent;\n",
              "      border-bottom-color: var(--fill-color);\n",
              "      border-left-color: var(--fill-color);\n",
              "    }\n",
              "    20% {\n",
              "      border-color: transparent;\n",
              "      border-left-color: var(--fill-color);\n",
              "      border-top-color: var(--fill-color);\n",
              "    }\n",
              "    30% {\n",
              "      border-color: transparent;\n",
              "      border-left-color: var(--fill-color);\n",
              "      border-top-color: var(--fill-color);\n",
              "      border-right-color: var(--fill-color);\n",
              "    }\n",
              "    40% {\n",
              "      border-color: transparent;\n",
              "      border-right-color: var(--fill-color);\n",
              "      border-top-color: var(--fill-color);\n",
              "    }\n",
              "    60% {\n",
              "      border-color: transparent;\n",
              "      border-right-color: var(--fill-color);\n",
              "    }\n",
              "    80% {\n",
              "      border-color: transparent;\n",
              "      border-right-color: var(--fill-color);\n",
              "      border-bottom-color: var(--fill-color);\n",
              "    }\n",
              "    90% {\n",
              "      border-color: transparent;\n",
              "      border-bottom-color: var(--fill-color);\n",
              "    }\n",
              "  }\n",
              "</style>\n",
              "\n",
              "  <script>\n",
              "    async function quickchart(key) {\n",
              "      const quickchartButtonEl =\n",
              "        document.querySelector('#' + key + ' button');\n",
              "      quickchartButtonEl.disabled = true;  // To prevent multiple clicks.\n",
              "      quickchartButtonEl.classList.add('colab-df-spinner');\n",
              "      try {\n",
              "        const charts = await google.colab.kernel.invokeFunction(\n",
              "            'suggestCharts', [key], {});\n",
              "      } catch (error) {\n",
              "        console.error('Error during call to suggestCharts:', error);\n",
              "      }\n",
              "      quickchartButtonEl.classList.remove('colab-df-spinner');\n",
              "      quickchartButtonEl.classList.add('colab-df-quickchart-complete');\n",
              "    }\n",
              "    (() => {\n",
              "      let quickchartButtonEl =\n",
              "        document.querySelector('#df-31beb43c-5578-43a5-9f18-027b5f2bd62e button');\n",
              "      quickchartButtonEl.style.display =\n",
              "        google.colab.kernel.accessAllowed ? 'block' : 'none';\n",
              "    })();\n",
              "  </script>\n",
              "</div>\n",
              "    </div>\n",
              "  </div>\n"
            ]
          },
          "metadata": {},
          "execution_count": 62
        }
      ]
    },
    {
      "cell_type": "code",
      "source": [
        "x_dpps['DPPS'][0].shape"
      ],
      "metadata": {
        "colab": {
          "base_uri": "https://localhost:8080/"
        },
        "id": "zZ1zqt7KzFG3",
        "outputId": "f890d668-ab6f-4ecb-b68e-c5b4ff420979"
      },
      "execution_count": 63,
      "outputs": [
        {
          "output_type": "execute_result",
          "data": {
            "text/plain": [
              "(2370,)"
            ]
          },
          "metadata": {},
          "execution_count": 63
        }
      ]
    },
    {
      "cell_type": "markdown",
      "source": [
        "I want to pull out just the descriptor values and work with them."
      ],
      "metadata": {
        "id": "X2z3rkdW4nkv"
      }
    },
    {
      "cell_type": "code",
      "source": [
        "#x_DPPS = x_dpps['DPPS']\n",
        "#print(x_DPPS)\n",
        "\n",
        "# Create a new DataFrame by expanding the lists into columns\n",
        "x_DPPS = pd.DataFrame(x_dpps['DPPS'].tolist())\n",
        "\n",
        "# Print the new DataFrame\n",
        "print(x_DPPS)"
      ],
      "metadata": {
        "colab": {
          "base_uri": "https://localhost:8080/"
        },
        "id": "OfH_DDxD2DB7",
        "outputId": "7a36ec35-c5a5-441d-ef86-0feb498aa92c"
      },
      "execution_count": 64,
      "outputs": [
        {
          "output_type": "stream",
          "name": "stdout",
          "text": [
            "       0     1     2     3     4     5     6     7     8     9     ...  2360  \\\n",
            "0     -1.76 -0.19  1.06 -0.69 -5.72  0.14 -4.14 -2.42 -0.13  0.69  ...  2.47   \n",
            "1     -1.76 -0.19  1.06 -0.69 -5.72  0.14 -4.14 -2.42 -0.13  0.69  ...  2.47   \n",
            "2     -1.76 -0.19  1.06 -0.69 -5.72  0.14 -4.14 -2.42 -0.13  0.69  ...  2.47   \n",
            "3     -1.76 -0.19  1.06 -0.69 -5.72  0.14 -4.14 -2.42 -0.13  0.69  ...  2.47   \n",
            "4     -1.76 -0.19  1.06 -0.69 -5.72  0.14 -4.14 -2.42 -0.13  0.69  ...  2.47   \n",
            "...     ...   ...   ...   ...   ...   ...   ...   ...   ...   ...  ...   ...   \n",
            "31024 -1.76 -0.19  1.06 -0.69 -5.72  0.14 -4.14 -2.42 -0.13  0.69  ...  2.47   \n",
            "31025 -1.76 -0.19  1.06 -0.69 -5.72  0.14 -4.14 -2.42 -0.13  0.69  ...  2.47   \n",
            "31026 -1.76 -0.19  1.06 -0.69 -5.72  0.14 -4.14 -2.42 -0.13  0.69  ...  2.47   \n",
            "31027 -1.76 -0.19  1.06 -0.69 -5.72  0.14 -4.14 -2.42 -0.13  0.69  ...  2.47   \n",
            "31028 -1.76 -0.19  1.06 -0.69 -5.72  0.14 -4.14 -2.42 -0.13  0.69  ...  2.47   \n",
            "\n",
            "       2361  2362  2363  2364  2365  2366  2367  2368  2369  \n",
            "0      1.54 -4.28 -0.86  2.77  2.06 -6.18  2.05  2.19 -1.65  \n",
            "1      1.54 -4.28 -0.86  2.77  2.06 -6.18  2.05  2.19 -1.65  \n",
            "2      1.54 -4.28 -0.86  2.77  2.06 -6.18  2.05  2.19 -1.65  \n",
            "3      1.54 -4.28 -0.86  2.77  2.06 -6.18  2.05  2.19 -1.65  \n",
            "4      1.54 -4.28 -0.86  2.77  2.06 -6.18  2.05  2.19 -1.65  \n",
            "...     ...   ...   ...   ...   ...   ...   ...   ...   ...  \n",
            "31024  1.54 -4.28 -0.86  2.77  2.06 -6.18  2.05  2.19 -1.65  \n",
            "31025  1.54 -4.28 -0.86  2.77  2.06 -6.18  2.05  2.19 -1.65  \n",
            "31026  1.54 -4.28 -0.86  2.77  2.06 -6.18  2.05  2.19 -1.65  \n",
            "31027  1.54 -4.28 -0.86  2.77  2.06 -6.18  2.05  2.19 -1.65  \n",
            "31028  1.54 -4.28 -0.86  2.77  2.06 -6.18  2.05  2.19 -1.65  \n",
            "\n",
            "[31029 rows x 2370 columns]\n"
          ]
        }
      ]
    },
    {
      "cell_type": "markdown",
      "source": [
        "Now that feature generation is complete, let's train out models and see which one does the best. We will only work with DPPS right now, and work with other descriptors one by one."
      ],
      "metadata": {
        "id": "709cVDGH0byZ"
      }
    },
    {
      "cell_type": "markdown",
      "source": [
        "I will be using a code from last hw to test out different models on this one."
      ],
      "metadata": {
        "id": "NulR_Gkl0qMp"
      }
    },
    {
      "cell_type": "code",
      "source": [
        "x_train, x_val, y_train, y_val = train_test_split(x_DPPS, y, test_size=0.3, random_state=14)"
      ],
      "metadata": {
        "id": "ogzWW6mL1tRN"
      },
      "execution_count": 65,
      "outputs": []
    },
    {
      "cell_type": "code",
      "source": [
        "print(y_val) #this was for debugging purpose"
      ],
      "metadata": {
        "colab": {
          "base_uri": "https://localhost:8080/"
        },
        "id": "D9Tb1yrC-WHm",
        "outputId": "f3b57394-a05a-4aa5-8493-42be00831193"
      },
      "execution_count": 66,
      "outputs": [
        {
          "output_type": "stream",
          "name": "stdout",
          "text": [
            "[1 1 0 ... 1 1 0]\n"
          ]
        }
      ]
    },
    {
      "cell_type": "code",
      "source": [
        "models = [\n",
        "    ('Logistic Regression', LogisticRegression(max_iter=1000)),\n",
        "    ('Ridge Regression', Ridge(alpha=10.0)),  # adjust the alpha parameter\n",
        "    ('LASSO', Lasso(alpha=10.0))  # adjust the alpha parameter\n",
        "]\n"
      ],
      "metadata": {
        "id": "MEMMoWIq1url"
      },
      "execution_count": 67,
      "outputs": []
    },
    {
      "cell_type": "code",
      "source": [
        "# Train and compare the models\n",
        "best_model = None\n",
        "best_f1_score = 0.0\n",
        "best_accuracy = 0.0\n",
        "\n",
        "for name, model in models:\n",
        "    if name != 'Logistic Regression':\n",
        "        # Normalize the features for linear regression models\n",
        "        scaler = StandardScaler()\n",
        "        x_train_scaled = scaler.fit_transform(x_train)\n",
        "        x_val_scaled = scaler.transform(x_val)\n",
        "        model.fit(x_train_scaled, y_train)\n",
        "        y_pred = model.predict(x_val_scaled)\n",
        "    else:\n",
        "        model.fit(x_train, y_train)\n",
        "        y_pred = model.predict(x_val)\n",
        "\n",
        "    # Round the predicted values to 0 or 1\n",
        "    y_pred = np.round(y_pred)\n",
        "\n",
        "    # Calculate F1 Score\n",
        "    f1 = f1_score(y_val, y_pred)\n",
        "\n",
        "    # Calculate Accuracy\n",
        "    accuracy = accuracy_score(y_val, y_pred)\n",
        "\n",
        "    # Print results\n",
        "    print(f\"Model: {name}\")\n",
        "    print(f\"F1 Score: {f1}\")\n",
        "    print(f\"Accuracy: {accuracy}\")\n",
        "    print()\n",
        "\n",
        "    # Update best model based on F1 Score\n",
        "    if f1 > best_f1_score:\n",
        "        best_f1_score = f1\n",
        "        best_model = model\n",
        "        best_accuracy = accuracy\n",
        "\n",
        "print(f\"Best Model (based on F1 Score): {best_model}\")\n",
        "print(f\"Best F1 Score: {best_f1_score}\")\n",
        "print(f\"Best Accuracy: {best_accuracy}\")"
      ],
      "metadata": {
        "id": "ETOj5T1K1wl6"
      },
      "execution_count": null,
      "outputs": []
    },
    {
      "cell_type": "markdown",
      "source": [
        "The above cell keeps giving me the error of \"Target is multiclass but average='binary'. Please choose another average setting, one of [None, 'micro', 'macro', 'weighted'].\" Which does not make sense to me because my y is definitely 0 to 1. I tried both data frame and also converting it to numpy array, and same thing happens. If you see in my code, I also round it up right before, and it seems to not take that either, and keeps saying it is multi class, not sure why I am running into this problem which I didn't last hw. Anyway.. I guess I am using logistic regression then."
      ],
      "metadata": {
        "id": "vTxjqSts9r_h"
      }
    },
    {
      "cell_type": "markdown",
      "source": [
        "Now let's do GridSearch and see which C value we should use for our binary classification logistic regression model."
      ],
      "metadata": {
        "id": "ah_yWWxoCZkL"
      }
    },
    {
      "cell_type": "code",
      "source": [
        "from sklearn.model_selection import train_test_split, GridSearchCV\n",
        "from sklearn.linear_model import LogisticRegression\n",
        "from sklearn.preprocessing import StandardScaler\n",
        "from imblearn.over_sampling import SMOTE\n",
        "from sklearn.feature_selection import SelectKBest, f_classif\n",
        "from sklearn.metrics import make_scorer, f1_score, accuracy_score\n",
        "\n",
        "\n",
        "\n",
        "# Step 1: Split your data into training and validation sets\n",
        "x_train, x_val, y_train, y_val = train_test_split(x_DPPS, y, test_size=0.35, random_state=14)\n",
        "\n",
        "# Step 2: Preprocess the data\n",
        "scaler = StandardScaler()\n",
        "x_train_scaled = scaler.fit_transform(x_train)\n",
        "x_val_scaled = scaler.transform(x_val)\n",
        "\n",
        "# # Step 3: Address class imbalance using SMOTE\n",
        "# smote = SMOTE(sampling_strategy='auto', random_state=14)\n",
        "# x_train_resampled, y_train_resampled = smote.fit_resample(x_train_scaled, y_train)\n",
        "\n",
        "\n",
        "# Step 4: Define a logistic regression model\n",
        "logistic_model = LogisticRegression(max_iter=1000)\n",
        "\n",
        "# Step 5: Define a parameter grid for hyperparameter tuning\n",
        "param_grid = {\n",
        "    'C': [0.001, 0.005, 0.006, 0.007, 0.01, 0.015, 0.02,0.03,0.05, 0.075, 0.1, 0.15, 0.2, 1.0],  # Specify a range of C values to test\n",
        "    'penalty': ['l1', 'l2'],  # Test both L1 and L2 penalties\n",
        "}\n",
        "\n",
        "# Step 6: Perform GridSearchCV for hyperparameter tuning\n",
        "scorer = make_scorer(f1_score)  # Use F1 score as the evaluation metric\n",
        "grid_search = GridSearchCV(logistic_model, param_grid, cv=5, scoring=scorer)\n",
        "#grid_search.fit(x_train_resampled, y_train_resampled) #SMOTE\n",
        "grid_search.fit(x_train_scaled, y_train) #SMOTE\n",
        "\n",
        "# Get the best hyperparameters from GridSearchCV\n",
        "best_C = grid_search.best_params_['C']\n",
        "best_penalty = grid_search.best_params_['penalty']\n",
        "\n",
        "# Step 7: Train a logistic regression model with the best hyperparameters\n",
        "best_logistic_model = LogisticRegression(C=best_C, penalty=best_penalty, max_iter=1000)\n",
        "#best_logistic_model.fit(x_train_resampled, y_train_resampled) #SMOTE\n",
        "best_logistic_model.fit(x_train_scaled, y_train) #no SMOTE\n",
        "\n",
        "# Step 8: Make predictions and evaluate\n",
        "x_val_selected = x_val  # No feature selection applied to validation data\n",
        "y_val_pred = best_logistic_model.predict(x_val_scaled)\n",
        "\n",
        "# Calculate F1 Score and Accuracy\n",
        "f1 = f1_score(y_val, y_val_pred)\n",
        "accuracy = accuracy_score(y_val, y_val_pred)\n",
        "\n",
        "# Print performance metrics\n",
        "print(f\"Best C: {best_C}\")\n",
        "print(f\"Best Penalty: {best_penalty}\")\n",
        "print(f\"F1 Score on Validation Data: {f1}\")\n",
        "print(f\"Accuracy on Validation Data: {accuracy}\")"
      ],
      "metadata": {
        "id": "nq9IZNE-9bCw"
      },
      "execution_count": null,
      "outputs": []
    },
    {
      "cell_type": "markdown",
      "source": [
        "Now that we have found the best logistic regression model to use, let's use it on our DPPS model set again and output the excel file."
      ],
      "metadata": {
        "id": "2OffAPbj_0m4"
      }
    },
    {
      "cell_type": "code",
      "source": [
        "x_test_data = pd.read_csv('test_X_new.csv')\n",
        "\n",
        "print(x_test_data)\n",
        "\n",
        "ID_column = x_test_data[x_test_data.columns[1]]\n",
        "\n",
        "print(ID_column)\n",
        "\n",
        "# Dictionary for DPPS is already created, we just have to use it on our test data set\n",
        "x_dpps_test = x_test_data\n",
        "\n",
        "protein_descriptors = []\n",
        "for sequence in x_dpps_test['ConstructedAASeq_cln']:\n",
        "    sequence_descriptor = [np.array(dct_DPPS[amino_acid]) for amino_acid in sequence]\n",
        "    protein_descriptors.append(np.hstack(sequence_descriptor).flatten())\n",
        "\n",
        "x_dpps_test['DPPS'] = protein_descriptors\n",
        "\n",
        "x_test = pd.DataFrame(x_dpps_test['DPPS'].tolist())\n",
        "\n",
        "# Print the new DataFrame\n",
        "print(x_test)\n"
      ],
      "metadata": {
        "id": "-4pXWKNkD5NR"
      },
      "execution_count": null,
      "outputs": []
    },
    {
      "cell_type": "markdown",
      "source": [
        "Let's output our excel file that was used with DPPS descriptors."
      ],
      "metadata": {
        "id": "bC3uwWycD4xU"
      }
    },
    {
      "cell_type": "code",
      "source": [
        "# best_logistic_model = LogisticRegression(C=0.015, penalty='l2', max_iter=1000)\n",
        "\n",
        "# Step 2: Preprocess the data\n",
        "scaler = StandardScaler()\n",
        "x_train_scaled = scaler.fit_transform(x_train)\n",
        "x_val_scaled = scaler.transform(x_val)\n",
        "\n",
        "# Step 4: Fit the model to logistic regression\n",
        "best_logistic_model = LogisticRegression(C=best_C, penalty=best_penalty, max_iter=1000)\n",
        "best_logistic_model.fit(x_train_scaled, y_train) # NO SMOTE\n",
        "\n",
        "# Preprocess the test data (e.g., scaling) - Use the same preprocessing steps as for the training data\n",
        "x_test_scaled = scaler.transform(x_test)  # Scale the test data using the same scalers\n",
        "\n",
        "# Make predictions on the test data\n",
        "y_test_pred = best_logistic_model.predict(x_test_scaled)\n",
        "\n",
        "# Create a DataFrame with the predicted labels\n",
        "ID_df = pd.DataFrame({'Id': ID_column})\n",
        "result_df = pd.DataFrame({'Brightness_class': y_test_pred})\n",
        "combined_df = pd.concat([ID_df, result_df], axis=1)\n",
        "\n",
        "# Save the results to a CSV file (replace 'results.csv' with your desired file name)\n",
        "combined_df.to_csv('DPPS_results.csv', index=False)\n"
      ],
      "metadata": {
        "id": "67mv7I8h_Rhe"
      },
      "execution_count": null,
      "outputs": []
    },
    {
      "cell_type": "markdown",
      "source": [
        "# ST-scale Feature Generation"
      ],
      "metadata": {
        "id": "ORMAKXCvAa48"
      }
    },
    {
      "cell_type": "code",
      "source": [
        "x_ST = x\n",
        "\n",
        "ST = pd.read_csv('ST-scale.csv', skiprows=2)\n",
        "print(ST)\n",
        "\n",
        "#list of descriptor columns to be used\n",
        "desc_cols = ST.columns.to_list()\n",
        "del desc_cols[:2]\n",
        "print(desc_cols)\n",
        "\n",
        "#create a dictionary to map amino acids to their descriptors\n",
        "\n",
        "dct_ST = dict(zip(ST['AA_1'], ST.loc[:, desc_cols].apply(list, axis=1).tolist()))\n",
        "print (dct_ST)\n",
        "\n",
        "#convert the protein sequences to an array of descriptors based on DPPS dictionary\n",
        "\n",
        "protein_descriptors = []\n",
        "for sequence in x_ST['ConstructedAASeq_cln']:\n",
        "    sequence_descriptor = [np.array(dct_ST[amino_acid]) for amino_acid in sequence]\n",
        "    protein_descriptors.append(np.hstack(sequence_descriptor).flatten())\n",
        "\n",
        "x_ST['ST'] = protein_descriptors\n",
        "\n"
      ],
      "metadata": {
        "id": "7oWo_mKGApWZ"
      },
      "execution_count": null,
      "outputs": []
    },
    {
      "cell_type": "code",
      "source": [
        "x_ST"
      ],
      "metadata": {
        "id": "UPOQmqNVAxr_"
      },
      "execution_count": null,
      "outputs": []
    },
    {
      "cell_type": "code",
      "source": [
        "x_ST['ST'][0].shape"
      ],
      "metadata": {
        "id": "SyS0S43jBnzx"
      },
      "execution_count": null,
      "outputs": []
    },
    {
      "cell_type": "code",
      "source": [
        "#x_DPPS = x_dpps['DPPS']\n",
        "#print(x_DPPS)\n",
        "\n",
        "# Create a new DataFrame by expanding the lists into columns\n",
        "x_ST = pd.DataFrame(x_ST['ST'].tolist())\n",
        "\n",
        "# Print the new DataFrame\n",
        "print(x_ST)"
      ],
      "metadata": {
        "id": "v4gGw1bNBoPg"
      },
      "execution_count": null,
      "outputs": []
    },
    {
      "cell_type": "markdown",
      "source": [
        "Now that we got new x_ST using ST scale desciptors, let's train and find our best logistics model."
      ],
      "metadata": {
        "id": "498yKA5oC-HY"
      }
    },
    {
      "cell_type": "code",
      "source": [
        "from sklearn.model_selection import train_test_split, GridSearchCV\n",
        "from sklearn.linear_model import LogisticRegression\n",
        "from sklearn.preprocessing import StandardScaler\n",
        "from imblearn.over_sampling import SMOTE\n",
        "from sklearn.feature_selection import SelectKBest, f_classif\n",
        "from sklearn.metrics import make_scorer, f1_score, accuracy_score\n",
        "\n",
        "\n",
        "\n",
        "# Step 1: Split your data into training and validation sets\n",
        "x_train, x_val, y_train, y_val = train_test_split(x_ST, y, test_size=0.35, random_state=14)\n",
        "\n",
        "# Step 2: Preprocess the data\n",
        "scaler = StandardScaler()\n",
        "x_train_scaled = scaler.fit_transform(x_train)\n",
        "x_val_scaled = scaler.transform(x_val)\n",
        "\n",
        "# # Step 3: Address class imbalance using SMOTE\n",
        "# smote = SMOTE(sampling_strategy='auto', random_state=14)\n",
        "# x_train_resampled, y_train_resampled = smote.fit_resample(x_train_scaled, y_train)\n",
        "\n",
        "\n",
        "# Step 4: Define a logistic regression model\n",
        "logistic_model = LogisticRegression(max_iter=1000)\n",
        "\n",
        "# Step 5: Define a parameter grid for hyperparameter tuning\n",
        "param_grid = {\n",
        "    'C': [0.001, 0.005, 0.006, 0.007, 0.01, 0.015, 0.02,0.03,0.05, 0.075, 0.1, 0.15, 0.2, 1.0],  # Specify a range of C values to test\n",
        "    'penalty': ['l1', 'l2'],  # Test both L1 and L2 penalties\n",
        "}\n",
        "\n",
        "# Step 6: Perform GridSearchCV for hyperparameter tuning\n",
        "scorer = make_scorer(f1_score)  # Use F1 score as the evaluation metric\n",
        "grid_search = GridSearchCV(logistic_model, param_grid, cv=5, scoring=scorer)\n",
        "#grid_search.fit(x_train_resampled, y_train_resampled) #SMOTE\n",
        "grid_search.fit(x_train_scaled, y_train) #SMOTE\n",
        "\n",
        "# Get the best hyperparameters from GridSearchCV\n",
        "best_C = grid_search.best_params_['C']\n",
        "best_penalty = grid_search.best_params_['penalty']\n",
        "\n",
        "# Step 7: Train a logistic regression model with the best hyperparameters\n",
        "best_logistic_model = LogisticRegression(C=best_C, penalty=best_penalty, max_iter=1000)\n",
        "#best_logistic_model.fit(x_train_resampled, y_train_resampled) #SMOTE\n",
        "best_logistic_model.fit(x_train_scaled, y_train) #no SMOTE\n",
        "\n",
        "# Step 8: Make predictions and evaluate\n",
        "x_val_selected = x_val  # No feature selection applied to validation data\n",
        "y_val_pred = best_logistic_model.predict(x_val_scaled)\n",
        "\n",
        "# Calculate F1 Score and Accuracy\n",
        "f1 = f1_score(y_val, y_val_pred)\n",
        "accuracy = accuracy_score(y_val, y_val_pred)\n",
        "\n",
        "# Print performance metrics\n",
        "print(f\"Best C: {best_C}\")\n",
        "print(f\"Best Penalty: {best_penalty}\")\n",
        "print(f\"F1 Score on Validation Data: {f1}\")\n",
        "print(f\"Accuracy on Validation Data: {accuracy}\")"
      ],
      "metadata": {
        "id": "5hIgFcTTJMZ7"
      },
      "execution_count": null,
      "outputs": []
    },
    {
      "cell_type": "markdown",
      "source": [
        "Now that we got the model, let's now convert the x_test data into ST scale descriptor"
      ],
      "metadata": {
        "id": "zjiKz7vbKE9K"
      }
    },
    {
      "cell_type": "code",
      "source": [
        "x_test_data = pd.read_csv('test_X_new.csv')\n",
        "\n",
        "print(x_test_data)\n",
        "\n",
        "ID_column = x_test_data[x_test_data.columns[1]]\n",
        "\n",
        "print(ID_column)\n",
        "\n",
        "# Dictionary for DPPS is already created, we just have to use it on our test data set\n",
        "x_ST_test = x_test_data\n",
        "\n",
        "protein_descriptors = []\n",
        "for sequence in x_ST_test['ConstructedAASeq_cln']:\n",
        "    sequence_descriptor = [np.array(dct_ST[amino_acid]) for amino_acid in sequence]\n",
        "    protein_descriptors.append(np.hstack(sequence_descriptor).flatten())\n",
        "\n",
        "x_ST_test['ST'] = protein_descriptors\n",
        "\n",
        "x_test = pd.DataFrame(x_ST_test['ST'].tolist())\n",
        "\n",
        "# Print the new DataFrame\n",
        "print(x_test)\n",
        "\n"
      ],
      "metadata": {
        "id": "rjm1gasFJxVn"
      },
      "execution_count": null,
      "outputs": []
    },
    {
      "cell_type": "markdown",
      "source": [
        "Let's pump out different output file using ST scale descriptors"
      ],
      "metadata": {
        "id": "2Tik-7BGKKgm"
      }
    },
    {
      "cell_type": "code",
      "source": [
        "# best_logistic_model = LogisticRegression(C=0.15, penalty='l2', max_iter=1000)\n",
        "\n",
        "# Step 2: Preprocess the data\n",
        "scaler = StandardScaler()\n",
        "x_train_scaled = scaler.fit_transform(x_train)\n",
        "x_val_scaled = scaler.transform(x_val)\n",
        "\n",
        "# Step 4: Fit the model to logistic regression\n",
        "best_logistic_model = LogisticRegression(C=best_C, penalty=best_penalty, max_iter=1000)\n",
        "best_logistic_model.fit(x_train_scaled, y_train) # NO SMOTE\n",
        "\n",
        "# Preprocess the test data (e.g., scaling) - Use the same preprocessing steps as for the training data\n",
        "x_test_scaled = scaler.transform(x_test)  # Scale the test data using the same scalers\n",
        "\n",
        "# Make predictions on the test data\n",
        "y_test_pred = best_logistic_model.predict(x_test_scaled)\n",
        "\n",
        "# Create a DataFrame with the predicted labels\n",
        "ID_df = pd.DataFrame({'Id': ID_column})\n",
        "result_df = pd.DataFrame({'Brightness_class': y_test_pred})\n",
        "combined_df = pd.concat([ID_df, result_df], axis=1)\n",
        "\n",
        "# Save the results to a CSV file (replace 'results.csv' with your desired file name)\n",
        "combined_df.to_csv('ST_results.csv', index=False)\n"
      ],
      "metadata": {
        "id": "f29l9cv8IcJd"
      },
      "execution_count": null,
      "outputs": []
    },
    {
      "cell_type": "markdown",
      "source": [
        "# T-Scale Descriptor"
      ],
      "metadata": {
        "id": "RD2LNb8NKWd2"
      }
    },
    {
      "cell_type": "markdown",
      "source": [
        "Now it is a same process, but for T-scale descriptor. A lot of it is repetition, so I will try to minimize the code cells. I have chosen the 3 descriptor I am going to use based on the research and looking at the descriptor variables."
      ],
      "metadata": {
        "id": "RfBzAUS7KdTi"
      }
    },
    {
      "cell_type": "code",
      "source": [
        "x_T = x\n",
        "\n",
        "T = pd.read_csv('T-scale.csv', skiprows=2)\n",
        "print(T)\n",
        "\n",
        "#list of descriptor columns to be used\n",
        "desc_cols = T.columns.to_list()\n",
        "del desc_cols[:2]\n",
        "print(desc_cols)\n",
        "\n",
        "#create a dictionary to map amino acids to their descriptors\n",
        "\n",
        "dct_T = dict(zip(T['AA_1'], T.loc[:, desc_cols].apply(list, axis=1).tolist()))\n",
        "print (dct_T)\n",
        "\n",
        "#convert the protein sequences to an array of descriptors based on DPPS dictionary\n",
        "\n",
        "protein_descriptors = []\n",
        "for sequence in x_T['ConstructedAASeq_cln']:\n",
        "    sequence_descriptor = [np.array(dct_T[amino_acid]) for amino_acid in sequence]\n",
        "    protein_descriptors.append(np.hstack(sequence_descriptor).flatten())\n",
        "\n",
        "x_T['T'] = protein_descriptors\n",
        "\n",
        "# Create a new DataFrame by expanding the lists into columns\n",
        "x_T = pd.DataFrame(x_T['T'].tolist())\n",
        "\n",
        "# Print the new DataFrame\n",
        "print(x_T)"
      ],
      "metadata": {
        "id": "yf56yu__K0rn"
      },
      "execution_count": null,
      "outputs": []
    },
    {
      "cell_type": "code",
      "source": [
        "from sklearn.model_selection import train_test_split, GridSearchCV\n",
        "from sklearn.linear_model import LogisticRegression\n",
        "from sklearn.preprocessing import StandardScaler\n",
        "from imblearn.over_sampling import SMOTE\n",
        "from sklearn.feature_selection import SelectKBest, f_classif\n",
        "from sklearn.metrics import make_scorer, f1_score, accuracy_score\n",
        "\n",
        "\n",
        "\n",
        "# Step 1: Split your data into training and validation sets\n",
        "x_train, x_val, y_train, y_val = train_test_split(x_ST, y, test_size=0.35, random_state=14)\n",
        "\n",
        "# Step 2: Preprocess the data\n",
        "scaler = StandardScaler()\n",
        "x_train_scaled = scaler.fit_transform(x_train)\n",
        "x_val_scaled = scaler.transform(x_val)\n",
        "\n",
        "# # Step 3: Address class imbalance using SMOTE\n",
        "# smote = SMOTE(sampling_strategy='auto', random_state=14)\n",
        "# x_train_resampled, y_train_resampled = smote.fit_resample(x_train_scaled, y_train)\n",
        "\n",
        "\n",
        "# Step 4: Define a logistic regression model\n",
        "logistic_model = LogisticRegression(max_iter=1000)\n",
        "\n",
        "# Step 5: Define a parameter grid for hyperparameter tuning\n",
        "param_grid = {\n",
        "    'C': [0.001, 0.005, 0.006, 0.007, 0.01, 0.015, 0.02,0.03,0.05, 0.075, 0.1, 0.15, 0.2, 1.0],  # Specify a range of C values to test\n",
        "    'penalty': ['l1', 'l2'],  # Test both L1 and L2 penalties\n",
        "}\n",
        "\n",
        "# Step 6: Perform GridSearchCV for hyperparameter tuning\n",
        "scorer = make_scorer(f1_score)  # Use F1 score as the evaluation metric\n",
        "grid_search = GridSearchCV(logistic_model, param_grid, cv=5, scoring=scorer)\n",
        "#grid_search.fit(x_train_resampled, y_train_resampled) #SMOTE\n",
        "grid_search.fit(x_train_scaled, y_train) #SMOTE\n",
        "\n",
        "# Get the best hyperparameters from GridSearchCV\n",
        "best_C = grid_search.best_params_['C']\n",
        "best_penalty = grid_search.best_params_['penalty']\n",
        "\n",
        "# Step 7: Train a logistic regression model with the best hyperparameters\n",
        "best_logistic_model = LogisticRegression(C=best_C, penalty=best_penalty, max_iter=1000)\n",
        "#best_logistic_model.fit(x_train_resampled, y_train_resampled) #SMOTE\n",
        "best_logistic_model.fit(x_train_scaled, y_train) #no SMOTE\n",
        "\n",
        "# Step 8: Make predictions and evaluate\n",
        "x_val_selected = x_val  # No feature selection applied to validation data\n",
        "y_val_pred = best_logistic_model.predict(x_val_scaled)\n",
        "\n",
        "# Calculate F1 Score and Accuracy\n",
        "f1 = f1_score(y_val, y_val_pred)\n",
        "accuracy = accuracy_score(y_val, y_val_pred)\n",
        "\n",
        "# Print performance metrics\n",
        "print(f\"Best C: {best_C}\")\n",
        "print(f\"Best Penalty: {best_penalty}\")\n",
        "print(f\"F1 Score on Validation Data: {f1}\")\n",
        "print(f\"Accuracy on Validation Data: {accuracy}\")"
      ],
      "metadata": {
        "id": "yZg7hnRgLQjK"
      },
      "execution_count": null,
      "outputs": []
    },
    {
      "cell_type": "code",
      "source": [
        "x_test_data = pd.read_csv('test_X_new.csv')\n",
        "\n",
        "print(x_test_data)\n",
        "\n",
        "ID_column = x_test_data[x_test_data.columns[1]]\n",
        "\n",
        "print(ID_column)\n",
        "\n",
        "# Dictionary for T is already created, we just have to use it on our test data set\n",
        "x_T_test = x_test_data\n",
        "\n",
        "protein_descriptors = []\n",
        "for sequence in x_T_test['ConstructedAASeq_cln']:\n",
        "    sequence_descriptor = [np.array(dct_T[amino_acid]) for amino_acid in sequence]\n",
        "    protein_descriptors.append(np.hstack(sequence_descriptor).flatten())\n",
        "\n",
        "x_T_test['T'] = protein_descriptors\n",
        "\n",
        "x_test = pd.DataFrame(x_T_test['T'].tolist())\n",
        "\n",
        "# Print the new DataFrame\n",
        "print(x_test)"
      ],
      "metadata": {
        "id": "n8IE0J4cLfBx"
      },
      "execution_count": null,
      "outputs": []
    },
    {
      "cell_type": "code",
      "source": [
        "# best_logistic_model = LogisticRegression(C=0.015, penalty='l2', max_iter=1000)\n",
        "\n",
        "# Step 2: Preprocess the data\n",
        "scaler = StandardScaler()\n",
        "x_train_scaled = scaler.fit_transform(x_train)\n",
        "x_val_scaled = scaler.transform(x_val)\n",
        "\n",
        "# Step 4: Fit the model to logistic regression\n",
        "best_logistic_model = LogisticRegression(C=best_C, penalty=best_penalty, max_iter=1000)\n",
        "best_logistic_model.fit(x_train_scaled, y_train) # NO SMOTE\n",
        "\n",
        "# Preprocess the test data (e.g., scaling) - Use the same preprocessing steps as for the training data\n",
        "x_test_scaled = scaler.transform(x_test)  # Scale the test data using the same scalers\n",
        "\n",
        "# Make predictions on the test data\n",
        "y_test_pred = best_logistic_model.predict(x_test_scaled)\n",
        "\n",
        "# Create a DataFrame with the predicted labels\n",
        "ID_df = pd.DataFrame({'ID': ID_column})\n",
        "result_df = pd.DataFrame({'Brightness_class': y_test_pred})\n",
        "combined_df = pd.concat([ID_df, result_df], axis=1)\n",
        "\n",
        "# Save the results to a CSV file (replace 'results.csv' with your desired file name)\n",
        "combined_df.to_csv('T_results.csv', index=False)"
      ],
      "metadata": {
        "id": "CwEm3hHwLnNe"
      },
      "execution_count": null,
      "outputs": []
    }
  ]
}