{
  "nbformat": 4,
  "nbformat_minor": 0,
  "metadata": {
    "extensions": {
      "jupyter_dashboards": {
        "activeView": "grid_default",
        "version": 1,
        "views": {
          "grid_default": {
            "cellMargin": 10,
            "defaultCellHeight": 20,
            "maxColumns": 12,
            "name": "grid",
            "type": "grid"
          },
          "report_default": {
            "name": "report",
            "type": "report"
          }
        }
      }
    },
    "kernelspec": {
      "display_name": "R",
      "language": "R",
      "name": "ir"
    },
    "language_info": {
      "codemirror_mode": "r",
      "file_extension": ".r",
      "mimetype": "text/x-r-source",
      "name": "R",
      "pygments_lexer": "r",
      "version": "3.4.4"
    },
    "colab": {
      "name": "BME 312 HW7 solution.ipynb",
      "provenance": [],
      "collapsed_sections": [
        "WURa6A3Lv8kR",
        "mRhobhEYv8ke",
        "CI5khJn3v8lM",
        "qoqWdr11v8lS",
        "_3VjECEgv8lX",
        "gTVoT2u2v8mL",
        "0lWKF8Unv8mg",
        "QMPuwUaJv8mp",
        "kvvuvHMsv8mr",
        "o-kXbFqKv8mx"
      ],
      "include_colab_link": true
    }
  },
  "cells": [
    {
      "cell_type": "markdown",
      "metadata": {
        "id": "view-in-github",
        "colab_type": "text"
      },
      "source": [
        "<a href=\"https://colab.research.google.com/github/JoonJ14/hello-world/blob/main/BME_312_HW7_solution.ipynb\" target=\"_parent\"><img src=\"https://colab.research.google.com/assets/colab-badge.svg\" alt=\"Open In Colab\"/></a>"
      ]
    },
    {
      "cell_type": "markdown",
      "metadata": {
        "extensions": {
          "jupyter_dashboards": {
            "version": 1,
            "views": {
              "grid_default": {},
              "report_default": {}
            }
          }
        },
        "id": "6Scbcy8mv8jW"
      },
      "source": [
        "# **Homework 7: Two-sample Hypothesis Testing**"
      ]
    },
    {
      "cell_type": "markdown",
      "metadata": {
        "extensions": {
          "jupyter_dashboards": {
            "version": 1,
            "views": {
              "grid_default": {},
              "report_default": {}
            }
          }
        },
        "id": "IgDvcT_Iv8jb"
      },
      "source": [
        "#### Note: to clear the environment in R, do:\n",
        "`rm(list=ls(all=TRUE))`"
      ]
    },
    {
      "cell_type": "markdown",
      "metadata": {
        "id": "XesyhJkqpurA"
      },
      "source": [
        "## **1. A potential side effect of using oral contraceptives is an increase in blood pressure. Given below are the systolic blood pressures of 10 women measured before beginning and after having taken an oral contraceptive for a 6-month period.**\n",
        "\n",
        "> Woman | Before | After |\n",
        "> :---: | :---:  | :---: | \n",
        ">   1   |  113   |  118  |\n",
        ">   2   |  117   |  123  |\n",
        ">   3   |  111   |  114  |\n",
        ">   4   |  107   |  115  |\n",
        ">   5   |  115   |  122  |\n",
        ">   6   |  134   |  140  |\n",
        ">   7   |  121   |  120  |\n",
        ">   8   |  108   |  105  |\n",
        ">   9   |  106   |  111  |\n",
        ">   10  |  125   |  129  |\n",
        "\n",
        "### **Assuming systolic blood pressure is normally distributed, do these data suggest that using an oral contraceptive significantly increases systolic pressure?**\n",
        "\n",
        "We will use a paired $t$-test for this analysis. First, let's state the hypotheses:\n",
        "\n",
        "$H_0: \\Delta = 0$ and $H_1: \\Delta \\ne 0$\n",
        "\n",
        "Our test statistic is based on the mean difference between the pairs:\n",
        "\n",
        "$t = \\frac{\\overline{d}}{\\frac{s_d}{\\sqrt{n}}} = \\frac{4}{\\frac{3.5}{\\sqrt{10}}} = 3.62$\n",
        "\n",
        "$t_{critical} = (t_{n-1, \\frac{\\alpha}{2}}, t_{n-1, 1-\\frac{\\alpha}{2}}) = (-t_{n-1, 1-\\frac{\\alpha}{2}}, t_{n-1, 1-\\frac{\\alpha}{2}}) = (t_{n-1, \\frac{\\alpha}{2}}, -t_{n-1, \\frac{\\alpha}{2}}) = (t_{9, 0.025}, -t_{9, 0.025}) = (-2.26, 2.26)$\n",
        "\n",
        "$\\therefore H_0$ can be rejected because t is outside the critical range, and we can conclude that oral contraceptive use increases systolic blood pressure."
      ]
    },
    {
      "cell_type": "code",
      "metadata": {
        "id": "vEiNP6A8ONIK",
        "colab": {
          "base_uri": "https://localhost:8080/",
          "height": 69
        },
        "outputId": "815c878b-314e-4622-fd11-7d4238a64968"
      },
      "source": [
        "before <- c(113, 117, 111, 107, 115, 134, 121, 108, 106, 125)\n",
        "after <- c(118, 123, 114, 115, 122, 140, 120, 105, 111, 129)\n",
        "d <- after - before\n",
        "d_bar <- mean(d)\n",
        "s_d <- sd(d)\n",
        "print(c(d_bar, s_d))\n",
        "n <- length(before)\n",
        "t <- d_bar * sqrt(10) / s_d\n",
        "print(t)\n",
        "t_critical <- qt(c(0.025, 0.975), df=n-1)\n",
        "print(t_critical)"
      ],
      "execution_count": null,
      "outputs": [
        {
          "output_type": "stream",
          "text": [
            "[1] 4.000000 3.496029\n",
            "[1] 3.618136\n",
            "[1] -2.262157  2.262157\n"
          ],
          "name": "stdout"
        }
      ]
    },
    {
      "cell_type": "markdown",
      "metadata": {
        "id": "vctFYrPyq2tA"
      },
      "source": [
        "## **2. Suppose that you mistakenly believed that the data sets from (1) were independent samples taken from two different populations: (i) women not taking contraceptives and (ii) women taking contraceptives.**\n",
        "\n",
        "### **a. Which test would now be appropriate for examining whether there's a significant difference between the two populations?**\n",
        "If the data are cross-sectional rather than longitudinal, we should now use an independent samples $t$-test with $x_1$ representing the women not taking contraceptives (the before group from above) and $x_2$ representing the women who are taking oral contraceptives (the after group from above). \n",
        "\n",
        "However, first we need to determine whether the variances from the two (supposedly independent samples) are equal. We have the following descriptive statistics:\n",
        "\n",
        "$\\overline{x}_1 = 115.7$, with $n_{x_1} = 10$ and $s_1 = 8.88$\n",
        "\n",
        "$\\overline{x}_2 = 119.7$, with $n_{x_2} = 10$ and $s_2 = 9.80$\n",
        "\n",
        "To test for equality of variances, we'll use an $F$-test:\n",
        "\n",
        "$H_0: \\sigma_{1}^{2} = \\sigma_{2}^{2}$ and $H_1: \\sigma_{1}^{2} \\ne \\sigma_{2}^{2}$\n",
        "\n",
        "The test statistic is the ratios of the sample variances:\n",
        "\n",
        "$F = \\frac{s_{1}^{2}}{s_{2}^{2}} = \\frac{78.9}{96.0} = 0.82$\n",
        "\n",
        "Our critical range is defined by:\n",
        "\n",
        "$(F_{n_1-1, n_2-1, \\frac{\\alpha}{2}}, F_{n_1-1, n_2-1, 1-\\frac{\\alpha}{2}}) = (F_{9, 9, 0.025}, F_{9, 9, 0.975}) = (0.25, 4.03)$\n",
        "\n",
        "\n",
        "### **b. Carry this test out and determine whether you would have found that women taking contraceptives have a significantly higher systolic pressure.**\n",
        "\n",
        "### **c. Explain the cause of any differences in your results when compared to the previous problem.**\n"
      ]
    },
    {
      "cell_type": "code",
      "metadata": {
        "id": "r47fXKzpT4Ue",
        "colab": {
          "base_uri": "https://localhost:8080/",
          "height": 69
        },
        "outputId": "4dee24f6-b8ec-425f-e13d-768275480a87"
      },
      "source": [
        "x1_bar <- mean(before)\n",
        "x2_bar <- mean(after)\n",
        "print(c(x1_bar, x2_bar))\n",
        "s1 <- sd(before)\n",
        "s2 <- sd(after)\n",
        "print(c(s1, s2))\n",
        "print((s1^2)/(s2^2))"
      ],
      "execution_count": null,
      "outputs": [
        {
          "output_type": "stream",
          "text": [
            "[1] 115.7 119.7\n",
            "[1] 8.882567 9.798526\n",
            "[1] 0.8217799\n"
          ],
          "name": "stdout"
        }
      ]
    },
    {
      "cell_type": "markdown",
      "metadata": {
        "id": "n-kH7UFR5xf2"
      },
      "source": [
        "## **3. A biochemist studying the activity of the enzyme triose phosphate isomerase (TPI) in a species of Drosophila wants to know if the mean activity of this enzyme is the same at $pH = 5$ and $pH = 8$.**\n",
        "\n",
        "> Enzyme activity ($\\frac{\\mu M}{min}$) | | | | | |\n",
        "> :---: | :---:  | :---: | :---: | :---:  | :---: \n",
        "> $\\textbf{pH = 5}$ | 11.1 | 10.0 | 13.3 | 10.5 | 11.3\n",
        "> $\\textbf{pH = 8}$ | 12.0 | 15.3 | 15.1 | 15.0 | 13.2\n",
        "\n",
        "### **a. Given the above data and assuming enzyme activities are normally distributed, determine if the mean activities of TPI are significantly different at these two pH levels.**\n",
        "\n",
        "### **b. Give the 95% confidence interval for $\\mu_5 - \\mu_8$.**"
      ]
    },
    {
      "cell_type": "markdown",
      "metadata": {
        "id": "I7Ct1gH7V04h"
      },
      "source": [
        "## **4. A reproductive physiologist studying the effect of photoperiod on reproductive readiness in Japanese quail measured the cloacal gland widths of male quail exposed for 2 weeks to different day lengths:**\n",
        "\n",
        "> |   | Long days | Short days \n",
        "> | :---: | :---: | :---: \n",
        "> | **Gland width (mm)** | $\\overline{x}_1$ = 12 | $\\overline{x}_2$ = 8.5 \n",
        "> | **Standard deviation (mm)** | $s_1$ = 2.5 | $s_2$ = 2.0\n",
        "> | **Sample size** | $n_1$ = 16 | $n_2$ = 16\n",
        "\n",
        "### **Long days consisted of 16 hours of light and 8 hours of dark. Short days had 8 hours of daylight and 16 hours of dark. Assuming cloacal gland widths are normally distributed, are the glands significantly wider during long days?**"
      ]
    },
    {
      "cell_type": "markdown",
      "metadata": {
        "id": "rur-8_LGYGNI"
      },
      "source": [
        "## **5. Copper sulfate is routinely used to control algae blooms in ponds and lakes. An ichthyologist believes that copper sulfate reduces the number of mucus cells certain species of fish. To test her belief, she recorded the number of mucus cells per square micron in the gill filaments of untreated fish and in fish exposed for 24 hours to copper sulfate at 1 mg/l:**\n",
        "\n",
        "$Untreated: (16, 17, 12, 18, 11, 18, 12, 15, 16, 14, 16)$\n",
        "\n",
        "$Exposed: (10, 10, 10, 10, 10, 10, 10, 10, 10, 10, 10, 10, 10, 10)$\n",
        "\n",
        "### **a. Assuming normality for these data, does the ichthyologist have support for her contention?**\n",
        "\n",
        "### **b. Develop a 99% confidence interval for $\\mu_{untreated} - \\mu_{exposed}$ and explain in words what this calculation represents.**"
      ]
    }
  ]
}